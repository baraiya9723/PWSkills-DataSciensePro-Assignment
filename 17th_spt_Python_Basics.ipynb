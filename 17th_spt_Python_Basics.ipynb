{
 "cells": [
  {
   "cell_type": "markdown",
   "id": "d6836c57-a7b1-4e17-a93b-0830f7184712",
   "metadata": {},
   "source": [
    "# for loop "
   ]
  },
  {
   "cell_type": "code",
   "execution_count": null,
   "id": "50dcb87a-2ade-4650-8a3a-031ed153f5c2",
   "metadata": {},
   "outputs": [],
   "source": []
  },
  {
   "cell_type": "markdown",
   "id": "625fb700-3ff9-4951-80be-f1b41a780f5f",
   "metadata": {},
   "source": [
    "1. Write a Python program to print numbers from 1 to 10 using a for loop.\n"
   ]
  },
  {
   "cell_type": "code",
   "execution_count": 2,
   "id": "40c36585-7a12-493f-8ecc-d5d9f7c3f0c9",
   "metadata": {},
   "outputs": [
    {
     "name": "stdout",
     "output_type": "stream",
     "text": [
      "1\n",
      "2\n",
      "3\n",
      "4\n",
      "5\n",
      "6\n",
      "7\n",
      "8\n",
      "9\n",
      "10\n"
     ]
    }
   ],
   "source": [
    "for i in range(1,11):\n",
    "    print(i)"
   ]
  },
  {
   "cell_type": "markdown",
   "id": "142a722d-a178-42fa-bf11-1a267e9366e0",
   "metadata": {},
   "source": [
    "2.Explain the difference between a for loop and a while loop in Python."
   ]
  },
  {
   "cell_type": "markdown",
   "id": "061bdcee-2f18-4cdc-8fbf-d330a6df5c6f",
   "metadata": {},
   "source": [
    "\n",
    "In Python, both for loops and while loops are used for repetitive tasks, but they have different structures and use cases. Here are the key differences between a for loop and a while loop:\n",
    "For Loop: A for loop is used when you know the number of iterations or when you want to iterate over a sequence, such as a list, tuple, string, or range. It iterates over each item in the sequence.\n",
    "\n",
    "While Loop: A while loop is used when you don't know the number of iterations in advance, and you want to keep executing a block of code as long as a specified condition is true."
   ]
  },
  {
   "cell_type": "markdown",
   "id": "0f6229b5-f169-47c9-b3b0-914acac86625",
   "metadata": {},
   "source": [
    "3. Write a Python program to calculate the sum of all numbers from 1 to 100 using a for loop."
   ]
  },
  {
   "cell_type": "code",
   "execution_count": 3,
   "id": "e99d6a61-ab69-4812-a780-3f2f81b95fa2",
   "metadata": {},
   "outputs": [
    {
     "name": "stdout",
     "output_type": "stream",
     "text": [
      "5050\n"
     ]
    }
   ],
   "source": [
    "sum1 = 0\n",
    "for i in range(1,101):\n",
    "    sum1 = sum1+ i\n",
    "print(sum1)    "
   ]
  },
  {
   "cell_type": "markdown",
   "id": "8df7150c-7067-4182-9040-37fba6f40a37",
   "metadata": {},
   "source": [
    "How do you iterate through a list using a for loop in Python?\n"
   ]
  },
  {
   "cell_type": "code",
   "execution_count": 4,
   "id": "1c110ae7-2ed5-48e4-b676-ad13828c093a",
   "metadata": {},
   "outputs": [
    {
     "name": "stdout",
     "output_type": "stream",
     "text": [
      "1\n",
      "2\n",
      "3\n",
      "4\n",
      "5\n",
      "6\n"
     ]
    }
   ],
   "source": [
    "# yes we are able to iterate through for loop  \n",
    "list1 = [1,2,3,4,5,6]\n",
    "for i in list1:\n",
    "    print(i)"
   ]
  },
  {
   "cell_type": "markdown",
   "id": "8e1ebca1-e3bc-44a8-8ab0-58481d334bdb",
   "metadata": {},
   "source": [
    "5.Write a Python program to find the product of all elements in a list using a for loop.\n"
   ]
  },
  {
   "cell_type": "code",
   "execution_count": 15,
   "id": "670280e1-540b-4227-8b14-acb848f885a4",
   "metadata": {},
   "outputs": [
    {
     "name": "stdout",
     "output_type": "stream",
     "text": [
      "121645100408832000\n"
     ]
    }
   ],
   "source": [
    "list1 = list([ int(i) for i in range(1,20)])\n",
    "product = 1\n",
    "for i in list1:\n",
    "    product *=i\n",
    "print(product)    "
   ]
  },
  {
   "cell_type": "markdown",
   "id": "fb9eb6a7-a8e5-469f-99e7-51f310944fee",
   "metadata": {},
   "source": [
    "6. Create a Python program that prints all even numbers from 1 to 20 using a for loop.\n"
   ]
  },
  {
   "cell_type": "code",
   "execution_count": 16,
   "id": "7ddefbc2-fa5e-4ebf-91fd-7fc513a5121b",
   "metadata": {},
   "outputs": [
    {
     "name": "stdout",
     "output_type": "stream",
     "text": [
      "2\n",
      "4\n",
      "6\n",
      "8\n",
      "10\n",
      "12\n",
      "14\n",
      "16\n",
      "18\n",
      "20\n"
     ]
    }
   ],
   "source": [
    "for i in range(1,21):\n",
    "    if i %2 == 0:\n",
    "        print(i)"
   ]
  },
  {
   "cell_type": "markdown",
   "id": "bb7f6615-9102-4d7e-adda-47520874bcbc",
   "metadata": {},
   "source": [
    "7.Write a Python program that calculates the factorial of a number using a for loop.\n"
   ]
  },
  {
   "cell_type": "code",
   "execution_count": 17,
   "id": "8ae3c3c9-4742-4c54-9ab2-657899039945",
   "metadata": {},
   "outputs": [
    {
     "name": "stdin",
     "output_type": "stream",
     "text": [
      " 4\n"
     ]
    },
    {
     "name": "stdout",
     "output_type": "stream",
     "text": [
      "24\n"
     ]
    }
   ],
   "source": [
    "number = int(input())\n",
    "factorial = 1\n",
    "for i in range(1,number+1):\n",
    "    factorial *= i\n",
    "print(factorial)    "
   ]
  },
  {
   "cell_type": "markdown",
   "id": "9d957ce9-c67e-4ac8-8c93-711acf9169d5",
   "metadata": {},
   "source": [
    "8. How can you iterate through the characters of a string using a for loop in Python?\n"
   ]
  },
  {
   "cell_type": "code",
   "execution_count": 18,
   "id": "1532db5b-2e0a-4695-a6e5-245f790f0616",
   "metadata": {},
   "outputs": [
    {
     "name": "stdout",
     "output_type": "stream",
     "text": [
      "v\n",
      "i\n",
      "s\n",
      "h\n",
      "a\n",
      "l\n",
      " \n",
      "b\n",
      "a\n",
      "r\n",
      "a\n",
      "i\n",
      "y\n",
      "a\n"
     ]
    }
   ],
   "source": [
    "string = \"vishal baraiya\"\n",
    "for i in string:\n",
    "    print(i)"
   ]
  },
  {
   "cell_type": "markdown",
   "id": "749cbbb3-b4e1-42b3-a470-2c04de40037a",
   "metadata": {},
   "source": [
    "9.Write a Python program to find the largest number in a list using a for loop.\n"
   ]
  },
  {
   "cell_type": "code",
   "execution_count": 20,
   "id": "b582afd3-b74c-4361-a655-6b2f5384b1d5",
   "metadata": {},
   "outputs": [
    {
     "name": "stdout",
     "output_type": "stream",
     "text": [
      "67\n"
     ]
    }
   ],
   "source": [
    "list1 = [12,23,45,67,13,43]\n",
    "max1 = 0\n",
    "for i in list1:\n",
    "    if i > max1 :\n",
    "        max1 = i\n",
    "print(max1)        "
   ]
  },
  {
   "cell_type": "markdown",
   "id": "76786b0b-feae-4ca1-9cf2-601c0b0dfd73",
   "metadata": {},
   "source": [
    "10.Create a Python program that prints the Fibonacci sequence up to a specified limit using a for loop.\n"
   ]
  },
  {
   "cell_type": "code",
   "execution_count": null,
   "id": "b343e895-d068-417b-bd43-1f353e3196f6",
   "metadata": {},
   "outputs": [],
   "source": [
    "number = int(input(\"enter your number for finbonacci series\"))\n",
    " \n",
    "def fibonacci(number):\n",
    "    a = 0 \n",
    "    b = 1\n",
    "    if number == 1:\n",
    "        print(0)\n",
    "    elif number == 2:\n",
    "        print(a,b)\n",
    "    else:\n",
    "        print(a)\n",
    "        print(b)\n",
    "        for i in range(2,number):\n",
    "            print(a+b)\n",
    "            temp = a \n",
    "            a = b\n",
    "            b= b+temp\n",
    "fibonacci(number)            "
   ]
  },
  {
   "cell_type": "markdown",
   "id": "afc74889-87b6-4a7d-923c-5182844d70bb",
   "metadata": {},
   "source": [
    "11. Write a Python program to count the number of vowels in a given string using a for loop.\n"
   ]
  },
  {
   "cell_type": "code",
   "execution_count": 1,
   "id": "ded85414-fcb1-4968-af6e-b11420e89916",
   "metadata": {},
   "outputs": [
    {
     "name": "stdin",
     "output_type": "stream",
     "text": [
      " vishalbaraiya\n"
     ]
    },
    {
     "data": {
      "text/plain": [
       "6"
      ]
     },
     "execution_count": 1,
     "metadata": {},
     "output_type": "execute_result"
    }
   ],
   "source": [
    "string = input()\n",
    "COUNT = 0\n",
    "for i in string:\n",
    "    if i in \"aeiouAEIOU\":\n",
    "        COUNT = COUNT+1\n",
    "COUNT        "
   ]
  },
  {
   "cell_type": "markdown",
   "id": "610300b9-5a21-44db-8852-e77407da01d1",
   "metadata": {},
   "source": [
    "12. Create a Python program that generates a multiplication table for a given number using a for loop.\n"
   ]
  },
  {
   "cell_type": "code",
   "execution_count": 10,
   "id": "273cebbb-b42c-4a98-b003-af442e742db2",
   "metadata": {},
   "outputs": [
    {
     "name": "stdin",
     "output_type": "stream",
     "text": [
      "enter your multiplication table number  4\n"
     ]
    },
    {
     "name": "stdout",
     "output_type": "stream",
     "text": [
      "4*1 =  4\n",
      "4*2 =  8\n",
      "4*3 =  12\n",
      "4*4 =  16\n",
      "4*5 =  20\n",
      "4*6 =  24\n",
      "4*7 =  28\n",
      "4*8 =  32\n",
      "4*9 =  36\n",
      "4*10 =  40\n"
     ]
    }
   ],
   "source": [
    "num = int(input(\"enter your multiplication table number \"));\n",
    "for i in range(1,11):\n",
    "    print(f\"{num}*{i} = \",num*i)"
   ]
  },
  {
   "cell_type": "markdown",
   "id": "e12194a8-d819-42a8-afcd-049b00d1966e",
   "metadata": {},
   "source": [
    "13.Write a Python program to reverse a list using a for loop."
   ]
  },
  {
   "cell_type": "code",
   "execution_count": 27,
   "id": "acef7897-f699-456b-acad-c24e87ece336",
   "metadata": {},
   "outputs": [
    {
     "data": {
      "text/plain": [
       "[8, 5, 7, 2, 5, 3, 2, 1]"
      ]
     },
     "execution_count": 27,
     "metadata": {},
     "output_type": "execute_result"
    }
   ],
   "source": [
    "list1 = [1,2,3,5,2,7,5,8]\n",
    "\n",
    "for i in range(0,int(len(list1)/2)):\n",
    "    temp = list1[i]\n",
    "    list1[i]=list1[len(list1)-i-1]\n",
    "    list1[len(list1)-i-1] = temp\n",
    "list1    "
   ]
  },
  {
   "cell_type": "markdown",
   "id": "5ee7f421-cf14-4bd5-b442-46d5b080efa7",
   "metadata": {},
   "source": [
    "14. Write a Python program to find the common elements between two lists using a for loop."
   ]
  },
  {
   "cell_type": "code",
   "execution_count": 36,
   "id": "e770a86f-6c94-4a02-a865-edd997829920",
   "metadata": {},
   "outputs": [
    {
     "name": "stdout",
     "output_type": "stream",
     "text": [
      "1\n",
      "3\n",
      "5\n"
     ]
    }
   ],
   "source": [
    "list1 =[1,2,3,4,5,6]\n",
    "list2 = [3,5,1,9,8,7]\n",
    "for i in list1:\n",
    "    if i in list2:\n",
    "        print(i)"
   ]
  },
  {
   "cell_type": "markdown",
   "id": "e5ef92c1-e7c1-41c9-a86f-8305e26891d3",
   "metadata": {},
   "source": [
    "15. Explain how to use a for loop to iterate through the keys and values of a dictionary in Python."
   ]
  },
  {
   "cell_type": "code",
   "execution_count": 47,
   "id": "b8928845-884b-4124-a53d-0a520890a49d",
   "metadata": {},
   "outputs": [
    {
     "name": "stdout",
     "output_type": "stream",
     "text": [
      "key1 value1\n",
      "key2 value2\n",
      "key3 value3\n"
     ]
    }
   ],
   "source": [
    "dict1 = {\n",
    " \"key1\":\"value1\",\n",
    " \"key2\":\"value2\",\n",
    " \"key3\":\"value3\",\n",
    "}\n",
    "for key in dict1:\n",
    "    print(key,dict1[key])"
   ]
  },
  {
   "cell_type": "markdown",
   "id": "86898998-23d2-446f-ba9f-7efefc3c6388",
   "metadata": {},
   "source": [
    "16.Write a Python program to find the GCD (Greatest Common Divisor) of two numbers using a for loop.\n"
   ]
  },
  {
   "cell_type": "code",
   "execution_count": 12,
   "id": "0c70f81d-35ba-420f-9433-baab2faf5593",
   "metadata": {},
   "outputs": [
    {
     "name": "stdin",
     "output_type": "stream",
     "text": [
      "Enter the first number:  12\n",
      "Enter the second number:  4\n"
     ]
    },
    {
     "name": "stdout",
     "output_type": "stream",
     "text": [
      "The GCD of 12 and 4 is 4\n"
     ]
    }
   ],
   "source": [
    "# Function to calculate the GCD using a for loop\n",
    "def find_gcd(num1, num2):\n",
    "    gcd = 1\n",
    "    for i in range(2, min(num1, num2) + 1):\n",
    "        if num1 % i == 0 and num2 % i == 0:\n",
    "            gcd = i\n",
    "    return gcd\n",
    "\n",
    "# Input two numbers\n",
    "num1 = int(input(\"Enter the first number: \"))\n",
    "num2 = int(input(\"Enter the second number: \"))\n",
    "\n",
    "# Calculate and print the GCD\n",
    "gcd = find_gcd(num1, num2)\n",
    "print(f\"The GCD of {num1} and {num2} is {gcd}\")\n"
   ]
  },
  {
   "cell_type": "markdown",
   "id": "d4a64101-3159-4438-adfa-6051422455ff",
   "metadata": {},
   "source": [
    "17.Create a Python program that checks if a string is a palindrome using a for loop.\n"
   ]
  },
  {
   "cell_type": "code",
   "execution_count": 69,
   "id": "d3f0fe8d-623a-4281-b1c7-c85344e19343",
   "metadata": {},
   "outputs": [
    {
     "name": "stdout",
     "output_type": "stream",
     "text": [
      "given string is pallindrome\n"
     ]
    }
   ],
   "source": [
    "string = \"madam\"\n",
    "flage = 0\n",
    "for i in range(int(len(string)/2)):\n",
    "    if string[i] != string[int(len(string))-i-1]:\n",
    "        flage = 1\n",
    "        print(\"given string is not pallindrome\")\n",
    "if flage == 0:\n",
    "    print(\"given string is pallindrome\")"
   ]
  },
  {
   "cell_type": "markdown",
   "id": "783031aa-02b6-488d-81c1-97edeed5af8d",
   "metadata": {},
   "source": [
    "18. Write a Python program to remove duplicates from a list using a for loop."
   ]
  },
  {
   "cell_type": "code",
   "execution_count": 72,
   "id": "21ff77f8-d898-4e6c-b9c6-902c11eafaff",
   "metadata": {},
   "outputs": [
    {
     "data": {
      "text/plain": [
       "[1, 3, 7, 4, 2]"
      ]
     },
     "execution_count": 72,
     "metadata": {},
     "output_type": "execute_result"
    }
   ],
   "source": [
    "list1=[1,3,4,7,4,2]\n",
    "for i in list1:\n",
    "    if list1.count(i)>1:\n",
    "        list1.remove(i)\n",
    "list1\n"
   ]
  },
  {
   "cell_type": "markdown",
   "id": "7d65f7f9-e2eb-43bc-844b-2b6c93097faa",
   "metadata": {},
   "source": [
    "19. Create a Python program that counts the number of words in a sentence using a for loop."
   ]
  },
  {
   "cell_type": "code",
   "execution_count": 75,
   "id": "de572a1b-fe60-42e1-8251-a53c5266f220",
   "metadata": {},
   "outputs": [
    {
     "name": "stdin",
     "output_type": "stream",
     "text": [
      "Enter a sentence:  my name is a vishal\n"
     ]
    },
    {
     "name": "stdout",
     "output_type": "stream",
     "text": [
      "Number of words in the sentence: 5\n"
     ]
    }
   ],
   "source": [
    "# Input a sentence from the user\n",
    "sentence = input(\"Enter a sentence: \")\n",
    "\n",
    "# Initialize a word count variable\n",
    "word_count = 0\n",
    "\n",
    "# Iterate through the sentence to count words\n",
    "for word in sentence.split():\n",
    "    word_count += 1\n",
    "\n",
    "# Display the word count\n",
    "print(f\"Number of words in the sentence: {word_count}\")\n"
   ]
  },
  {
   "cell_type": "markdown",
   "id": "070a9e47-abf6-4de1-afd5-2acabe798dd9",
   "metadata": {},
   "source": [
    "20.Write a Python program to find the sum of all odd numbers from 1 to 50 using a for loop."
   ]
  },
  {
   "cell_type": "code",
   "execution_count": 80,
   "id": "b3f334f1-67d8-445b-bfbb-1e2eb2681af5",
   "metadata": {},
   "outputs": [
    {
     "data": {
      "text/plain": [
       "650"
      ]
     },
     "execution_count": 80,
     "metadata": {},
     "output_type": "execute_result"
    }
   ],
   "source": [
    "list1 = [i for i in range(1,51)]\n",
    "sum1= 0\n",
    "for i in list1:\n",
    "    if i %2 == 0:\n",
    "        sum1 = sum1+ i\n",
    "sum1        "
   ]
  },
  {
   "cell_type": "markdown",
   "id": "d728cdc3-0986-4831-9810-353ab0b126c7",
   "metadata": {},
   "source": [
    "21. Write a Python program that checks if a given year is a leap year using a for loop.\n"
   ]
  },
  {
   "cell_type": "code",
   "execution_count": 84,
   "id": "32cb5229-336c-4857-8b97-b788261ea5a2",
   "metadata": {},
   "outputs": [
    {
     "name": "stdin",
     "output_type": "stream",
     "text": [
      "Enter a year:  2000\n"
     ]
    },
    {
     "name": "stdout",
     "output_type": "stream",
     "text": [
      "2000 is a leap year.\n"
     ]
    }
   ],
   "source": [
    "# Input a year from the user\n",
    "year = int(input(\"Enter a year: \"))\n",
    "\n",
    "# Initialize a variable to store the result\n",
    "is_leap_year = False\n",
    "\n",
    "# Check if it's a leap year using a for loop\n",
    "for _ in range(4):\n",
    "    if (year % 4 == 0 and year % 100 != 0) or (year % 400 == 0):\n",
    "        is_leap_year = True\n",
    "        break\n",
    "    year += 1\n",
    "\n",
    "# Display the result\n",
    "if is_leap_year:\n",
    "    print(f\"{year} is a leap year.\")\n",
    "else:\n",
    "    print(f\"{year} is not a leap year.\")\n"
   ]
  },
  {
   "cell_type": "markdown",
   "id": "d31a4b31-15cf-48d7-a7df-5252b5e1dedd",
   "metadata": {},
   "source": [
    "22.Create a Python program that calculates the square root of a number using a for loop."
   ]
  },
  {
   "cell_type": "code",
   "execution_count": 87,
   "id": "de19c0e0-4dcf-48c2-abd3-2b1f179c7ba1",
   "metadata": {},
   "outputs": [
    {
     "name": "stdout",
     "output_type": "stream",
     "text": [
      "1.0\n",
      "1.4142135623730951\n",
      "1.7320508075688772\n",
      "2.0\n",
      "2.23606797749979\n",
      "2.449489742783178\n",
      "2.6457513110645907\n",
      "2.8284271247461903\n",
      "3.0\n",
      "3.1622776601683795\n",
      "3.3166247903554\n",
      "3.4641016151377544\n",
      "3.605551275463989\n",
      "3.7416573867739413\n",
      "3.872983346207417\n",
      "4.0\n",
      "4.123105625617661\n",
      "4.242640687119285\n",
      "4.358898943540674\n"
     ]
    }
   ],
   "source": [
    "import math\n",
    "list1 = [i for i in range(1,20)]\n",
    "for i in list1:\n",
    "    print(math.sqrt(i))"
   ]
  },
  {
   "cell_type": "markdown",
   "id": "8c77cb15-1471-41a2-ba74-f8825a1be314",
   "metadata": {},
   "source": [
    "23. Write a Python program to find the LCM (Least Common Multiple) of two numbers using a for loop."
   ]
  },
  {
   "cell_type": "code",
   "execution_count": 17,
   "id": "11aa2f90-9c20-4549-b66d-363226e1b794",
   "metadata": {},
   "outputs": [
    {
     "name": "stdin",
     "output_type": "stream",
     "text": [
      "Enter the first number:  12\n",
      "Enter the second number:  90\n"
     ]
    },
    {
     "name": "stdout",
     "output_type": "stream",
     "text": [
      "6\n",
      "180\n"
     ]
    }
   ],
   "source": [
    "import math\n",
    "\n",
    "num1 = int(input(\"Enter the first number: \"))\n",
    "num2 = int(input(\"Enter the second number: \"))\n",
    "lcm = 1\n",
    "gcd = 1\n",
    "for i in range(2, min(num1, num2) + 1):\n",
    "    if num1 % i == 0 and num2 % i == 0:\n",
    "        gcd = i\n",
    "        \n",
    "print(gcd)        \n",
    "print(num1*num2//gcd)        "
   ]
  },
  {
   "cell_type": "markdown",
   "id": "175ec6d6-0ec3-4193-b56c-b80c61a4d7ba",
   "metadata": {},
   "source": [
    "# If else :"
   ]
  },
  {
   "cell_type": "markdown",
   "id": "fff71226-958c-42d8-b795-8fd33d51f624",
   "metadata": {},
   "source": [
    "1.Write a Python program to check if a number is positive, negative, or zero using an if-else statement."
   ]
  },
  {
   "cell_type": "code",
   "execution_count": 19,
   "id": "226cd3da-6d67-49be-8a17-09ce220a417c",
   "metadata": {},
   "outputs": [
    {
     "name": "stdin",
     "output_type": "stream",
     "text": [
      " 12\n"
     ]
    },
    {
     "name": "stdout",
     "output_type": "stream",
     "text": [
      "positive number \n"
     ]
    }
   ],
   "source": [
    "number = int(input())\n",
    "if number ==0:\n",
    "    print(\"zero\")\n",
    "elif number > 0:\n",
    "    print(\"positive number \")\n",
    "else:\n",
    "    print(\"negative number\")\n",
    "    "
   ]
  },
  {
   "cell_type": "markdown",
   "id": "231b1e06-af70-4622-b547-414512ca3447",
   "metadata": {},
   "source": [
    "2. Create a Python program that checks if a given number is even or odd using an if-else statement.\n"
   ]
  },
  {
   "cell_type": "code",
   "execution_count": 21,
   "id": "6e630216-c725-4088-8b2c-a0cd8d004602",
   "metadata": {},
   "outputs": [
    {
     "name": "stdout",
     "output_type": "stream",
     "text": [
      "even\n"
     ]
    }
   ],
   "source": [
    "n = 12\n",
    "if n%2 == 0:\n",
    "    print(\"even\")\n",
    "else:\n",
    "    print(\"odd\")"
   ]
  },
  {
   "cell_type": "markdown",
   "id": "4a08189d-5d07-49fb-b7da-c00c9d68b6ec",
   "metadata": {},
   "source": [
    "3.How can you use nested if-else statements in Python, and provide an example?\n"
   ]
  },
  {
   "cell_type": "markdown",
   "id": "e6a5c3dd-f2d9-405a-ab9e-2cebdc067552",
   "metadata": {},
   "source": [
    "Python, you can use nested if-else statements to create multiple levels of conditional checks. This allows you to test for multiple conditions within each other. Nested if-else statements are structured by placing one if-else statement inside another.\n"
   ]
  },
  {
   "cell_type": "code",
   "execution_count": 22,
   "id": "73035792-1752-4dea-85ac-545c2b3a353f",
   "metadata": {},
   "outputs": [
    {
     "name": "stdin",
     "output_type": "stream",
     "text": [
      "Enter the student's score:  12\n"
     ]
    },
    {
     "name": "stdout",
     "output_type": "stream",
     "text": [
      "The student's grade is F\n"
     ]
    }
   ],
   "source": [
    "score = int(input(\"Enter the student's score: \"))\n",
    "if score >= 90:\n",
    "    grade = 'A'\n",
    "else:\n",
    "    if score >= 80:\n",
    "        grade = 'B'\n",
    "    else:\n",
    "        if score >= 70:\n",
    "            grade = 'C'\n",
    "        else:\n",
    "            if score >= 60:\n",
    "                grade = 'D'\n",
    "            else:\n",
    "                grade = 'F'\n",
    "print(f\"The student's grade is {grade}\")\n"
   ]
  },
  {
   "cell_type": "markdown",
   "id": "fc7da0a4-8cea-4035-ad87-686ca2d86083",
   "metadata": {},
   "source": [
    "4 .Write a Python program to determine the largest of three numbers using if-else."
   ]
  },
  {
   "cell_type": "code",
   "execution_count": 23,
   "id": "af7462ec-f5ad-4051-b689-10086ead553a",
   "metadata": {},
   "outputs": [
    {
     "name": "stdout",
     "output_type": "stream",
     "text": [
      "14\n"
     ]
    }
   ],
   "source": [
    "num1 = 12\n",
    "num2 = 13\n",
    "num3 = 14\n",
    "if num1> num2 and num1>num3:\n",
    "    print(num1)\n",
    "elif num2>num1 and num2>num3:\n",
    "    print(num2)\n",
    "else:\n",
    "    print(num3)"
   ]
  },
  {
   "cell_type": "markdown",
   "id": "db480217-6d49-45c8-8f08-5185f369760d",
   "metadata": {},
   "source": [
    "5. Write a Python program that calculates the absolute value of a number using if-else."
   ]
  },
  {
   "cell_type": "code",
   "execution_count": 27,
   "id": "317bb32a-c548-4e89-8e33-043650a83c67",
   "metadata": {},
   "outputs": [
    {
     "data": {
      "text/plain": [
       "30"
      ]
     },
     "execution_count": 27,
     "metadata": {},
     "output_type": "execute_result"
    }
   ],
   "source": [
    "my_number = -7\n",
    "\n",
    "abs_value = abs(my_number)\n",
    "min(30,90)\n"
   ]
  },
  {
   "cell_type": "markdown",
   "id": "6f6893c3-207e-4648-8bc5-a0a338a9b208",
   "metadata": {},
   "source": [
    "6.Create a Python program that checks if a given character is a vowel or consonant using if-else."
   ]
  },
  {
   "cell_type": "code",
   "execution_count": 31,
   "id": "4dc7bd37-b7a4-47ee-99ea-ac80278aab45",
   "metadata": {},
   "outputs": [
    {
     "name": "stdout",
     "output_type": "stream",
     "text": [
      "character is vowel\n"
     ]
    }
   ],
   "source": [
    "string = \"o\"\n",
    "for i in  string:\n",
    "    if i in  \"aeiouAEIOU\":\n",
    "        print(\"character is vowel\")\n",
    "    else:\n",
    "        print(\"character is consonant\")"
   ]
  },
  {
   "cell_type": "markdown",
   "id": "e768e0d1-5d47-4104-ad5f-9da8de55dead",
   "metadata": {},
   "source": [
    "7.Write a Python program to determine if a user is eligible to vote based on their age using if-else."
   ]
  },
  {
   "cell_type": "code",
   "execution_count": 36,
   "id": "c249fe27-e2bb-4f24-a643-4d0cd19fd2d8",
   "metadata": {},
   "outputs": [
    {
     "name": "stdout",
     "output_type": "stream",
     "text": [
      " is not eligible for vote\n"
     ]
    }
   ],
   "source": [
    "age = 10\n",
    "if age<18:\n",
    "    print(\" is not eligible for vote\")\n",
    "else :\n",
    "    print(\" is eligible for vote\")"
   ]
  },
  {
   "cell_type": "markdown",
   "id": "7759aedd-7d6b-4508-b7f1-668505f04069",
   "metadata": {},
   "source": [
    "8. Create a Python program that calculates the discount amount based on the purchase amount using if-else."
   ]
  },
  {
   "cell_type": "code",
   "execution_count": 40,
   "id": "7422d921-7fcb-45ce-97cb-661d9f94ad40",
   "metadata": {},
   "outputs": [
    {
     "name": "stdout",
     "output_type": "stream",
     "text": [
      "allow the 20% discont\n",
      "your discount amoint is  400.0\n"
     ]
    }
   ],
   "source": [
    "amount = 2000\n",
    "if amount < 100:\n",
    "    print(\"not allow the discount\")\n",
    "elif amount >= 100 and amount <200:\n",
    "    print(\"allow the 10% discount\")\n",
    "    print(\"your discount amount is \",amount*0.1)\n",
    "else:\n",
    "    print(\"allow the 20% discont\")\n",
    "    print(\"your discount amoint is \",amount*0.2)"
   ]
  },
  {
   "cell_type": "markdown",
   "id": "0173d622-a802-4f91-b3b9-beb00014ff31",
   "metadata": {},
   "source": [
    "9.Write a Python program to check if a number is within a specified range using if-else."
   ]
  },
  {
   "cell_type": "code",
   "execution_count": 41,
   "id": "d375cf58-4948-419d-8a84-1dc9e96d3e6c",
   "metadata": {},
   "outputs": [
    {
     "name": "stdout",
     "output_type": "stream",
     "text": [
      "your number is in range 0-100\n"
     ]
    }
   ],
   "source": [
    "num = 10 \n",
    "if num <=100 and num >=0:\n",
    "    print(\"your number is in range 0-100\")\n",
    "else:\n",
    "    print(\"your number is gater then 100 \")"
   ]
  },
  {
   "cell_type": "markdown",
   "id": "d0f57795-be48-4c1c-816d-7e2df93bb300",
   "metadata": {},
   "source": [
    "10. Create a Python program that determines the grade of a student based on their score using if-else."
   ]
  },
  {
   "cell_type": "code",
   "execution_count": 43,
   "id": "21c28957-fd12-4b30-95e8-02758b0aa727",
   "metadata": {},
   "outputs": [
    {
     "name": "stdin",
     "output_type": "stream",
     "text": [
      "Enter the student's score:  70\n"
     ]
    },
    {
     "name": "stdout",
     "output_type": "stream",
     "text": [
      "The student's grade is C\n"
     ]
    }
   ],
   "source": [
    "# Input the student's score\n",
    "score = float(input(\"Enter the student's score: \"))\n",
    "\n",
    "# Determine the grade based on the score using if-else statements\n",
    "if score >= 90:\n",
    "    grade = 'A'\n",
    "elif score >= 80:\n",
    "    grade = 'B'\n",
    "elif score >= 70:\n",
    "    grade = 'C'\n",
    "elif score >= 60:\n",
    "    grade = 'D'\n",
    "else:\n",
    "    grade = 'F'\n",
    "\n",
    "# Display the grade\n",
    "print(f\"The student's grade is {grade}\")\n"
   ]
  },
  {
   "cell_type": "markdown",
   "id": "9e5316c2-d4c4-455f-af89-6073d5a89d3d",
   "metadata": {},
   "source": [
    "11. \n",
    "Write a Python program to check if a string is empty or not using if-else."
   ]
  },
  {
   "cell_type": "code",
   "execution_count": 1,
   "id": "20dfed0f-dd18-481e-bfb9-4b96ad9e2beb",
   "metadata": {},
   "outputs": [
    {
     "name": "stdout",
     "output_type": "stream",
     "text": [
      "empty\n"
     ]
    }
   ],
   "source": [
    "string = ''\n",
    "if len(string)==0:\n",
    "    print(\"empty\")\n",
    "else:\n",
    "    print(\"not empty\")"
   ]
  },
  {
   "cell_type": "markdown",
   "id": "1539f5d0-c153-4beb-9fb3-88f8fcdf0360",
   "metadata": {},
   "source": [
    "12. Create a Python program that identifies the type of a triangle (e.g., equilateral, isosceles, or scalene) based on input values using if-else."
   ]
  },
  {
   "cell_type": "code",
   "execution_count": 2,
   "id": "a326172b-6dbd-4651-8a58-dbe258f78487",
   "metadata": {},
   "outputs": [
    {
     "name": "stdin",
     "output_type": "stream",
     "text": [
      "Enter the length of the first side:  45\n",
      "Enter the length of the second side:  45\n",
      "Enter the length of the third side:  45\n"
     ]
    },
    {
     "name": "stdout",
     "output_type": "stream",
     "text": [
      "The triangle is equilateral.\n"
     ]
    }
   ],
   "source": [
    "# Input the lengths of the three sides of the triangle\n",
    "side1 = float(input(\"Enter the length of the first side: \"))\n",
    "side2 = float(input(\"Enter the length of the second side: \"))\n",
    "side3 = float(input(\"Enter the length of the third side: \"))\n",
    "\n",
    "# Check the type of triangle using if-else statements\n",
    "if side1 == side2 == side3:\n",
    "    triangle_type = \"equilateral\"\n",
    "elif side1 == side2 or side1 == side3 or side2 == side3:\n",
    "    triangle_type = \"isosceles\"\n",
    "else:\n",
    "    triangle_type = \"scalene\"\n",
    "\n",
    "# Display the type of triangle\n",
    "print(f\"The triangle is {triangle_type}.\")\n"
   ]
  },
  {
   "cell_type": "markdown",
   "id": "289accd4-1246-41c8-98d7-51c12f5ac785",
   "metadata": {},
   "source": [
    "13. Write a Python program to determine the day of the week based on a user-provided number using if-else."
   ]
  },
  {
   "cell_type": "code",
   "execution_count": 5,
   "id": "d4ee48d1-2046-4830-82d6-8e0e94e52ef7",
   "metadata": {},
   "outputs": [
    {
     "name": "stdin",
     "output_type": "stream",
     "text": [
      "Enter a number (1-7) representing the day of the week:  4\n"
     ]
    },
    {
     "name": "stdout",
     "output_type": "stream",
     "text": [
      "The day of the week is Thursday.\n"
     ]
    }
   ],
   "source": [
    "day_number = int(input(\"Enter a number (1-7) representing the day of the week: \"))\n",
    "if day_number == 1:\n",
    "    day = \"Monday\"\n",
    "elif day_number == 2:\n",
    "    day = \"Tuesday\"\n",
    "elif day_number == 3:\n",
    "    day = \"Wednesday\"\n",
    "elif day_number == 4:\n",
    "    day = \"Thursday\"\n",
    "elif day_number == 5:\n",
    "    day = \"Friday\"\n",
    "elif day_number == 6:\n",
    "    day = \"Saturday\"\n",
    "elif day_number == 7:\n",
    "    day = \"Sunday\"\n",
    "else:\n",
    "    day = \"Invalid input (outside the range 1-7)\"\n",
    "print(f\"The day of the week is {day}.\")\n"
   ]
  },
  {
   "cell_type": "markdown",
   "id": "b318fdc7-b602-40e9-a874-c0631831403c",
   "metadata": {},
   "source": [
    "14. Create a Python program that checks if a given year is a leap year using both if-else and a function."
   ]
  },
  {
   "cell_type": "code",
   "execution_count": 6,
   "id": "46d6b9f8-b7ae-4b50-8bb3-a506cd0c0759",
   "metadata": {},
   "outputs": [
    {
     "name": "stdin",
     "output_type": "stream",
     "text": [
      "Enter a year:  2000\n"
     ]
    },
    {
     "name": "stdout",
     "output_type": "stream",
     "text": [
      "2000 is a leap year.\n"
     ]
    }
   ],
   "source": [
    "def is_leap_year(year):\n",
    "    if (year % 4 == 0 and year % 100 != 0) or (year % 400 == 0):\n",
    "        return True\n",
    "    else:\n",
    "        return False\n",
    "year = int(input(\"Enter a year: \"))\n",
    "\n",
    "if is_leap_year(year):\n",
    "    print(f\"{year} is a leap year.\")\n",
    "else:\n",
    "    print(f\"{year} is not a leap year.\")\n"
   ]
  },
  {
   "cell_type": "markdown",
   "id": "d1bce45f-139f-43d0-af81-f58b648daabc",
   "metadata": {},
   "source": [
    "15. How do you use the \"assert\" statement in Python to add debugging checks within if-else blocks?"
   ]
  },
  {
   "cell_type": "code",
   "execution_count": 9,
   "id": "c694dcea-579c-4650-8a5a-8f3ecf141e61",
   "metadata": {},
   "outputs": [
    {
     "name": "stdout",
     "output_type": "stream",
     "text": [
      "The average is 11.0\n"
     ]
    }
   ],
   "source": [
    "# Define a function that calculates the average of a list of numbers\n",
    "def calculate_average(numbers):\n",
    "    assert len(numbers) > 0, \"The list of numbers is empty\"  # Check if the list is not empty\n",
    "    total = sum(numbers)\n",
    "    return total / len(numbers)\n",
    "\n",
    "# Example usage\n",
    "numbers = [10,12]\n",
    "average = calculate_average(numbers)\n",
    "print(f\"The average is {average}\")\n"
   ]
  },
  {
   "cell_type": "markdown",
   "id": "87958f60-4942-48b9-a7fb-065b65f97af1",
   "metadata": {},
   "source": [
    "16. Create a Python program that determines the eligibility of a person for a senior citizen discount based on age using if-else."
   ]
  },
  {
   "cell_type": "code",
   "execution_count": 10,
   "id": "8946006c-784e-4075-adda-b44f2e269b43",
   "metadata": {},
   "outputs": [
    {
     "name": "stdin",
     "output_type": "stream",
     "text": [
      "Enter your age:  80\n"
     ]
    },
    {
     "name": "stdout",
     "output_type": "stream",
     "text": [
      "Congratulations! You are eligible for a senior citizen discount.\n"
     ]
    }
   ],
   "source": [
    "age = int(input(\"Enter your age: \"))\n",
    "if age >= 60:\n",
    "    print(\"Congratulations! You are eligible for a senior citizen discount.\")\n",
    "else:\n",
    "    print(\"Sorry, you are not eligible for a senior citizen discount.\")\n"
   ]
  },
  {
   "cell_type": "markdown",
   "id": "471ca042-b1ff-4e7a-addf-6e23e8459280",
   "metadata": {},
   "source": [
    "17. Write a Python program to categorize a given character as uppercase, lowercase, or neither using if-else."
   ]
  },
  {
   "cell_type": "code",
   "execution_count": 11,
   "id": "f0e5d1cb-67e1-45c8-bd33-c33562c0c8e7",
   "metadata": {},
   "outputs": [
    {
     "name": "stdin",
     "output_type": "stream",
     "text": [
      "Enter a character:  r\n"
     ]
    },
    {
     "name": "stdout",
     "output_type": "stream",
     "text": [
      "The character 'r' is lowercase.\n"
     ]
    }
   ],
   "source": [
    "character = input(\"Enter a character: \")\n",
    "\n",
    "if character.isupper():\n",
    "    print(f\"The character '{character}' is uppercase.\")\n",
    "elif character.islower():\n",
    "    print(f\"The character '{character}' is lowercase.\")\n",
    "else:\n",
    "    print(f\"The character '{character}' is neither uppercase nor lowercase.\")\n"
   ]
  },
  {
   "cell_type": "markdown",
   "id": "dd615163-4eda-4c29-b215-646d8af045d7",
   "metadata": {},
   "source": [
    "18. Write a Python program to determine the roots of a quadratic equation using if-else."
   ]
  },
  {
   "cell_type": "code",
   "execution_count": 12,
   "id": "2370849b-34f2-4809-966a-a6f3d42b781a",
   "metadata": {},
   "outputs": [
    {
     "name": "stdin",
     "output_type": "stream",
     "text": [
      "Enter coefficient a:  5\n",
      "Enter coefficient b:  6\n",
      "Enter coefficient c:  2\n"
     ]
    },
    {
     "name": "stdout",
     "output_type": "stream",
     "text": [
      "Root 1: -0.6 + 0.2i\n",
      "Root 2: -0.6 - 0.2i\n"
     ]
    }
   ],
   "source": [
    "import math\n",
    "a = float(input(\"Enter coefficient a: \"))\n",
    "b = float(input(\"Enter coefficient b: \"))\n",
    "c = float(input(\"Enter coefficient c: \"))\n",
    "discriminant = b**2 - 4*a*c\n",
    "if discriminant > 0:\n",
    "    root1 = (-b + math.sqrt(discriminant)) / (2*a)\n",
    "    root2 = (-b - math.sqrt(discriminant)) / (2*a)\n",
    "    print(f\"Root 1: {root1}\")\n",
    "    print(f\"Root 2: {root2}\")\n",
    "elif discriminant == 0:\n",
    "    root = -b / (2*a)\n",
    "    print(f\"Root: {root}\")\n",
    "else:\n",
    "    real_part = -b / (2*a)\n",
    "    imaginary_part = math.sqrt(abs(discriminant)) / (2*a)\n",
    "    print(f\"Root 1: {real_part} + {imaginary_part}i\")\n",
    "    print(f\"Root 2: {real_part} - {imaginary_part}i\")\n"
   ]
  },
  {
   "cell_type": "markdown",
   "id": "bd0dbb99-d3e9-46c2-9578-f2f857bec085",
   "metadata": {},
   "source": [
    "19. Create a Python program that checks if a given year is a century year or not using if-else."
   ]
  },
  {
   "cell_type": "code",
   "execution_count": 13,
   "id": "d1b545c5-9512-47c6-8180-8d7c185d61f9",
   "metadata": {},
   "outputs": [
    {
     "name": "stdin",
     "output_type": "stream",
     "text": [
      "Enter a year:  2000\n"
     ]
    },
    {
     "name": "stdout",
     "output_type": "stream",
     "text": [
      "2000 is a century year.\n"
     ]
    }
   ],
   "source": [
    "year = int(input(\"Enter a year: \"))\n",
    "if year % 100 == 0:\n",
    "    print(f\"{year} is a century year.\")\n",
    "else:\n",
    "    print(f\"{year} is not a century year.\")\n"
   ]
  },
  {
   "cell_type": "markdown",
   "id": "54fc6923-c5f1-492f-b1ed-2b7f4f71ddd7",
   "metadata": {},
   "source": [
    "20. Write a Python program to determine if a given number is a perfect square using if-else."
   ]
  },
  {
   "cell_type": "code",
   "execution_count": 17,
   "id": "8ee99aa7-9842-4781-b4fd-7caa1be15698",
   "metadata": {},
   "outputs": [
    {
     "name": "stdin",
     "output_type": "stream",
     "text": [
      "Enter a number:  100\n"
     ]
    },
    {
     "name": "stdout",
     "output_type": "stream",
     "text": [
      "100 is a perfect square.\n"
     ]
    }
   ],
   "source": [
    "import math\n",
    "number = int(input(\"Enter a number: \"))\n",
    "num = int(math.sqrt(number))\n",
    "if num*num == number:\n",
    "    print(f\"{number} is a perfect square.\")\n",
    "else:\n",
    "    print(f\"{number} is not a perfect square.\")\n"
   ]
  },
  {
   "cell_type": "markdown",
   "id": "7d02f8c7-7560-4dc0-a5ea-a76d74050341",
   "metadata": {},
   "source": [
    "21. Explain the purpose of the \"continue\" and \"break\" statements within if-else loops."
   ]
  },
  {
   "cell_type": "markdown",
   "id": "94c301c2-9343-44db-80ae-c136b620cbda",
   "metadata": {},
   "source": [
    "\"continue\" Statement: Skips the current iteration of a loop and proceeds to the next iteration.\n",
    "\n",
    "\"break\" Statement: Exits a loop prematurely when a certain condition is met."
   ]
  },
  {
   "cell_type": "code",
   "execution_count": 19,
   "id": "ecdd9858-b225-4df9-a5b9-04e5920a22f1",
   "metadata": {},
   "outputs": [
    {
     "name": "stdout",
     "output_type": "stream",
     "text": [
      "1\n",
      "2\n",
      "4\n",
      "5\n"
     ]
    },
    {
     "name": "stdin",
     "output_type": "stream",
     "text": [
      "Enter 'quit' to exit:  quit\n"
     ]
    }
   ],
   "source": [
    "for i in range(1, 6):\n",
    "    if i == 3:\n",
    "        continue \n",
    "    print(i)\n",
    "while True:\n",
    "    user_input = input(\"Enter 'quit' to exit: \")\n",
    "    if user_input == 'quit':\n",
    "        break  "
   ]
  },
  {
   "cell_type": "markdown",
   "id": "c83f10e4-4675-4450-8f90-0aa04b408583",
   "metadata": {},
   "source": [
    "22. Create a Python program that calculates the BMI (Body Mass Index) of a person based on their weight and height using if-else."
   ]
  },
  {
   "cell_type": "code",
   "execution_count": 22,
   "id": "88af0e85-9632-44c2-ac97-fd0a49b0f318",
   "metadata": {},
   "outputs": [
    {
     "name": "stdin",
     "output_type": "stream",
     "text": [
      "Enter your weight in kilograms:  49\n",
      "Enter your height in meters:  1.68\n"
     ]
    },
    {
     "name": "stdout",
     "output_type": "stream",
     "text": [
      "Your BMI is 17.36.\n",
      "You are categorized as: Underweight\n"
     ]
    }
   ],
   "source": [
    "weight_kg = float(input(\"Enter your weight in kilograms: \"))\n",
    "height_m = float(input(\"Enter your height in meters: \"))\n",
    "bmi = weight_kg / (height_m * height_m)\n",
    "if bmi < 18.5:\n",
    "    category = \"Underweight\"\n",
    "elif 18.5 <= bmi < 24.9:\n",
    "    category = \"Normal Weight\"\n",
    "elif 25.0 <= bmi < 29.9:\n",
    "    category = \"Overweight\"\n",
    "else:\n",
    "    category = \"Obese\"\n",
    "\n",
    "print(f\"Your BMI is {bmi:.2f}.\")\n",
    "print(f\"You are categorized as: {category}\")\n"
   ]
  },
  {
   "cell_type": "markdown",
   "id": "c7e07514-d111-44a1-88e9-adad2e316a2b",
   "metadata": {},
   "source": [
    "23. How can you use the \"filter()\" function with if-else statements to filter elements from a list?"
   ]
  },
  {
   "cell_type": "code",
   "execution_count": 23,
   "id": "a3afb8e5-b39d-438a-a460-4f267c44e039",
   "metadata": {},
   "outputs": [
    {
     "name": "stdout",
     "output_type": "stream",
     "text": [
      "[2, 4, 6, 8, 10]\n"
     ]
    }
   ],
   "source": [
    "# Define a custom function to check if a number is even\n",
    "def is_even(num):\n",
    "    return num % 2 == 0\n",
    "\n",
    "# Create a list of numbers\n",
    "numbers = [1, 2, 3, 4, 5, 6, 7, 8, 9, 10]\n",
    "\n",
    "# Use filter() with the custom function to filter even numbers\n",
    "filtered_numbers = list(filter(is_even, numbers))\n",
    "\n",
    "# Display the filtered numbers\n",
    "print(filtered_numbers)\n"
   ]
  },
  {
   "cell_type": "markdown",
   "id": "46bf9444-556f-44c8-86c1-452ff5e53f2f",
   "metadata": {},
   "source": [
    "24. Write a Python program to determine if a given number is prime or not using if-else."
   ]
  },
  {
   "cell_type": "code",
   "execution_count": 27,
   "id": "760a0542-4376-421b-b365-d09c63ab364c",
   "metadata": {},
   "outputs": [
    {
     "name": "stdin",
     "output_type": "stream",
     "text": [
      "enetr you number 23\n"
     ]
    },
    {
     "name": "stdout",
     "output_type": "stream",
     "text": [
      "prime number\n"
     ]
    }
   ],
   "source": [
    "num = int(input(\"enetr you number\"))\n",
    "if num <=1:\n",
    "    print(\"not a prime number\")\n",
    "else:\n",
    "    flage = 0\n",
    "    for i in range(2,num):\n",
    "        if num % i == 0:\n",
    "            flage = 1\n",
    "            print(\"not prime number\")\n",
    "            break\n",
    "    if flage == 0:\n",
    "        print(\"prime number\")"
   ]
  },
  {
   "cell_type": "markdown",
   "id": "e8d0ddb9-f018-4095-aad6-036bf6c5aad0",
   "metadata": {},
   "source": [
    "Map :-"
   ]
  },
  {
   "cell_type": "markdown",
   "id": "63d1cdc1-2f85-4bb3-9241-a15b32bd36cb",
   "metadata": {},
   "source": [
    "1. Explain the purpose of the `map()` function in Python and provide an example of how it can be used to apply a function to each element of an iterable."
   ]
  },
  {
   "cell_type": "markdown",
   "id": "69b4eef3-2748-41c4-86d7-bd460b39dfb4",
   "metadata": {},
   "source": [
    "Explain the purpose of the `map()` function in Python and provide an example of how it can be used to apply a function to each element of an iterable."
   ]
  },
  {
   "cell_type": "code",
   "execution_count": 30,
   "id": "61ab04a2-4d9a-469a-8ced-02fbdad04971",
   "metadata": {},
   "outputs": [
    {
     "data": {
      "text/plain": [
       "[3, 4, 5, 6]"
      ]
     },
     "execution_count": 30,
     "metadata": {},
     "output_type": "execute_result"
    }
   ],
   "source": [
    "list2 = [1,2,3,4]\n",
    "def transfrom(x):\n",
    "    return x+2\n",
    "list1 = map(transfrom,list2)\n",
    "list(list1)"
   ]
  },
  {
   "cell_type": "markdown",
   "id": "4997c44f-4ef1-4706-acf6-f4257d87a06e",
   "metadata": {},
   "source": [
    "2. Write a Python program that uses the `map()` function to square each element of a list of numbers."
   ]
  },
  {
   "cell_type": "code",
   "execution_count": 35,
   "id": "ca3f4c0f-8bf0-435a-9a21-89b64cffaf9a",
   "metadata": {},
   "outputs": [
    {
     "name": "stdout",
     "output_type": "stream",
     "text": [
      "[1, 4, 9, 16]\n"
     ]
    }
   ],
   "source": [
    "print(list(map(lambda x: x*x ,[1,2,3,4])))"
   ]
  },
  {
   "cell_type": "markdown",
   "id": "a1a33ec6-2299-4a83-9c4a-984aebb02364",
   "metadata": {},
   "source": [
    "3. How does the `map()` function differ from a list comprehension in Python, and when would you choose one over the other?"
   ]
  },
  {
   "cell_type": "markdown",
   "id": "be8bc8bc-07e4-41c0-860b-a5025ea6e8dc",
   "metadata": {},
   "source": [
    "Use map() when you have a more complex transformation or need to apply a function with multiple arguments.\n",
    "Use list comprehensions for simple, one-liner transformations and creating new lists from existing ones."
   ]
  },
  {
   "cell_type": "markdown",
   "id": "3ee6cf1b-551d-4311-8498-908e1f664f4e",
   "metadata": {},
   "source": [
    "result = map(function, iterable)"
   ]
  },
  {
   "cell_type": "markdown",
   "id": "9e9fc43f-72ef-4008-9307-12ab64d4f8d9",
   "metadata": {},
   "source": [
    "result = [expression for item in iterable]"
   ]
  },
  {
   "cell_type": "markdown",
   "id": "1a1f6dd6-9ea2-48b7-a2e0-93e8a0c4dae9",
   "metadata": {},
   "source": [
    "4. Create a Python program that uses the `map()` function to convert a list of names to uppercase."
   ]
  },
  {
   "cell_type": "code",
   "execution_count": 40,
   "id": "d81a4859-f0a0-4d41-9a9e-fce97fa21292",
   "metadata": {},
   "outputs": [
    {
     "name": "stdout",
     "output_type": "stream",
     "text": [
      "['VISHAL', 'BARAIYA', 'LADHVA', 'GAUTAM']\n"
     ]
    }
   ],
   "source": [
    "list2 = [\"vishal\",\"baraiya\",\"ladhva\",\"gautam\"]\n",
    "def vishal(x):\n",
    "    return x.upper()\n",
    "result = map(vishal,list2)\n",
    "print(list(result))"
   ]
  },
  {
   "cell_type": "markdown",
   "id": "1864f730-7837-4315-a812-144ca6c5f861",
   "metadata": {},
   "source": [
    "5. Write a Python program that uses the `map()` function to calculate the length of each word in a list of strings."
   ]
  },
  {
   "cell_type": "code",
   "execution_count": 41,
   "id": "fa57c127-5790-4252-a8e4-b0d6c7a0e07b",
   "metadata": {},
   "outputs": [
    {
     "name": "stdout",
     "output_type": "stream",
     "text": [
      "[6, 7, 6, 6]\n"
     ]
    }
   ],
   "source": [
    "list2 = [\"vishal\",\"baraiya\",\"ladhva\",\"gautam\"]\n",
    "def vishal(x):\n",
    "    return len(x)\n",
    "result = map(vishal,list2)\n",
    "print(list(result))"
   ]
  },
  {
   "cell_type": "markdown",
   "id": "f270afdf-9ade-4ac9-9669-5a3420107371",
   "metadata": {},
   "source": [
    "6. How can you use the `map()` function to apply a custom function to elements of multiple lists simultaneously in Python?"
   ]
  },
  {
   "cell_type": "code",
   "execution_count": 43,
   "id": "abb5ca4f-0930-4b07-acf7-12e8cf5655fd",
   "metadata": {},
   "outputs": [
    {
     "data": {
      "text/plain": [
       "[5, 7, 9, 11]"
      ]
     },
     "execution_count": 43,
     "metadata": {},
     "output_type": "execute_result"
    }
   ],
   "source": [
    "def vishal(x,y):\n",
    "    return x+y\n",
    "list1 = [1,2,3,4]\n",
    "list2= [4,5,6,7]\n",
    "list3 = map(vishal,list1,list2)\n",
    "list(list3)"
   ]
  },
  {
   "cell_type": "markdown",
   "id": "bf5f459d-f172-46c9-bb89-5386e8684196",
   "metadata": {},
   "source": [
    "7. Create a Python program that uses `map()` to convert a list of temperatures from Celsius to Fahrenheit."
   ]
  },
  {
   "cell_type": "code",
   "execution_count": 45,
   "id": "fce4afae-424a-49f2-b393-86117f9b33d6",
   "metadata": {},
   "outputs": [
    {
     "data": {
      "text/plain": [
       "[35.6, 37.4, 39.2, 41.0]"
      ]
     },
     "execution_count": 45,
     "metadata": {},
     "output_type": "execute_result"
    }
   ],
   "source": [
    "def vishal(x):\n",
    "    return x*(9/5)+32\n",
    "list(map(vishal,[2,3,4,5]))"
   ]
  },
  {
   "cell_type": "markdown",
   "id": "f704e040-ac5f-4f02-afcd-ae20a1b6ae3a",
   "metadata": {},
   "source": [
    "8. Write a Python program that uses the `map()` function to round each element of a list of floating-point numbers to the nearest integer."
   ]
  },
  {
   "cell_type": "code",
   "execution_count": 47,
   "id": "a92375eb-63df-41f4-a1a3-0843240cce41",
   "metadata": {},
   "outputs": [
    {
     "data": {
      "text/plain": [
       "[3, 3, 2, 7, 10]"
      ]
     },
     "execution_count": 47,
     "metadata": {},
     "output_type": "execute_result"
    }
   ],
   "source": [
    "list1 = [3.14, 2.718, 1.5, 7.25, 9.99]\n",
    "list(map(round,list1))"
   ]
  },
  {
   "cell_type": "markdown",
   "id": "79cdfaf6-5668-4e01-a234-e171377434ab",
   "metadata": {},
   "source": [
    "1. What is the `reduce()` function in Python, and what module should you import to use it? Provide an example of its basic usage."
   ]
  },
  {
   "cell_type": "markdown",
   "id": "76f9eeb3-fba2-4e1f-809d-08d72a436f00",
   "metadata": {},
   "source": [
    "The reduce() function in Python is used for reducing a sequence (e.g., a list) of elements to a single value by applying a specified function cumulatively to the items of the sequence. To use the reduce() function, you need to import it from the functools module."
   ]
  },
  {
   "cell_type": "code",
   "execution_count": 61,
   "id": "af5166d7-0fa6-4449-8d41-6785bf2b13aa",
   "metadata": {},
   "outputs": [
    {
     "data": {
      "text/plain": [
       "10"
      ]
     },
     "execution_count": 61,
     "metadata": {},
     "output_type": "execute_result"
    }
   ],
   "source": [
    "from functools import reduce \n",
    "list12 = [1,2,3,4]\n",
    "def vishal(x,y):\n",
    "    return x+y\n",
    "result = reduce(vishal,list12)\n",
    "result"
   ]
  },
  {
   "cell_type": "markdown",
   "id": "0032c256-d952-43f6-9ae5-ffaf4d673d6e",
   "metadata": {},
   "source": [
    "2. Write a Python program that uses the `reduce()` function to find the product of all elements in a list."
   ]
  },
  {
   "cell_type": "code",
   "execution_count": 62,
   "id": "82b4a0f4-c6aa-4aec-b496-e9d1c9b8d518",
   "metadata": {},
   "outputs": [
    {
     "data": {
      "text/plain": [
       "24"
      ]
     },
     "execution_count": 62,
     "metadata": {},
     "output_type": "execute_result"
    }
   ],
   "source": [
    "list12 = [1,2,3,4]\n",
    "def vishal(x,y):\n",
    "    return x*y\n",
    "result = reduce(vishal,list12)\n",
    "result"
   ]
  },
  {
   "cell_type": "markdown",
   "id": "5a0447a1-36f0-4661-8c16-6342fc833979",
   "metadata": {},
   "source": [
    "3. Create a Python program that uses `reduce()` to find the maximum element in a list of numbers."
   ]
  },
  {
   "cell_type": "code",
   "execution_count": 82,
   "id": "4ef839d0-b394-48c2-a426-9a7b8b79748c",
   "metadata": {},
   "outputs": [
    {
     "data": {
      "text/plain": [
       "10"
      ]
     },
     "execution_count": 82,
     "metadata": {},
     "output_type": "execute_result"
    }
   ],
   "source": [
    "list12 = [1,2,10,4]\n",
    "def vishal(x,y):\n",
    "    if x>y: \n",
    "        return x\n",
    "    else:\n",
    "        return y\n",
    "result = reduce(vishal,list12)\n",
    "result"
   ]
  },
  {
   "cell_type": "markdown",
   "id": "15dd3b39-3c63-4a34-9a31-64c6c81bf345",
   "metadata": {},
   "source": [
    "4. How can you use the `reduce()` function to concatenate a list of strings into a single string?"
   ]
  },
  {
   "cell_type": "code",
   "execution_count": 66,
   "id": "db4001cf-b03a-4a94-bf50-38952b6ea8bc",
   "metadata": {},
   "outputs": [
    {
     "data": {
      "text/plain": [
       "'vishal baraiya ladhva gautam'"
      ]
     },
     "execution_count": 66,
     "metadata": {},
     "output_type": "execute_result"
    }
   ],
   "source": [
    "from functools import reduce \n",
    "list12 = [\"vishal\",\"baraiya\",\"ladhva\",\"gautam\"]\n",
    "def vishal(x,y):\n",
    "    return x+\" \"+y\n",
    "result = reduce(vishal,list12)\n",
    "result"
   ]
  },
  {
   "cell_type": "markdown",
   "id": "43df1465-6670-41fb-925a-db5fd9b978a8",
   "metadata": {},
   "source": [
    "5. Write a Python program that calculates the factorial of a number using the `reduce()` function.\n"
   ]
  },
  {
   "cell_type": "code",
   "execution_count": 72,
   "id": "7be56d7e-814a-41d2-b91f-86eb0c09029a",
   "metadata": {},
   "outputs": [
    {
     "name": "stdin",
     "output_type": "stream",
     "text": [
      "enter your mnumber to find out factorial for that number  7\n"
     ]
    },
    {
     "data": {
      "text/plain": [
       "5040"
      ]
     },
     "execution_count": 72,
     "metadata": {},
     "output_type": "execute_result"
    }
   ],
   "source": [
    "number = int(input(\"enter your mnumber to find out factorial for that number \"))\n",
    "def vishal(x,y):\n",
    "    return x*y\n",
    "result = reduce(vishal,[i for i in range(1,number+1)])\n",
    "result"
   ]
  },
  {
   "cell_type": "markdown",
   "id": "c7ee0ab7-26c2-42c0-95ca-70ecfef74eba",
   "metadata": {},
   "source": [
    "6. Create a Python program that uses `reduce()` to find the GCD (Greatest Common Divisor) of a list of numbers."
   ]
  },
  {
   "cell_type": "code",
   "execution_count": 73,
   "id": "bff785e6-df21-427b-a488-61fb2b7848a4",
   "metadata": {},
   "outputs": [
    {
     "name": "stdout",
     "output_type": "stream",
     "text": [
      "2\n"
     ]
    }
   ],
   "source": [
    "import math \n",
    "list1 = [12,4,6,8]\n",
    "def vishal(x,y):\n",
    "    return math.gcd(x,y)\n",
    "result = reduce(vishal,list1)\n",
    "print(result)"
   ]
  },
  {
   "cell_type": "markdown",
   "id": "4bfc5188-0013-4f24-93c0-2c31c530a9c1",
   "metadata": {},
   "source": [
    "7. Write a Python program that uses the `reduce()` function to find the sum of the digits of a given number."
   ]
  },
  {
   "cell_type": "code",
   "execution_count": 75,
   "id": "b354f38d-bdc9-454e-af2b-7828da0c7785",
   "metadata": {},
   "outputs": [
    {
     "name": "stdin",
     "output_type": "stream",
     "text": [
      "enter number 89\n"
     ]
    },
    {
     "data": {
      "text/plain": [
       "17"
      ]
     },
     "execution_count": 75,
     "metadata": {},
     "output_type": "execute_result"
    }
   ],
   "source": [
    "number = int(input(\"enter number\"))\n",
    "def vishal(x,y):\n",
    "    return x+y\n",
    "result = reduce(vishal,[int(i) for i in str(number)])\n",
    "result"
   ]
  },
  {
   "cell_type": "markdown",
   "id": "29f9260d-f2a1-411c-90f8-b4508b05dee5",
   "metadata": {},
   "source": [
    "# Filter :-"
   ]
  },
  {
   "cell_type": "markdown",
   "id": "212c0855-4f21-4466-9bf1-3c94e3a2d0de",
   "metadata": {},
   "source": [
    "1. Explain the purpose of the `filter()` function in Python and provide an example of how it can be used to filter elements from an iterable."
   ]
  },
  {
   "cell_type": "markdown",
   "id": "dbe87bd4-b1e4-4c0a-883d-1d03b3b5616f",
   "metadata": {},
   "source": [
    "The filter() function in Python is used to filter elements from an iterable (e.g., a list) based on a specified condition. It creates an iterator of the elements for which the condition is True. The primary purpose of filter() is to extract or retain elements from a collection that satisfy a specific criterion."
   ]
  },
  {
   "cell_type": "code",
   "execution_count": 89,
   "id": "5421a087-2ffd-4f47-88c1-c85671111002",
   "metadata": {},
   "outputs": [
    {
     "data": {
      "text/plain": [
       "[2, 4, 6]"
      ]
     },
     "execution_count": 89,
     "metadata": {},
     "output_type": "execute_result"
    }
   ],
   "source": [
    "list1 = [1,2,3,4,5,6]\n",
    "def vishal(x):\n",
    "    return x%2 == 0\n",
    "list(filter(vishal,list1))"
   ]
  },
  {
   "cell_type": "markdown",
   "id": "a6d03043-485e-4123-8e20-c61f1a7f0e9d",
   "metadata": {},
   "source": [
    "2. Write a Python program that uses the `filter()` function to select even numbers from a list of integers.\n"
   ]
  },
  {
   "cell_type": "code",
   "execution_count": 90,
   "id": "275ebd96-b00d-42f3-b78f-d2f4268c53ea",
   "metadata": {},
   "outputs": [
    {
     "data": {
      "text/plain": [
       "[2, 4, 6]"
      ]
     },
     "execution_count": 90,
     "metadata": {},
     "output_type": "execute_result"
    }
   ],
   "source": [
    "list1 = [1,2,3,4,5,6]\n",
    "def vishal(x):\n",
    "    return x%2 == 0\n",
    "list(filter(vishal,list1))"
   ]
  },
  {
   "cell_type": "markdown",
   "id": "8c3d375b-f09d-442f-9318-8017b334300f",
   "metadata": {},
   "source": [
    "3. Create a Python program that uses the `filter()` function to select names that start with a specific letter from a list of strings.\n"
   ]
  },
  {
   "cell_type": "code",
   "execution_count": 94,
   "id": "0b75a0d5-f5a5-4a62-9fa0-bd27d05f3862",
   "metadata": {},
   "outputs": [
    {
     "data": {
      "text/plain": [
       "['David']"
      ]
     },
     "execution_count": 94,
     "metadata": {},
     "output_type": "execute_result"
    }
   ],
   "source": [
    "names = [\"Alice\", \"Bob\", \"Charlie\", \"David\", \"Eve\", \"Frank\", \"Grace\"]\n",
    "specialchar = 'D'\n",
    "def vishal(x):\n",
    "    if x.startswith(specialchar):\n",
    "        return x\n",
    "list(filter(vishal,names))    "
   ]
  },
  {
   "cell_type": "markdown",
   "id": "c95cc931-a3ff-485a-ae33-4d7fe755637e",
   "metadata": {},
   "source": [
    "4. Write a Python program that uses the `filter()` function to select prime numbers from a list of integers."
   ]
  },
  {
   "cell_type": "code",
   "execution_count": 97,
   "id": "5053447b-f872-4b24-b660-0b71232d8ca4",
   "metadata": {},
   "outputs": [
    {
     "data": {
      "text/plain": [
       "[2, 3, 5]"
      ]
     },
     "execution_count": 97,
     "metadata": {},
     "output_type": "execute_result"
    }
   ],
   "source": [
    "list1 = [1,2,3,4,5,6]\n",
    "def vishal(x):\n",
    "    if x<=1:\n",
    "        pass\n",
    "    else:\n",
    "        flage = 0\n",
    "        for i in range(2,x):\n",
    "            if x%i == 0:\n",
    "                flage = 2\n",
    "                break \n",
    "        if flage == 0:\n",
    "            return x\n",
    "list(filter(vishal,list1))"
   ]
  },
  {
   "cell_type": "markdown",
   "id": "be2fba1c-4c9b-4f67-9d76-cdc4e2a24bef",
   "metadata": {},
   "source": [
    "5. How can you use the `filter()` function to remove None values from a list in Python?\n"
   ]
  },
  {
   "cell_type": "code",
   "execution_count": 99,
   "id": "2a1c1b57-1cba-4621-8805-dc86247f3459",
   "metadata": {},
   "outputs": [
    {
     "data": {
      "text/plain": [
       "[1, 2, 3, 4]"
      ]
     },
     "execution_count": 99,
     "metadata": {},
     "output_type": "execute_result"
    }
   ],
   "source": [
    "values = [1, None, 2, None, 3, None, 4, None]\n",
    "def vishal(x):\n",
    "    if x is not None:\n",
    "        return x\n",
    "list(filter(vishal,values))    "
   ]
  },
  {
   "cell_type": "markdown",
   "id": "0c2e2fd5-f3c5-4c78-8472-852413722d06",
   "metadata": {},
   "source": [
    "6.Create a Python program that uses `filter()` to select words longer than a certain length from a list of strings."
   ]
  },
  {
   "cell_type": "code",
   "execution_count": 100,
   "id": "08de6cde-6c55-43be-92f9-b4f7792a2b97",
   "metadata": {},
   "outputs": [
    {
     "data": {
      "text/plain": [
       "['Alice', 'Charlie', 'David', 'Frank', 'Grace']"
      ]
     },
     "execution_count": 100,
     "metadata": {},
     "output_type": "execute_result"
    }
   ],
   "source": [
    "names = [\"Alice\", \"Bob\", \"Charlie\", \"David\", \"Eve\", \"Frank\", \"Grace\"]\n",
    "specialchar = 4\n",
    "def vishal(x):\n",
    "    if len(x)>specialchar:\n",
    "        return x\n",
    "list(filter(vishal,names))    "
   ]
  },
  {
   "cell_type": "markdown",
   "id": "fc7ffd3d-b188-49f6-8bb3-4950cc3f2585",
   "metadata": {},
   "source": [
    "7. Write a Python program that uses the `filter()` function to select elements greater than a specified threshold from a list of values."
   ]
  },
  {
   "cell_type": "code",
   "execution_count": 1,
   "id": "b0dcdffc-e0ee-4a1c-b315-eea63299c473",
   "metadata": {},
   "outputs": [
    {
     "data": {
      "text/plain": [
       "[25, 30, 35, 40]"
      ]
     },
     "execution_count": 1,
     "metadata": {},
     "output_type": "execute_result"
    }
   ],
   "source": [
    "values = [10, 15, 20, 25, 30, 35, 40]\n",
    "specialchar = 20\n",
    "def vishal(x):\n",
    "    if x>specialchar:\n",
    "        return x\n",
    "list(filter(vishal,values))   "
   ]
  },
  {
   "cell_type": "markdown",
   "id": "5af1055c-92f6-46d7-9a57-e0719a02a83d",
   "metadata": {},
   "source": [
    "# Recursion:-"
   ]
  },
  {
   "cell_type": "markdown",
   "id": "d0ea5dc7-6918-435b-b5e5-161e6e60ff3a",
   "metadata": {},
   "source": [
    "1. Explain the concept of recursion in Python. How does it differ from iteration?"
   ]
  },
  {
   "cell_type": "markdown",
   "id": "c82bf0f9-1fc6-4aaa-bbf7-1bb85b3211a4",
   "metadata": {},
   "source": [
    "Recursion is a programming concept in Python (and in other programming languages) where a function calls itself in order to solve a problem. Recursion is often used when a problem can be broken down into smaller, similar sub-problems. Each recursive call works on a smaller portion of the problem until a base case is reached, at which point the recursion stops.\n",
    "Base Case: Every recursive function must have a base case or termination condition\n",
    "Recursive Case: In the recursive case, the function calls itself with modified arguments to solve a smaller sub-problem.\n",
    "\n",
    "\n",
    "Iteration:\n",
    "Uses loops (e.g., for and while) to repeat a block of code.\n",
    "Suitable for repetitive tasks or tasks with a clear sequence of steps.\n",
    "Typically uses less memory compared to recursion"
   ]
  },
  {
   "cell_type": "code",
   "execution_count": 1,
   "id": "b8edba16-7b16-41a6-960a-f57a0ab6f791",
   "metadata": {},
   "outputs": [],
   "source": [
    "def factorial(n):\n",
    "    if n == 0:\n",
    "        return 1  # Base case\n",
    "    else:\n",
    "        return n * factorial(n - 1)  # Recursive case\n"
   ]
  },
  {
   "cell_type": "markdown",
   "id": "e24e047d-3918-42e4-aaca-d5f140cee9f8",
   "metadata": {},
   "source": [
    "2. Write a Python program to calculate the factorial of a number using recursion."
   ]
  },
  {
   "cell_type": "code",
   "execution_count": 2,
   "id": "1f85fba7-5a3d-4bad-85fa-2efbbe4102c4",
   "metadata": {},
   "outputs": [
    {
     "name": "stdin",
     "output_type": "stream",
     "text": [
      " 5\n"
     ]
    },
    {
     "data": {
      "text/plain": [
       "120"
      ]
     },
     "execution_count": 2,
     "metadata": {},
     "output_type": "execute_result"
    }
   ],
   "source": [
    "def vishal(n):\n",
    "    if n == 0 or n == 1:\n",
    "        return 1\n",
    "    else:\n",
    "        return n*vishal(n-1)\n",
    "n = int(input())\n",
    "vishal(n)"
   ]
  },
  {
   "cell_type": "markdown",
   "id": "8ae218d4-b4ee-4ada-8be4-15fdcbb3e236",
   "metadata": {},
   "source": [
    "3 . Create a recursive Python function to find the nth Fibonacci number.\n"
   ]
  },
  {
   "cell_type": "code",
   "execution_count": 42,
   "id": "3c3b2b7f-8bb0-41eb-8c97-9b0366a4d839",
   "metadata": {},
   "outputs": [
    {
     "name": "stdin",
     "output_type": "stream",
     "text": [
      "Enter the value of n:  7\n"
     ]
    },
    {
     "name": "stdout",
     "output_type": "stream",
     "text": [
      "The 7th Fibonacci number is: 8\n"
     ]
    }
   ],
   "source": [
    "def fibonacci(n):\n",
    "    if n <= 0:\n",
    "        return None  \n",
    "    elif n == 1:\n",
    "        return 0 \n",
    "    elif n == 2:\n",
    "        return 1 \n",
    "    else:\n",
    "        return fibonacci(n - 1) + fibonacci(n - 2)\n",
    "n = int(input(\"Enter the value of n: \"))\n",
    "result = fibonacci(n)\n",
    "if result is not None:\n",
    "    print(f\"The {n}th Fibonacci number is: {result}\")\n",
    "else:\n",
    "    print(\"Invalid input. Please enter a positive integer.\")\n"
   ]
  },
  {
   "cell_type": "markdown",
   "id": "883f03b6-983c-4c46-9402-8e36b0146caa",
   "metadata": {},
   "source": [
    "How can you prevent a recursive function from running indefinitely, causing a stack overflow error?"
   ]
  },
  {
   "cell_type": "markdown",
   "id": "b75f058f-48e0-423b-939d-ddbf3faad107",
   "metadata": {},
   "source": [
    "Base Cases: Ensure that your recursive function has one or more base cases that define when the recursion should stop. Base cases are the conditions under which the function returns a result without making further recursive calls. These base cases act as termination conditions.\n",
    "\n",
    "Progress Toward Base Cases: Ensure that, within each recursive call, you are making progress toward one or more of the base cases. In other words, the input values should change in a way that eventually leads to reaching the base cases."
   ]
  },
  {
   "cell_type": "markdown",
   "id": "f64664c7-d6cb-4e7a-8829-b583e50d991a",
   "metadata": {},
   "source": [
    "6. Create a recursive Python function to find the greatest common divisor (GCD) of two numbers using the Euclidean algorithm."
   ]
  },
  {
   "cell_type": "code",
   "execution_count": 44,
   "id": "5bd2ffe0-c06f-4d0b-8d59-0afdae7dc6ec",
   "metadata": {},
   "outputs": [
    {
     "name": "stdin",
     "output_type": "stream",
     "text": [
      "Enter the first number:  4\n",
      "Enter the second number:  18\n"
     ]
    },
    {
     "name": "stdout",
     "output_type": "stream",
     "text": [
      "The GCD of 4 and 18 is: 2\n"
     ]
    }
   ],
   "source": [
    "def gcd(a, b):\n",
    "    if b == 0:\n",
    "        return a \n",
    "    else:\n",
    "        return gcd(b, a % b)\n",
    "\n",
    "\n",
    "num1 = int(input(\"Enter the first number: \"))\n",
    "num2 = int(input(\"Enter the second number: \"))\n",
    "\n",
    "result = gcd(num1, num2)\n",
    "print(f\"The GCD of {num1} and {num2} is: {result}\")\n"
   ]
  },
  {
   "cell_type": "markdown",
   "id": "f0f09fd5-4e89-48d2-8656-4126b5578214",
   "metadata": {},
   "source": [
    "7. Write a recursive Python function to reverse a string"
   ]
  },
  {
   "cell_type": "code",
   "execution_count": 4,
   "id": "ca3da4d4-4ce6-44f9-80d5-8de9af076791",
   "metadata": {},
   "outputs": [
    {
     "name": "stdout",
     "output_type": "stream",
     "text": [
      "Original String: Hello, World!\n",
      "Reversed String: !dlroW ,olleH\n"
     ]
    }
   ],
   "source": [
    "def reverse_string(input_str):\n",
    "    if len(input_str) <= 1:\n",
    "        return input_str\n",
    "    \n",
    "    return reverse_string(input_str[1:]) + input_str[0]\n",
    "\n",
    "original_str = \"Hello, World!\"\n",
    "reversed_str = reverse_string(original_str)\n",
    "print(\"Original String:\", original_str)\n",
    "print(\"Reversed String:\", reversed_str)\n"
   ]
  },
  {
   "cell_type": "markdown",
   "id": "ee0c8ff3-3d8f-4cf5-9d32-b590b60bcf2e",
   "metadata": {},
   "source": [
    "8. Create a recursive Python function to calculate the power of a number (x^n).\n"
   ]
  },
  {
   "cell_type": "code",
   "execution_count": 5,
   "id": "51ccd0b3-9919-44c7-a486-48382bfda7ab",
   "metadata": {},
   "outputs": [
    {
     "name": "stdout",
     "output_type": "stream",
     "text": [
      "2^5 = 32\n"
     ]
    }
   ],
   "source": [
    "def power(x, n):\n",
    "    if n == 0:\n",
    "        return 1\n",
    "\n",
    "    return x * power(x, n - 1)\n",
    "\n",
    "# Test the function\n",
    "base = 2\n",
    "exponent = 5\n",
    "result = power(base, exponent)\n",
    "print(f\"{base}^{exponent} = {result}\")\n"
   ]
  },
  {
   "cell_type": "markdown",
   "id": "8daae781-5c8b-4b83-9bb4-412e6e8c4a7d",
   "metadata": {},
   "source": [
    "9.Write a recursive Python function to find all permutations of a given string.\n"
   ]
  },
  {
   "cell_type": "code",
   "execution_count": 7,
   "id": "b9e96a9d-9715-4bab-b9c5-b2e46987c101",
   "metadata": {},
   "outputs": [
    {
     "name": "stdout",
     "output_type": "stream",
     "text": [
      "abc\n",
      "bac\n",
      "bca\n",
      "acb\n",
      "cab\n",
      "cba\n"
     ]
    }
   ],
   "source": [
    "def get_permutations(input_str):\n",
    "    if len(input_str) == 0:\n",
    "        return ['']\n",
    "\n",
    "    char = input_str[0]\n",
    "    remaining_str = input_str[1:]\n",
    "    smaller_permutations = get_permutations(remaining_str)\n",
    "\n",
    "    permutations = []\n",
    "    for small_permutation in smaller_permutations:\n",
    "        for i in range(len(small_permutation) + 1):\n",
    "            new_permutation = small_permutation[:i] + char + small_permutation[i:]\n",
    "            permutations.append(new_permutation)\n",
    "\n",
    "    return permutations\n",
    "\n",
    "# Test the function\n",
    "input_string = \"abc\"\n",
    "result = get_permutations(input_string)\n",
    "for permutation in result:\n",
    "    print(permutation)\n"
   ]
  },
  {
   "cell_type": "markdown",
   "id": "d7dcdf2e-f7d1-4463-b567-9d477437bde7",
   "metadata": {},
   "source": [
    "10. Write a recursive Python function to check if a string is a palindrome.\n"
   ]
  },
  {
   "cell_type": "code",
   "execution_count": 8,
   "id": "49dd2ba0-5b4c-4359-8d47-650650b26398",
   "metadata": {},
   "outputs": [
    {
     "name": "stdout",
     "output_type": "stream",
     "text": [
      "'racecar' is a palindrome.\n"
     ]
    }
   ],
   "source": [
    "def is_palindrome(s):\n",
    "    if len(s) <= 1:\n",
    "        return True\n",
    "    if s[0] == s[-1]:\n",
    "        return is_palindrome(s[1:-1])\n",
    "    else:\n",
    "        return False\n",
    "\n",
    "# Test the function\n",
    "input_str = \"racecar\"\n",
    "if is_palindrome(input_str):\n",
    "    print(f\"'{input_str}' is a palindrome.\")\n",
    "else:\n",
    "    print(f\"'{input_str}' is not a palindrome.\")\n"
   ]
  },
  {
   "cell_type": "markdown",
   "id": "cbf8a47c-6b32-47b9-ae42-247b87e4052d",
   "metadata": {},
   "source": [
    "11. Create a recursive Python function to generate all possible combinations of a list of elements."
   ]
  },
  {
   "cell_type": "code",
   "execution_count": 9,
   "id": "14cc5a40-abae-4cda-aec8-180f7e300446",
   "metadata": {},
   "outputs": [
    {
     "name": "stdout",
     "output_type": "stream",
     "text": [
      "[]\n",
      "[1]\n",
      "[2]\n",
      "[1, 2]\n",
      "[3]\n",
      "[1, 3]\n",
      "[2, 3]\n",
      "[1, 2, 3]\n"
     ]
    }
   ],
   "source": [
    "def generate_combinations(elements):\n",
    "    if len(elements) == 0:\n",
    "        return [[]]\n",
    "\n",
    "    first_element = elements[0]\n",
    "    remaining_elements = elements[1:]\n",
    "    smaller_combinations = generate_combinations(remaining_elements)\n",
    "\n",
    "    combinations = []\n",
    "    for combination in smaller_combinations:\n",
    "        combinations.append(combination)\n",
    "        combinations.append([first_element] + combination)\n",
    "\n",
    "    return combinations\n",
    "\n",
    "# Test the function\n",
    "input_list = [1, 2, 3]\n",
    "result = generate_combinations(input_list)\n",
    "for combination in result:\n",
    "    print(combination)\n"
   ]
  },
  {
   "cell_type": "markdown",
   "id": "72e6acc9-cb90-4d95-97b7-26411c9b4b17",
   "metadata": {},
   "source": [
    "# Basics of Functions:"
   ]
  },
  {
   "cell_type": "markdown",
   "id": "48d53298-ebf8-4e0e-96a3-33f10fc3a523",
   "metadata": {},
   "source": [
    "1 . What is a function in Python, and why is it used?"
   ]
  },
  {
   "cell_type": "markdown",
   "id": "a3d96774-baf1-476f-9d19-08fe9b739e1f",
   "metadata": {},
   "source": [
    "\n",
    "In Python, a function is a named block of reusable code that performs a specific task or set of tasks. Functions are a fundamental concept in programming and serve several important purposes:\n",
    "Functions allow you to break down a program into smaller, more manageable pieces.\n",
    "Functions provide a level of abstraction. When you call a function, you don't need to know the details of how it works internally.\n",
    "Functions improve the readability of your code by giving meaningful names to blocks of code."
   ]
  },
  {
   "cell_type": "code",
   "execution_count": 53,
   "id": "6fd58754-91fe-4cdf-b507-2ae519e5bbc3",
   "metadata": {},
   "outputs": [
    {
     "name": "stdout",
     "output_type": "stream",
     "text": [
      "Hello, Alice!\n"
     ]
    }
   ],
   "source": [
    "def greet(name):\n",
    "    \"\"\"\n",
    "    This function greets a person by name.\n",
    "    \"\"\"\n",
    "    print(f\"Hello, {name}!\")\n",
    "\n",
    "# Calling the function\n",
    "greet(\"Alice\")\n"
   ]
  },
  {
   "cell_type": "markdown",
   "id": "f117ed02-bba1-4d27-928f-1fdcef66d373",
   "metadata": {},
   "source": [
    "2.How do you define a function in Python? Provide an example."
   ]
  },
  {
   "cell_type": "markdown",
   "id": "8921243b-7e15-4a38-8527-e260ca066088",
   "metadata": {},
   "source": [
    "you can define a function using the def keyword followed by the function name, a pair of parentheses ( ), and a colon :. The function's code block is indented beneath the def statement. Here's the basic syntax for defining a function:"
   ]
  },
  {
   "cell_type": "code",
   "execution_count": 54,
   "id": "c638b8d5-30d2-4021-beb9-f5b8938bf5e2",
   "metadata": {},
   "outputs": [
    {
     "name": "stdout",
     "output_type": "stream",
     "text": [
      "Hello, Alice!\n"
     ]
    }
   ],
   "source": [
    "def greet(name):\n",
    "    \"\"\"\n",
    "    This function greets a person by name.\n",
    "    \"\"\"\n",
    "    print(f\"Hello, {name}!\")\n",
    "\n",
    "# Calling the function\n",
    "greet(\"Alice\")\n"
   ]
  },
  {
   "cell_type": "markdown",
   "id": "1ceef371-f97b-4602-ba76-e57abb787d13",
   "metadata": {},
   "source": [
    "3. Explain the difference between a function definition and a function call."
   ]
  },
  {
   "cell_type": "markdown",
   "id": "13e553c7-7b7f-4578-b634-3d1085a6e75c",
   "metadata": {},
   "source": [
    " A function definition is the creation of a named block of reusable code that specifies what the function does and how it does it. It defines the structure and behavior of the function."
   ]
  },
  {
   "cell_type": "code",
   "execution_count": 55,
   "id": "deac3e86-14c7-4c3f-a773-1bae2dca1d6e",
   "metadata": {},
   "outputs": [],
   "source": [
    "def add_numbers(a, b):\n",
    "    \"\"\"\n",
    "    This function adds two numbers and returns the result.\n",
    "    \"\"\"\n",
    "    result = a + b\n",
    "    return result\n"
   ]
  },
  {
   "cell_type": "markdown",
   "id": "abf353a2-b5be-431c-977a-f11bcf932e5e",
   "metadata": {},
   "source": [
    "A function call is the act of using the defined function in your code to perform a specific task or calculation. It invokes the function and executes its code with the provided arguments (if any)."
   ]
  },
  {
   "cell_type": "code",
   "execution_count": 57,
   "id": "01456afe-cc67-4906-967e-9c4e2d661999",
   "metadata": {},
   "outputs": [
    {
     "data": {
      "text/plain": [
       "8"
      ]
     },
     "execution_count": 57,
     "metadata": {},
     "output_type": "execute_result"
    }
   ],
   "source": [
    "result = add_numbers(5, 3)\n",
    "result"
   ]
  },
  {
   "cell_type": "markdown",
   "id": "9064055c-61d0-48d9-9b3c-89c1d7bba2f5",
   "metadata": {},
   "source": [
    "4. Write a Python program that defines a function to calculate the sum of two numbers and then calls the function."
   ]
  },
  {
   "cell_type": "code",
   "execution_count": 60,
   "id": "3e800de2-848c-4aba-97fb-adc7111b9bb3",
   "metadata": {},
   "outputs": [
    {
     "data": {
      "text/plain": [
       "6"
      ]
     },
     "execution_count": 60,
     "metadata": {},
     "output_type": "execute_result"
    }
   ],
   "source": [
    "def sumn1(a,b):\n",
    "    return a+b\n",
    "sumn1(2,4)"
   ]
  },
  {
   "cell_type": "markdown",
   "id": "fd6d103e-fca5-4984-9c30-9283e1d4b3a0",
   "metadata": {},
   "source": [
    "5. What is a function signature, and what information does it typically include?"
   ]
  },
  {
   "cell_type": "markdown",
   "id": "086b0b56-9769-4b08-b9be-32637be9fd24",
   "metadata": {},
   "source": [
    "\n",
    "A function signature, also known as a function declaration or function prototype, is a critical part of defining a function in programming. It provides essential information about the function without detailing its implementation. A function signature typically includes the following information:\n",
    "Function Name: This is the name of the function, which should follow naming conventions and provide a clear indication of the function's purpose.\n",
    "Parameter List: The parameter list, also known as the parameter signature, includes the names and data types of the parameters (inputs) that the function expects."
   ]
  },
  {
   "cell_type": "markdown",
   "id": "e865f9fe-8b8a-4773-bb40-75a1a7ac6898",
   "metadata": {},
   "source": [
    "6. Create a Python function that takes two arguments and returns their product."
   ]
  },
  {
   "cell_type": "code",
   "execution_count": 61,
   "id": "e2852814-526e-447f-a5d6-c016d9e3ed8f",
   "metadata": {},
   "outputs": [
    {
     "data": {
      "text/plain": [
       "12"
      ]
     },
     "execution_count": 61,
     "metadata": {},
     "output_type": "execute_result"
    }
   ],
   "source": [
    "def product(a,b):\n",
    "    return a*b\n",
    "product(3,4)"
   ]
  },
  {
   "cell_type": "markdown",
   "id": "c9027a47-4010-43af-9e85-02173d22cff1",
   "metadata": {},
   "source": [
    "# Function Parameters and Arguments:"
   ]
  },
  {
   "cell_type": "markdown",
   "id": "f0fc9d0e-0d8e-47a4-a31a-8e7c1e0250a4",
   "metadata": {},
   "source": [
    "1. Explain the concepts of formal parameters and actual arguments in Python functions.\n"
   ]
  },
  {
   "cell_type": "markdown",
   "id": "53da5ab2-a168-4fd4-8d01-a3c881d9a374",
   "metadata": {},
   "source": [
    "Formal parameters, also known as formal arguments or parameters, are placeholders used in the function definition to specify what kind of input the function expects. These parameters are listed within the parentheses of the function's definition."
   ]
  },
  {
   "cell_type": "code",
   "execution_count": 62,
   "id": "4aebe1a5-fae6-4378-a8bb-a38e21179ab3",
   "metadata": {},
   "outputs": [],
   "source": [
    "def greet(name, age):\n",
    "    print(f\"Hello, {name}! You are {age} years old.\")\n"
   ]
  },
  {
   "cell_type": "markdown",
   "id": "96f51bb5-6ddd-4cf8-9038-a1c371b98759",
   "metadata": {},
   "source": [
    "Actual arguments, also known as actual parameters or arguments, are the real values or expressions that are provided when calling a function. These arguments are passed to the function during its invocation, and they correspond to the formal parameters defined in the function signature."
   ]
  },
  {
   "cell_type": "code",
   "execution_count": 63,
   "id": "bd3ca958-cc5b-47ba-83f3-c6fa9045a532",
   "metadata": {},
   "outputs": [
    {
     "name": "stdout",
     "output_type": "stream",
     "text": [
      "Hello, Alice! You are 25 years old.\n"
     ]
    }
   ],
   "source": [
    "greet(\"Alice\", 25)\n"
   ]
  },
  {
   "cell_type": "markdown",
   "id": "c694d238-8eaa-42ab-b27f-88d03df58a33",
   "metadata": {},
   "source": [
    "2. Write a Python program that defines a function with default argument values."
   ]
  },
  {
   "cell_type": "markdown",
   "id": "bbe9d8f7-8842-4198-a632-bdbeccd97d6f",
   "metadata": {},
   "source": [
    "you can define a python function with default argument valuess by providing default values for one or more parameter in the function signature "
   ]
  },
  {
   "cell_type": "code",
   "execution_count": 65,
   "id": "7c9670fd-647d-4e56-a66a-35bb7745cf5c",
   "metadata": {},
   "outputs": [
    {
     "name": "stdout",
     "output_type": "stream",
     "text": [
      "Hello, Alice!\n",
      "Hi there, Bob!\n"
     ]
    }
   ],
   "source": [
    "def greet(name, greeting=\"Hello\"):\n",
    "    \"\"\"\n",
    "    This function greets a person with a default greeting.\n",
    "    \"\"\"\n",
    "    print(f\"{greeting}, {name}!\")\n",
    "\n",
    "greet(\"Alice\")        \n",
    "greet(\"Bob\", \"Hi there\")"
   ]
  },
  {
   "cell_type": "markdown",
   "id": "184eb02d-77c1-4702-942a-814177081da6",
   "metadata": {},
   "source": [
    "3. How do you use keyword arguments in Python function calls? Provide an example."
   ]
  },
  {
   "cell_type": "markdown",
   "id": "aa429901-04dc-4aac-9d4f-211239461185",
   "metadata": {},
   "source": [
    "In Python, you can use keyword arguments to specify arguments by their parameter names when calling a function. This allows you to provide arguments out of order, making your function calls more explicit and readable. Here's an example:"
   ]
  },
  {
   "cell_type": "code",
   "execution_count": 69,
   "id": "cb68e17e-a3dd-47e4-8a7b-b61a2722b2a4",
   "metadata": {},
   "outputs": [
    {
     "name": "stdout",
     "output_type": "stream",
     "text": [
      "{'first_name': 'Alice', 'last_name': 'Smith', 'age': 30}\n",
      "{'first_name': 'Bob', 'last_name': 'Johnson', 'age': 25}\n"
     ]
    }
   ],
   "source": [
    "def create_person(first_name, last_name, age):\n",
    "    \"\"\"\n",
    "    This function creates a person dictionary with first name, last name, and age.\n",
    "    \"\"\"\n",
    "    person = {\n",
    "        \"first_name\": first_name,\n",
    "        \"last_name\": last_name,\n",
    "        \"age\": age\n",
    "    }\n",
    "    return person\n",
    "\n",
    "# Using keyword arguments to call the function\n",
    "person1 = create_person(first_name=\"Alice\", last_name=\"Smith\", age=30)\n",
    "person2 = create_person(last_name=\"Johnson\", first_name=\"Bob\", age=25)\n",
    "\n",
    "# Printing the created person dictionaries\n",
    "print(person1)\n",
    "print(person2)\n"
   ]
  },
  {
   "cell_type": "markdown",
   "id": "af43984a-b78f-4778-828b-2e9eb20f28d3",
   "metadata": {},
   "source": [
    "4. Create a Python function that accepts a variable number of arguments and calculates their sum."
   ]
  },
  {
   "cell_type": "code",
   "execution_count": 68,
   "id": "60e8998c-00a0-42cc-866b-9dcc0cd1a254",
   "metadata": {},
   "outputs": [
    {
     "name": "stdout",
     "output_type": "stream",
     "text": [
      "15\n"
     ]
    }
   ],
   "source": [
    "def calculate_sum(*args):\n",
    "    total = 0\n",
    "    for num in args:\n",
    "        total += num\n",
    "    return total\n",
    "\n",
    "# Example usage:\n",
    "result = calculate_sum(1, 2, 3, 4, 5)\n",
    "print(result)  # Output: 15"
   ]
  },
  {
   "cell_type": "markdown",
   "id": "0638011c-6178-4141-9bf3-f44b069a7422",
   "metadata": {},
   "source": [
    "5. What is the purpose of the `*args` and `**kwargs` syntax in function parameter lists?\n"
   ]
  },
  {
   "cell_type": "markdown",
   "id": "97a504e3-514a-4cf5-b442-ebaee303bb4f",
   "metadata": {},
   "source": [
    "*args (Arbitrary Positional Arguments):\n",
    "\n",
    "*args is used to collect an arbitrary number of positional arguments into a tuple within the function.\n",
    "It allows you to pass any number of positional arguments to a function, and they are stored in the args tuple.\n",
    "You can use *args when you don't know in advance how many arguments will be passed to the function."
   ]
  },
  {
   "cell_type": "code",
   "execution_count": 70,
   "id": "1212476a-bbcf-4ca3-a400-4f6480cd64bc",
   "metadata": {},
   "outputs": [
    {
     "name": "stdout",
     "output_type": "stream",
     "text": [
      "1\n",
      "2\n",
      "3\n"
     ]
    }
   ],
   "source": [
    "def my_function(*args):\n",
    "    for arg in args:\n",
    "        print(arg)\n",
    "\n",
    "my_function(1, 2, 3)  "
   ]
  },
  {
   "cell_type": "markdown",
   "id": "67b3eceb-160c-45d6-bfe1-4071563fe498",
   "metadata": {},
   "source": [
    "**kwargs (Arbitrary Keyword Arguments):\n",
    "\n",
    "**kwargs is used to collect an arbitrary number of keyword arguments into a dictionary within the function.\n",
    "It allows you to pass any number of keyword arguments (key-value pairs) to a function, and they are stored in the kwargs dictionary.\n",
    "You can use **kwargs when you want to provide additional named arguments to a function without explicitly defining them in the function's parameter list."
   ]
  },
  {
   "cell_type": "code",
   "execution_count": 71,
   "id": "ad189ce4-30c5-4bdc-a42d-5e27d2007a77",
   "metadata": {},
   "outputs": [
    {
     "name": "stdout",
     "output_type": "stream",
     "text": [
      "name: Alice\n",
      "age: 30\n",
      "city: New York\n"
     ]
    }
   ],
   "source": [
    "def print_info(**kwargs):\n",
    "    for key, value in kwargs.items():\n",
    "        print(f\"{key}: {value}\")\n",
    "\n",
    "print_info(name=\"Alice\", age=30, city=\"New York\")"
   ]
  },
  {
   "cell_type": "markdown",
   "id": "426b4e53-67d2-4289-ab05-bdd83e2fef02",
   "metadata": {},
   "source": [
    "# Return Values and Scoping:"
   ]
  },
  {
   "cell_type": "markdown",
   "id": "03cae3a2-f7ef-4e3f-a4f1-41065ecb078e",
   "metadata": {},
   "source": [
    "1. Describe the role of the `return` statement in Python functions and provide examples."
   ]
  },
  {
   "cell_type": "markdown",
   "id": "214379f1-2691-4825-a994-84471030f044",
   "metadata": {},
   "source": [
    "The most common use of the return statement is to return a single value from a function. This value can be of any data type, including numbers, strings, lists, dictionaries, or even custom objects.\n",
    "return can be used to exit a function early based on a condition. When the return statement is encountered, the function exits immediately, even if there's more code below it."
   ]
  },
  {
   "cell_type": "code",
   "execution_count": 72,
   "id": "49589848-c653-4edc-aefd-74bd6f4179ec",
   "metadata": {},
   "outputs": [],
   "source": [
    "def divide(a, b):\n",
    "    if b == 0:\n",
    "        return \"Cannot divide by zero\"\n",
    "    return a / b\n",
    "\n",
    "result = divide(10, 2)  # Result is 5.0\n"
   ]
  },
  {
   "cell_type": "markdown",
   "id": "8e129642-ca55-4d9d-9e6c-6e805d4b7bba",
   "metadata": {},
   "source": [
    "2. Explain the concept of variable scope in Python, including local and global variables.\n"
   ]
  },
  {
   "cell_type": "markdown",
   "id": "149d0910-289e-42bc-9a04-2abfa9968bf3",
   "metadata": {},
   "source": [
    "Local variables are defined inside a function and can only be accessed from within that function.\n",
    "They have a limited lifespan, and their scope is limited to the function in which they are defined. Once the function finishes executing, the local variables are destroyed."
   ]
  },
  {
   "cell_type": "code",
   "execution_count": 74,
   "id": "8040de55-75a5-462a-80aa-c2dce386b9bf",
   "metadata": {},
   "outputs": [
    {
     "name": "stdout",
     "output_type": "stream",
     "text": [
      "10\n"
     ]
    }
   ],
   "source": [
    "def my_function():\n",
    "    x = 10  #\n",
    "    print(x)\n",
    "\n",
    "my_function() \n",
    "# print(x)  # Raises a NameError because 'x' is not defined in the global scope\n"
   ]
  },
  {
   "cell_type": "markdown",
   "id": "49f54cee-32a3-44a9-be87-aa16dd70269c",
   "metadata": {},
   "source": [
    "Global variables are defined outside of any function, at the top level of a script or module. They are accessible from anywhere in the code, both inside and outside functions.\n",
    "Global variables have a longer lifespan, and their value persists throughout the program's execution.\n",
    "It's important to note that if you want to modify the value of a global variable from within a function, you need to use the global keyword to indicate that you are referring to the global variable, rather than creating a new local variable with the same name."
   ]
  },
  {
   "cell_type": "code",
   "execution_count": 75,
   "id": "7e76ac2b-91da-49af-9ec6-35dc1ab3c2d2",
   "metadata": {},
   "outputs": [
    {
     "name": "stdout",
     "output_type": "stream",
     "text": [
      "20\n"
     ]
    }
   ],
   "source": [
    "x = 10  # This is a global variable\n",
    "\n",
    "def my_function():\n",
    "    global x\n",
    "    x = 20  # This modifies the global variable 'x'\n",
    "\n",
    "my_function()\n",
    "print(x)  # Output: 20\n"
   ]
  },
  {
   "cell_type": "markdown",
   "id": "a060b9c7-18b5-404f-89f2-8c190dea7226",
   "metadata": {},
   "source": [
    "3. Write a Python program that demonstrates the use of global variables within functions."
   ]
  },
  {
   "cell_type": "code",
   "execution_count": 76,
   "id": "73f28d94-fd5f-4d71-9a55-dd1eaddda682",
   "metadata": {},
   "outputs": [
    {
     "name": "stdout",
     "output_type": "stream",
     "text": [
      "Global variable: 10\n",
      "Global variable: 15\n"
     ]
    }
   ],
   "source": [
    "global_var = 10\n",
    "def modify_global_variable():\n",
    "    global global_var  # Indicate that we want to use the global variable\n",
    "    global_var += 5\n",
    "    \n",
    "def access_global_variable():\n",
    "    print(\"Global variable:\", global_var)\n",
    "\n",
    "access_global_variable()  # Initial value: 10\n",
    "\n",
    "modify_global_variable()  # Modify the global variable\n",
    "\n",
    "access_global_variable()  # Updated value: 15\n"
   ]
  },
  {
   "cell_type": "markdown",
   "id": "d339fe3f-e379-4bac-8285-00f7468f65d9",
   "metadata": {},
   "source": [
    "4. Create a Python function that calculates the factorial of a number and returns it.\n"
   ]
  },
  {
   "cell_type": "code",
   "execution_count": 84,
   "id": "98bc890f-406d-4cff-b163-fc5680bd9a52",
   "metadata": {},
   "outputs": [
    {
     "data": {
      "text/plain": [
       "24"
      ]
     },
     "execution_count": 84,
     "metadata": {},
     "output_type": "execute_result"
    }
   ],
   "source": [
    "def vishal(n):\n",
    "    if n == 0 or n== 1:\n",
    "        return 1\n",
    "    else:\n",
    "        return n*vishal(n-1)\n",
    "result = vishal(4)    \n",
    "result"
   ]
  },
  {
   "cell_type": "markdown",
   "id": "66f7faf9-9f15-40fe-9b38-6785de355e48",
   "metadata": {},
   "source": [
    "5. How can you access variables defined outside a function from within the function?"
   ]
  },
  {
   "cell_type": "markdown",
   "id": "19d1daee-c2f3-4dcd-bf65-e78c77318727",
   "metadata": {},
   "source": [
    "Variables defined outside of all functions are considered global variables.\n",
    "You can access global variables directly from within any function without any additional keywords.\n",
    "If you want to modify a global variable from within a function, you need to use the global keyword to indicate that you are referring to the global variable rather than creating a new local variable with the same name."
   ]
  },
  {
   "cell_type": "code",
   "execution_count": 86,
   "id": "2d58ceab-320b-4603-910b-baefa529e2d3",
   "metadata": {},
   "outputs": [
    {
     "name": "stdout",
     "output_type": "stream",
     "text": [
      "Global variable: 10\n",
      "Global variable: 15\n"
     ]
    }
   ],
   "source": [
    "global_var = 10\n",
    "\n",
    "def access_global_variable():\n",
    "    print(\"Global variable:\", global_var)\n",
    "\n",
    "def modify_global_variable():\n",
    "    global global_var\n",
    "    global_var += 5\n",
    "\n",
    "access_global_variable()\n",
    "modify_global_variable() \n",
    "access_global_variable() \n"
   ]
  },
  {
   "cell_type": "markdown",
   "id": "6e848260-1c30-4455-a44c-2672ca6fadcb",
   "metadata": {},
   "source": [
    "In the case of nested functions, an inner function can access variables from the outer (enclosing) function's scope.\n",
    "You can access enclosing variables directly without any additional keywords.\n",
    "If you want to modify an enclosing variable from within an inner function, you need to use the nonlocal keyword to indicate that you are referring to the enclosing variable rather than creating a new local variable with the same name."
   ]
  },
  {
   "cell_type": "code",
   "execution_count": 95,
   "id": "f715b1ef-e056-4d76-8b64-1a5ed5bda3d0",
   "metadata": {},
   "outputs": [
    {
     "name": "stdout",
     "output_type": "stream",
     "text": [
      "22\n",
      "Modified enclosing variable: 22\n"
     ]
    }
   ],
   "source": [
    "def outer_function():\n",
    "    outer_var = 10\n",
    "\n",
    "    def inner_function():\n",
    "            nonlocal outer_var\n",
    "            outer_var +=12\n",
    "            print(outer_var)  \n",
    "\n",
    "    inner_function()\n",
    "    print(\"Modified enclosing variable:\", outer_var)\n",
    "\n",
    "outer_function()\n"
   ]
  },
  {
   "cell_type": "markdown",
   "id": "2969853b-d3e7-4905-b613-7e03d738cb35",
   "metadata": {},
   "source": [
    "## Lambda Functions and Higher-Order Functions:\n"
   ]
  },
  {
   "cell_type": "markdown",
   "id": "9103b5f4-66e1-4a29-9833-251ec8064d7e",
   "metadata": {},
   "source": [
    "1. What are lambda functions in Python, and when are they typically used?"
   ]
  },
  {
   "cell_type": "markdown",
   "id": "4b4b9f2e-e0d1-4419-bab9-b4041f5f68c1",
   "metadata": {},
   "source": [
    "lambda function is also know as anonymous function or lambda expressions , are a feature in python that allows you to create small , unnamed and inline function. these funbction are typically used for simple, one-operation where defining a full function using def keyword would be unnecessary"
   ]
  },
  {
   "cell_type": "code",
   "execution_count": 99,
   "id": "10f0376a-2ef4-4dbd-a799-0bca00a95354",
   "metadata": {},
   "outputs": [
    {
     "data": {
      "text/plain": [
       "6"
      ]
     },
     "execution_count": 99,
     "metadata": {},
     "output_type": "execute_result"
    }
   ],
   "source": [
    "add = lambda x,y : x+y\n",
    "add(2,4)"
   ]
  },
  {
   "cell_type": "markdown",
   "id": "f78c6cdb-dbae-4528-aadf-33d21c688e7c",
   "metadata": {},
   "source": [
    "lambda function are used in function programing , sorting , filter callbackand other way also "
   ]
  },
  {
   "cell_type": "markdown",
   "id": "f2071baa-1d43-4656-9589-0b78f3dc7858",
   "metadata": {},
   "source": [
    "2. Write a Python program that uses lambda functions to sort a list of tuples based on the second element."
   ]
  },
  {
   "cell_type": "code",
   "execution_count": 103,
   "id": "43e064e6-7ca7-4c70-bf8f-6f49d03cdbc6",
   "metadata": {},
   "outputs": [
    {
     "name": "stdout",
     "output_type": "stream",
     "text": [
      "[('Bob', 18), ('Charlie', 20), ('Alice', 22), ('David', 25)]\n"
     ]
    }
   ],
   "source": [
    "students = [(\"Alice\", 22), (\"Bob\", 18), (\"Charlie\", 20), (\"David\", 25)]\n",
    "element = sorted(students,key=lambda x: x[1])\n",
    "print(element)"
   ]
  },
  {
   "cell_type": "markdown",
   "id": "7a8752e3-2fd3-4978-9822-f5c598827f56",
   "metadata": {},
   "source": [
    "3. Explain the concept of higher-order functions in Python, and provide an example.\n"
   ]
  },
  {
   "cell_type": "markdown",
   "id": "eaf9ab04-d7ea-4432-af3b-c31fae21ea61",
   "metadata": {},
   "source": [
    " higher-order function is a function that can accept one or more functions as arguments, return a function as its result, or both"
   ]
  },
  {
   "cell_type": "markdown",
   "id": "3ae20ea7-f1a6-4865-ac47-50100a488a43",
   "metadata": {},
   "source": [
    " In other words, it treats functions as first-class citizens, allowing you to use them as data, pass them around, and manipulate them like any other variable."
   ]
  },
  {
   "cell_type": "code",
   "execution_count": 105,
   "id": "0b84a166-b113-41b0-b319-618777b589fe",
   "metadata": {},
   "outputs": [
    {
     "data": {
      "text/plain": [
       "25"
      ]
     },
     "execution_count": 105,
     "metadata": {},
     "output_type": "execute_result"
    }
   ],
   "source": [
    "def apply(func, x):\n",
    "    return func(x)\n",
    "\n",
    "def square(x):\n",
    "    return x ** 2\n",
    "\n",
    "result = apply(square, 5) \n",
    "result"
   ]
  },
  {
   "cell_type": "code",
   "execution_count": 106,
   "id": "984c37eb-823c-40d3-b035-941644b62216",
   "metadata": {},
   "outputs": [
    {
     "data": {
      "text/plain": [
       "10"
      ]
     },
     "execution_count": 106,
     "metadata": {},
     "output_type": "execute_result"
    }
   ],
   "source": [
    "def multiplier(factor):\n",
    "    def multiply(x):\n",
    "        return x * factor\n",
    "    return multiply\n",
    "\n",
    "double = multiplier(2) \n",
    "result = double(5)  \n",
    "result"
   ]
  },
  {
   "cell_type": "markdown",
   "id": "16eb6d53-e6c8-467a-aea3-7adba347295d",
   "metadata": {},
   "source": [
    "4. Create a Python function that takes a list of numbers and a function as arguments, applying the function to each element in the list."
   ]
  },
  {
   "cell_type": "code",
   "execution_count": 107,
   "id": "82abd66a-7e6f-4c11-b5bf-a7566f1352d6",
   "metadata": {},
   "outputs": [
    {
     "name": "stdout",
     "output_type": "stream",
     "text": [
      "[1, 4, 9, 16, 25]\n"
     ]
    }
   ],
   "source": [
    "def apply_function_to_list(numbers, func):\n",
    "    result = []\n",
    "    for num in numbers:\n",
    "        result.append(func(num))\n",
    "    return result\n",
    "\n",
    "numbers = [1, 2, 3, 4, 5]\n",
    "\n",
    "def square(x):\n",
    "    return x ** 2\n",
    "\n",
    "squared_numbers = apply_function_to_list(numbers, square)\n",
    "print(squared_numbers)\n"
   ]
  },
  {
   "cell_type": "markdown",
   "id": "6d250f84-74f6-43d5-9323-918c295a0d40",
   "metadata": {},
   "source": [
    "## Built-in Functions:\n"
   ]
  },
  {
   "cell_type": "markdown",
   "id": "d8c6aa00-75bc-4cdf-9b86-aeb0cc5179c8",
   "metadata": {},
   "source": [
    "1. Describe the role of built-in functions like `len()`, `max()`, and `min()` in Python."
   ]
  },
  {
   "cell_type": "markdown",
   "id": "4ad78ffd-f204-47fc-aef5-7003be89cc77",
   "metadata": {},
   "source": [
    "len() - used to find length of the string,      \n",
    "max()- used to find maximum value in given data             \n",
    "min()- used to find minmum value to find data "
   ]
  },
  {
   "cell_type": "code",
   "execution_count": 110,
   "id": "c0e234e6-3df6-4b0a-9ef7-de2dde0acc3c",
   "metadata": {},
   "outputs": [
    {
     "data": {
      "text/plain": [
       "13"
      ]
     },
     "execution_count": 110,
     "metadata": {},
     "output_type": "execute_result"
    }
   ],
   "source": [
    "string = \"vishalbaraiya\"\n",
    "len(string)"
   ]
  },
  {
   "cell_type": "code",
   "execution_count": 112,
   "id": "185266b5-4ce9-4564-8a34-760785b1798d",
   "metadata": {},
   "outputs": [
    {
     "data": {
      "text/plain": [
       "13"
      ]
     },
     "execution_count": 112,
     "metadata": {},
     "output_type": "execute_result"
    }
   ],
   "source": [
    "max(12,13)"
   ]
  },
  {
   "cell_type": "code",
   "execution_count": 114,
   "id": "1c5f365d-3092-4f73-b1f6-ee2140de6cd6",
   "metadata": {},
   "outputs": [
    {
     "data": {
      "text/plain": [
       "12"
      ]
     },
     "execution_count": 114,
     "metadata": {},
     "output_type": "execute_result"
    }
   ],
   "source": [
    "min(12,13)"
   ]
  },
  {
   "cell_type": "markdown",
   "id": "71ae3a52-8204-44e2-91be-9dc88c98c21b",
   "metadata": {},
   "source": [
    "2. Write a Python program that uses the `map()` function to apply a function to each element of a list."
   ]
  },
  {
   "cell_type": "code",
   "execution_count": 115,
   "id": "a91d864a-239c-4a11-8341-726c83947151",
   "metadata": {},
   "outputs": [
    {
     "data": {
      "text/plain": [
       "[2, 4, 6, 8, 10]"
      ]
     },
     "execution_count": 115,
     "metadata": {},
     "output_type": "execute_result"
    }
   ],
   "source": [
    "def vishal(x):\n",
    "    return x*2\n",
    "list(map(vishal,[1,2,3,4,5]))"
   ]
  },
  {
   "cell_type": "markdown",
   "id": "e8461504-4218-4bae-8c05-004871fa40eb",
   "metadata": {},
   "source": [
    "3. How does the `filter()` function work in Python, and when would you use it?\n"
   ]
  },
  {
   "cell_type": "markdown",
   "id": "d4f45271-7c90-49ad-819c-ed5080c22c69",
   "metadata": {},
   "source": [
    " used for filtering elements from an iterable (such as a list, tuple, or string) based on a specified condition. It returns an iterator containing the elements for which the condition evaluates to True."
   ]
  },
  {
   "cell_type": "code",
   "execution_count": 117,
   "id": "61bb9416-bec6-4170-bc58-665830ba573e",
   "metadata": {},
   "outputs": [
    {
     "data": {
      "text/plain": [
       "[23, 78]"
      ]
     },
     "execution_count": 117,
     "metadata": {},
     "output_type": "execute_result"
    }
   ],
   "source": [
    "def vishal(x):\n",
    "    if x  >10:\n",
    "        return x\n",
    "list(filter(vishal,[10,23,1,5,7,78]))    "
   ]
  },
  {
   "cell_type": "markdown",
   "id": "b972f1c6-a292-4da6-bb58-5681051fbd20",
   "metadata": {},
   "source": [
    "4 . Create a Python program that uses the `reduce()` function to find the product of all elements in a list."
   ]
  },
  {
   "cell_type": "code",
   "execution_count": 121,
   "id": "1c4780fa-8f0e-41b4-af19-3542f7d73ec2",
   "metadata": {},
   "outputs": [
    {
     "data": {
      "text/plain": [
       "120"
      ]
     },
     "execution_count": 121,
     "metadata": {},
     "output_type": "execute_result"
    }
   ],
   "source": [
    "from functools import reduce\n",
    "def vishal(x,y):\n",
    "    return x*y\n",
    "reduce(vishal,[1,2,3,4,5])"
   ]
  },
  {
   "cell_type": "markdown",
   "id": "0409433a-1d88-46b0-82d3-c453d7bdf078",
   "metadata": {},
   "source": [
    "## Function Documentation and Best Practices:"
   ]
  },
  {
   "cell_type": "markdown",
   "id": "313d193b-d1b3-4801-9563-190ca1954edd",
   "metadata": {},
   "source": [
    "1. Explain the purpose of docstrings in Python functions and how to write them."
   ]
  },
  {
   "cell_type": "markdown",
   "id": "4dd0987c-bb6a-49a7-ab19-ca2d541a0550",
   "metadata": {},
   "source": [
    "Docstrings in Python functions serve the purpose of providing documentation and explanations about the function's purpose, behavior, input parameters, return values, and usage. They are a way to document your code and make it more understandable to other developer\n",
    "A docstring is a multi-line string that is placed immediately below the function definition or within a module, class, or method definition. Python's built-in help function and various documentation tools and libraries can access and display these docstrings, making it easier for others to understand your code."
   ]
  },
  {
   "cell_type": "code",
   "execution_count": 124,
   "id": "5e38de1b-ae45-4eba-96ae-dc7a4f86412c",
   "metadata": {},
   "outputs": [
    {
     "data": {
      "text/plain": [
       "16"
      ]
     },
     "execution_count": 124,
     "metadata": {},
     "output_type": "execute_result"
    }
   ],
   "source": [
    "def calculate_square(x):\n",
    "    \"\"\"\n",
    "    Calculate the square of a number.\n",
    "\n",
    "    This function takes a numeric input 'x' and returns the square of 'x'.\n",
    "\n",
    "    Parameters:\n",
    "    x (int or float): The input number for which the square is calculated.\n",
    "\n",
    "    Returns:\n",
    "    float: The square of 'x'.\n",
    "\n",
    "    Example:\n",
    "    >>> calculate_square(4)\n",
    "    16.0\n",
    "    >>> calculate_square(2.5)\n",
    "    6.25\n",
    "    \"\"\"\n",
    "    return x ** 2\n",
    "calculate_square(4)"
   ]
  },
  {
   "cell_type": "markdown",
   "id": "2d6fe113-572e-4d8e-9538-6f93050cee57",
   "metadata": {},
   "source": [
    "2. Describe some best practices for naming functions and variables in Python, including naming conventions and guidelines."
   ]
  },
  {
   "cell_type": "markdown",
   "id": "c46782d2-397b-4305-adee-2a67b3d1303f",
   "metadata": {},
   "source": [
    "Naming functions and variables in Python is crucial for writing clean, readable, and maintainable code\n",
    "Use Descriptive Names:\n",
    "\n",
    "Choose names that clearly and concisely describe the purpose of the function or variable.\n",
    "Avoid vague or overly generic names like data, temp, or value.\n",
    "Follow Naming Conventions:\n",
    "\n",
    "In Python, the most commonly used naming convention is called \"snake_case\" for functions and variables.\n",
    "Snake case involves using lowercase letters and separating words with underscores (_). For example: calculate_square, user_input, total_amount.\n",
    "Use Verbs for Function Names:\n",
    "\n",
    "Function names should typically be verbs or verb phrases that describe what the function does. For example: calculate, validate, print_report.\n",
    "Use Nouns for Variable Names:\n",
    "\n",
    "Variable names should typically be nouns or noun phrases that represent the data they hold. For example: customer_name, product_list, error_message.\n",
    "Be Consistent:\n",
    "\n",
    "Maintain consistency in naming throughout your codebase. Use similar naming patterns for similar concepts.\n",
    "If you start using a specific naming convention or pattern, stick with it for the entire project.\n",
    "Avoid Single-Letter or Cryptic Names:\n",
    "\n",
    "Except for loop variables (e.g., i, j, k), avoid using single-letter variable names, as they often lack context and can be confusing.\n",
    "Don't use cryptic abbreviations unless they are widely recognized and understood in your domain.\n",
    "Constants, which are variables with values that do not change, are conventionally written in uppercase letters with underscores between words (e.g., MAX_LENGTH, PI, DEFAULT_TIMEOUT).\n",
    "Use Meaningful Function Arguments:\n",
    "\n",
    "Choose meaningful names for function arguments to make the function signature self-explanatory.\n",
    "Avoid single-letter parameter names unless they are standard (e.g., x, y, i, j).\n",
    "Avoid Reserved Words:\n",
    "\n",
    "Do not use Python reserved words (e.g., if, while, for, True, False, None) as function or variable names.\n",
    "Consider PEP 8 Guidelines:\n",
    "\n",
    "PEP 8 is the Python Enhancement Proposal that provides a comprehensive style guide for Python code. It includes naming conventions and other coding style recommendations. Adhering to PEP 8 can improve code consistency and readability.\n",
    "Use Comments for Clarity:\n",
    "\n",
    "If a function or variable name alone does not fully describe its purpose or behavior, consider adding comments to provide additional context.\n",
    "Refactor When Necessary:\n",
    "\n",
    "If you find that a function or variable name is no longer appropriate or does not accurately reflect its purpose, consider renaming it to maintain clarity."
   ]
  }
 ],
 "metadata": {
  "kernelspec": {
   "display_name": "Python 3 (ipykernel)",
   "language": "python",
   "name": "python3"
  },
  "language_info": {
   "codemirror_mode": {
    "name": "ipython",
    "version": 3
   },
   "file_extension": ".py",
   "mimetype": "text/x-python",
   "name": "python",
   "nbconvert_exporter": "python",
   "pygments_lexer": "ipython3",
   "version": "3.10.8"
  }
 },
 "nbformat": 4,
 "nbformat_minor": 5
}
