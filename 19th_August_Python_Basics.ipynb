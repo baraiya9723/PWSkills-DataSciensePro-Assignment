{
 "cells": [
  {
   "cell_type": "markdown",
   "id": "f077f7dd-6778-423c-85ea-51eff7de42e5",
   "metadata": {},
   "source": [
    "# Python Basics Variable"
   ]
  },
  {
   "cell_type": "markdown",
   "id": "e2f07b99-6ed3-494f-a4da-929326746b71",
   "metadata": {},
   "source": [
    "1. Declare two variables, `x` and `y`, and assign them integer values. Swap the\n",
    "values of these variables without using any temporary variable."
   ]
  },
  {
   "cell_type": "code",
   "execution_count": 2,
   "id": "35cc5e1a-f4e2-431f-a6f0-9c1785ae2511",
   "metadata": {},
   "outputs": [
    {
     "name": "stdout",
     "output_type": "stream",
     "text": [
      "10\n",
      "12\n"
     ]
    }
   ],
   "source": [
    "x=12\n",
    "y=10\n",
    "x=x+y\n",
    "y=x-y\n",
    "x=x-y\n",
    "print(x)\n",
    "print(y)"
   ]
  },
  {
   "cell_type": "markdown",
   "id": "b905236d-e159-4790-bd4f-5e279370c3e7",
   "metadata": {},
   "source": [
    "2. Create a program that calculates the area of a rectangle. Take the length and\n",
    "width as inputs from the user and store them in variables. Calculate and\n",
    "display the area."
   ]
  },
  {
   "cell_type": "code",
   "execution_count": 6,
   "id": "751c390c-6355-4b0e-8969-c794fecf4c94",
   "metadata": {},
   "outputs": [
    {
     "name": "stdin",
     "output_type": "stream",
     "text": [
      "enter length 2\n",
      "enetr width 3\n"
     ]
    },
    {
     "name": "stdout",
     "output_type": "stream",
     "text": [
      "6\n"
     ]
    }
   ],
   "source": [
    "l = int(input(\"enter length\"))\n",
    "w = int(input(\"enetr width\"))\n",
    "area = l*w\n",
    "print(area)"
   ]
  },
  {
   "cell_type": "markdown",
   "id": "d169da39-eb89-40dd-ab6f-bcbc361824ff",
   "metadata": {},
   "source": [
    "3. Write a Python program that converts temperatures from Celsius to\n",
    "Fahrenheit. Take the temperature in Celsius as input, store it in a variable,\n",
    "convert it to Fahrenheit, and display the result."
   ]
  },
  {
   "cell_type": "code",
   "execution_count": 7,
   "id": "7d98cdc1-ea92-45ad-ba14-2abadefef8d9",
   "metadata": {},
   "outputs": [
    {
     "name": "stdin",
     "output_type": "stream",
     "text": [
      "enter temperature in celsius 12\n"
     ]
    },
    {
     "name": "stdout",
     "output_type": "stream",
     "text": [
      "56.6\n"
     ]
    }
   ],
   "source": [
    "temperatures = int(input(\"enter temperature in celsius\"))\n",
    "f = (temperatures*(9/5))+35\n",
    "print(f)"
   ]
  },
  {
   "cell_type": "markdown",
   "id": "0de2c8e6-3346-4f55-af5d-f889d9deb705",
   "metadata": {},
   "source": [
    "# String Based Questions"
   ]
  },
  {
   "cell_type": "markdown",
   "id": "0928d80f-1c86-45d9-baa9-f776e11ddc76",
   "metadata": {},
   "source": [
    "1. Write a Python program that takes a string as input and prints the length of\n",
    "the string."
   ]
  },
  {
   "cell_type": "code",
   "execution_count": 9,
   "id": "a221b136-7590-4656-b985-9fd63ea01818",
   "metadata": {},
   "outputs": [
    {
     "name": "stdin",
     "output_type": "stream",
     "text": [
      " vishal baraiya \n"
     ]
    },
    {
     "name": "stdout",
     "output_type": "stream",
     "text": [
      "15\n"
     ]
    }
   ],
   "source": [
    "s = str(input())\n",
    "print(len(s))"
   ]
  },
  {
   "cell_type": "markdown",
   "id": "83e69d37-717e-481c-acaa-3cd1571f2da2",
   "metadata": {},
   "source": [
    "2. Create a program that takes a sentence from the user and counts the number\n",
    "of vowels (a, e, i, o, u) in the string."
   ]
  },
  {
   "cell_type": "code",
   "execution_count": 11,
   "id": "2b863054-bd6c-40a3-9ae2-29853df96eb6",
   "metadata": {},
   "outputs": [
    {
     "name": "stdin",
     "output_type": "stream",
     "text": [
      " vishal kanajibhia baraiya\n"
     ]
    },
    {
     "name": "stdout",
     "output_type": "stream",
     "text": [
      "11\n"
     ]
    }
   ],
   "source": [
    "s = str (input())\n",
    "count =0\n",
    "for i in s:\n",
    "    if  i in \"aeioq\":\n",
    "        count+=1\n",
    "print(count)    "
   ]
  },
  {
   "cell_type": "markdown",
   "id": "92e9e254-2365-48fd-a9a5-1e3c492cf9df",
   "metadata": {},
   "source": [
    "3. Given a string, reverse the order of characters using string slicing and print\n",
    "the reversed string."
   ]
  },
  {
   "cell_type": "code",
   "execution_count": 13,
   "id": "e7e5496c-b15c-4561-abbe-1b19eda3cec1",
   "metadata": {},
   "outputs": [
    {
     "name": "stdin",
     "output_type": "stream",
     "text": [
      " vishal\n"
     ]
    },
    {
     "name": "stdout",
     "output_type": "stream",
     "text": [
      "lahsiv\n"
     ]
    }
   ],
   "source": [
    "s = str(input())\n",
    "print(s[::-1])"
   ]
  },
  {
   "cell_type": "markdown",
   "id": "d4af7cc0-3ec0-46b1-9cf9-00b6b2ec5c8e",
   "metadata": {},
   "source": [
    "4. Write a program that takes a string as input and checks if it is a palindrome\n",
    "(reads the same forwards and backwards)."
   ]
  },
  {
   "cell_type": "code",
   "execution_count": 18,
   "id": "cb150d57-add3-4a08-8a45-2abdcdd594b0",
   "metadata": {},
   "outputs": [
    {
     "name": "stdin",
     "output_type": "stream",
     "text": [
      " dfdsxcxz\n"
     ]
    },
    {
     "name": "stdout",
     "output_type": "stream",
     "text": [
      "not pallindrome\n"
     ]
    }
   ],
   "source": [
    "s = str(input())\n",
    "flage=0\n",
    "for i in range(int(len(s)/2)):\n",
    "    if s[i]!=s[len(s)-1-i]:\n",
    "        print(\"not pallindrome\")\n",
    "        flage=1\n",
    "        break;\n",
    "if flage == 0:\n",
    "    print(\"pallindrome\")\n",
    "    "
   ]
  },
  {
   "cell_type": "code",
   "execution_count": 23,
   "id": "41cc50a8-ef65-4362-b351-0d243d60b89a",
   "metadata": {},
   "outputs": [
    {
     "name": "stdin",
     "output_type": "stream",
     "text": [
      " nayan\n"
     ]
    },
    {
     "name": "stdout",
     "output_type": "stream",
     "text": [
      "pallindrome\n"
     ]
    }
   ],
   "source": [
    "#  other method \n",
    "s = str(input())\n",
    "if s == s[::-1]:\n",
    "    print(\"pallindrome\")\n",
    "else:\n",
    "    print(\"not pallindrome\")"
   ]
  },
  {
   "cell_type": "markdown",
   "id": "1abbcdc1-7520-45b6-8402-37455ba7048c",
   "metadata": {},
   "source": [
    "5. Create a program that takes a string as input and removes all the spaces from\n",
    "it. Print the modified string without spaces."
   ]
  },
  {
   "cell_type": "code",
   "execution_count": 25,
   "id": "340340b7-330b-4c45-8c57-39db01d6eccd",
   "metadata": {},
   "outputs": [
    {
     "name": "stdin",
     "output_type": "stream",
     "text": [
      "     vi  v\n"
     ]
    },
    {
     "name": "stdout",
     "output_type": "stream",
     "text": [
      "viv\n"
     ]
    }
   ],
   "source": [
    "s = str(input())\n",
    "s1 = ''\n",
    "for i in s:\n",
    "    if i != ' ':\n",
    "        s1+=i\n",
    "print(s1)    "
   ]
  }
 ],
 "metadata": {
  "kernelspec": {
   "display_name": "Python 3 (ipykernel)",
   "language": "python",
   "name": "python3"
  },
  "language_info": {
   "codemirror_mode": {
    "name": "ipython",
    "version": 3
   },
   "file_extension": ".py",
   "mimetype": "text/x-python",
   "name": "python",
   "nbconvert_exporter": "python",
   "pygments_lexer": "ipython3",
   "version": "3.10.8"
  }
 },
 "nbformat": 4,
 "nbformat_minor": 5
}
