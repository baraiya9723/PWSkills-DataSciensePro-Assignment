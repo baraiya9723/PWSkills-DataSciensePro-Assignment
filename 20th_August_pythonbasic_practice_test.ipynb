{
 "cells": [
  {
   "cell_type": "markdown",
   "id": "29ee1d0f-4745-4396-a796-2a32e0d44931",
   "metadata": {},
   "source": [
    "# String Based Problem \n"
   ]
  },
  {
   "cell_type": "markdown",
   "id": "b0d1fda9-030f-410c-99e0-e1409aeb9e50",
   "metadata": {},
   "source": [
    "1 write a program to reverse a string "
   ]
  },
  {
   "cell_type": "code",
   "execution_count": 8,
   "id": "3e64131a-9afb-40cc-a963-72feef7fcf21",
   "metadata": {},
   "outputs": [
    {
     "name": "stdin",
     "output_type": "stream",
     "text": [
      " dfsds\n"
     ]
    },
    {
     "name": "stdout",
     "output_type": "stream",
     "text": [
      "sdsfd\n"
     ]
    }
   ],
   "source": [
    "s = str(input())\n",
    "print(s[::-1])"
   ]
  },
  {
   "cell_type": "markdown",
   "id": "0ba9a764-5681-43f6-9f93-5d4d71b200bb",
   "metadata": {},
   "source": [
    "2. Check if a string is a palindrome."
   ]
  },
  {
   "cell_type": "code",
   "execution_count": 10,
   "id": "1f24ec78-5d32-4212-acce-4ed687518833",
   "metadata": {},
   "outputs": [
    {
     "name": "stdin",
     "output_type": "stream",
     "text": [
      " naan\n"
     ]
    },
    {
     "name": "stdout",
     "output_type": "stream",
     "text": [
      "given string is pallindrome\n"
     ]
    }
   ],
   "source": [
    "s = str(input())\n",
    "if s == s[::-1]:\n",
    "    print(\"given string is pallindrome\")\n",
    "else:\n",
    "    print(\"this is not palindrome\")\n",
    "    "
   ]
  },
  {
   "cell_type": "markdown",
   "id": "4093c316-e10e-4b7b-840f-6ad13ffb8349",
   "metadata": {},
   "source": [
    "3. Convert a string to uppercase."
   ]
  },
  {
   "cell_type": "code",
   "execution_count": 16,
   "id": "b9326dcf-fe2d-4e64-ae13-8afeadcf81b9",
   "metadata": {},
   "outputs": [
    {
     "name": "stdin",
     "output_type": "stream",
     "text": [
      " dsdsa\n"
     ]
    },
    {
     "name": "stdout",
     "output_type": "stream",
     "text": [
      "DSDSA\n"
     ]
    }
   ],
   "source": [
    "s = str(input())\n",
    "print(s.upper())"
   ]
  },
  {
   "cell_type": "markdown",
   "id": "0e19d8cc-b171-44eb-aa20-52727d527650",
   "metadata": {},
   "source": [
    "4 convert a string to lowercase "
   ]
  },
  {
   "cell_type": "code",
   "execution_count": 14,
   "id": "0350e3bb-c95f-4574-b842-612b01a414f1",
   "metadata": {},
   "outputs": [
    {
     "name": "stdin",
     "output_type": "stream",
     "text": [
      " NMK B MK\n"
     ]
    },
    {
     "name": "stdout",
     "output_type": "stream",
     "text": [
      "nmk b mk\n"
     ]
    }
   ],
   "source": [
    "s = str(input())\n",
    "print(s.lower())"
   ]
  },
  {
   "cell_type": "markdown",
   "id": "ab04e514-9875-4acd-9922-f556b59d2db6",
   "metadata": {},
   "source": [
    "5. COUNT THE NUMBER OF THE VOWELS IN A STRING "
   ]
  },
  {
   "cell_type": "code",
   "execution_count": 21,
   "id": "53c8ff58-eb32-4e10-96d3-09991cca7b07",
   "metadata": {},
   "outputs": [
    {
     "name": "stdin",
     "output_type": "stream",
     "text": [
      " vishal\n"
     ]
    },
    {
     "name": "stdout",
     "output_type": "stream",
     "text": [
      "vowel in given string is 2\n"
     ]
    }
   ],
   "source": [
    "s = str(input())\n",
    "count = 0 \n",
    "for i in s:\n",
    "    if i in \"aeiou\":\n",
    "       count =count+1\n",
    "print(\"vowel in given string is\",count)    "
   ]
  },
  {
   "cell_type": "markdown",
   "id": "6bf63a5c-90df-4d61-9192-da767972ff88",
   "metadata": {},
   "source": [
    "6. count the number of the consonants in a string"
   ]
  },
  {
   "cell_type": "code",
   "execution_count": 23,
   "id": "a6a3d51d-bad4-4f21-b17b-ebd2a2028aa1",
   "metadata": {},
   "outputs": [
    {
     "name": "stdin",
     "output_type": "stream",
     "text": [
      " vishal\n"
     ]
    },
    {
     "name": "stdout",
     "output_type": "stream",
     "text": [
      "consonants 4\n"
     ]
    }
   ],
   "source": [
    "s = str(input())\n",
    "count = 0 \n",
    "for i in s:\n",
    "    if i not in \"aeiou\":\n",
    "       count =count+1\n",
    "print(\"consonants\",count)    "
   ]
  },
  {
   "cell_type": "markdown",
   "id": "8a352ec3-0330-47dc-a411-9191cf2c50a4",
   "metadata": {},
   "source": [
    "7. Remove all whitespaces from a string."
   ]
  },
  {
   "cell_type": "code",
   "execution_count": 25,
   "id": "7e15d61e-915b-4330-8926-4a8a693058b3",
   "metadata": {},
   "outputs": [
    {
     "name": "stdin",
     "output_type": "stream",
     "text": [
      " vi vi vi \n"
     ]
    },
    {
     "name": "stdout",
     "output_type": "stream",
     "text": [
      "vivivi\n"
     ]
    }
   ],
   "source": [
    "s = str(input())\n",
    "s1 = s.replace(\" \",\"\")\n",
    "print(s1)"
   ]
  },
  {
   "cell_type": "markdown",
   "id": "1e6ef1d6-de42-46e9-93ae-7e830441a62d",
   "metadata": {},
   "source": [
    "8. find the len of the string without using the len() function "
   ]
  },
  {
   "cell_type": "code",
   "execution_count": 27,
   "id": "8b5c5420-42e1-4311-8488-0d137c730574",
   "metadata": {},
   "outputs": [
    {
     "name": "stdin",
     "output_type": "stream",
     "text": [
      " vishal\n"
     ]
    },
    {
     "name": "stdout",
     "output_type": "stream",
     "text": [
      "6\n"
     ]
    }
   ],
   "source": [
    "s = str(input())\n",
    "count =0\n",
    "for i in s:\n",
    "    count = count +1\n",
    "print(count)    "
   ]
  },
  {
   "cell_type": "markdown",
   "id": "520b518f-35d3-4655-8f3e-44a709bd597f",
   "metadata": {},
   "source": [
    "9. Check if a string contains a specific word "
   ]
  },
  {
   "cell_type": "code",
   "execution_count": 28,
   "id": "5728c2ed-12b8-4b7e-8cd7-ce5d70cdd256",
   "metadata": {},
   "outputs": [
    {
     "name": "stdout",
     "output_type": "stream",
     "text": [
      "The string contains the word 'sample'.\n"
     ]
    }
   ],
   "source": [
    "input_string = \"This is a sample sentence.\"\n",
    "specific_word = \"sample\"\n",
    "\n",
    "if specific_word in input_string:\n",
    "    print(f\"The string contains the word '{specific_word}'.\")\n",
    "else:\n",
    "    print(f\"The string does not contain the word '{specific_word}'.\")\n"
   ]
  },
  {
   "cell_type": "markdown",
   "id": "737d910a-7f3f-43d9-aef2-d041304411d4",
   "metadata": {},
   "source": [
    "10. Replace a word in a string with another word."
   ]
  },
  {
   "cell_type": "code",
   "execution_count": 29,
   "id": "ab72a15e-5e40-4814-81fd-b84038318fde",
   "metadata": {},
   "outputs": [
    {
     "name": "stdout",
     "output_type": "stream",
     "text": [
      "Hello, World! This is a example sentence.\n"
     ]
    }
   ],
   "source": [
    "input_string = \"Hello, World! This is a sample sentence.\"\n",
    "old_word = \"sample\"\n",
    "new_word = \"example\"\n",
    "output_string = input_string.replace(old_word, new_word)\n",
    "\n",
    "print(output_string)\n"
   ]
  },
  {
   "cell_type": "markdown",
   "id": "f6b2fdf4-64ce-4c8f-ab18-fa27eb56bf04",
   "metadata": {},
   "source": [
    "11. Count the occurrences of a word in a string."
   ]
  },
  {
   "cell_type": "code",
   "execution_count": 35,
   "id": "34dc463d-434f-4dec-b633-a1a5a86f3a06",
   "metadata": {},
   "outputs": [
    {
     "name": "stdout",
     "output_type": "stream",
     "text": [
      "3\n"
     ]
    }
   ],
   "source": [
    "input_string = \"This is a sample sentence. Sample is a word sample.\"\n",
    "word = \"sample\"\n",
    "print(input_string.lower().count(word))"
   ]
  },
  {
   "cell_type": "markdown",
   "id": "e3876824-2cd4-4578-af86-d6e32e605290",
   "metadata": {},
   "source": [
    "12. Find the first occurrence of a word in a string."
   ]
  },
  {
   "cell_type": "code",
   "execution_count": 36,
   "id": "62d81009-1cdc-4347-bb6a-a9e2c14392a1",
   "metadata": {},
   "outputs": [
    {
     "name": "stdout",
     "output_type": "stream",
     "text": [
      "The first occurrence of 'sample' starts at index 10.\n"
     ]
    }
   ],
   "source": [
    "input_string = \"This is a sample sentence. Sample is a word sample.\"\n",
    "word_to_find = \"sample\"\n",
    "\n",
    "position = input_string.find(word_to_find)\n",
    "\n",
    "if position != -1:\n",
    "    print(f\"The first occurrence of '{word_to_find}' starts at index {position}.\")\n",
    "else:\n",
    "    print(f\"'{word_to_find}' not found in the string.\")\n"
   ]
  },
  {
   "cell_type": "markdown",
   "id": "9717cb69-380d-4622-839c-75b0081be958",
   "metadata": {},
   "source": [
    "13. Find the last occurrence of a word in a string."
   ]
  },
  {
   "cell_type": "code",
   "execution_count": 37,
   "id": "55aaf373-4484-4ba0-b587-ac264bb26829",
   "metadata": {},
   "outputs": [
    {
     "name": "stdout",
     "output_type": "stream",
     "text": [
      "The last occurrence of 'sample' starts at index 44.\n"
     ]
    }
   ],
   "source": [
    "input_string = \"This is a sample sentence. Sample is a word sample.\"\n",
    "word_to_find = \"sample\"\n",
    "\n",
    "# Use str.rfind() to find the last occurrence\n",
    "position = input_string.rfind(word_to_find)\n",
    "\n",
    "if position != -1:\n",
    "    print(f\"The last occurrence of '{word_to_find}' starts at index {position}.\")\n",
    "else:\n",
    "    print(f\"'{word_to_find}' not found in the string.\")\n"
   ]
  },
  {
   "cell_type": "markdown",
   "id": "355e1463-bc62-4ad2-b818-35b4f9d41f7d",
   "metadata": {},
   "source": [
    "14. Split a string into a list of words."
   ]
  },
  {
   "cell_type": "code",
   "execution_count": 38,
   "id": "4a35fe4c-6ccb-4160-8f35-a34abf5ae668",
   "metadata": {},
   "outputs": [
    {
     "name": "stdout",
     "output_type": "stream",
     "text": [
      "['This', 'is', 'a', 'sample', 'sentence.', 'Sample', 'is', 'a', 'word', 'sample.']\n"
     ]
    }
   ],
   "source": [
    "input_string = \"This is a sample sentence. Sample is a word sample.\"\n",
    "print(input_string.split())"
   ]
  },
  {
   "cell_type": "markdown",
   "id": "3c196d96-5905-428c-baf1-6a987422213f",
   "metadata": {},
   "source": [
    "15. Join a list of words into a string."
   ]
  },
  {
   "cell_type": "code",
   "execution_count": 42,
   "id": "1db4a474-a15f-4dcd-886f-100e323a5336",
   "metadata": {},
   "outputs": [
    {
     "name": "stdout",
     "output_type": "stream",
     "text": [
      "Hello World Python Programming \n",
      "Hello World Python Programming\n"
     ]
    }
   ],
   "source": [
    "word_list = [\"Hello\", \"World\", \"Python\", \"Programming\"]\n",
    "result_string = \"\"\n",
    "for word in word_list:\n",
    "    result_string += word + \" \"\n",
    "print(result_string)\n",
    "#  you can directly use jion method also \n",
    "print(' '.join(word_list))"
   ]
  },
  {
   "cell_type": "markdown",
   "id": "6c7e4d9e-81ca-4b17-ab9b-f8ed8906c40f",
   "metadata": {},
   "source": [
    "16. Convert a string where words are separated by spaces to one where words\n",
    "are separated by underscores."
   ]
  },
  {
   "cell_type": "code",
   "execution_count": 3,
   "id": "1ecb3315-6fab-4ed8-a60b-eb6065cde5a8",
   "metadata": {},
   "outputs": [
    {
     "name": "stdout",
     "output_type": "stream",
     "text": [
      "hello-this-is-a-vishal-baraiya\n"
     ]
    }
   ],
   "source": [
    "vishal = \"hello this is a vishal baraiya\"\n",
    "print(vishal.replace(\" \",\"-\"))"
   ]
  },
  {
   "cell_type": "markdown",
   "id": "17634e23-8d15-4ede-8645-8efe65bd4120",
   "metadata": {},
   "source": [
    "17. Check if a string starts with a specific word or phrase."
   ]
  },
  {
   "cell_type": "code",
   "execution_count": 2,
   "id": "55ba36e4-d685-435f-a0a1-194fbcb1ec8b",
   "metadata": {},
   "outputs": [
    {
     "name": "stdout",
     "output_type": "stream",
     "text": [
      "The string starts with 'Hello'.\n"
     ]
    }
   ],
   "source": [
    "input_string = \"Hello, world! Welcome to Python.\"\n",
    "start_word = \"Hello\"\n",
    "if input_string.startswith(start_word):\n",
    "    print(f\"The string starts with '{start_word}'.\")\n",
    "else:\n",
    "    print(f\"The string does not start with '{start_word}'.\")\n"
   ]
  },
  {
   "cell_type": "code",
   "execution_count": 3,
   "id": "8d420af6-c51f-4679-890e-2390f7b771d6",
   "metadata": {},
   "outputs": [
    {
     "name": "stdout",
     "output_type": "stream",
     "text": [
      "string start with  hello\n"
     ]
    }
   ],
   "source": [
    "string = \"hello, this is a vishal baraky\"\n",
    "word = \"hello\"\n",
    "if string[:len(word)] == word:\n",
    "    print(\"string start with \",word)\n",
    "else:\n",
    "    print(\"string not start with \",word)"
   ]
  },
  {
   "cell_type": "markdown",
   "id": "e31a28aa-0d12-4fbb-8646-026e43f82c50",
   "metadata": {},
   "source": [
    "18. Check if a string ends with a specific word or phrase."
   ]
  },
  {
   "cell_type": "code",
   "execution_count": 20,
   "id": "6bfb772e-cd22-4459-8795-4f6b684f36a5",
   "metadata": {},
   "outputs": [
    {
     "name": "stdout",
     "output_type": "stream",
     "text": [
      "barak0y\n",
      "string start with  barak0y\n"
     ]
    }
   ],
   "source": [
    "string = \"hello, this is a vishal barak0y\"\n",
    "word = \"barak0y\"\n",
    "print(string[-len(word):])\n",
    "if string[-len(word):]== word:\n",
    "    print(\"string start with \",word)\n",
    "else:\n",
    "    print(\"string not start with \",word)"
   ]
  },
  {
   "cell_type": "markdown",
   "id": "0b8f9ce4-e9ad-49e2-9eae-cc5a176a5e1c",
   "metadata": {},
   "source": [
    "19. Convert a string to title case (e.g., \"hello world\" to \"Hello World\")."
   ]
  },
  {
   "cell_type": "code",
   "execution_count": 21,
   "id": "6adcaba7-ebe8-44cf-b615-0706c29991bb",
   "metadata": {},
   "outputs": [
    {
     "name": "stdout",
     "output_type": "stream",
     "text": [
      "Hello World\n"
     ]
    }
   ],
   "source": [
    "string = \"hello world\"\n",
    "print(string.title())"
   ]
  },
  {
   "cell_type": "markdown",
   "id": "548c0014-ce74-4eaf-9022-1a2af9775a89",
   "metadata": {},
   "source": [
    "20. Find the longest word in a string."
   ]
  },
  {
   "cell_type": "code",
   "execution_count": 24,
   "id": "92f5e760-9c34-430c-8458-403464e7a222",
   "metadata": {},
   "outputs": [
    {
     "name": "stdout",
     "output_type": "stream",
     "text": [
      "vishalbaraiya\n"
     ]
    }
   ],
   "source": [
    "string = \"hello this is a vishalbaraiya\"\n",
    "li1 = string.split()\n",
    "length =0\n",
    "word = \"\"\n",
    "for i in li1:\n",
    "    if len(i)>=length:\n",
    "        length = len(i)\n",
    "        word = i\n",
    "print(word)    "
   ]
  },
  {
   "cell_type": "markdown",
   "id": "a12666ae-d599-4f4c-b3e7-970aa685baa5",
   "metadata": {},
   "source": [
    "21. Find the shortest word in a string."
   ]
  },
  {
   "cell_type": "code",
   "execution_count": 27,
   "id": "3baddc6a-9d0c-4cb2-b332-e491e7fdece3",
   "metadata": {},
   "outputs": [
    {
     "name": "stdout",
     "output_type": "stream",
     "text": [
      "a\n"
     ]
    }
   ],
   "source": [
    "import math\n",
    "string = \"hello this is a vishalbaraiya\"\n",
    "li1 = string.split()\n",
    "length =math.inf\n",
    "word = \"\"\n",
    "for i in li1:\n",
    "    if len(i)<=length:\n",
    "        length = len(i)\n",
    "        word = i\n",
    "print(word)   "
   ]
  },
  {
   "cell_type": "markdown",
   "id": "fffa9411-9794-453f-a875-44a820ef20f0",
   "metadata": {},
   "source": [
    "22. Reverse the order of words in a string."
   ]
  },
  {
   "cell_type": "code",
   "execution_count": 28,
   "id": "f4c0be61-5e50-4809-967d-9b15bc6e29e5",
   "metadata": {},
   "outputs": [
    {
     "name": "stdout",
     "output_type": "stream",
     "text": [
      "['vishalbaraiya', 'a', 'is', 'this', 'hello']\n"
     ]
    }
   ],
   "source": [
    "string = \"hello this is a vishalbaraiya\"\n",
    "li1 = string.split()\n",
    "print(li1[::-1])"
   ]
  },
  {
   "cell_type": "markdown",
   "id": "635db84e-8faa-40b0-93a9-23550bd662ba",
   "metadata": {},
   "source": [
    "23. Check if a string is alphanumeric."
   ]
  },
  {
   "cell_type": "code",
   "execution_count": 31,
   "id": "2e486197-6d0b-4429-8875-1cc2415e650b",
   "metadata": {},
   "outputs": [
    {
     "name": "stdout",
     "output_type": "stream",
     "text": [
      "The string is alphanumeric.\n"
     ]
    }
   ],
   "source": [
    "input_string = \"Hello123\"\n",
    "if input_string.isalnum():\n",
    "    print(\"The string is alphanumeric.\")\n",
    "else:\n",
    "    print(\"The string is not alphanumeric.\")\n"
   ]
  },
  {
   "cell_type": "markdown",
   "id": "d0275bfe-7421-4dc5-8ac6-95e39dcc6d77",
   "metadata": {},
   "source": [
    "24. Extract all digits from a string."
   ]
  },
  {
   "cell_type": "code",
   "execution_count": 33,
   "id": "2502ae11-7dd8-4241-9f4b-8940b26109a1",
   "metadata": {},
   "outputs": [
    {
     "name": "stdout",
     "output_type": "stream",
     "text": [
      "123\n"
     ]
    }
   ],
   "source": [
    "input_string = \"Hello123\"\n",
    "s=''\n",
    "for i in input_string:\n",
    "    if i in \"0123456789\":\n",
    "        s = s+i\n",
    "print(s)        "
   ]
  },
  {
   "cell_type": "markdown",
   "id": "f0ce4d98-8251-4c57-b822-1f95c3479d0c",
   "metadata": {},
   "source": [
    "25. Extract all alphabets from a string."
   ]
  },
  {
   "cell_type": "code",
   "execution_count": 34,
   "id": "240911e7-0595-4d0f-a61d-88f7655067e9",
   "metadata": {},
   "outputs": [
    {
     "name": "stdout",
     "output_type": "stream",
     "text": [
      "Hello\n"
     ]
    }
   ],
   "source": [
    "input_string = \"Hello123\"\n",
    "s=''\n",
    "for i in input_string:\n",
    "    if i not in \"0123456789\":\n",
    "        s = s+i\n",
    "print(s)  "
   ]
  },
  {
   "cell_type": "markdown",
   "id": "34a70e75-948e-4714-9eb8-ac1ee584d13a",
   "metadata": {},
   "source": [
    "26. Count the number of uppercase letters in a string."
   ]
  },
  {
   "cell_type": "code",
   "execution_count": 42,
   "id": "d6eab863-fca1-4407-80c2-815a77995795",
   "metadata": {},
   "outputs": [
    {
     "name": "stdout",
     "output_type": "stream",
     "text": [
      "3\n"
     ]
    }
   ],
   "source": [
    "input_string = \"Hello Vishal Baraiya\"\n",
    "s=0\n",
    "for i in input_string:\n",
    "    if  i.isupper():\n",
    "        s=s+1\n",
    "print(s)  "
   ]
  },
  {
   "cell_type": "markdown",
   "id": "cfbbc051-c31d-4220-a28b-56c60111c4d6",
   "metadata": {},
   "source": [
    "27. Count the number of lowercase letters in a string."
   ]
  },
  {
   "cell_type": "code",
   "execution_count": 43,
   "id": "60796403-b454-46c1-9c40-8a8390fcdd51",
   "metadata": {},
   "outputs": [
    {
     "name": "stdout",
     "output_type": "stream",
     "text": [
      "15\n"
     ]
    }
   ],
   "source": [
    "input_string = \"Hello Vishal Baraiya\"\n",
    "s=0\n",
    "for i in input_string:\n",
    "    if  i.islower():\n",
    "        s=s+1\n",
    "print(s)  "
   ]
  },
  {
   "cell_type": "markdown",
   "id": "846d8a69-8ef8-4a4a-81e3-6e33dc91f790",
   "metadata": {},
   "source": [
    "28. Swap the case of each character in a string."
   ]
  },
  {
   "cell_type": "code",
   "execution_count": 47,
   "id": "fa1721fc-cb27-41d4-bfea-2b79acf0c4db",
   "metadata": {},
   "outputs": [
    {
     "name": "stdout",
     "output_type": "stream",
     "text": [
      "hELLO vISHAL bARAIYA\n"
     ]
    }
   ],
   "source": [
    "input_string = \"Hello Vishal Baraiya\"\n",
    "s=''\n",
    "for i in input_string:\n",
    "    if  i.islower():\n",
    "         s = s + i.upper()\n",
    "    else:\n",
    "        s = s + i.lower()\n",
    "print(s)  "
   ]
  },
  {
   "cell_type": "markdown",
   "id": "36d90a02-4999-497e-a5f3-30f84e1b25ce",
   "metadata": {},
   "source": [
    "29. Remove a specific word from a string."
   ]
  },
  {
   "cell_type": "code",
   "execution_count": 49,
   "id": "59146926-a5bc-478c-a478-6d7aa2557a96",
   "metadata": {},
   "outputs": [
    {
     "name": "stdout",
     "output_type": "stream",
     "text": [
      "Hello  Baraiya\n"
     ]
    }
   ],
   "source": [
    "input_string = \"Hello Vishal Baraiya\"\n",
    "print(input_string.replace(\"Vishal\",\"\"))"
   ]
  },
  {
   "cell_type": "markdown",
   "id": "49f38b74-5a8c-4733-abf8-a79a51ce1ead",
   "metadata": {},
   "source": [
    "30. Check if a string is a valid email address."
   ]
  },
  {
   "cell_type": "code",
   "execution_count": 60,
   "id": "47080fe6-1458-4f2f-92db-7d3a1a1e271f",
   "metadata": {},
   "outputs": [
    {
     "name": "stdin",
     "output_type": "stream",
     "text": [
      "enetr your email VOI.@\n"
     ]
    },
    {
     "name": "stdout",
     "output_type": "stream",
     "text": [
      "your email is not valid\n"
     ]
    }
   ],
   "source": [
    "email = input(\"enetr your email\")\n",
    "pattern = r'^[\\w\\.-]+@[\\w\\.-]+\\.\\w+$'  # Regular expression pattern for a basic email validation\n",
    "if re.match(pattern, email):\n",
    "    print(\"your email is valid\")\n",
    "else:\n",
    "        print(\"your email is not valid\")\n"
   ]
  },
  {
   "cell_type": "markdown",
   "id": "8a8c2c12-0789-47df-80d2-1b10232aa9c9",
   "metadata": {},
   "source": [
    "31. Extract the username from an email address string."
   ]
  },
  {
   "cell_type": "code",
   "execution_count": 63,
   "id": "dad8d127-0b48-425c-a78b-dc125675d1de",
   "metadata": {},
   "outputs": [
    {
     "name": "stdin",
     "output_type": "stream",
     "text": [
      "enetr your email vishalbaraiya@gmail.com\n"
     ]
    },
    {
     "name": "stdout",
     "output_type": "stream",
     "text": [
      "vishalbaraiya\n"
     ]
    }
   ],
   "source": [
    "email = input(\"enetr your email\")\n",
    "s = ''\n",
    "for i in email:\n",
    "    if i == '@':\n",
    "        break\n",
    "    else:\n",
    "        s=s+i\n",
    "print(s)        "
   ]
  },
  {
   "cell_type": "markdown",
   "id": "e6d1ca81-969d-4de7-bcb2-d82a00891aec",
   "metadata": {},
   "source": [
    "32. Extract the domain name from an email address string."
   ]
  },
  {
   "cell_type": "code",
   "execution_count": 67,
   "id": "b7d72738-8799-443d-a14e-35de85e5a8f8",
   "metadata": {},
   "outputs": [
    {
     "name": "stdin",
     "output_type": "stream",
     "text": [
      "enetr your email vishal @gmail.com\n"
     ]
    },
    {
     "name": "stdout",
     "output_type": "stream",
     "text": [
      "gmail.com\n"
     ]
    }
   ],
   "source": [
    "email = input(\"enetr your email\")\n",
    "print(email.split(\"@\")[1])"
   ]
  },
  {
   "cell_type": "markdown",
   "id": "b46f25d4-2380-4931-88ff-46af09d98d06",
   "metadata": {},
   "source": [
    "33. Replace multiple spaces in a string with a single space."
   ]
  },
  {
   "cell_type": "code",
   "execution_count": 78,
   "id": "58784c55-8582-4856-8ba9-16f5f3b4e87c",
   "metadata": {},
   "outputs": [
    {
     "name": "stdout",
     "output_type": "stream",
     "text": [
      "vi sha l baraiya kanajibhai baraiya\n"
     ]
    }
   ],
   "source": [
    "string = \"vi sha l    baraiya   kanajibhai  baraiya\"\n",
    "print(' '.join(string.split()))"
   ]
  },
  {
   "cell_type": "markdown",
   "id": "4d113816-b182-4911-a399-36effe405f4f",
   "metadata": {},
   "source": [
    "34. Check if a string is a valid URL."
   ]
  },
  {
   "cell_type": "code",
   "execution_count": 82,
   "id": "7b786e56-252a-42aa-a47e-6ccf4b478377",
   "metadata": {},
   "outputs": [
    {
     "name": "stdout",
     "output_type": "stream",
     "text": [
      "Is 'https://www.example.com' a valid URL? True\n",
      "Is 'invalid-url' a valid URL? False\n",
      "Is 'ftp://ftp.server.com' a valid URL? True\n"
     ]
    }
   ],
   "source": [
    "from urllib.parse import urlparse\n",
    "\n",
    "def is_valid_url(url):\n",
    "    try:\n",
    "        result = urlparse(url)\n",
    "        return all([result.scheme, result.netloc])\n",
    "    except ValueError:\n",
    "        return False\n",
    "\n",
    "# Test cases\n",
    "url1 = \"https://www.example.com\"\n",
    "url2 = \"invalid-url\"\n",
    "url3 = \"ftp://ftp.server.com\"\n",
    "\n",
    "print(f\"Is '{url1}' a valid URL? {is_valid_url(url1)}\")\n",
    "print(f\"Is '{url2}' a valid URL? {is_valid_url(url2)}\")\n",
    "print(f\"Is '{url3}' a valid URL? {is_valid_url(url3)}\")\n"
   ]
  },
  {
   "cell_type": "markdown",
   "id": "a9c00d4a-8e41-4f99-920d-8ed93140134f",
   "metadata": {},
   "source": [
    "35. Extract the protocol (http or https) from a URL string."
   ]
  },
  {
   "cell_type": "code",
   "execution_count": 90,
   "id": "5945ade4-c4bc-45dd-8c22-928d582566c2",
   "metadata": {},
   "outputs": [
    {
     "name": "stdout",
     "output_type": "stream",
     "text": [
      "https\n",
      "https\n"
     ]
    }
   ],
   "source": [
    "from urllib.parse import urlparse\n",
    "url1 = \"https://www.example.com\"\n",
    "result = urlparse(url1)\n",
    "print(result.scheme)\n",
    "index = url1.index('://')\n",
    "print(url1[:index])"
   ]
  },
  {
   "cell_type": "markdown",
   "id": "23ae865f-21b7-483b-a78a-84eb4dee2997",
   "metadata": {},
   "source": [
    "36. Find the frequency of each character in a string."
   ]
  },
  {
   "cell_type": "code",
   "execution_count": 3,
   "id": "dc624938-9854-473b-8c83-e878fdcf812a",
   "metadata": {},
   "outputs": [
    {
     "name": "stdin",
     "output_type": "stream",
     "text": [
      " vishalbaraiya1234\n"
     ]
    },
    {
     "name": "stdout",
     "output_type": "stream",
     "text": [
      "a 4\n",
      "b 1\n",
      "c 0\n",
      "d 0\n",
      "e 0\n",
      "f 0\n",
      "g 0\n",
      "h 1\n",
      "i 2\n",
      "j 0\n",
      "k 0\n",
      "l 1\n",
      "m 0\n",
      "n 0\n",
      "o 0\n",
      "p 0\n",
      "q 0\n",
      "r 1\n",
      "s 1\n",
      "t 0\n",
      "u 0\n",
      "v 1\n",
      "w 0\n",
      "x 0\n",
      "y 1\n",
      "z 0\n",
      "0 0\n",
      "1 1\n",
      "2 1\n",
      "3 1\n",
      "4 1\n",
      "5 0\n",
      "6 0\n",
      "7 0\n",
      "8 0\n",
      "9 0\n"
     ]
    }
   ],
   "source": [
    "s = str(input())\n",
    "for i in \"abcdefghijklmnopqrstuvwxyz0123456789\":\n",
    "    print(i,s.count(i))"
   ]
  },
  {
   "cell_type": "markdown",
   "id": "e32cf63c-4ebf-416f-b8e1-a4d913c9720c",
   "metadata": {},
   "source": [
    "37. Remove all punctuation from a string."
   ]
  },
  {
   "cell_type": "code",
   "execution_count": 8,
   "id": "0ed7de12-5556-4630-9034-e2a076b3fd88",
   "metadata": {},
   "outputs": [
    {
     "name": "stdin",
     "output_type": "stream",
     "text": [
      " vi%><> dc\n"
     ]
    },
    {
     "name": "stdout",
     "output_type": "stream",
     "text": [
      "vi dc\n"
     ]
    }
   ],
   "source": [
    "s = str(input())\n",
    "s1 = ''\n",
    "for i in s:\n",
    "    if i not in \"!\\\"#$%&'()*+,-./:;<=>?@[\\\\]^_`{|}~\":\n",
    "        s1+=i\n",
    "print(s1)        "
   ]
  },
  {
   "cell_type": "markdown",
   "id": "890ce86b-2434-4f70-9f2e-4b6ab210f640",
   "metadata": {},
   "source": [
    "38. Check if a string contains only digits."
   ]
  },
  {
   "cell_type": "code",
   "execution_count": 11,
   "id": "bd875547-1046-40f9-b8b7-510615de2672",
   "metadata": {},
   "outputs": [
    {
     "name": "stdin",
     "output_type": "stream",
     "text": [
      " 1234\n"
     ]
    },
    {
     "name": "stdout",
     "output_type": "stream",
     "text": [
      "this is only contains digits \n"
     ]
    }
   ],
   "source": [
    "s = input()\n",
    "flage = 1\n",
    "for i in s:\n",
    "    if i not in \"0123456789\":\n",
    "        print(\"this is not contains only digits\")\n",
    "        flage =0\n",
    "        break\n",
    "if flage == 1:\n",
    "    print(\"this is only contains digits \")"
   ]
  },
  {
   "cell_type": "markdown",
   "id": "edb813ae-67ea-47fb-87d1-683d1933e2c7",
   "metadata": {},
   "source": [
    "39. Check if a string contains only alphabets."
   ]
  },
  {
   "cell_type": "code",
   "execution_count": 12,
   "id": "09f0f726-de18-4361-8aad-157fbfc627e4",
   "metadata": {},
   "outputs": [
    {
     "name": "stdin",
     "output_type": "stream",
     "text": [
      " vishal\n"
     ]
    },
    {
     "name": "stdout",
     "output_type": "stream",
     "text": [
      "this is only contains alphabets \n"
     ]
    }
   ],
   "source": [
    "s = input()\n",
    "flage = 1\n",
    "for i in s:\n",
    "    if i in \"0123456789\":\n",
    "        print(\"this is not contains only alphabets\")\n",
    "        flage =0\n",
    "        break\n",
    "if flage == 1:\n",
    "    print(\"this is only contains alphabets \")"
   ]
  },
  {
   "cell_type": "markdown",
   "id": "9def9dc1-8b66-4eb5-bf46-bf677458fc1f",
   "metadata": {},
   "source": [
    "40. Convert a string to a list of characters."
   ]
  },
  {
   "cell_type": "code",
   "execution_count": 16,
   "id": "a967f757-f699-430a-8574-9f2d4cbef4ef",
   "metadata": {},
   "outputs": [
    {
     "name": "stdin",
     "output_type": "stream",
     "text": [
      " vishal baraiya\n"
     ]
    },
    {
     "name": "stdout",
     "output_type": "stream",
     "text": [
      "['v', 'i', 's', 'h', 'a', 'l', ' ', 'b', 'a', 'r', 'a', 'i', 'y', 'a']\n"
     ]
    }
   ],
   "source": [
    "s = input()\n",
    "name = [i for i in s]\n",
    "print(name)"
   ]
  },
  {
   "cell_type": "markdown",
   "id": "c45c5185-ed31-4cd8-8925-9ab4cc54fad3",
   "metadata": {},
   "source": [
    "41. Check if two strings are anagrams."
   ]
  },
  {
   "cell_type": "code",
   "execution_count": 22,
   "id": "304e7932-b1e3-477c-b4a1-6a6b74558a64",
   "metadata": {},
   "outputs": [
    {
     "name": "stdin",
     "output_type": "stream",
     "text": [
      " vishal baraiya \n",
      " baraiya vishal\n"
     ]
    },
    {
     "name": "stdout",
     "output_type": "stream",
     "text": [
      "this is anagrams string\n"
     ]
    }
   ],
   "source": [
    "s = str(input())\n",
    "s1 = str(input())\n",
    "flage =0\n",
    "for i in \"abcdefghijklmnopqrstuvwxyz0123456789\":\n",
    "    if s.count(i) != s1.count(i):\n",
    "        print(\"this is not anagram string \")\n",
    "        flage = 1\n",
    "        break\n",
    "if flage == 0 :\n",
    "    print(\"this is anagrams string\")"
   ]
  },
  {
   "cell_type": "markdown",
   "id": "6ca77231-4c49-40d2-9a2c-e4fc0fe23b1f",
   "metadata": {},
   "source": [
    "42. Encode a string using a Caesar cipher."
   ]
  },
  {
   "cell_type": "code",
   "execution_count": 12,
   "id": "005d8e31-3f3a-4c65-89d8-a2a69a8a016d",
   "metadata": {},
   "outputs": [
    {
     "name": "stdin",
     "output_type": "stream",
     "text": [
      " hello123Hello\n",
      " 1\n"
     ]
    },
    {
     "name": "stdout",
     "output_type": "stream",
     "text": [
      "ifmmp123Ifmmp\n"
     ]
    }
   ],
   "source": [
    "s = input()\n",
    "shift = int(input())\n",
    "string = ''\n",
    "for i in s:\n",
    "    s1=''\n",
    "    if i.isalpha():\n",
    "        if i.isupper():\n",
    "            string = string + chr(((ord(i)-ord('A')+shift)%26)+ord('A')) \n",
    "        else:\n",
    "            string = string + chr(((ord(i)-ord('a')+shift)%26)+ord('a')) \n",
    "    else:\n",
    "        string = string+i\n",
    "print(string)    "
   ]
  },
  {
   "cell_type": "markdown",
   "id": "d6bef1c0-49c0-48ef-ac31-fc1e1859b42e",
   "metadata": {},
   "source": [
    "43. Decode a Caesar cipher encoded string."
   ]
  },
  {
   "cell_type": "code",
   "execution_count": null,
   "id": "9bf6d00f-cd48-4ef3-81aa-776b6a041abe",
   "metadata": {},
   "outputs": [
    {
     "name": "stdin",
     "output_type": "stream",
     "text": [
      " ifmmp123Ifmmp\n",
      " 1\n"
     ]
    },
    {
     "name": "stdout",
     "output_type": "stream",
     "text": [
      "hello123Hello\n"
     ]
    }
   ],
   "source": [
    "s = input()\n",
    "shift = int(input())\n",
    "string = ''\n",
    "for i in s:\n",
    "    s1=''\n",
    "    if i.isalpha():\n",
    "        if i.isupper():\n",
    "            string = string + chr(((ord(i)-ord('A')-shift)%26)+ord('A')) \n",
    "        else:\n",
    "            string = string + chr(((ord(i)-ord('a')-shift)%26)+ord('a')) \n",
    "    else:\n",
    "        string = string+i\n",
    "print(string)    "
   ]
  },
  {
   "cell_type": "markdown",
   "id": "002937f8-9916-4dcd-a0fd-ba2dfa6c7ba2",
   "metadata": {},
   "source": [
    "44. Find the most frequent word in a string."
   ]
  },
  {
   "cell_type": "code",
   "execution_count": 16,
   "id": "ab699dab-4903-4f29-8fab-8e3d5fc441c2",
   "metadata": {},
   "outputs": [
    {
     "name": "stdin",
     "output_type": "stream",
     "text": [
      " visha baraiya vishal baraiya baraiya\n"
     ]
    },
    {
     "name": "stdout",
     "output_type": "stream",
     "text": [
      "['visha', 'baraiya', 'vishal', 'baraiya', 'baraiya']\n",
      "baraiya\n"
     ]
    }
   ],
   "source": [
    "word1 = input()\n",
    "word = word1.split(' ')\n",
    "print(word)\n",
    "d = {}\n",
    "for i in word:\n",
    "    if i in d:\n",
    "        d[i]=d.get(i)+1\n",
    "    else:\n",
    "        d[i]=1\n",
    "min = -1 \n",
    "string = ''\n",
    "for i in d.keys():\n",
    "    if d[i] >= min:\n",
    "        min = d[i]\n",
    "        string = i \n",
    "print(string)    "
   ]
  },
  {
   "cell_type": "markdown",
   "id": "7da0f51b-63d7-4ce9-b9b3-322cc842da84",
   "metadata": {},
   "source": [
    "45. Find all unique words in a string."
   ]
  },
  {
   "cell_type": "code",
   "execution_count": 18,
   "id": "164edbfa-16e2-422c-9d43-1280a5243c9e",
   "metadata": {},
   "outputs": [
    {
     "name": "stdin",
     "output_type": "stream",
     "text": [
      " vi vi na ma ba ba pa\n"
     ]
    },
    {
     "name": "stdout",
     "output_type": "stream",
     "text": [
      "['na', 'ma', 'pa']\n"
     ]
    }
   ],
   "source": [
    "word1 = input()\n",
    "word = word1.split(' ')\n",
    "d = {}\n",
    "for i in word:\n",
    "    if i in d:\n",
    "        d[i]=d.get(i)+1\n",
    "    else:\n",
    "        d[i]=1\n",
    "min = 1 \n",
    "string = []\n",
    "for i in d.keys():\n",
    "    if d[i] == min:\n",
    "        string.append(i)\n",
    "print(string)    "
   ]
  },
  {
   "cell_type": "markdown",
   "id": "a064c8dd-55b3-45f6-9bf5-a08a984c5492",
   "metadata": {},
   "source": [
    "46. Count the number of syllables in a string."
   ]
  },
  {
   "cell_type": "code",
   "execution_count": 22,
   "id": "f799b153-c8aa-4287-bc0e-2f6e6ddaf618",
   "metadata": {},
   "outputs": [
    {
     "name": "stdout",
     "output_type": "stream",
     "text": [
      "'hello' has 2 syllables.\n",
      "'banana' has 3 syllables.\n",
      "'syllable' has 3 syllables.\n"
     ]
    }
   ],
   "source": [
    "import re\n",
    "\n",
    "def count_syllables(word):\n",
    "    vowel_groups = re.findall(r'[aeiouy]+', word, re.IGNORECASE)\n",
    "    return len(vowel_groups)\n",
    "\n",
    "\n",
    "word1 = \"hello\"\n",
    "word2 = \"banana\"\n",
    "word3 = \"syllable\"\n",
    "\n",
    "syllables1 = count_syllables(word1)\n",
    "syllables2 = count_syllables(word2)\n",
    "syllables3 = count_syllables(word3)\n",
    "\n",
    "print(f\"'{word1}' has {syllables1} syllables.\")\n",
    "print(f\"'{word2}' has {syllables2} syllables.\")\n",
    "print(f\"'{word3}' has {syllables3} syllables.\")"
   ]
  },
  {
   "cell_type": "markdown",
   "id": "5ef810e2-59ce-4071-a165-4278c4c386f1",
   "metadata": {},
   "source": [
    "47. Check if a string contains any special characters."
   ]
  },
  {
   "cell_type": "code",
   "execution_count": 24,
   "id": "ee467b4d-6164-4ab7-9749-d1970f574431",
   "metadata": {},
   "outputs": [
    {
     "name": "stdin",
     "output_type": "stream",
     "text": [
      " vishal @\n"
     ]
    },
    {
     "name": "stdout",
     "output_type": "stream",
     "text": [
      "this string is contain speacial characters\n"
     ]
    }
   ],
   "source": [
    "s= input()\n",
    "for i in s:\n",
    "    if  (i >='A' and i<='Z') or (i>='a' and i<='z') or (i<='0' and i>='9'):\n",
    "        continue\n",
    "    else:\n",
    "        print(\"this string is contain speacial characters\")\n",
    "        break"
   ]
  },
  {
   "cell_type": "markdown",
   "id": "20b191fa-b72c-47b2-80f6-0cb2bed76738",
   "metadata": {},
   "source": [
    "48. Remove the nth word from a string."
   ]
  },
  {
   "cell_type": "code",
   "execution_count": 31,
   "id": "72bd1151-162c-4a6e-ba11-b33825c1afe2",
   "metadata": {},
   "outputs": [
    {
     "name": "stdin",
     "output_type": "stream",
     "text": [
      " vishal baraiyta kanaji bhai \n",
      " 3\n"
     ]
    },
    {
     "name": "stdout",
     "output_type": "stream",
     "text": [
      "vishal baraiyta bhai\n"
     ]
    }
   ],
   "source": [
    "s = input()\n",
    "n = int(input())\n",
    "li = s.split()\n",
    "string = \"\"\n",
    "for i in range(len(li)):\n",
    "    if i == n-1:\n",
    "        continue\n",
    "    else:\n",
    "        string = string +\" \"+ li[i]\n",
    "print(string.strip())\n"
   ]
  },
  {
   "cell_type": "markdown",
   "id": "0176bd60-1fb0-4365-b0e9-fba871c1232a",
   "metadata": {},
   "source": [
    "49. Insert a word at the nth position in a string."
   ]
  },
  {
   "cell_type": "code",
   "execution_count": 32,
   "id": "fa31cc24-ff77-49b3-8c22-4ffd0d049780",
   "metadata": {},
   "outputs": [
    {
     "name": "stdin",
     "output_type": "stream",
     "text": [
      " vishal baraiya bhai\n",
      " 3\n",
      " kanaji\n"
     ]
    },
    {
     "name": "stdout",
     "output_type": "stream",
     "text": [
      "vishal baraiya kanaji bhai\n"
     ]
    }
   ],
   "source": [
    "s = input()\n",
    "n = int(input())\n",
    "word = input()\n",
    "li = s.split()\n",
    "string = \"\"\n",
    "for i in range(len(li)):\n",
    "    if i == n-1:\n",
    "        string = string +\" \"+ word\n",
    "        string = string +\" \"+ li[i]\n",
    "    else:\n",
    "        string = string +\" \"+ li[i]\n",
    "print(string.strip())"
   ]
  },
  {
   "cell_type": "markdown",
   "id": "2fba16df-af8e-42ea-b700-c82241530de8",
   "metadata": {},
   "source": [
    "50. Convert a CSV string to a list of lists."
   ]
  },
  {
   "cell_type": "code",
   "execution_count": 37,
   "id": "bc0cc12e-e7ac-4a17-82a5-f6da03b0ed43",
   "metadata": {},
   "outputs": [
    {
     "name": "stdout",
     "output_type": "stream",
     "text": [
      "['Name', ' Age', ' Country']\n",
      "['John', ' 25', ' USA']\n",
      "['Alice', ' 30', ' Canada']\n",
      "['Bob', ' 22', ' UK']\n"
     ]
    }
   ],
   "source": [
    "data = \"Name, Age, Country\\nJohn, 25, USA\\nAlice, 30, Canada\\nBob, 22, UK\"\n",
    "lines = data.split('\\n')\n",
    "result = []\n",
    "for line in lines:\n",
    "    fields = line.split(',')\n",
    "    result.append(fields)\n",
    "        \n",
    "for row in result:\n",
    "    print(row)"
   ]
  },
  {
   "cell_type": "markdown",
   "id": "b326e642-b242-4864-bf48-a90e556968d8",
   "metadata": {},
   "source": [
    "# List Based Practice Problem :\n"
   ]
  },
  {
   "cell_type": "markdown",
   "id": "82141892-494f-47eb-8ba1-d92130f1018f",
   "metadata": {},
   "source": [
    "1. Create a list with integers from 1 to 10.\n"
   ]
  },
  {
   "cell_type": "code",
   "execution_count": 43,
   "id": "7e714791-b7a4-4282-8031-821c38ddb2b1",
   "metadata": {},
   "outputs": [
    {
     "name": "stdout",
     "output_type": "stream",
     "text": [
      "[1, 2, 3, 4, 5, 6, 7, 8, 9, 10]\n"
     ]
    }
   ],
   "source": [
    "list1 = [1,2,3,4,5,6,7,8,9,10]\n",
    "print(list1)"
   ]
  },
  {
   "cell_type": "markdown",
   "id": "cdcb763e-776a-4113-9705-ad25138987ef",
   "metadata": {},
   "source": [
    "2. Find the length of a list without using the `len()` function."
   ]
  },
  {
   "cell_type": "code",
   "execution_count": 45,
   "id": "641a3b30-0275-468e-b6ed-415acb8e3fad",
   "metadata": {},
   "outputs": [
    {
     "name": "stdout",
     "output_type": "stream",
     "text": [
      "10\n"
     ]
    }
   ],
   "source": [
    "list1 = [1,2,3,4,5,6,7,8,9,10]\n",
    "count =0\n",
    "for i in list1:\n",
    "    count+=1\n",
    "print(count)    "
   ]
  },
  {
   "cell_type": "markdown",
   "id": "8e3706a1-5706-4085-a488-58a3e02c39af",
   "metadata": {},
   "source": [
    "3. Append an element to the end of a list."
   ]
  },
  {
   "cell_type": "code",
   "execution_count": 48,
   "id": "c24c7d94-3093-447d-8c1c-8f154586872f",
   "metadata": {},
   "outputs": [
    {
     "name": "stdout",
     "output_type": "stream",
     "text": [
      "[1, 2, 3, 4, 5, 6, 7, 8, 9, 10, 2]\n"
     ]
    }
   ],
   "source": [
    "list1 = [1,2,3,4,5,6,7,8,9,10]\n",
    "list1.append(2)\n",
    "print(list1)"
   ]
  },
  {
   "cell_type": "markdown",
   "id": "636ee1b4-8a5d-4fad-a377-d2fa74ac86bf",
   "metadata": {},
   "source": [
    "4. Insert an element at a specific index in a list."
   ]
  },
  {
   "cell_type": "code",
   "execution_count": 49,
   "id": "68015e8a-db16-4147-b5d8-02ceeda524a5",
   "metadata": {},
   "outputs": [
    {
     "name": "stdout",
     "output_type": "stream",
     "text": [
      "[12, 1, 2, 3, 4, 5, 6, 7, 8, 9, 10]\n"
     ]
    }
   ],
   "source": [
    "list1 = [1,2,3,4,5,6,7,8,9,10]\n",
    "list1.insert(0,12)\n",
    "print(list1)"
   ]
  },
  {
   "cell_type": "markdown",
   "id": "7067d6c7-3f48-474a-b6b2-3de92f27d6fc",
   "metadata": {},
   "source": [
    "5. Remove an element from a list by its value."
   ]
  },
  {
   "cell_type": "code",
   "execution_count": 50,
   "id": "f6ea4e7f-ceaf-478e-910e-3f7f5cbde2d6",
   "metadata": {},
   "outputs": [
    {
     "name": "stdout",
     "output_type": "stream",
     "text": [
      "[1, 2, 3, 4, 5, 6, 7, 8, 9, 10]\n"
     ]
    }
   ],
   "source": [
    "list1.remove(12)\n",
    "print(list1)"
   ]
  },
  {
   "cell_type": "markdown",
   "id": "ed4a287a-4f3c-400b-b3c4-c7dc6de99c03",
   "metadata": {},
   "source": [
    "6. Remove an element from a list by its index."
   ]
  },
  {
   "cell_type": "code",
   "execution_count": 51,
   "id": "86016417-6015-420e-ba0b-89e20227e26e",
   "metadata": {},
   "outputs": [
    {
     "name": "stdout",
     "output_type": "stream",
     "text": [
      "[2, 3, 4, 5, 6, 7, 8, 9, 10]\n"
     ]
    }
   ],
   "source": [
    "list1.pop(0)\n",
    "print(list1)"
   ]
  },
  {
   "cell_type": "markdown",
   "id": "48135d3a-429b-4325-bd13-e5d5bc8513ee",
   "metadata": {},
   "source": [
    "7. Check if an element exists in a list."
   ]
  },
  {
   "cell_type": "code",
   "execution_count": 53,
   "id": "a4d32cee-4a3e-4a69-acc4-d959d9d11deb",
   "metadata": {},
   "outputs": [
    {
     "name": "stdout",
     "output_type": "stream",
     "text": [
      "element exists in list\n"
     ]
    }
   ],
   "source": [
    "if 2 in list1:\n",
    "    print(\"element exists in list\" )"
   ]
  },
  {
   "cell_type": "markdown",
   "id": "0fcda216-c721-4ada-a8f2-459d9557a771",
   "metadata": {},
   "source": [
    "8. Find the index of the first occurrence of an element in a list."
   ]
  },
  {
   "cell_type": "code",
   "execution_count": 60,
   "id": "ef758118-f079-4224-bb02-023d43966912",
   "metadata": {},
   "outputs": [
    {
     "name": "stdout",
     "output_type": "stream",
     "text": [
      "[2, 3, 4, 5, 6, 7, 8, 9, 10, 2, 2, 2, 2, 2]\n",
      "index of the list is  0\n"
     ]
    }
   ],
   "source": [
    "list1.append(2)\n",
    "print(list1)\n",
    "print(\"index of the list is \",list1.index(2))"
   ]
  },
  {
   "cell_type": "markdown",
   "id": "20fab4ce-7570-4b70-af05-51f3eafdb2c0",
   "metadata": {},
   "source": [
    "9. Count the occurrences of an element in a list."
   ]
  },
  {
   "cell_type": "code",
   "execution_count": 61,
   "id": "efeb1b4c-9368-4e40-96f5-bd7464df145b",
   "metadata": {},
   "outputs": [
    {
     "data": {
      "text/plain": [
       "6"
      ]
     },
     "execution_count": 61,
     "metadata": {},
     "output_type": "execute_result"
    }
   ],
   "source": [
    "list1.count(2)"
   ]
  },
  {
   "cell_type": "markdown",
   "id": "75ca826c-049c-404d-ac61-7bc7998401da",
   "metadata": {},
   "source": [
    "10. Reverse the order of elements in a list."
   ]
  },
  {
   "cell_type": "code",
   "execution_count": 62,
   "id": "23512b1f-21ed-4b7e-91f8-fbb46a739315",
   "metadata": {},
   "outputs": [
    {
     "name": "stdout",
     "output_type": "stream",
     "text": [
      "[10, 9, 8, 7, 6, 5, 4, 3, 2, 1]\n"
     ]
    }
   ],
   "source": [
    "list1 = [1,2,3,4,5,6,7,8,9,10]\n",
    "print(list1[::-1])"
   ]
  },
  {
   "cell_type": "markdown",
   "id": "94394655-c70a-46b1-82f2-92cdd1934ae4",
   "metadata": {},
   "source": [
    "11. Sort a list in ascending order."
   ]
  },
  {
   "cell_type": "code",
   "execution_count": 64,
   "id": "4ccf945b-ddd1-41d2-b7f7-3d53b810156f",
   "metadata": {},
   "outputs": [
    {
     "name": "stdout",
     "output_type": "stream",
     "text": [
      "[10, 9, 8, 7, 6, 5, 4, 3, 2, 1]\n",
      "[1, 2, 3, 4, 5, 6, 7, 8, 9, 10]\n"
     ]
    }
   ],
   "source": [
    "list2 = list1[::-1]\n",
    "print(list2)\n",
    "list2.sort()\n",
    "print(list2)"
   ]
  },
  {
   "cell_type": "markdown",
   "id": "d993a41a-8361-4941-b076-e4d6128fbe21",
   "metadata": {},
   "source": [
    "12. Sort a list in descending order."
   ]
  },
  {
   "cell_type": "code",
   "execution_count": 67,
   "id": "5c1e5970-affa-43d1-8e65-34c97aecf5f5",
   "metadata": {},
   "outputs": [
    {
     "name": "stdout",
     "output_type": "stream",
     "text": [
      "[9, 8, 7, 5, 4, 2, 2, 1, 0]\n"
     ]
    }
   ],
   "source": [
    "list1= [1,5,2,7,2,8,4,9,0]\n",
    "list1.sort(reverse=True)\n",
    "print(list1)\n",
    "#  if you use sort then its modify in origenal value but if you use sorted then its give you new list  "
   ]
  },
  {
   "cell_type": "markdown",
   "id": "9ddda94c-1498-430c-97d3-b37a77fbd87b",
   "metadata": {},
   "source": [
    "13. Create a list of even numbers from 1 to 20."
   ]
  },
  {
   "cell_type": "code",
   "execution_count": 70,
   "id": "f07ed7af-1bc3-4154-b00d-64891e624889",
   "metadata": {},
   "outputs": [
    {
     "name": "stdout",
     "output_type": "stream",
     "text": [
      "[2, 4, 6, 8, 10, 12, 14, 16, 18, 20]\n"
     ]
    }
   ],
   "source": [
    "list1=[]\n",
    "for i in range(20):\n",
    "    if (i+1)%2 == 0:\n",
    "        list1.append(i+1)\n",
    "print(list1)    "
   ]
  },
  {
   "cell_type": "markdown",
   "id": "ad38f026-0b56-4c63-9f9e-67cc74319960",
   "metadata": {},
   "source": [
    "14. Create a list of odd numbers from 1 to 20."
   ]
  },
  {
   "cell_type": "code",
   "execution_count": 72,
   "id": "39b72676-1786-420d-9ff4-306e46935159",
   "metadata": {},
   "outputs": [
    {
     "name": "stdout",
     "output_type": "stream",
     "text": [
      "[1, 3, 5, 7, 9, 11, 13, 15, 17, 19]\n"
     ]
    }
   ],
   "source": [
    "list1=[]\n",
    "for i in range(20):\n",
    "    if (i+1)%2 != 0:\n",
    "        list1.append(i+1)\n",
    "print(list1)  "
   ]
  },
  {
   "cell_type": "markdown",
   "id": "4885e99e-b824-4ba9-8d84-9cff38259afe",
   "metadata": {},
   "source": [
    "15. Find the sum of all elements in a list."
   ]
  },
  {
   "cell_type": "code",
   "execution_count": 76,
   "id": "c3cdec63-d975-43c3-88ac-618d1b7acafb",
   "metadata": {},
   "outputs": [
    {
     "name": "stdout",
     "output_type": "stream",
     "text": [
      "[0, 1, 2, 3, 4, 5, 6, 7, 8, 9, 10, 11, 12, 13, 14, 15, 16, 17, 18, 19]\n",
      "190\n"
     ]
    }
   ],
   "source": [
    "list1 = [i for i in range(20)]\n",
    "print(list1)\n",
    "print(sum(list1))"
   ]
  },
  {
   "cell_type": "markdown",
   "id": "f6484f0f-245f-4cf5-981d-0b152fa11b1d",
   "metadata": {},
   "source": [
    "16. Find the maximum value in a list."
   ]
  },
  {
   "cell_type": "code",
   "execution_count": 80,
   "id": "73a99dfe-a8dc-4f10-ae95-426a00a9ca81",
   "metadata": {},
   "outputs": [
    {
     "name": "stdout",
     "output_type": "stream",
     "text": [
      "[0, 1, 2, 3, 4, 5, 6, 7, 8, 9, 10, 11, 12, 13, 14, 15, 16, 17, 18, 19]\n",
      "19\n"
     ]
    }
   ],
   "source": [
    "list1 = [i for i in range(20)]\n",
    "print(list1)\n",
    "print(max(list1))"
   ]
  },
  {
   "cell_type": "markdown",
   "id": "b57c77ed-3f3c-458b-bff0-3bd1a736df82",
   "metadata": {},
   "source": [
    "17. Find the minimum value in a list."
   ]
  },
  {
   "cell_type": "code",
   "execution_count": 84,
   "id": "b1f75b13-9e58-4236-a1db-453ad43ce48d",
   "metadata": {},
   "outputs": [
    {
     "ename": "TypeError",
     "evalue": "'int' object is not callable",
     "output_type": "error",
     "traceback": [
      "\u001b[0;31m---------------------------------------------------------------------------\u001b[0m",
      "\u001b[0;31mTypeError\u001b[0m                                 Traceback (most recent call last)",
      "Cell \u001b[0;32mIn[84], line 3\u001b[0m\n\u001b[1;32m      1\u001b[0m my_list \u001b[38;5;241m=\u001b[39m [\u001b[38;5;241m4\u001b[39m, \u001b[38;5;241m2\u001b[39m, \u001b[38;5;241m9\u001b[39m, \u001b[38;5;241m1\u001b[39m, \u001b[38;5;241m5\u001b[39m]\n\u001b[0;32m----> 3\u001b[0m min_value \u001b[38;5;241m=\u001b[39m \u001b[38;5;28;43mmin\u001b[39;49m\u001b[43m(\u001b[49m\u001b[43mmy_list\u001b[49m\u001b[43m)\u001b[49m\n\u001b[1;32m      5\u001b[0m \u001b[38;5;28mprint\u001b[39m(\u001b[38;5;124mf\u001b[39m\u001b[38;5;124m\"\u001b[39m\u001b[38;5;124mThe minimum value in the list is: \u001b[39m\u001b[38;5;132;01m{\u001b[39;00mmin_value\u001b[38;5;132;01m}\u001b[39;00m\u001b[38;5;124m\"\u001b[39m)\n",
      "\u001b[0;31mTypeError\u001b[0m: 'int' object is not callable"
     ]
    }
   ],
   "source": [
    "my_list = [4, 2, 9, 1, 5]\n",
    "\n",
    "min_value = min(my_list)\n",
    "\n",
    "print(f\"The minimum value in the list is: {min_value}\")\n"
   ]
  },
  {
   "cell_type": "markdown",
   "id": "1720c8a8-f6ea-4b1b-b2cc-f052a376938a",
   "metadata": {},
   "source": [
    "18. Create a list of squares of numbers from 1 to 10."
   ]
  },
  {
   "cell_type": "code",
   "execution_count": 85,
   "id": "a4f6c086-fe7b-4186-bcab-57e4ccbd5c0e",
   "metadata": {},
   "outputs": [
    {
     "name": "stdout",
     "output_type": "stream",
     "text": [
      "[1, 4, 9, 16, 25, 36, 49, 64, 81, 100]\n"
     ]
    }
   ],
   "source": [
    "list2 = [ i*i for i in range(1,11)]\n",
    "print(list2)"
   ]
  },
  {
   "cell_type": "markdown",
   "id": "52f52bc8-7adf-485a-900b-0b48610be369",
   "metadata": {},
   "source": [
    "19. Create a list of random numbers."
   ]
  },
  {
   "cell_type": "code",
   "execution_count": 95,
   "id": "3d40cb5f-2945-46d8-b076-6be97664ad38",
   "metadata": {},
   "outputs": [
    {
     "name": "stdout",
     "output_type": "stream",
     "text": [
      "[6651, 9937, 5435, 3460, 565, 337, 7535, 5098, 7754, 6132, 2839, 2225, 550, 3293, 4116, 4077, 918, 4532, 8252, 86]\n"
     ]
    }
   ],
   "source": [
    "import random\n",
    "random_integer = [i for i in range(1,10000)]\n",
    "random_integer1= random.sample(random_integer,20)\n",
    "print(random_integer1)"
   ]
  },
  {
   "cell_type": "markdown",
   "id": "2a52a1b0-d416-4ef9-9ae5-4f90defcd433",
   "metadata": {},
   "source": [
    "20. Remove duplicates from a list."
   ]
  },
  {
   "cell_type": "code",
   "execution_count": 99,
   "id": "90085ce1-697d-4e1d-9a48-58067f12cd2c",
   "metadata": {},
   "outputs": [
    {
     "name": "stdout",
     "output_type": "stream",
     "text": [
      "[1, 2, 3, 4, 5, 6, 7, 9]\n"
     ]
    }
   ],
   "source": [
    "list1= [1,2,2,3,3,4,4,3,2,5,6,7,9,4]\n",
    "set = {i for i in list1}\n",
    "list1 = [i for i in set]\n",
    "print(list1)"
   ]
  },
  {
   "cell_type": "markdown",
   "id": "53e25c2d-e43a-4932-a2f9-29962988f8b1",
   "metadata": {},
   "source": [
    "21. Find the common elements between two lists."
   ]
  },
  {
   "cell_type": "code",
   "execution_count": 103,
   "id": "b9a1bf5c-810c-4503-9416-27f07e68d4d2",
   "metadata": {},
   "outputs": [
    {
     "name": "stdout",
     "output_type": "stream",
     "text": [
      "[3, 4, 5]\n"
     ]
    }
   ],
   "source": [
    "list1 = [1, 2, 3, 4, 5]\n",
    "list2 = [3, 4, 5, 6, 7]\n",
    "\n",
    "set1 = {i for i in list1}\n",
    "set2 =  {i for i in list2}\n",
    "\n",
    "common_elements = list(set1.intersection(set2))\n",
    "\n",
    "print(common_elements) "
   ]
  },
  {
   "cell_type": "markdown",
   "id": "bec6506a-42d1-4b95-aeb0-feed99d1b82a",
   "metadata": {},
   "source": [
    "22. Find the difference between two lists."
   ]
  },
  {
   "cell_type": "code",
   "execution_count": 105,
   "id": "060bb544-4477-450a-aad1-1a36e5498521",
   "metadata": {},
   "outputs": [
    {
     "name": "stdout",
     "output_type": "stream",
     "text": [
      "[1, 2, 6, 7]\n"
     ]
    }
   ],
   "source": [
    "list1 = [1, 2, 3, 4, 5]\n",
    "list2 = [3, 4, 5, 6, 7]\n",
    "\n",
    "set1 = {i for i in list1}\n",
    "set2 =  {i for i in list2}\n",
    "difference_set = list(set1.difference(set2)) + list(set2.difference(set1))\n",
    "print(difference_set) "
   ]
  },
  {
   "cell_type": "markdown",
   "id": "691428f2-07d9-440d-bcc6-7b22d4921343",
   "metadata": {},
   "source": [
    "23. Merge two lists."
   ]
  },
  {
   "cell_type": "code",
   "execution_count": 106,
   "id": "c35146b0-5cd2-4fa8-9224-54d242e8b05a",
   "metadata": {},
   "outputs": [
    {
     "name": "stdout",
     "output_type": "stream",
     "text": [
      "[1, 2, 3, 4, 5, 6]\n"
     ]
    }
   ],
   "source": [
    "list1 = [1, 2, 3]\n",
    "list2 = [4, 5, 6]\n",
    "\n",
    "merged_list = list1 + list2\n",
    "\n",
    "print(merged_list)  # Output: [1, 2, 3, 4, 5, 6]\n"
   ]
  },
  {
   "cell_type": "markdown",
   "id": "316a54a3-47b2-4a65-8e76-4f43ff53cd6b",
   "metadata": {},
   "source": [
    "24. Multiply all elements in a list by 2."
   ]
  },
  {
   "cell_type": "code",
   "execution_count": 108,
   "id": "17ccc8c7-6091-427f-af77-47c922cfa5ec",
   "metadata": {},
   "outputs": [
    {
     "name": "stdout",
     "output_type": "stream",
     "text": [
      "[2, 4, 6, 8, 10]\n"
     ]
    }
   ],
   "source": [
    "my_list = [1, 2, 3, 4, 5]\n",
    "\n",
    "for i in range(len(my_list)):\n",
    "    my_list[i] *= 2\n",
    "\n",
    "print(my_list)\n"
   ]
  },
  {
   "cell_type": "markdown",
   "id": "3a21c0ef-11b1-46d7-a902-2bf1d564b833",
   "metadata": {},
   "source": [
    "25. Filter out all even numbers from a list."
   ]
  },
  {
   "cell_type": "code",
   "execution_count": 2,
   "id": "e323e3a8-9674-448a-9f49-73341efcef2e",
   "metadata": {},
   "outputs": [
    {
     "name": "stdout",
     "output_type": "stream",
     "text": [
      "2\n",
      "4\n"
     ]
    }
   ],
   "source": [
    "my_list = [1, 2, 3, 4, 5]\n",
    "\n",
    "for i in my_list:\n",
    "     if i % 2 ==0:\n",
    "            print(i)\n",
    "            \n"
   ]
  },
  {
   "cell_type": "markdown",
   "id": "e1a8cb8d-ec95-4d19-8f79-8eb7734349a5",
   "metadata": {},
   "source": [
    "26. Convert a list of strings to a list of integers."
   ]
  },
  {
   "cell_type": "code",
   "execution_count": 4,
   "id": "7780ef4c-489e-4f2d-8e45-252e6e14038f",
   "metadata": {},
   "outputs": [
    {
     "name": "stdout",
     "output_type": "stream",
     "text": [
      "['1', '2', '3', '4', '5', '6', '7', '8']\n",
      "[1, 2, 3, 4, 5, 6, 7, 8]\n"
     ]
    }
   ],
   "source": [
    "mylist = ['1','2','3','4','5','6','7','8']\n",
    "print(mylist)\n",
    "for i in range(len(mylist)):\n",
    "    mylist[i]=int(mylist[i])\n",
    "print(mylist)    "
   ]
  },
  {
   "cell_type": "markdown",
   "id": "2f7e2ba7-a926-42c2-a251-9fd02922cb11",
   "metadata": {},
   "source": [
    "27. Convert a list of integers to a list of strings."
   ]
  },
  {
   "cell_type": "code",
   "execution_count": 5,
   "id": "3eb11ffd-dd4d-4715-9448-5b3e8e25a9ad",
   "metadata": {},
   "outputs": [
    {
     "name": "stdout",
     "output_type": "stream",
     "text": [
      "[1, 2, 3, 4, 5, 6, 7, 8]\n",
      "['1', '2', '3', '4', '5', '6', '7', '8']\n"
     ]
    }
   ],
   "source": [
    "mylist = [1, 2, 3, 4, 5, 6, 7, 8]\n",
    "print(mylist)\n",
    "for i in range(len(mylist)):\n",
    "    mylist[i]=str(mylist[i])\n",
    "print(mylist)   "
   ]
  },
  {
   "cell_type": "markdown",
   "id": "a75474df-aeb0-4a5e-ae39-c579e87aceea",
   "metadata": {},
   "source": [
    "28. Flatten a nested list."
   ]
  },
  {
   "cell_type": "code",
   "execution_count": 9,
   "id": "fcf778e4-2856-408b-8289-38bc32e417f4",
   "metadata": {},
   "outputs": [
    {
     "name": "stdout",
     "output_type": "stream",
     "text": [
      "[8, 7, 6, 5, 4, 3, 2, 1]\n"
     ]
    }
   ],
   "source": [
    "nested_list = [1, [2, 3, [4, 5]], 6, [7, 8]]\n",
    "stack = list(nested_list)\n",
    "newlist=[]\n",
    "while stack:\n",
    "        i = stack.pop()\n",
    "        if type(i) is list:\n",
    "            stack.extend(i)\n",
    "        else:\n",
    "            newlist.append(i)\n",
    "print(newlist)            "
   ]
  },
  {
   "cell_type": "markdown",
   "id": "5c3af7c0-8b52-4917-bbbd-bb7202ccf697",
   "metadata": {},
   "source": [
    "29. Create a list of the first 10 Fibonacci numbers."
   ]
  },
  {
   "cell_type": "code",
   "execution_count": 14,
   "id": "313e2e5b-34ae-4777-998f-f41f2bc759bf",
   "metadata": {},
   "outputs": [
    {
     "name": "stdout",
     "output_type": "stream",
     "text": [
      "0\n",
      "1\n",
      "1\n",
      "2\n",
      "3\n",
      "5\n",
      "8\n",
      "13\n",
      "21\n",
      "34\n"
     ]
    }
   ],
   "source": [
    "def fibonacci(number):\n",
    "    a = 0\n",
    "    b = 1\n",
    "    if number <= 0:\n",
    "        print(\"Invalid input\")\n",
    "    elif number == 1:\n",
    "        print(a)\n",
    "    else:\n",
    "        print(a)\n",
    "        print(b)\n",
    "        for i in range(number - 2):\n",
    "            temp = b\n",
    "            b = a + b\n",
    "            a = temp\n",
    "            print(b)\n",
    "\n",
    "fibonacci(10)            "
   ]
  },
  {
   "cell_type": "markdown",
   "id": "708e1fce-1d28-4ae9-aa8d-d8a33079ec41",
   "metadata": {},
   "source": [
    "30. Check if a list is sorted."
   ]
  },
  {
   "cell_type": "code",
   "execution_count": 3,
   "id": "d4ea1737-6c9b-41d8-b0c8-857cafd760a8",
   "metadata": {},
   "outputs": [
    {
     "name": "stdin",
     "output_type": "stream",
     "text": [
      "enter your number how many elment whould like to insert in list  7\n",
      " 1\n",
      " 2\n",
      " 3\n",
      " 2\n",
      " 4\n",
      " 5\n",
      " 6\n"
     ]
    },
    {
     "name": "stdout",
     "output_type": "stream",
     "text": [
      "not sorted\n"
     ]
    }
   ],
   "source": [
    "n = int(input(\"enter your number how many elment whould like to insert in list \"))\n",
    "li1=[]\n",
    "for i in range(n):\n",
    "    number = int(input())\n",
    "    li1.append(number) \n",
    "if li1 == sorted(li1):\n",
    "    print(\"sorted\")\n",
    "else:\n",
    "    print(\"not sorted\")"
   ]
  },
  {
   "cell_type": "markdown",
   "id": "f4a8dcaf-4395-41e6-ae32-671270dcae9d",
   "metadata": {},
   "source": [
    "31. Rotate a list to the left by `n` positions."
   ]
  },
  {
   "cell_type": "code",
   "execution_count": 1,
   "id": "d93e98d4-cd84-4ac1-bf05-5c10b5dd0ec8",
   "metadata": {},
   "outputs": [
    {
     "name": "stdout",
     "output_type": "stream",
     "text": [
      "[3, 4, 5, 6, 1, 2]\n"
     ]
    }
   ],
   "source": [
    "list1 = [1,2,3,4,5,6]\n",
    "n = 2 \n",
    "print(list1[n:]+list1[:n])"
   ]
  },
  {
   "cell_type": "markdown",
   "id": "77c38da9-b75a-4d14-9601-dd2a55ef6f73",
   "metadata": {},
   "source": [
    "32. Rotate a list to the right by `n` positions."
   ]
  },
  {
   "cell_type": "code",
   "execution_count": 5,
   "id": "ec7554ed-e0d6-4ff9-abee-6cdcf828660e",
   "metadata": {},
   "outputs": [
    {
     "name": "stdout",
     "output_type": "stream",
     "text": [
      "[5, 6, 1, 2, 3, 4]\n"
     ]
    }
   ],
   "source": [
    "list1 = [1,2,3,4,5,6]\n",
    "n = 2 \n",
    "print(list1[len(list1)-n:]+list1[:len(list1)-n])"
   ]
  },
  {
   "cell_type": "markdown",
   "id": "ab4da82e-1da8-4dd4-a8f9-7f375ae3c8b1",
   "metadata": {},
   "source": [
    "33. Create a list of prime numbers up to 50."
   ]
  },
  {
   "cell_type": "code",
   "execution_count": 14,
   "id": "bab2d25c-ea35-4aae-8674-b735be0a530e",
   "metadata": {},
   "outputs": [
    {
     "name": "stdout",
     "output_type": "stream",
     "text": [
      "[0, 1, 2, 3, 5, 7, 11, 13, 17, 19, 23, 29, 31, 37, 41, 43, 47, 53, 59, 61, 67, 71, 73, 79, 83, 89, 97, 101, 103, 107, 109, 113, 127, 131, 137, 139, 149, 151, 157, 163, 167, 173, 179, 181, 191, 193, 197, 199, 211, 223]\n",
      "50\n"
     ]
    }
   ],
   "source": [
    "list1 = []\n",
    "count = 0\n",
    "for i in range(1000):\n",
    "    if count == 50:\n",
    "        break\n",
    "    flage =1\n",
    "    for j in range(2,int(i/2)+1):\n",
    "        if i%j == 0:\n",
    "            flage =0\n",
    "            break\n",
    "    if flage == 1:\n",
    "        list1.append(i)\n",
    "        count +=1\n",
    "print(list1) \n",
    "print(len(list1))"
   ]
  },
  {
   "cell_type": "markdown",
   "id": "83a657ff-4d0c-49bf-843e-eeaedc9c0965",
   "metadata": {},
   "source": [
    "34. Split a list into chunks of size `n`."
   ]
  },
  {
   "cell_type": "code",
   "execution_count": 7,
   "id": "aca9abf2-a2cb-4a1a-a614-3c9abfc9e22d",
   "metadata": {},
   "outputs": [
    {
     "name": "stdout",
     "output_type": "stream",
     "text": [
      "[0, 1, 2, 3, 4, 5, 6, 7, 8, 9, 10, 11, 12, 13, 14, 15, 16, 17, 18, 19, 20, 21, 22, 23, 24, 25, 26, 27, 28, 29, 30, 31, 32, 33, 34, 35, 36, 37, 38, 39, 40, 41, 42, 43, 44, 45, 46, 47, 48, 49]\n",
      "[0, 1, 2, 3, 4]\n",
      "[5, 6, 7, 8, 9]\n",
      "[10, 11, 12, 13, 14]\n",
      "[15, 16, 17, 18, 19]\n",
      "[20, 21, 22, 23, 24]\n",
      "[25, 26, 27, 28, 29]\n",
      "[30, 31, 32, 33, 34]\n",
      "[35, 36, 37, 38, 39]\n",
      "[40, 41, 42, 43, 44]\n",
      "[45, 46, 47, 48, 49]\n"
     ]
    }
   ],
   "source": [
    "list1 = [i for i in range(50)]\n",
    "print(list1)\n",
    "n = len(list1)\n",
    "numbersplit = 5\n",
    "temp = 0\n",
    "while n>numbersplit:\n",
    "    print(list1[temp:numbersplit+temp])\n",
    "    temp= temp + numbersplit\n",
    "    n = n-numbersplit\n",
    "if n > 0:\n",
    "    print(list1[temp:])"
   ]
  },
  {
   "cell_type": "markdown",
   "id": "6d192b02-ed7a-4d13-969f-fcb9e27cf070",
   "metadata": {},
   "source": [
    "35. Find the second largest number in a list."
   ]
  },
  {
   "cell_type": "code",
   "execution_count": 12,
   "id": "bcf6acd7-1c02-48b5-acc3-cacb608a89f0",
   "metadata": {},
   "outputs": [
    {
     "name": "stdout",
     "output_type": "stream",
     "text": [
      "[38, 1, 37, 2, 32, 16, 22, 21, 28, 25, 9, 15, 8, 36, 34, 12, 14, 30, 23, 19]\n",
      "The secound largest element in the list is: 37\n"
     ]
    }
   ],
   "source": [
    "import random \n",
    "list1=random.sample(range(1,40),20)\n",
    "print(list1)\n",
    "list1.remove(max(list1))\n",
    "largest_element = max(list1)\n",
    "print(\"The secound largest element in the list is:\", largest_element)"
   ]
  },
  {
   "cell_type": "markdown",
   "id": "1ca9fc13-8b92-4469-9c68-06d46ca6a657",
   "metadata": {},
   "source": [
    "36. Replace every element in a list with its square."
   ]
  },
  {
   "cell_type": "code",
   "execution_count": 16,
   "id": "1053fbae-d456-4c81-bf47-fc99a9dc9b44",
   "metadata": {},
   "outputs": [
    {
     "name": "stdout",
     "output_type": "stream",
     "text": [
      "[2, 37, 24, 10, 21, 25, 20, 23, 4, 8, 12, 15, 26, 35, 31, 6, 17, 29, 13, 32]\n",
      "[4, 1369, 576, 100, 441, 625, 400, 529, 16, 64, 144, 225, 676, 1225, 961, 36, 289, 841, 169, 1024]\n"
     ]
    }
   ],
   "source": [
    "import random \n",
    "list1=random.sample(range(1,40),20)\n",
    "print(list1)\n",
    "for i in range(len(list1)):\n",
    "     list1[i]=int(list1[i])*int(list1[i])\n",
    "print(list1)        "
   ]
  },
  {
   "cell_type": "markdown",
   "id": "a43795ed-b83d-4e6e-b84d-10d5e53db695",
   "metadata": {},
   "source": [
    "37. Convert a list to a dictionary where list elements become keys and their\n",
    "indices become values."
   ]
  },
  {
   "cell_type": "code",
   "execution_count": 19,
   "id": "975e25df-2a13-4602-ba22-2b48f3c6690a",
   "metadata": {},
   "outputs": [
    {
     "name": "stdout",
     "output_type": "stream",
     "text": [
      "{0: 1, 1: 2, 2: 3, 3: 4, 4: 5, 5: 6}\n"
     ]
    }
   ],
   "source": [
    "list1 = [1,2,3,4,5,6]\n",
    "dict1 = {}\n",
    "j=0\n",
    "for i in list1:\n",
    "    dict1[j]=i\n",
    "    j+=1\n",
    "print(dict1)    "
   ]
  },
  {
   "cell_type": "markdown",
   "id": "79fa77ef-b70d-4161-b7ac-8e40381d9a20",
   "metadata": {},
   "source": [
    "38. Shuffle the elements of a list randomly."
   ]
  },
  {
   "cell_type": "code",
   "execution_count": 22,
   "id": "02b35ee7-74a4-4427-a8e3-b1b234fcfdc0",
   "metadata": {},
   "outputs": [
    {
     "name": "stdout",
     "output_type": "stream",
     "text": [
      "[3, 1, 5, 4, 2]\n"
     ]
    }
   ],
   "source": [
    "import random\n",
    "\n",
    "my_list = [1, 2, 3, 4, 5]\n",
    "\n",
    "random.shuffle(my_list)\n",
    "\n",
    "print(my_list)\n"
   ]
  },
  {
   "cell_type": "markdown",
   "id": "8a8dce49-04be-4f54-9fc9-a59fd82646b0",
   "metadata": {},
   "source": [
    "39. Create a list of the first 10 factorial numbers."
   ]
  },
  {
   "cell_type": "code",
   "execution_count": 26,
   "id": "edd0cc4a-b5bb-4435-a342-c90c79ccbc98",
   "metadata": {},
   "outputs": [
    {
     "name": "stdout",
     "output_type": "stream",
     "text": [
      "[1, 1, 2, 6, 24, 120, 720, 5040, 40320, 362880]\n"
     ]
    }
   ],
   "source": [
    "list1 = []\n",
    "for i in range(0,10):\n",
    "    if i==0:\n",
    "        list1.append(1)\n",
    "    elif i == 1 :\n",
    "        list1.append(i)\n",
    "    else:\n",
    "        result =1\n",
    "        for j in range(1,i+1):\n",
    "            result *=j\n",
    "        list1.append(result)\n",
    "print(list1)        "
   ]
  },
  {
   "cell_type": "markdown",
   "id": "ab6ca313-15ab-46d5-a0d7-7b4d7644db88",
   "metadata": {},
   "source": [
    "40. Check if two lists have at least one element in common."
   ]
  },
  {
   "cell_type": "code",
   "execution_count": 35,
   "id": "ea9965f7-ef92-40a8-a422-ca5b5190ce11",
   "metadata": {},
   "outputs": [
    {
     "name": "stdout",
     "output_type": "stream",
     "text": [
      "common element in your list is  {5}\n"
     ]
    }
   ],
   "source": [
    "list1 = [1,2,3,4,5]\n",
    "list2=[5,6,7,8,9]\n",
    "if len(set(list1).intersection(set(list2)))>=1:\n",
    "    print(\"common element in your list is \",set(list1).intersection(set(list2)))"
   ]
  },
  {
   "cell_type": "markdown",
   "id": "87fbe717-392d-4f57-9e05-21f719b6a3a2",
   "metadata": {},
   "source": [
    "41. Remove all elements from a list."
   ]
  },
  {
   "cell_type": "code",
   "execution_count": 37,
   "id": "9103c9ec-990e-4281-b9df-d68129467f87",
   "metadata": {},
   "outputs": [
    {
     "name": "stdout",
     "output_type": "stream",
     "text": [
      "[]\n"
     ]
    }
   ],
   "source": [
    "list1 = [1,2,3,4,5]\n",
    "list1.clear()\n",
    "print(list1)"
   ]
  },
  {
   "cell_type": "markdown",
   "id": "030f72d4-adf6-4467-ae70-5a7b9df46357",
   "metadata": {},
   "source": [
    "42. Replace negative numbers in a list with 0."
   ]
  },
  {
   "cell_type": "code",
   "execution_count": 39,
   "id": "3d123332-9c3f-4f91-825b-4831d0cf5a60",
   "metadata": {},
   "outputs": [
    {
     "name": "stdout",
     "output_type": "stream",
     "text": [
      "[0, 0, 1, 2, 3, 4, 5]\n"
     ]
    }
   ],
   "source": [
    "list1 = [-1,-2,1,2,3,4,5]\n",
    "for i in range(len(list1)):\n",
    "    if list1[i] < 0:\n",
    "        list1[i]=0\n",
    "print(list1)        "
   ]
  },
  {
   "cell_type": "markdown",
   "id": "76bc14ea-d7c8-47bc-a3a3-81fdaab1f0bc",
   "metadata": {},
   "source": [
    "43. Convert a string into a list of words."
   ]
  },
  {
   "cell_type": "code",
   "execution_count": 41,
   "id": "42e7bdc5-fcf0-43d9-a281-b89d30f47e3a",
   "metadata": {},
   "outputs": [
    {
     "name": "stdout",
     "output_type": "stream",
     "text": [
      "['hello', 'this', 'is', 'a', 'vishal', 'baraiya']\n"
     ]
    }
   ],
   "source": [
    "string = \"hello this is a vishal baraiya\"\n",
    "list1= string.split()\n",
    "print(list1)"
   ]
  },
  {
   "cell_type": "markdown",
   "id": "03d40f8a-22e2-47c8-9dd2-e5a9f94d2418",
   "metadata": {},
   "source": [
    "44. Convert a list of words into a string."
   ]
  },
  {
   "cell_type": "code",
   "execution_count": 42,
   "id": "b4c4a1b2-29c7-45b3-a90a-8200712a6a13",
   "metadata": {},
   "outputs": [
    {
     "name": "stdout",
     "output_type": "stream",
     "text": [
      "hello this is a vishal baraiya\n"
     ]
    }
   ],
   "source": [
    "list1=['hello', 'this', 'is', 'a', 'vishal', 'baraiya']\n",
    "string = ''\n",
    "for i in list1:\n",
    "     string += \" \" +i\n",
    "print(string.strip())        "
   ]
  },
  {
   "cell_type": "markdown",
   "id": "b6aaf9eb-4581-4bd8-9ced-e314f3367bc1",
   "metadata": {},
   "source": [
    "45. Create a list of the first `n` powers of 2."
   ]
  },
  {
   "cell_type": "code",
   "execution_count": 2,
   "id": "8f8396fd-bdf0-47f1-8b41-ce82215b24db",
   "metadata": {},
   "outputs": [
    {
     "name": "stdin",
     "output_type": "stream",
     "text": [
      " 6\n"
     ]
    },
    {
     "name": "stdout",
     "output_type": "stream",
     "text": [
      "[0, 1, 4, 9, 16, 25]\n"
     ]
    }
   ],
   "source": [
    "n = int(input())\n",
    "list1 = [i*i for i in range(n)]\n",
    "print(list1)"
   ]
  },
  {
   "cell_type": "markdown",
   "id": "8df1cf4e-2c1a-449f-8a81-aae35d542f7e",
   "metadata": {},
   "source": [
    "46. Find the longest string in a list of strings."
   ]
  },
  {
   "cell_type": "code",
   "execution_count": 10,
   "id": "61db6c38-2ead-413b-8f0e-979cca33974e",
   "metadata": {},
   "outputs": [
    {
     "name": "stdout",
     "output_type": "stream",
     "text": [
      "elderberry\n",
      "elderberry\n"
     ]
    }
   ],
   "source": [
    "string_list = [\"apple\", \"banana\", \"cherry\", \"date\", \"elderberry\"]\n",
    "word = ''\n",
    "length = 0\n",
    "for i in string_list:\n",
    "    if len(i)>=length:\n",
    "        length = len(i)\n",
    "        word = i\n",
    "print(word) \n",
    "print(max(string_list,key = len))"
   ]
  },
  {
   "cell_type": "markdown",
   "id": "9be7467e-a16b-4784-9858-27ccdf9d4bc7",
   "metadata": {},
   "source": [
    "47. Find the shortest string in a list of strings."
   ]
  },
  {
   "cell_type": "code",
   "execution_count": 8,
   "id": "5237b6ff-77dd-4398-9fd3-3b2b2ae6e012",
   "metadata": {},
   "outputs": [
    {
     "name": "stdout",
     "output_type": "stream",
     "text": [
      "date\n",
      "date\n"
     ]
    }
   ],
   "source": [
    "string_list = [\"apple\", \"banana\", \"cherry\", \"date\", \"elderberry\"]\n",
    "word = ''\n",
    "length = 10000\n",
    "for i in string_list:\n",
    "    if len(i)<=length:\n",
    "        length = len(i)\n",
    "        word = i\n",
    "print(word) \n",
    "print(min(string_list,key = len))"
   ]
  },
  {
   "cell_type": "markdown",
   "id": "4d7c625f-bfe2-480b-95a1-42fcd9dbc5d0",
   "metadata": {},
   "source": [
    "48. Create a list of the first `n` triangular numbers."
   ]
  },
  {
   "cell_type": "code",
   "execution_count": 12,
   "id": "b2ac90d0-6bfd-4629-af4e-6156ca598996",
   "metadata": {},
   "outputs": [
    {
     "name": "stdout",
     "output_type": "stream",
     "text": [
      "[1, 3, 6, 10, 15]\n"
     ]
    }
   ],
   "source": [
    "n = 5 \n",
    "triangular_numbers = [(i * (i + 1)) // 2 for i in range(1, n + 1)]\n",
    "\n",
    "print(triangular_numbers)\n"
   ]
  },
  {
   "cell_type": "markdown",
   "id": "1bc2f5ea-668b-40ba-8d76-b8280770c405",
   "metadata": {},
   "source": [
    "49. Check if a list contains another list as a subsequence."
   ]
  },
  {
   "cell_type": "code",
   "execution_count": 15,
   "id": "885ed626-b397-4989-a55e-e7d11e78af11",
   "metadata": {},
   "outputs": [
    {
     "name": "stdout",
     "output_type": "stream",
     "text": [
      "true\n",
      "4 4\n"
     ]
    }
   ],
   "source": [
    "list1 = [1,2,3,4,5,6,7,8,9]\n",
    "list2 = [2,4,6,9]\n",
    "j = 0\n",
    "if len(list1)< len(list2):\n",
    "    print(\"false\")\n",
    "else:    \n",
    "    for i in range(len(list1)):\n",
    "        if list1[i] == list2[j]:\n",
    "            j+=1\n",
    "if j == len(list2):\n",
    "    print(\"true\")\n",
    "else:\n",
    "    print(\"false\")\n",
    "            \n",
    "print(j,len(list2))        \n",
    "    "
   ]
  },
  {
   "cell_type": "markdown",
   "id": "ce29dbe1-f697-4b57-aea6-c8fb5e97e4fb",
   "metadata": {},
   "source": [
    "50. Swap two elements in a list by their indices."
   ]
  },
  {
   "cell_type": "code",
   "execution_count": 17,
   "id": "d2d85574-4ae6-4fa8-9e29-ff1f3dbd7038",
   "metadata": {},
   "outputs": [
    {
     "name": "stdout",
     "output_type": "stream",
     "text": [
      "[10, 40, 30, 20, 50]\n"
     ]
    }
   ],
   "source": [
    "my_list = [10, 20, 30, 40, 50]\n",
    "index1 = 1  \n",
    "index2 = 3  \n",
    "my_list[index1], my_list[index2] = my_list[index2], my_list[index1]\n",
    "print(my_list)"
   ]
  },
  {
   "cell_type": "markdown",
   "id": "5f316f6f-4c38-4259-9f16-7d69295e2519",
   "metadata": {},
   "source": [
    "# Tuple Based Practice Problem "
   ]
  },
  {
   "cell_type": "markdown",
   "id": "d024fc2d-7aeb-4ed1-b756-e0951b10e6e7",
   "metadata": {},
   "source": [
    "1. Create a tuple with integers from 1 to 5."
   ]
  },
  {
   "cell_type": "code",
   "execution_count": 20,
   "id": "e7c82f70-0acc-4cdf-a103-e66786ed4b4d",
   "metadata": {},
   "outputs": [
    {
     "data": {
      "text/plain": [
       "tuple"
      ]
     },
     "execution_count": 20,
     "metadata": {},
     "output_type": "execute_result"
    }
   ],
   "source": [
    "tuple1 = (1,2,3,4,5)\n",
    "type(tuple1)"
   ]
  },
  {
   "cell_type": "markdown",
   "id": "71fca5d7-2be5-485d-8f14-80a169a22697",
   "metadata": {},
   "source": [
    "2. Access the third element of a tuple."
   ]
  },
  {
   "cell_type": "code",
   "execution_count": 22,
   "id": "ac12670b-623a-429f-b8dd-02312e716bdc",
   "metadata": {},
   "outputs": [
    {
     "data": {
      "text/plain": [
       "3"
      ]
     },
     "execution_count": 22,
     "metadata": {},
     "output_type": "execute_result"
    }
   ],
   "source": [
    "tuple1 = (1,2,3,4,5)\n",
    "tuple1[2]"
   ]
  },
  {
   "cell_type": "markdown",
   "id": "56dd4abb-662c-4e17-bed3-2bcd6c1f633a",
   "metadata": {},
   "source": [
    "3. Find the length of a tuple without using the `len()` function."
   ]
  },
  {
   "cell_type": "code",
   "execution_count": 25,
   "id": "994a1e86-94fc-4525-b9c5-57425b30b166",
   "metadata": {},
   "outputs": [
    {
     "name": "stdout",
     "output_type": "stream",
     "text": [
      "5\n"
     ]
    }
   ],
   "source": [
    "tuple1 = (1,2,3,4,5)\n",
    "count =0\n",
    "for i in tuple1:\n",
    "    count+=1\n",
    "print(count)    "
   ]
  },
  {
   "cell_type": "markdown",
   "id": "a5ab14b8-ce73-46c4-af96-789baec8a7f8",
   "metadata": {},
   "source": [
    "4. Count the occurrences of an element in a tuple."
   ]
  },
  {
   "cell_type": "code",
   "execution_count": 27,
   "id": "131bf95e-4f09-4803-a149-001232e916f4",
   "metadata": {},
   "outputs": [
    {
     "name": "stdout",
     "output_type": "stream",
     "text": [
      "The element 2 appears 3 times in the tuple.\n"
     ]
    }
   ],
   "source": [
    "my_tuple = (1, 2, 2, 3, 4, 2, 5)\n",
    "\n",
    "count = my_tuple.count(2)\n",
    "\n",
    "print(f\"The element 2 appears {count} times in the tuple.\")\n"
   ]
  },
  {
   "cell_type": "markdown",
   "id": "092e33ae-747c-46b8-a4a1-02dfe1c00e88",
   "metadata": {},
   "source": [
    "5. Find the index of the first occurrence of an element in a tuple."
   ]
  },
  {
   "cell_type": "code",
   "execution_count": 29,
   "id": "620b3e26-656c-4af6-9cc9-96b2459fd4b2",
   "metadata": {},
   "outputs": [
    {
     "name": "stdout",
     "output_type": "stream",
     "text": [
      "1\n"
     ]
    }
   ],
   "source": [
    "my_tuple = (1, 2, 2, 3, 4, 2, 5)\n",
    "print(my_tuple.index(2))"
   ]
  },
  {
   "cell_type": "markdown",
   "id": "1c7a8d16-4c71-429d-b531-d6058d792bbe",
   "metadata": {},
   "source": [
    "6. Check if an element exists in a tuple."
   ]
  },
  {
   "cell_type": "code",
   "execution_count": 31,
   "id": "65969360-3dd2-4ffa-bb0d-df1ee9cd9035",
   "metadata": {},
   "outputs": [
    {
     "name": "stdout",
     "output_type": "stream",
     "text": [
      "True\n"
     ]
    }
   ],
   "source": [
    "my_tuple = (1, 2, 2, 3, 4, 2, 5)\n",
    "print(2 in my_tuple)"
   ]
  },
  {
   "cell_type": "markdown",
   "id": "a0a666bb-2700-4dbc-b533-e68b565dc30b",
   "metadata": {},
   "source": [
    "7. Convert a tuple to a list."
   ]
  },
  {
   "cell_type": "code",
   "execution_count": 34,
   "id": "f8fdcb5a-8fad-4299-bc23-3881d19ebc8a",
   "metadata": {},
   "outputs": [
    {
     "name": "stdout",
     "output_type": "stream",
     "text": [
      "<class 'list'>\n"
     ]
    }
   ],
   "source": [
    "my_tuple = (1, 2, 2, 3, 4, 2, 5)\n",
    "print(type(list(my_tuple)))"
   ]
  },
  {
   "cell_type": "markdown",
   "id": "48978664-8eeb-4726-93f7-2616b9a02f53",
   "metadata": {},
   "source": [
    "8. Convert a list to a tuple."
   ]
  },
  {
   "cell_type": "code",
   "execution_count": 36,
   "id": "4a40cdd4-c571-47f1-861f-29f0a7386a73",
   "metadata": {},
   "outputs": [
    {
     "name": "stdout",
     "output_type": "stream",
     "text": [
      "<class 'tuple'>\n"
     ]
    }
   ],
   "source": [
    "my_list = [1,2,3,4,5]\n",
    "\n",
    "print(type(tuple(my_list)))"
   ]
  },
  {
   "cell_type": "markdown",
   "id": "4cc55878-612f-4977-9418-4e08f12efe2e",
   "metadata": {},
   "source": [
    "9. Unpack the elements of a tuple into variables."
   ]
  },
  {
   "cell_type": "code",
   "execution_count": 4,
   "id": "f45580a8-7e92-492b-af40-b7032bb3e1ce",
   "metadata": {},
   "outputs": [
    {
     "name": "stdout",
     "output_type": "stream",
     "text": [
      "var1: 1\n",
      "var2: 2\n",
      "var3: 3\n"
     ]
    }
   ],
   "source": [
    "my_tuple = (1, 2, 3)\n",
    "\n",
    "var1, var2, var3 = my_tuple\n",
    "\n",
    "print(\"var1:\", var1)\n",
    "print(\"var2:\", var2)\n",
    "print(\"var3:\", var3)\n"
   ]
  },
  {
   "cell_type": "markdown",
   "id": "0794c825-d6ba-42cf-9283-8c5db76caf51",
   "metadata": {},
   "source": [
    "10. Create a tuple of even numbers from 1 to 10."
   ]
  },
  {
   "cell_type": "code",
   "execution_count": 9,
   "id": "c302a7c1-dec4-442c-a083-64c38fbf0431",
   "metadata": {},
   "outputs": [
    {
     "name": "stdout",
     "output_type": "stream",
     "text": [
      "[2, 4, 6, 8, 10]\n"
     ]
    }
   ],
   "source": [
    "tuple1=([i*2 for i in range(1,6)])\n",
    "print(tuple1)"
   ]
  },
  {
   "cell_type": "markdown",
   "id": "1bb41fa1-21ee-4632-8c16-9c6eb7d0cad4",
   "metadata": {},
   "source": [
    "11. Create a tuple of odd numbers from 1 to 10."
   ]
  },
  {
   "cell_type": "code",
   "execution_count": 11,
   "id": "a6bac945-cb1e-4a98-a241-ecc5e4b25ab0",
   "metadata": {},
   "outputs": [
    {
     "name": "stdout",
     "output_type": "stream",
     "text": [
      "[1, 3, 5, 7, 9]\n"
     ]
    }
   ],
   "source": [
    "tuple1=([i*2+1 for i in range(0,5)])\n",
    "print(tuple1)"
   ]
  },
  {
   "cell_type": "markdown",
   "id": "e82d9cbe-ddfe-401c-9132-41013e92982a",
   "metadata": {},
   "source": [
    "12. Concatenate two tuples."
   ]
  },
  {
   "cell_type": "code",
   "execution_count": 24,
   "id": "3f5ccacb-68d0-4763-9ed8-d2b49a892b45",
   "metadata": {},
   "outputs": [
    {
     "name": "stdout",
     "output_type": "stream",
     "text": [
      "(1, 2, 3, 4, 5, 6, 7, 8, 9, 0)\n",
      "(1, 2, 3, 4, 5, 6, 7, 8, 9, 0)\n"
     ]
    }
   ],
   "source": [
    "tuple1=(1,2,3,4,5)\n",
    "tuple2 = (6,7,8,9,0)\n",
    "list3 = list(tuple1)\n",
    "list4=list(tuple2)\n",
    "list3.extend(list4)\n",
    "print(tuple(list3))\n",
    "# print(tuple1+tuple2)"
   ]
  },
  {
   "cell_type": "markdown",
   "id": "033f4c84-2c28-4701-986b-fc483bf51fac",
   "metadata": {},
   "source": [
    "13. Repeat a tuple three times."
   ]
  },
  {
   "cell_type": "code",
   "execution_count": 25,
   "id": "9b445118-e656-4c79-b5d1-746984016b6f",
   "metadata": {},
   "outputs": [
    {
     "name": "stdout",
     "output_type": "stream",
     "text": [
      "(1, 2, 3, 4, 5, 1, 2, 3, 4, 5, 1, 2, 3, 4, 5)\n"
     ]
    }
   ],
   "source": [
    "tuple1=(1,2,3,4,5)\n",
    "print(tuple1*3)"
   ]
  },
  {
   "cell_type": "markdown",
   "id": "921e97d9-2e4e-4bda-9319-68ed427172f5",
   "metadata": {},
   "source": [
    "14. Check if a tuple is empty."
   ]
  },
  {
   "cell_type": "code",
   "execution_count": 26,
   "id": "747b55bf-d135-4914-8af6-0f4051dea46e",
   "metadata": {},
   "outputs": [
    {
     "name": "stdout",
     "output_type": "stream",
     "text": [
      "The tuple is empty.\n"
     ]
    }
   ],
   "source": [
    "my_tuple = ()\n",
    "\n",
    "if len(my_tuple) == 0:\n",
    "    print(\"The tuple is empty.\")\n",
    "else:\n",
    "    print(\"The tuple is not empty.\")\n"
   ]
  },
  {
   "cell_type": "markdown",
   "id": "3e42cfe9-c948-42b4-935f-facc46bca379",
   "metadata": {},
   "source": [
    "15. Create a nested tuple."
   ]
  },
  {
   "cell_type": "code",
   "execution_count": 27,
   "id": "5e35c815-431d-467f-9c02-fe638a50aee0",
   "metadata": {},
   "outputs": [
    {
     "name": "stdout",
     "output_type": "stream",
     "text": [
      "((1, 2), (3, 4), (5, 6))\n"
     ]
    }
   ],
   "source": [
    "nested_tuple = ((1, 2), (3, 4), (5, 6))\n",
    "\n",
    "print(nested_tuple)\n"
   ]
  },
  {
   "cell_type": "markdown",
   "id": "b0da0e9c-8506-407e-af8b-8f1e9c656e9b",
   "metadata": {},
   "source": [
    "16. Access the first element of a nested tuple."
   ]
  },
  {
   "cell_type": "code",
   "execution_count": 29,
   "id": "634de3dd-5f9e-461d-9b2f-3ea328382745",
   "metadata": {},
   "outputs": [
    {
     "name": "stdout",
     "output_type": "stream",
     "text": [
      "1\n"
     ]
    }
   ],
   "source": [
    "nested_tuple = ((1, 2), (3, 4), (5, 6))\n",
    "\n",
    "print(nested_tuple[0][0])"
   ]
  },
  {
   "cell_type": "markdown",
   "id": "6e782be0-df6e-43a3-b180-98000b7b83d2",
   "metadata": {},
   "source": [
    "17. Create a tuple with a single element."
   ]
  },
  {
   "cell_type": "code",
   "execution_count": 33,
   "id": "d360f5e6-40db-4429-8638-6b44719873cb",
   "metadata": {},
   "outputs": [
    {
     "name": "stdout",
     "output_type": "stream",
     "text": [
      "(1,)\n"
     ]
    }
   ],
   "source": [
    "single_element_tuple = (1,)\n",
    "print(single_element_tuple)"
   ]
  },
  {
   "cell_type": "markdown",
   "id": "21c5a382-d9e1-49ee-b2d5-9eea3001a673",
   "metadata": {},
   "source": [
    "18. Compare two tuples."
   ]
  },
  {
   "cell_type": "code",
   "execution_count": 35,
   "id": "323a760d-2296-4a4c-abc3-0abcb4c1ba5b",
   "metadata": {},
   "outputs": [
    {
     "name": "stdout",
     "output_type": "stream",
     "text": [
      "tuple1 and tuple2 are equal\n",
      "tuple1 and tuple3 are not equal\n",
      "tuple1 is less than tuple3\n",
      "tuple3 is greater than tuple1\n"
     ]
    }
   ],
   "source": [
    "tuple1 = (1, 2, 3)\n",
    "tuple2 = (1, 2, 3)\n",
    "tuple3 = (3, 2, 1)\n",
    "\n",
    "if tuple1 == tuple2:\n",
    "    print(\"tuple1 and tuple2 are equal\")\n",
    "else:\n",
    "    print(\"tuple1 and tuple2 are not equal\")\n",
    "\n",
    "if tuple1 != tuple3:\n",
    "    print(\"tuple1 and tuple3 are not equal\")\n",
    "\n",
    "if tuple1 < tuple3:\n",
    "    print(\"tuple1 is less than tuple3\")\n",
    "\n",
    "if tuple3 > tuple1:\n",
    "    print(\"tuple3 is greater than tuple1\")\n"
   ]
  },
  {
   "cell_type": "markdown",
   "id": "42fcf48d-9297-4973-b858-e32aee5d42a8",
   "metadata": {},
   "source": [
    "19. Delete a tuple."
   ]
  },
  {
   "cell_type": "code",
   "execution_count": 36,
   "id": "4b8370eb-fe82-4a4c-96b5-31c31d69380f",
   "metadata": {},
   "outputs": [],
   "source": [
    "my_tuple = (1, 2, 3, 4, 5)\n",
    "del my_tuple"
   ]
  },
  {
   "cell_type": "markdown",
   "id": "2d1a9edb-572c-45a7-9029-d8239babce29",
   "metadata": {},
   "source": [
    "20. Slice a tuple."
   ]
  },
  {
   "cell_type": "code",
   "execution_count": 40,
   "id": "8ea8ed7a-d710-42f9-b661-f4eba1f3b04b",
   "metadata": {},
   "outputs": [
    {
     "data": {
      "text/plain": [
       "(1, 2, 3, 4, 5)"
      ]
     },
     "execution_count": 40,
     "metadata": {},
     "output_type": "execute_result"
    }
   ],
   "source": [
    "my_tuple = (1, 2, 3, 4, 5)\n",
    "my_tuple[:]"
   ]
  },
  {
   "cell_type": "markdown",
   "id": "4392925a-b58b-4901-8350-15b40fe05e83",
   "metadata": {},
   "source": [
    "21. Find the maximum value in a tuple."
   ]
  },
  {
   "cell_type": "code",
   "execution_count": 41,
   "id": "e03b9745-58c6-40c0-b604-2f5504393e0f",
   "metadata": {},
   "outputs": [
    {
     "data": {
      "text/plain": [
       "5"
      ]
     },
     "execution_count": 41,
     "metadata": {},
     "output_type": "execute_result"
    }
   ],
   "source": [
    "my_tuple = (1, 2, 3, 4, 5)\n",
    "max(my_tuple)"
   ]
  },
  {
   "cell_type": "markdown",
   "id": "065eba2a-4b93-4d9c-a9f9-f1430ba24682",
   "metadata": {},
   "source": [
    "22. Find the minimum value in a tuple."
   ]
  },
  {
   "cell_type": "code",
   "execution_count": 42,
   "id": "c805e300-9843-47c3-911e-b032c6057e0f",
   "metadata": {},
   "outputs": [
    {
     "data": {
      "text/plain": [
       "1"
      ]
     },
     "execution_count": 42,
     "metadata": {},
     "output_type": "execute_result"
    }
   ],
   "source": [
    "my_tuple = (1, 2, 3, 4, 5)\n",
    "min(my_tuple)"
   ]
  },
  {
   "cell_type": "markdown",
   "id": "0765c017-ba7e-4234-939a-02023fb72c60",
   "metadata": {},
   "source": [
    "23. Convert a string to a tuple of characters."
   ]
  },
  {
   "cell_type": "code",
   "execution_count": 57,
   "id": "0aeb4ded-53f7-4478-b9dd-f2fae5092309",
   "metadata": {},
   "outputs": [
    {
     "name": "stdout",
     "output_type": "stream",
     "text": [
      "('v', 'i', 's', 'h', 'a', 'l', 'b', 'a', 'r', 'a', 'i', 'y', 'a')\n"
     ]
    }
   ],
   "source": [
    "string = \"vishalbaraiya\"\n",
    "tuple1 = tuple(string)\n",
    "print(tuple1)"
   ]
  },
  {
   "cell_type": "markdown",
   "id": "7f0ec035-2e7e-4cfb-963a-aa5793fddbc7",
   "metadata": {},
   "source": [
    "24. Convert a tuple of characters to a string."
   ]
  },
  {
   "cell_type": "code",
   "execution_count": 62,
   "id": "339be651-0249-4177-9cd6-9b607eb8b23e",
   "metadata": {},
   "outputs": [
    {
     "name": "stdout",
     "output_type": "stream",
     "text": [
      "vishalbaraiya\n"
     ]
    }
   ],
   "source": [
    "tuple1 = ('v', 'i', 's', 'h', 'a', 'l', 'b', 'a', 'r', 'a', 'i', 'y', 'a')\n",
    "string = ''\n",
    "for i in tuple1:\n",
    "    string +=i\n",
    "print(string)"
   ]
  },
  {
   "cell_type": "markdown",
   "id": "52d55aba-6b39-4d9d-a750-5528c7d250bf",
   "metadata": {},
   "source": [
    "25. Create a tuple from multiple data types."
   ]
  },
  {
   "cell_type": "code",
   "execution_count": 63,
   "id": "c7ff82d3-cf4f-4159-9131-7aa649dd3c7b",
   "metadata": {},
   "outputs": [
    {
     "name": "stdout",
     "output_type": "stream",
     "text": [
      "(1, 'hello', 3.14, True)\n"
     ]
    }
   ],
   "source": [
    "mixed_tuple = (1, \"hello\", 3.14, True)\n",
    "\n",
    "print(mixed_tuple)\n"
   ]
  },
  {
   "cell_type": "markdown",
   "id": "9f62f3ff-ab55-4fa7-9e31-ad6f67995988",
   "metadata": {},
   "source": [
    "26. Check if two tuples are identical."
   ]
  },
  {
   "cell_type": "code",
   "execution_count": 65,
   "id": "706eccd6-9f3a-4525-b310-f73cb2b3587a",
   "metadata": {},
   "outputs": [
    {
     "name": "stdout",
     "output_type": "stream",
     "text": [
      "tuple1 and tuple2 are identical\n",
      "tuple1 and tuple3 are not identical\n"
     ]
    }
   ],
   "source": [
    "tuple1 = (1, 2, 3)\n",
    "tuple2 = (1, 2, 3)\n",
    "tuple3 = (3, 2, 1)\n",
    "\n",
    "if tuple1 == tuple2:\n",
    "    print(\"tuple1 and tuple2 are identical\")\n",
    "else:\n",
    "    print(\"tuple1 and tuple2 are not identical\")\n",
    "\n",
    "if tuple1 == tuple3:\n",
    "    print(\"tuple1 and tuple3 are identical\")\n",
    "else:\n",
    "    print(\"tuple1 and tuple3 are not identical\")\n"
   ]
  },
  {
   "cell_type": "markdown",
   "id": "4dba15d1-5a32-4802-8cd7-7e8da8b78210",
   "metadata": {},
   "source": [
    "27. Sort the elements of a tuple."
   ]
  },
  {
   "cell_type": "markdown",
   "id": "95268719-5036-43fb-90fa-f87ab4c1b382",
   "metadata": {},
   "source": [
    "Tuples are immutable in Python, which means you cannot change their contents directly. However, you can sort the elements of a tuple and create a new sorted tuple from it. Here's how you can do it using the sorted() function:"
   ]
  },
  {
   "cell_type": "code",
   "execution_count": 66,
   "id": "7d4d0ab8-1bb9-4022-bbf7-43ae63c574b9",
   "metadata": {},
   "outputs": [
    {
     "name": "stdout",
     "output_type": "stream",
     "text": [
      "(1, 2, 3, 4, 5)\n"
     ]
    }
   ],
   "source": [
    "my_tuple = (3, 1, 2, 5, 4)\n",
    "sorted_tuple = tuple(sorted(my_tuple))\n",
    "print(sorted_tuple)"
   ]
  },
  {
   "cell_type": "markdown",
   "id": "cc284800-b87a-4179-b585-50067acf3550",
   "metadata": {},
   "source": [
    "28. Convert a tuple of integers to a tuple of strings."
   ]
  },
  {
   "cell_type": "code",
   "execution_count": 68,
   "id": "f8a01344-aaa8-4c60-96fd-619996301768",
   "metadata": {},
   "outputs": [
    {
     "name": "stdout",
     "output_type": "stream",
     "text": [
      "('3', '1', '2', '5', '4')\n"
     ]
    }
   ],
   "source": [
    "my_tuple = (3, 1, 2, 5, 4)\n",
    "sorted_tuple = tuple(str(i) for i in my_tuple)\n",
    "print(sorted_tuple)"
   ]
  },
  {
   "cell_type": "markdown",
   "id": "45494f66-812d-4ede-9e37-40319c71cc92",
   "metadata": {},
   "source": [
    "29. Convert a tuple of strings to a tuple of integers."
   ]
  },
  {
   "cell_type": "code",
   "execution_count": 70,
   "id": "762c5aac-aa14-4822-bbc3-2b4af9669dfa",
   "metadata": {},
   "outputs": [
    {
     "name": "stdout",
     "output_type": "stream",
     "text": [
      "(3, 1, 2, 5, 4)\n"
     ]
    }
   ],
   "source": [
    "my_tuple = ('3', '1', '2', '5', '4')\n",
    "sorted_tuple = tuple(int(i) for i in my_tuple)\n",
    "print(sorted_tuple)"
   ]
  },
  {
   "cell_type": "markdown",
   "id": "def5a0a6-9554-4c2c-b5ac-a99dd2984195",
   "metadata": {},
   "source": [
    "30. Merge two tuples."
   ]
  },
  {
   "cell_type": "code",
   "execution_count": 72,
   "id": "7e800015-0415-4a06-b3ba-c6ea1c627c52",
   "metadata": {},
   "outputs": [
    {
     "name": "stdout",
     "output_type": "stream",
     "text": [
      "(1, 2, 3, 4, 5, 6)\n"
     ]
    }
   ],
   "source": [
    "tuple1 = (1, 2, 3)\n",
    "tuple2 = (4, 5, 6)\n",
    "tuple3 = tuple1+tuple2\n",
    "print(tuple3)"
   ]
  },
  {
   "cell_type": "markdown",
   "id": "c31b11c5-e306-443f-975b-fff25ede2840",
   "metadata": {},
   "source": [
    "31. Flatten a nested tuple."
   ]
  },
  {
   "cell_type": "code",
   "execution_count": 74,
   "id": "aa846a50-173a-4b52-9dbb-e87dba826a01",
   "metadata": {},
   "outputs": [
    {
     "name": "stdout",
     "output_type": "stream",
     "text": [
      "[6, 5, 4, 3, 2, 1]\n"
     ]
    }
   ],
   "source": [
    "nested_tuple = ((1, 2), (3, 4, 5), (6,))\n",
    "stack = list(nested_tuple)\n",
    "list1=[]\n",
    "while stack:\n",
    "        i = stack.pop()\n",
    "        if type(i) is tuple:\n",
    "            stack.extend(i)\n",
    "        else:\n",
    "            list1.append(i)\n",
    "print(list1)            "
   ]
  },
  {
   "cell_type": "markdown",
   "id": "caee835d-c5c4-438f-ab87-74f3861ffb3c",
   "metadata": {},
   "source": [
    "32. Create a tuple of the first 5 prime numbers."
   ]
  },
  {
   "cell_type": "code",
   "execution_count": 82,
   "id": "3e550272-f88c-4930-93d8-c6eecf7360f0",
   "metadata": {},
   "outputs": [
    {
     "name": "stdout",
     "output_type": "stream",
     "text": [
      "(2, 3, 5, 7, 11)\n"
     ]
    }
   ],
   "source": [
    "list1 = []\n",
    "count =0\n",
    "for i in range(2,100):\n",
    "        flage =1\n",
    "        if count == 5:\n",
    "            break\n",
    "        for j in range(2,i):\n",
    "            if i%j==0:\n",
    "                flage = 0\n",
    "                break\n",
    "        if flage == 1:\n",
    "            list1.append(i)\n",
    "            count+=1\n",
    "print(tuple(list1))            "
   ]
  },
  {
   "cell_type": "markdown",
   "id": "0f25ba87-fa85-4fe3-bccc-30955981f7fe",
   "metadata": {},
   "source": [
    "33. Check if a tuple is a palindrome."
   ]
  },
  {
   "cell_type": "code",
   "execution_count": 110,
   "id": "932fbcdc-f07f-4c0f-9323-c5adfcb607a1",
   "metadata": {},
   "outputs": [
    {
     "name": "stdout",
     "output_type": "stream",
     "text": [
      "Palindrome\n"
     ]
    }
   ],
   "source": [
    "tuple1 = (1, 2, 3, 2, 1)\n",
    "\n",
    "if tuple1 == tuple1[::-1]:\n",
    "    print(\"Palindrome\")\n",
    "else:\n",
    "    print(\"Not a palindrome\")\n"
   ]
  },
  {
   "cell_type": "markdown",
   "id": "8bc95266-9f95-46a8-b789-a4215620b5e1",
   "metadata": {},
   "source": [
    "34. Create a tuple of squares of numbers from 1 to 5."
   ]
  },
  {
   "cell_type": "code",
   "execution_count": 111,
   "id": "c1b0ebc7-301c-4510-a253-edf418e76f0c",
   "metadata": {},
   "outputs": [
    {
     "name": "stdout",
     "output_type": "stream",
     "text": [
      "(1, 4, 9, 16, 25)\n"
     ]
    }
   ],
   "source": [
    "squares_list = [x**2 for x in range(1, 6)]\n",
    "squares_tuple = tuple(squares_list)\n",
    "print(squares_tuple)"
   ]
  },
  {
   "cell_type": "markdown",
   "id": "6e055cf1-9e9d-42c9-932c-b1a4d5db2c50",
   "metadata": {},
   "source": [
    "35. Filter out all even numbers from a tuple."
   ]
  },
  {
   "cell_type": "code",
   "execution_count": 3,
   "id": "213ecbe8-8345-4bc7-b828-f73908a258c8",
   "metadata": {},
   "outputs": [
    {
     "name": "stdout",
     "output_type": "stream",
     "text": [
      "2\n",
      "4\n",
      "6\n",
      "8\n"
     ]
    }
   ],
   "source": [
    "my_tuple = (1, 2, 3, 4, 5, 6, 7, 8, 9)\n",
    "for i in my_tuple:\n",
    "    if i % 2 == 0:\n",
    "        print(i)"
   ]
  },
  {
   "cell_type": "markdown",
   "id": "e5a58746-1a50-456d-ac4a-7acf08851649",
   "metadata": {},
   "source": [
    "36. Multiply all elements in a tuple by 2."
   ]
  },
  {
   "cell_type": "code",
   "execution_count": 6,
   "id": "a487ec41-e805-40ba-9e10-22fb862cd7d6",
   "metadata": {},
   "outputs": [
    {
     "name": "stdout",
     "output_type": "stream",
     "text": [
      "(2, 4, 6, 8, 10, 12, 14, 16, 18)\n"
     ]
    }
   ],
   "source": [
    "my_tuple = (1, 2, 3, 4, 5, 6, 7, 8, 9)\n",
    "new_tuple = tuple(i*2 for i in my_tuple)\n",
    "print(new_tuple)"
   ]
  },
  {
   "cell_type": "markdown",
   "id": "51268a78-779c-4273-b6db-a0931faf4dc0",
   "metadata": {},
   "source": [
    "37. Create a tuple of random numbers."
   ]
  },
  {
   "cell_type": "code",
   "execution_count": 11,
   "id": "e936397a-e4ff-4f14-a948-fdc9ce15d4b5",
   "metadata": {},
   "outputs": [
    {
     "name": "stdout",
     "output_type": "stream",
     "text": [
      "(28, 30, 9, 6, 12, 31, 7, 22, 23, 37)\n"
     ]
    }
   ],
   "source": [
    "import random \n",
    "my_tuple = tuple(random.sample(range(1,40),10))\n",
    "print(my_tuple)"
   ]
  },
  {
   "cell_type": "markdown",
   "id": "a0a4b0be-09c2-4ca1-8f0b-fcb95fcc32f5",
   "metadata": {},
   "source": [
    "38. Check if a tuple is sorted."
   ]
  },
  {
   "cell_type": "code",
   "execution_count": 13,
   "id": "5b3ad8aa-82e8-4831-9a46-174f6708cf28",
   "metadata": {},
   "outputs": [
    {
     "name": "stdout",
     "output_type": "stream",
     "text": [
      "not sorted \n"
     ]
    }
   ],
   "source": [
    "tuple1 = (28, 30, 9, 6, 12, 31, 7, 22, 23, 37)\n",
    "if tuple1 == sorted(tuple1):\n",
    "    print(\"sorted\")\n",
    "else:\n",
    "    print(\"not sorted \")"
   ]
  },
  {
   "cell_type": "markdown",
   "id": "6d14454e-e655-4334-8c17-edac1d334f87",
   "metadata": {},
   "source": [
    "39. Rotate a tuple to the left by `n` positions."
   ]
  },
  {
   "cell_type": "code",
   "execution_count": 16,
   "id": "384349f9-df08-4cf8-b339-61fc5c7c854b",
   "metadata": {},
   "outputs": [
    {
     "name": "stdout",
     "output_type": "stream",
     "text": [
      "(9, 6, 12, 31, 7, 22, 23, 37, 28, 30)\n"
     ]
    }
   ],
   "source": [
    "tuple1 = (28, 30, 9, 6, 12, 31, 7, 22, 23, 37)\n",
    "n = 2\n",
    "tuple2 = tuple1[n:]+tuple1[:n]\n",
    "print(tuple2)"
   ]
  },
  {
   "cell_type": "markdown",
   "id": "487407ff-11b2-461f-acc8-53de3ed4aa35",
   "metadata": {},
   "source": [
    "40. Rotate a tuple to the right by `n` positions."
   ]
  },
  {
   "cell_type": "code",
   "execution_count": 21,
   "id": "b285595b-9ddd-486a-9101-791329f60fe0",
   "metadata": {},
   "outputs": [
    {
     "name": "stdout",
     "output_type": "stream",
     "text": [
      "(23, 37, 28, 30, 9, 6, 12, 31, 7, 22)\n"
     ]
    }
   ],
   "source": [
    "tuple1 = (28, 30, 9, 6, 12, 31, 7, 22, 23, 37)\n",
    "n = 2\n",
    "tuple2 = tuple1[len(tuple1)-n:len(tuple1)]+tuple1[:len(tuple1)-n]\n",
    "print(tuple2)"
   ]
  },
  {
   "cell_type": "markdown",
   "id": "8065e8fc-1b21-426a-99db-25e8772494d3",
   "metadata": {},
   "source": [
    "41. Create a tuple of the first 5 Fibonacci numbers."
   ]
  },
  {
   "cell_type": "code",
   "execution_count": 23,
   "id": "1eb0c958-0b22-4be4-aa0d-e6f24fcf64ee",
   "metadata": {},
   "outputs": [
    {
     "name": "stdout",
     "output_type": "stream",
     "text": [
      "(0, 1, 1, 2, 3)\n"
     ]
    }
   ],
   "source": [
    "fibonacci_tuple = (0, 1)\n",
    "for i in range(3):\n",
    "    next_fib = fibonacci_tuple[-1] + fibonacci_tuple[-2]\n",
    "    fibonacci_tuple += (next_fib,)\n",
    "\n",
    "print(fibonacci_tuple)\n"
   ]
  },
  {
   "cell_type": "markdown",
   "id": "0d8257fc-5ea5-48e6-86d2-eae2ad5688bb",
   "metadata": {},
   "source": [
    "42. Create a tuple from user input."
   ]
  },
  {
   "cell_type": "code",
   "execution_count": 25,
   "id": "3caa8997-ca29-4f75-af3d-36b7cdd17f7f",
   "metadata": {},
   "outputs": [
    {
     "name": "stdin",
     "output_type": "stream",
     "text": [
      "enetr tuple length  4\n"
     ]
    },
    {
     "name": "stdout",
     "output_type": "stream",
     "text": [
      "<class 'tuple'>\n"
     ]
    },
    {
     "name": "stdin",
     "output_type": "stream",
     "text": [
      " 1\n",
      " 2\n",
      " 3\n",
      " 4\n"
     ]
    },
    {
     "name": "stdout",
     "output_type": "stream",
     "text": [
      "('1', '2', '3', '4')\n"
     ]
    }
   ],
   "source": [
    "n = int(input(\"enetr tuple length \"))\n",
    "tuple1=tuple()\n",
    "print(type(tuple1))\n",
    "for i in range(n):\n",
    "    inp = input()\n",
    "    tuple1 = tuple1 + (inp,)\n",
    "print(tuple1)    "
   ]
  },
  {
   "cell_type": "markdown",
   "id": "f29b8398-4a7c-4aa9-b4d4-467425823b19",
   "metadata": {},
   "source": [
    "43. Swap two elements in a tuple."
   ]
  },
  {
   "cell_type": "code",
   "execution_count": 27,
   "id": "a22814fe-9349-4cdd-905c-715341b9ccd0",
   "metadata": {},
   "outputs": [
    {
     "name": "stdout",
     "output_type": "stream",
     "text": [
      "(2, 1)\n"
     ]
    }
   ],
   "source": [
    "\n",
    "my_tuple = (1, 2)\n",
    "element1, element2 = my_tuple\n",
    "new_tuple = (element2, element1)\n",
    "print(new_tuple)\n"
   ]
  },
  {
   "cell_type": "markdown",
   "id": "cdcbc334-7282-4527-928f-5e71d12ca76e",
   "metadata": {},
   "source": [
    "44. Reverse the elements of a tuple."
   ]
  },
  {
   "cell_type": "code",
   "execution_count": 28,
   "id": "774164ae-bc22-417d-a339-99eb344b898e",
   "metadata": {},
   "outputs": [
    {
     "name": "stdout",
     "output_type": "stream",
     "text": [
      "('4', '3', '2', '1')\n"
     ]
    }
   ],
   "source": [
    "tuple1 = ('1', '2', '3', '4')\n",
    "print(tuple1[::-1])"
   ]
  },
  {
   "cell_type": "markdown",
   "id": "c0ed8df6-26cd-4906-8801-c54e40fc257b",
   "metadata": {},
   "source": [
    "45. Create a tuple of the first `n` powers of 2."
   ]
  },
  {
   "cell_type": "code",
   "execution_count": 33,
   "id": "c2e8871a-bece-485c-8610-1efaa499788d",
   "metadata": {},
   "outputs": [
    {
     "name": "stdout",
     "output_type": "stream",
     "text": [
      "(1, 4, 9, 16, 25, 36, 49, 64, 81, 100)\n"
     ]
    }
   ],
   "source": [
    "n = 10 \n",
    "tuple1=tuple()\n",
    "for i in range(1,11):\n",
    "    tuple1 = tuple1+(i*i,)\n",
    "print(tuple1)    "
   ]
  },
  {
   "cell_type": "markdown",
   "id": "48e4900b-3b76-4177-b0ee-834cee9001dc",
   "metadata": {},
   "source": [
    "46. Find the longest string in a tuple of strings."
   ]
  },
  {
   "cell_type": "code",
   "execution_count": 35,
   "id": "33a289d8-d77e-4772-8e04-d0afdd90e615",
   "metadata": {},
   "outputs": [
    {
     "name": "stdout",
     "output_type": "stream",
     "text": [
      "The longest string is: elderberry\n"
     ]
    }
   ],
   "source": [
    "string_tuple = (\"apple\", \"banana\", \"cherry\", \"date\", \"elderberry\")\n",
    "longest_string = \"\"\n",
    "for string in string_tuple:\n",
    "    if len(string) > len(longest_string):\n",
    "        longest_string = string\n",
    "print(\"The longest string is:\", longest_string)\n"
   ]
  },
  {
   "cell_type": "markdown",
   "id": "8c272720-7ffd-41f1-b2e7-d0c48cc334d1",
   "metadata": {},
   "source": [
    "47. Find the shortest string in a tuple of strings."
   ]
  },
  {
   "cell_type": "code",
   "execution_count": 38,
   "id": "3ca5300f-7759-4ce7-98e8-5b34467431ca",
   "metadata": {},
   "outputs": [
    {
     "data": {
      "text/plain": [
       "'date'"
      ]
     },
     "execution_count": 38,
     "metadata": {},
     "output_type": "execute_result"
    }
   ],
   "source": [
    "string_tuple = (\"apple\", \"banana\", \"cherry\", \"date\", \"elderberry\")\n",
    "min(string_tuple,key = len)"
   ]
  },
  {
   "cell_type": "markdown",
   "id": "bdf39064-f563-4478-8573-af4281e0f586",
   "metadata": {},
   "source": [
    "48. Create a tuple of the first `n` triangular numbers."
   ]
  },
  {
   "cell_type": "code",
   "execution_count": 40,
   "id": "db98c60f-ded5-4178-b20e-8a8bbdbf0403",
   "metadata": {},
   "outputs": [
    {
     "name": "stdout",
     "output_type": "stream",
     "text": [
      "(0, 1, 3, 6, 10, 15, 21, 28, 36, 45)\n"
     ]
    }
   ],
   "source": [
    "print(tuple([(i*(i+1))//2 for i in range(n)]))"
   ]
  },
  {
   "cell_type": "markdown",
   "id": "0b43b9a8-8fe6-412e-a6e3-58e2f0bf97fe",
   "metadata": {},
   "source": [
    "49. Check if a tuple contains another tuple as a subsequence."
   ]
  },
  {
   "cell_type": "code",
   "execution_count": 6,
   "id": "ca8ca11a-81ed-4025-91ec-d9b412a682e4",
   "metadata": {},
   "outputs": [
    {
     "name": "stdout",
     "output_type": "stream",
     "text": [
      "subsequence\n"
     ]
    }
   ],
   "source": [
    "tuple1 = (1, 2, 3, 4, 5, 6, 7, 8)\n",
    "tuple2 = (1, 4, 8)\n",
    "j = 0\n",
    "\n",
    "for i in range(len(tuple1)):\n",
    "    if tuple1[i] == tuple2[j]:\n",
    "        j += 1\n",
    "        if j == len(tuple2):\n",
    "            print(\"subsequence\")\n",
    "            break\n",
    "\n",
    "if j != len(tuple2):\n",
    "    print(\"Not a subsequence\")\n"
   ]
  },
  {
   "cell_type": "markdown",
   "id": "f77472c2-85a3-4d3d-a731-a3ac80349d8c",
   "metadata": {},
   "source": [
    "50. Create a tuple of alternating 1s and 0s of length `n`."
   ]
  },
  {
   "cell_type": "code",
   "execution_count": 3,
   "id": "72c08943-5911-4fe3-853d-2f933db67be3",
   "metadata": {},
   "outputs": [
    {
     "name": "stdout",
     "output_type": "stream",
     "text": [
      "(1, 0, 1, 0, 1, 0, 1, 0, 1, 0)\n"
     ]
    }
   ],
   "source": [
    "n = 10\n",
    "tuple1 = tuple()\n",
    "for i in range(n):\n",
    "    if i % 2 == 0:\n",
    "        tuple1 += (1,) \n",
    "    else:\n",
    "        tuple1+= (0,)\n",
    "print(tuple1)        "
   ]
  },
  {
   "cell_type": "markdown",
   "id": "3dd390c0-91dc-4315-90de-17721ca8e013",
   "metadata": {},
   "source": [
    "# Set Based Practice Problem :"
   ]
  },
  {
   "cell_type": "markdown",
   "id": "ac636a77-6c3c-4b06-8e25-4703fb5b8f2c",
   "metadata": {},
   "source": [
    "1. Create a set with integers from 1 to 5."
   ]
  },
  {
   "cell_type": "code",
   "execution_count": 2,
   "id": "1c79bec4-3142-4e40-a3f9-e363e858026e",
   "metadata": {},
   "outputs": [
    {
     "name": "stdout",
     "output_type": "stream",
     "text": [
      "{1, 2, 3, 4, 5} <class 'set'>\n"
     ]
    }
   ],
   "source": [
    "set1 = {1,2,3,4,5}\n",
    "print(set1,type(set1))"
   ]
  },
  {
   "cell_type": "markdown",
   "id": "b968a0da-a22a-4b64-ac08-db1d5bd97f9d",
   "metadata": {},
   "source": [
    "2. Add an element to a set."
   ]
  },
  {
   "cell_type": "code",
   "execution_count": 4,
   "id": "b3e18a78-586d-40f7-aea3-5d3a110ee21e",
   "metadata": {},
   "outputs": [
    {
     "data": {
      "text/plain": [
       "{1, 2, 3, 4, 5, 6}"
      ]
     },
     "execution_count": 4,
     "metadata": {},
     "output_type": "execute_result"
    }
   ],
   "source": [
    "set1.add(6)\n",
    "set1"
   ]
  },
  {
   "cell_type": "markdown",
   "id": "1ad09280-bcc5-4649-80ee-6a4343e488e2",
   "metadata": {},
   "source": [
    "3. Remove an element from a set."
   ]
  },
  {
   "cell_type": "code",
   "execution_count": 5,
   "id": "308c7afb-a1cd-45b0-ad55-2d858e0fd7fc",
   "metadata": {},
   "outputs": [
    {
     "data": {
      "text/plain": [
       "{1, 2, 3, 4, 5}"
      ]
     },
     "execution_count": 5,
     "metadata": {},
     "output_type": "execute_result"
    }
   ],
   "source": [
    "set1.remove(6)\n",
    "set1"
   ]
  },
  {
   "cell_type": "markdown",
   "id": "9932ba77-49e5-4711-a35f-81b38e522a71",
   "metadata": {},
   "source": [
    "4. Check if an element exists in a set."
   ]
  },
  {
   "cell_type": "code",
   "execution_count": 6,
   "id": "58d9020e-0b46-4c82-ada2-11473b28dc33",
   "metadata": {},
   "outputs": [
    {
     "name": "stdout",
     "output_type": "stream",
     "text": [
      "yes\n"
     ]
    }
   ],
   "source": [
    "if 5 in set1:\n",
    "    print(\"yes\")"
   ]
  },
  {
   "cell_type": "markdown",
   "id": "73c5ca57-03f3-4a86-931e-c83f92768fb5",
   "metadata": {},
   "source": [
    "5. Find the length of a set without using the `len()` function."
   ]
  },
  {
   "cell_type": "code",
   "execution_count": 7,
   "id": "a8343316-cd91-4837-871c-61ffee296231",
   "metadata": {},
   "outputs": [
    {
     "name": "stdout",
     "output_type": "stream",
     "text": [
      "5\n"
     ]
    }
   ],
   "source": [
    "count = 0 \n",
    "for i in set1:\n",
    "    count +=1\n",
    "print(count)    "
   ]
  },
  {
   "cell_type": "markdown",
   "id": "e1308208-236d-4caa-a059-f356851ccccf",
   "metadata": {},
   "source": [
    "6. Clear all elements from a set."
   ]
  },
  {
   "cell_type": "code",
   "execution_count": 8,
   "id": "19c4326d-7771-4751-8851-b50ba074d5a7",
   "metadata": {},
   "outputs": [
    {
     "name": "stdout",
     "output_type": "stream",
     "text": [
      "{1, 2, 3, 4, 5}\n",
      "set()\n"
     ]
    }
   ],
   "source": [
    "print(set1)\n",
    "set1.clear()\n",
    "print(set1)"
   ]
  },
  {
   "cell_type": "markdown",
   "id": "b0d71f84-2109-448d-99c1-1fdc8b4b399c",
   "metadata": {},
   "source": [
    "7. Create a set of even numbers from 1 to 10."
   ]
  },
  {
   "cell_type": "code",
   "execution_count": 9,
   "id": "c49b0377-f59c-4af4-8510-93ef4bf03fa9",
   "metadata": {},
   "outputs": [
    {
     "name": "stdout",
     "output_type": "stream",
     "text": [
      "{2, 4, 6, 8, 10}\n"
     ]
    }
   ],
   "source": [
    "for i in range(1,11):\n",
    "    if i % 2==0:\n",
    "        set1.add(i)\n",
    "print(set1)        "
   ]
  },
  {
   "cell_type": "markdown",
   "id": "a5f9e044-caf4-4f6d-9795-158f91a019c5",
   "metadata": {},
   "source": [
    "8. Create a set of odd numbers from 1 to 10."
   ]
  },
  {
   "cell_type": "code",
   "execution_count": 10,
   "id": "1398d054-2618-4c91-82f3-96bb97828ba7",
   "metadata": {},
   "outputs": [
    {
     "name": "stdout",
     "output_type": "stream",
     "text": [
      "{1, 3, 5, 7, 9}\n"
     ]
    }
   ],
   "source": [
    "set1.clear()\n",
    "for i in range(1,11):\n",
    "    if i % 2!=0:\n",
    "        set1.add(i)\n",
    "print(set1)   "
   ]
  },
  {
   "cell_type": "markdown",
   "id": "a352c262-78ca-465a-9f67-4da1f557631f",
   "metadata": {},
   "source": [
    "9. Find the union of two sets."
   ]
  },
  {
   "cell_type": "code",
   "execution_count": 13,
   "id": "8d362535-5bd2-418a-a750-5137c63f96f2",
   "metadata": {},
   "outputs": [
    {
     "name": "stdout",
     "output_type": "stream",
     "text": [
      "{0, 1, 2, 3, 4, 5, 6, 7, 8, 9}\n"
     ]
    }
   ],
   "source": [
    "set2 = {0,2,4,6,8}\n",
    "print(set1.union(set2))"
   ]
  },
  {
   "cell_type": "markdown",
   "id": "8571c69b-4746-410f-98d3-c9cc93e44493",
   "metadata": {},
   "source": [
    "10. Find the intersection of two sets."
   ]
  },
  {
   "cell_type": "code",
   "execution_count": 15,
   "id": "feeddb1c-884a-4d96-b61b-d68fa205b0ac",
   "metadata": {},
   "outputs": [
    {
     "name": "stdout",
     "output_type": "stream",
     "text": [
      "{1}\n"
     ]
    }
   ],
   "source": [
    "set2 = {0,2,4,6,8,1}\n",
    "print(set1.intersection(set2))"
   ]
  },
  {
   "cell_type": "markdown",
   "id": "88c92aff-ac30-42e0-ab21-cd4f1a456a76",
   "metadata": {},
   "source": [
    "11. Find the difference between two sets."
   ]
  },
  {
   "cell_type": "code",
   "execution_count": 18,
   "id": "187de499-3823-4ec7-8361-fb3d14883099",
   "metadata": {},
   "outputs": [
    {
     "name": "stdout",
     "output_type": "stream",
     "text": [
      "{1, 3, 5, 7, 9} {0, 1, 2, 4, 6, 8}\n",
      "{9, 3, 5, 7}\n"
     ]
    },
    {
     "data": {
      "text/plain": [
       "{3, 5, 7, 9}"
      ]
     },
     "execution_count": 18,
     "metadata": {},
     "output_type": "execute_result"
    }
   ],
   "source": [
    "print(set1,set2)\n",
    "print(set1-set2)\n",
    "# set1.difference(set2)"
   ]
  },
  {
   "cell_type": "markdown",
   "id": "b0f22bdc-3bb1-4d9f-81b2-23a3cd9f136e",
   "metadata": {},
   "source": [
    "12. Check if a set is a subset of another set."
   ]
  },
  {
   "cell_type": "code",
   "execution_count": 23,
   "id": "05e2e624-bd3b-4995-9213-ce1cf6d0b723",
   "metadata": {},
   "outputs": [
    {
     "data": {
      "text/plain": [
       "True"
      ]
     },
     "execution_count": 23,
     "metadata": {},
     "output_type": "execute_result"
    }
   ],
   "source": [
    "set1 = {1,2,3,4,5,6}\n",
    "set2={1,2,3}\n",
    "set2.issubset(set2)"
   ]
  },
  {
   "cell_type": "markdown",
   "id": "2f29f647-f1e3-4625-b1af-849055e319a8",
   "metadata": {},
   "source": [
    "14. Create a set from a list."
   ]
  },
  {
   "cell_type": "code",
   "execution_count": 24,
   "id": "4043d951-2cd6-418b-9a3a-2ee727f2a4fa",
   "metadata": {},
   "outputs": [
    {
     "name": "stdout",
     "output_type": "stream",
     "text": [
      "{1, 2, 3, 4, 5, 6, 7}\n"
     ]
    }
   ],
   "source": [
    "list1 = [1,2,3,4,5,6,7]\n",
    "print(set(list1))"
   ]
  },
  {
   "cell_type": "markdown",
   "id": "43301aff-ed59-4490-ab1a-37bfc6a65ed4",
   "metadata": {},
   "source": [
    "15. Convert a set to a list."
   ]
  },
  {
   "cell_type": "code",
   "execution_count": 26,
   "id": "ab05e562-64e5-4caa-ac24-df8ea2052fc2",
   "metadata": {},
   "outputs": [
    {
     "name": "stdout",
     "output_type": "stream",
     "text": [
      "[1, 2, 3, 4, 5, 6]\n"
     ]
    }
   ],
   "source": [
    "set1 = {1,2,3,4,5,6}\n",
    "print(list(set1))"
   ]
  },
  {
   "cell_type": "markdown",
   "id": "ebaedf02-5c65-4822-b81b-0674268a77a6",
   "metadata": {},
   "source": [
    "16. Remove a random element from a set."
   ]
  },
  {
   "cell_type": "code",
   "execution_count": 28,
   "id": "e12cfe2b-cb19-4303-81f6-85a81c534b70",
   "metadata": {},
   "outputs": [
    {
     "data": {
      "text/plain": [
       "{1, 2, 3, 5, 6}"
      ]
     },
     "execution_count": 28,
     "metadata": {},
     "output_type": "execute_result"
    }
   ],
   "source": [
    "set1 = {1,2,3,4,5,6}\n",
    "number = 4 \n",
    "set1.remove(number)\n",
    "set1"
   ]
  },
  {
   "cell_type": "markdown",
   "id": "89b5dcf7-1858-467f-867f-b77ae877a945",
   "metadata": {},
   "source": [
    "17. Pop an element from a set."
   ]
  },
  {
   "cell_type": "code",
   "execution_count": 32,
   "id": "7b960afb-b4c3-40b4-a303-afbf4175a6f5",
   "metadata": {},
   "outputs": [
    {
     "name": "stdout",
     "output_type": "stream",
     "text": [
      "1\n",
      "{2, 3, 4, 5, 6}\n"
     ]
    }
   ],
   "source": [
    "set1 = {1,2,3,4,5,6}\n",
    "print(set1.pop())\n",
    "print(set1)\n"
   ]
  },
  {
   "cell_type": "markdown",
   "id": "ae5c9c15-d078-48a0-a7ea-050bbf977a90",
   "metadata": {},
   "source": [
    "18. Check if two sets have no elements in common."
   ]
  },
  {
   "cell_type": "code",
   "execution_count": 34,
   "id": "99d90450-16ea-4703-88f5-01fa2285a007",
   "metadata": {},
   "outputs": [
    {
     "data": {
      "text/plain": [
       "False"
      ]
     },
     "execution_count": 34,
     "metadata": {},
     "output_type": "execute_result"
    }
   ],
   "source": [
    "set1.isdisjoint(set2)"
   ]
  },
  {
   "cell_type": "markdown",
   "id": "4905466e-fe5b-4a1e-8638-1a03204ca098",
   "metadata": {},
   "source": [
    "19. Find the symmetric difference between two sets."
   ]
  },
  {
   "cell_type": "code",
   "execution_count": 35,
   "id": "d4718867-8cfe-4bd8-b01c-e04c20c7cd20",
   "metadata": {},
   "outputs": [
    {
     "name": "stdout",
     "output_type": "stream",
     "text": [
      "Symmetric difference: {1, 2, 6, 7}\n"
     ]
    }
   ],
   "source": [
    "set1 = {1, 2, 3, 4, 5}\n",
    "set2 = {3, 4, 5, 6, 7}\n",
    "\n",
    "symmetric_diff = set1.symmetric_difference(set2)\n",
    "\n",
    "print(\"Symmetric difference:\", symmetric_diff)\n"
   ]
  },
  {
   "cell_type": "markdown",
   "id": "0c0e42db-ebd5-4cae-9dc5-f9cc4e90f30c",
   "metadata": {},
   "source": [
    "21. Create a set of the first 5 prime numbers."
   ]
  },
  {
   "cell_type": "code",
   "execution_count": 41,
   "id": "327243a7-cfc8-4ff4-8e09-50d83312e9ae",
   "metadata": {},
   "outputs": [
    {
     "name": "stdout",
     "output_type": "stream",
     "text": [
      "{2, 3, 5, 7, 11}\n"
     ]
    }
   ],
   "source": [
    "set1 = {2}\n",
    "count = 1\n",
    "for i in range(3,100):\n",
    "    flage = 1\n",
    "    for j in range(2,i):\n",
    "        if i%j == 0 :\n",
    "            flage = 0\n",
    "            break\n",
    "    if flage == 1:\n",
    "        set1.add(i)\n",
    "        count+=1\n",
    "    if count == 5:\n",
    "        break\n",
    "print(set1)        \n",
    "            "
   ]
  },
  {
   "cell_type": "markdown",
   "id": "f488c173-e203-4506-bcb2-039bf663fd78",
   "metadata": {},
   "source": [
    "22. Check if two sets are identical."
   ]
  },
  {
   "cell_type": "code",
   "execution_count": 42,
   "id": "ef5f7961-eeb6-4226-9ed7-cc71f7a237c5",
   "metadata": {},
   "outputs": [
    {
     "name": "stdout",
     "output_type": "stream",
     "text": [
      "The sets are identical.\n"
     ]
    }
   ],
   "source": [
    "set1 = {1, 2, 3}\n",
    "set2 = {3, 2, 1}\n",
    "\n",
    "if set1 == set2:\n",
    "    print(\"The sets are identical.\")\n",
    "else:\n",
    "    print(\"The sets are not identical.\")\n"
   ]
  },
  {
   "cell_type": "markdown",
   "id": "b9e78560-5f15-49be-8fda-06f316871549",
   "metadata": {},
   "source": [
    "23. Create a frozen set."
   ]
  },
  {
   "cell_type": "code",
   "execution_count": 43,
   "id": "24aeef19-dd99-4e85-a7ea-f71220a06243",
   "metadata": {},
   "outputs": [
    {
     "name": "stdout",
     "output_type": "stream",
     "text": [
      "Original set: {1, 2, 3, 4, 5}\n",
      "Frozen set: frozenset({1, 2, 3, 4, 5})\n"
     ]
    }
   ],
   "source": [
    "my_set = {1, 2, 3, 4, 5}\n",
    "my_frozen_set = frozenset(my_set)\n",
    "print(\"Original set:\", my_set)\n",
    "print(\"Frozen set:\", my_frozen_set)\n"
   ]
  },
  {
   "cell_type": "markdown",
   "id": "fbb6babb-d5e0-4a58-9b21-901fea46bafa",
   "metadata": {},
   "source": [
    "24. Check if a set is disjoint with another set."
   ]
  },
  {
   "cell_type": "code",
   "execution_count": 44,
   "id": "de9712a3-cf8d-4fe9-a7ab-e531ebb8a1f6",
   "metadata": {},
   "outputs": [
    {
     "name": "stdout",
     "output_type": "stream",
     "text": [
      "set1 and set2 are disjoint (they have no elements in common).\n"
     ]
    }
   ],
   "source": [
    "set1 = {1, 2, 3}\n",
    "set2 = {4, 5, 6}\n",
    "are_disjoint = set1.isdisjoint(set2)\n",
    "\n",
    "if are_disjoint:\n",
    "    print(\"set1 and set2 are disjoint (they have no elements in common).\")\n",
    "else:\n",
    "    print(\"set1 and set2 have elements in common.\")\n"
   ]
  },
  {
   "cell_type": "markdown",
   "id": "a6a6844d-54d0-4544-b858-439ea7af49eb",
   "metadata": {},
   "source": [
    "25. Create a set of squares of numbers from 1 to 5."
   ]
  },
  {
   "cell_type": "code",
   "execution_count": 45,
   "id": "665dec68-44ad-4f0f-8cfa-29d20b42dd3e",
   "metadata": {},
   "outputs": [
    {
     "name": "stdout",
     "output_type": "stream",
     "text": [
      "{1, 4, 9}\n"
     ]
    }
   ],
   "source": [
    "set1 = {1, 2, 3}\n",
    "print({i*i for i in set1})"
   ]
  },
  {
   "cell_type": "markdown",
   "id": "f931ba6f-9d27-41f7-84e1-e7ae8e2b0405",
   "metadata": {},
   "source": [
    "26. Filter out all even numbers from a set."
   ]
  },
  {
   "cell_type": "code",
   "execution_count": 46,
   "id": "eb922eb8-126a-4737-9718-341bf9c91973",
   "metadata": {},
   "outputs": [
    {
     "name": "stdout",
     "output_type": "stream",
     "text": [
      "{2}\n"
     ]
    }
   ],
   "source": [
    "set1 = {1, 2, 3}\n",
    "print({i for i in set1 if i %2 == 0})"
   ]
  },
  {
   "cell_type": "markdown",
   "id": "b2b5fa2d-c622-4b7e-ba6d-e0de8597169e",
   "metadata": {},
   "source": [
    "27. Multiply all elements in a set by 2."
   ]
  },
  {
   "cell_type": "code",
   "execution_count": 47,
   "id": "a3429921-c129-4d5c-83d2-00540cf01684",
   "metadata": {},
   "outputs": [
    {
     "name": "stdout",
     "output_type": "stream",
     "text": [
      "{2, 4, 6}\n"
     ]
    }
   ],
   "source": [
    "set1 = {1, 2, 3}\n",
    "print({i*2 for i in set1 })"
   ]
  },
  {
   "cell_type": "markdown",
   "id": "2f301c6c-739d-4445-86f2-89d68a85ed82",
   "metadata": {},
   "source": [
    "28. Create a set of random numbers."
   ]
  },
  {
   "cell_type": "code",
   "execution_count": 49,
   "id": "ec15d523-6d19-48ac-8e36-3d9cc47faa99",
   "metadata": {},
   "outputs": [
    {
     "name": "stdout",
     "output_type": "stream",
     "text": [
      "{2, 4, 6, 7, 9, 13, 15, 16, 17, 19}\n"
     ]
    }
   ],
   "source": [
    "import random\n",
    "set1 = set(random.sample(range(1,20),10))\n",
    "print(set1)"
   ]
  },
  {
   "cell_type": "markdown",
   "id": "22c41c20-d414-4659-95a0-cefb7211668a",
   "metadata": {},
   "source": [
    "29. Check if a set is empty."
   ]
  },
  {
   "cell_type": "code",
   "execution_count": 51,
   "id": "56ccc387-76fc-4980-ae3a-34ce0d87f0c1",
   "metadata": {},
   "outputs": [
    {
     "name": "stdout",
     "output_type": "stream",
     "text": [
      "empty set \n"
     ]
    }
   ],
   "source": [
    "set1 = set()\n",
    "if len(set1) == 0:\n",
    "    print(\"empty set \")\n",
    "else:\n",
    "    print(\"not emplty set\")"
   ]
  },
  {
   "cell_type": "markdown",
   "id": "4da80652-eb60-40dc-8a2a-98aaf6241619",
   "metadata": {},
   "source": [
    "30. Create a nested set (hint: use frozenset)."
   ]
  },
  {
   "cell_type": "code",
   "execution_count": 59,
   "id": "803e0aa6-2986-4d7d-9c2d-6c5b00275ea4",
   "metadata": {},
   "outputs": [
    {
     "name": "stdout",
     "output_type": "stream",
     "text": [
      "frozenset({1, 2, 3})\n",
      "frozenset({4, 5, 6})\n"
     ]
    }
   ],
   "source": [
    "nested_set = {frozenset({1, 2, 3}), frozenset({4, 5, 6})}\n",
    "\n",
    "for sub_set in nested_set:\n",
    "    print(sub_set)\n"
   ]
  },
  {
   "cell_type": "markdown",
   "id": "c3e9a061-13fa-4023-bd6e-657e0f7a96bd",
   "metadata": {},
   "source": [
    "31. Remove an element from a set using the discard method."
   ]
  },
  {
   "cell_type": "code",
   "execution_count": 60,
   "id": "4b467f0a-5e0c-4e49-910d-f4db01d6c35b",
   "metadata": {},
   "outputs": [
    {
     "data": {
      "text/plain": [
       "{1, 2}"
      ]
     },
     "execution_count": 60,
     "metadata": {},
     "output_type": "execute_result"
    }
   ],
   "source": [
    "set1 = {1, 2, 3}\n",
    "set1.discard(3)\n",
    "set1"
   ]
  },
  {
   "cell_type": "markdown",
   "id": "3ec6fe55-cb1e-482c-8ad2-e7c618d1bd8e",
   "metadata": {},
   "source": [
    "32. Compare two sets."
   ]
  },
  {
   "cell_type": "code",
   "execution_count": 61,
   "id": "93438696-c8ca-45ad-a516-a0d167f217f5",
   "metadata": {},
   "outputs": [
    {
     "name": "stdout",
     "output_type": "stream",
     "text": [
      "The sets are equal.\n"
     ]
    }
   ],
   "source": [
    "set1 = {1, 2, 3}\n",
    "set2 = {3, 2, 1}\n",
    "\n",
    "if set1 == set2:\n",
    "    print(\"The sets are equal.\")\n",
    "else:\n",
    "    print(\"The sets are not equal.\")\n"
   ]
  },
  {
   "cell_type": "markdown",
   "id": "2f35b231-c6e0-4854-b40b-4bd81f13c5bf",
   "metadata": {},
   "source": [
    "33. Create a set from a string."
   ]
  },
  {
   "cell_type": "code",
   "execution_count": 62,
   "id": "cf40323b-e2c5-4e0a-bd9b-c76d05d8777a",
   "metadata": {},
   "outputs": [
    {
     "data": {
      "text/plain": [
       "{'a', 'h', 'i', 'l', 's', 'v'}"
      ]
     },
     "execution_count": 62,
     "metadata": {},
     "output_type": "execute_result"
    }
   ],
   "source": [
    "string = \"vishal\"\n",
    "set1 = set(string)\n",
    "set1"
   ]
  },
  {
   "cell_type": "markdown",
   "id": "420c9caf-2878-4535-b5e3-62fb0cee38d7",
   "metadata": {},
   "source": [
    "34. Convert a set of strings to a set of integers."
   ]
  },
  {
   "cell_type": "code",
   "execution_count": 65,
   "id": "e0558bf1-00bc-4b82-b953-0612df545b91",
   "metadata": {},
   "outputs": [
    {
     "name": "stdout",
     "output_type": "stream",
     "text": [
      "{1, 2, 3, 4, 5}\n"
     ]
    }
   ],
   "source": [
    "set1 = {'1','2','3','4','5'}\n",
    "set2 = set()\n",
    "for i in set1:\n",
    "    set2.add(int(i))\n",
    "print(set2)    "
   ]
  },
  {
   "cell_type": "markdown",
   "id": "d024e941-04c7-40d6-af32-19bcf277a465",
   "metadata": {},
   "source": [
    "36. Create a set from a tuple."
   ]
  },
  {
   "cell_type": "code",
   "execution_count": 66,
   "id": "5a8641a1-f3fa-47c8-bbbe-373c96797556",
   "metadata": {},
   "outputs": [
    {
     "data": {
      "text/plain": [
       "{1, 2, 3, 4, 5}"
      ]
     },
     "execution_count": 66,
     "metadata": {},
     "output_type": "execute_result"
    }
   ],
   "source": [
    "tuple1 = (1,2,3,4,5)\n",
    "set1 = set(tuple1)\n",
    "set1"
   ]
  },
  {
   "cell_type": "markdown",
   "id": "0c1df948-19e9-4ee7-bc2b-32956207818e",
   "metadata": {},
   "source": [
    "37. Convert a set to a tuple."
   ]
  },
  {
   "cell_type": "code",
   "execution_count": 67,
   "id": "1f3aa5d6-bb9b-41d2-af22-518a54bad92a",
   "metadata": {},
   "outputs": [
    {
     "data": {
      "text/plain": [
       "(1, 2, 3, 4, 5)"
      ]
     },
     "execution_count": 67,
     "metadata": {},
     "output_type": "execute_result"
    }
   ],
   "source": [
    "tuple({1, 2, 3, 4, 5})"
   ]
  },
  {
   "cell_type": "markdown",
   "id": "3093773d-da07-4de9-a44c-1054f9c93331",
   "metadata": {},
   "source": [
    "38. Find the maximum value in a set."
   ]
  },
  {
   "cell_type": "code",
   "execution_count": 69,
   "id": "9a739472-087e-429c-bee8-c27cebc5beda",
   "metadata": {},
   "outputs": [
    {
     "data": {
      "text/plain": [
       "5"
      ]
     },
     "execution_count": 69,
     "metadata": {},
     "output_type": "execute_result"
    }
   ],
   "source": [
    "max(set1)"
   ]
  },
  {
   "cell_type": "markdown",
   "id": "cce19350-967c-4751-bdc3-24ca8c5d9567",
   "metadata": {},
   "source": [
    "39. Find the minimum value in a set."
   ]
  },
  {
   "cell_type": "code",
   "execution_count": 70,
   "id": "9f578573-eb11-45bb-84a8-7e8be7d98e94",
   "metadata": {},
   "outputs": [
    {
     "data": {
      "text/plain": [
       "1"
      ]
     },
     "execution_count": 70,
     "metadata": {},
     "output_type": "execute_result"
    }
   ],
   "source": [
    "min(set1)"
   ]
  },
  {
   "cell_type": "markdown",
   "id": "644e2afa-a2b9-45eb-b16b-7cb350553a9c",
   "metadata": {},
   "source": [
    "40. Create a set from user input."
   ]
  },
  {
   "cell_type": "code",
   "execution_count": 1,
   "id": "c1e12668-6a1b-445d-819c-4be63e84fd5e",
   "metadata": {},
   "outputs": [
    {
     "name": "stdin",
     "output_type": "stream",
     "text": [
      " 1\n",
      " 2\n",
      " 3\n",
      " 4\n",
      " 5\n",
      " 6\n",
      " 7\n",
      " 8\n",
      " 9\n",
      " 0\n"
     ]
    },
    {
     "data": {
      "text/plain": [
       "{'0', '1', '2', '3', '4', '5', '6', '7', '8', '9'}"
      ]
     },
     "execution_count": 1,
     "metadata": {},
     "output_type": "execute_result"
    }
   ],
   "source": [
    "set1 = set()\n",
    "for i in range(10):\n",
    "    inp = input()\n",
    "    set1.add(inp)\n",
    "set1    "
   ]
  },
  {
   "cell_type": "markdown",
   "id": "de5a8323-0598-43eb-bee2-348092fa3e1c",
   "metadata": {},
   "source": [
    "41. Check if the intersection of two sets is empty."
   ]
  },
  {
   "cell_type": "code",
   "execution_count": 2,
   "id": "82e49d83-3667-4b6e-932f-9b7ea5313def",
   "metadata": {},
   "outputs": [
    {
     "name": "stdout",
     "output_type": "stream",
     "text": [
      "intersection of set is empty\n"
     ]
    }
   ],
   "source": [
    "set1={1,2,3,4}\n",
    "set2={5,6,7,8}\n",
    "if len(set1.intersection(set2))==0:\n",
    "    print(\"intersection of set is empty\")\n",
    "else:\n",
    "    print(\"intersection of two set was not epmty\")"
   ]
  },
  {
   "cell_type": "markdown",
   "id": "2374e6a0-c7f0-406c-8959-1bd26c148e69",
   "metadata": {},
   "source": [
    "42. Create a set of the first 5 Fibonacci numbers."
   ]
  },
  {
   "cell_type": "code",
   "execution_count": 1,
   "id": "091f844d-6485-48fd-988e-1cc55754302d",
   "metadata": {},
   "outputs": [
    {
     "data": {
      "text/plain": [
       "{0, 1, 2, 3}"
      ]
     },
     "execution_count": 1,
     "metadata": {},
     "output_type": "execute_result"
    }
   ],
   "source": [
    "set1 = {0,1}\n",
    "a=0\n",
    "b=1\n",
    "for i in range(3):\n",
    "    set1.add(a+b)\n",
    "    temp = a\n",
    "    a=b\n",
    "    b = temp +a\n",
    "set1    "
   ]
  },
  {
   "cell_type": "markdown",
   "id": "1409eaaa-2f6b-4f86-914d-d41d49cd185d",
   "metadata": {},
   "source": [
    "43. Remove duplicates from a list using sets."
   ]
  },
  {
   "cell_type": "code",
   "execution_count": 2,
   "id": "0fdcc4af-73e0-4b9f-bca3-82d57194e4f7",
   "metadata": {},
   "outputs": [
    {
     "data": {
      "text/plain": [
       "[1, 2, 3, 4, 5, 6]"
      ]
     },
     "execution_count": 2,
     "metadata": {},
     "output_type": "execute_result"
    }
   ],
   "source": [
    "list1 = [1,2,2,2,3,4,5,6]\n",
    "list1 = list(set(list1))\n",
    "list1"
   ]
  },
  {
   "cell_type": "markdown",
   "id": "37fe4132-5b54-4b27-aa88-a9fb1be0256c",
   "metadata": {},
   "source": [
    "44. Check if two sets have the same elements, regardless of their count."
   ]
  },
  {
   "cell_type": "code",
   "execution_count": 4,
   "id": "8cf82623-ea44-43ba-85f8-831996917f72",
   "metadata": {},
   "outputs": [
    {
     "name": "stdout",
     "output_type": "stream",
     "text": [
      "The sets are equivalent (have the same elements).\n"
     ]
    }
   ],
   "source": [
    "set1 = {1, 2, 3, 4, 5}\n",
    "set2 = {5, 4, 3, 2, 1}\n",
    "\n",
    "if set1 == set2:\n",
    "    print(\"The sets are equivalent (have the same elements).\")\n",
    "else:\n",
    "    print(\"The sets are not equivalent \")"
   ]
  },
  {
   "cell_type": "markdown",
   "id": "7ad263c7-8a5a-453c-b309-3802a0010e28",
   "metadata": {},
   "source": [
    "45. Create a set of the first `n` powers of 2."
   ]
  },
  {
   "cell_type": "code",
   "execution_count": 8,
   "id": "04824e47-bce7-4504-8fe4-615c9b019ffe",
   "metadata": {},
   "outputs": [
    {
     "data": {
      "text/plain": [
       "{0, 1, 4, 9, 16, 25, 36, 49, 64, 81}"
      ]
     },
     "execution_count": 8,
     "metadata": {},
     "output_type": "execute_result"
    }
   ],
   "source": [
    "n=10\n",
    "set1 = {i*i for i in range(n)}\n",
    "set1"
   ]
  },
  {
   "cell_type": "markdown",
   "id": "960a2938-cca2-4e2b-b5ff-0b7e5c95627a",
   "metadata": {},
   "source": [
    "46. Find the common elements between a set and a list."
   ]
  },
  {
   "cell_type": "code",
   "execution_count": 9,
   "id": "a384d33a-3540-4535-b94a-900ab0de252f",
   "metadata": {},
   "outputs": [
    {
     "name": "stdout",
     "output_type": "stream",
     "text": [
      "{1, 2, 3}\n"
     ]
    }
   ],
   "source": [
    "list1 = [1,2,3,4]\n",
    "set1 = {1,2,3,5}\n",
    "print(set1.intersection(set(list1)))"
   ]
  },
  {
   "cell_type": "markdown",
   "id": "f021156c-e650-4dd5-bcc1-2555247681e5",
   "metadata": {},
   "source": [
    "47. Create a set of the first `n` triangular numbers."
   ]
  },
  {
   "cell_type": "code",
   "execution_count": 10,
   "id": "002c56d0-4501-4699-93f2-3ff6f94aecfc",
   "metadata": {},
   "outputs": [
    {
     "name": "stdout",
     "output_type": "stream",
     "text": [
      "{0, 1, 3, 36, 6, 10, 45, 15, 21, 28}\n"
     ]
    }
   ],
   "source": [
    "print({(i*(i+1))//2 for i in range(10)})"
   ]
  },
  {
   "cell_type": "markdown",
   "id": "a5416b1f-7396-4930-b415-6ebe9aeca54f",
   "metadata": {},
   "source": [
    "48. Check if a set contains another set as a subset."
   ]
  },
  {
   "cell_type": "code",
   "execution_count": 11,
   "id": "e16bdc64-ba3d-4b5d-862a-5ad3962cb4fd",
   "metadata": {},
   "outputs": [
    {
     "name": "stdout",
     "output_type": "stream",
     "text": [
      "True\n"
     ]
    }
   ],
   "source": [
    "set1 = {1,2,3,4}\n",
    "set2={1,2}\n",
    "print(set2.issubset(set1))"
   ]
  },
  {
   "cell_type": "markdown",
   "id": "27db5ab0-e09e-4871-a0c5-1a2f0bb572e8",
   "metadata": {},
   "source": [
    "49. Create a set of alternating 1s and 0s of length `n`."
   ]
  },
  {
   "cell_type": "code",
   "execution_count": 12,
   "id": "d2df962f-229f-49a9-9308-be46f2d8b41f",
   "metadata": {},
   "outputs": [
    {
     "name": "stdout",
     "output_type": "stream",
     "text": [
      "{0, 1}\n"
     ]
    }
   ],
   "source": [
    "n = 10  # Replace with your desired length\n",
    "alternating_set = set()\n",
    "\n",
    "for i in range(n):\n",
    "    alternating_set.add(i % 2)\n",
    "\n",
    "print(alternating_set)\n"
   ]
  },
  {
   "cell_type": "markdown",
   "id": "fec9c62d-91a9-4c8b-ba67-28353732e849",
   "metadata": {},
   "source": [
    "50. Merge multiple sets into one."
   ]
  },
  {
   "cell_type": "code",
   "execution_count": 13,
   "id": "c83a7cc6-e99c-48d5-b55f-43850e052a1a",
   "metadata": {},
   "outputs": [
    {
     "name": "stdout",
     "output_type": "stream",
     "text": [
      "{1, 2, 3, 4, 5, 6, 7, 8}\n"
     ]
    }
   ],
   "source": [
    "set1 = {1,2,3,4,5}\n",
    "set2 = {1,6,7,8}\n",
    "print(set1.union(set2))"
   ]
  }
 ],
 "metadata": {
  "kernelspec": {
   "display_name": "Python 3 (ipykernel)",
   "language": "python",
   "name": "python3"
  },
  "language_info": {
   "codemirror_mode": {
    "name": "ipython",
    "version": 3
   },
   "file_extension": ".py",
   "mimetype": "text/x-python",
   "name": "python",
   "nbconvert_exporter": "python",
   "pygments_lexer": "ipython3",
   "version": "3.10.8"
  }
 },
 "nbformat": 4,
 "nbformat_minor": 5
}
