{
 "cells": [
  {
   "cell_type": "markdown",
   "id": "c4b9e6c6-aa4b-43c9-a603-df0b0ea527a7",
   "metadata": {},
   "source": [
    "# basic if-elese statement\n"
   ]
  },
  {
   "cell_type": "markdown",
   "id": "5a6245c6-e6eb-44e0-8787-6522ea52e3cf",
   "metadata": {},
   "source": [
    "1. Write a Python program to check if a given number is positive or negative."
   ]
  },
  {
   "cell_type": "code",
   "execution_count": 1,
   "id": "b2d03886-5137-4882-8e95-4d70813a6a0a",
   "metadata": {},
   "outputs": [
    {
     "name": "stdin",
     "output_type": "stream",
     "text": [
      " -2\n"
     ]
    },
    {
     "name": "stdout",
     "output_type": "stream",
     "text": [
      "number is nagative\n"
     ]
    }
   ],
   "source": [
    "num = input()\n",
    "if int(num)>=0:\n",
    "    print(\"number is possitive\")\n",
    "else:\n",
    "    print(\"number is nagative\")\n",
    "    "
   ]
  },
  {
   "cell_type": "markdown",
   "id": "3918f501-7c86-4bd6-8f3e-62bda6d90a48",
   "metadata": {},
   "source": [
    "2. Create a program that determines if a person is eligible to vote based on their age."
   ]
  },
  {
   "cell_type": "code",
   "execution_count": 2,
   "id": "2d86489b-20e2-4245-8336-7a20d7a3816a",
   "metadata": {},
   "outputs": [
    {
     "name": "stdin",
     "output_type": "stream",
     "text": [
      "enetr your age 12\n"
     ]
    },
    {
     "name": "stdout",
     "output_type": "stream",
     "text": [
      "person are not able to vote\n"
     ]
    }
   ],
   "source": [
    "age = int(input(\"enetr your age\"))\n",
    "if age>=18:\n",
    "    print(\"person are able to vote\")\n",
    "else:\n",
    "    print(\"person are not able to vote\")\n",
    "    "
   ]
  },
  {
   "cell_type": "markdown",
   "id": "b5285127-7519-4a79-b61f-465828e02a58",
   "metadata": {},
   "source": [
    "3. Develop a program to find the maximum of two numbers using if-else statements."
   ]
  },
  {
   "cell_type": "code",
   "execution_count": 3,
   "id": "dac0ab39-93e9-4c1f-bf1a-6bf22abd6a90",
   "metadata": {},
   "outputs": [
    {
     "name": "stdout",
     "output_type": "stream",
     "text": [
      "num is not gater then num1\n"
     ]
    }
   ],
   "source": [
    "num = 12\n",
    "num1 = 14\n",
    "if num > num1:\n",
    "    print(\"num is gatert then num1\")\n",
    "else:\n",
    "    print(\"num is not gater then num1\")\n",
    "    "
   ]
  },
  {
   "cell_type": "markdown",
   "id": "7b99d9cf-b009-43fc-9b86-6222282589f6",
   "metadata": {},
   "source": [
    "4. Write a Python script to classify a given year as a leap year or not."
   ]
  },
  {
   "cell_type": "code",
   "execution_count": 13,
   "id": "6359f73b-c9ba-449c-ba5e-989b602b27ac",
   "metadata": {},
   "outputs": [
    {
     "name": "stdin",
     "output_type": "stream",
     "text": [
      "Enter a year:  1900\n"
     ]
    },
    {
     "name": "stdout",
     "output_type": "stream",
     "text": [
      "Not a leap year\n"
     ]
    }
   ],
   "source": [
    "year = int(input(\"Enter a year: \"))\n",
    "\n",
    "if year % 100 == 0:\n",
    "    if year % 400 == 0:\n",
    "        print(\"Leap year\")\n",
    "    else:\n",
    "        print(\"Not a leap year\")\n",
    "elif year % 4 == 0:\n",
    "    print(\"Leap year\")\n",
    "else:\n",
    "    print(\"Not a leap year\")\n"
   ]
  },
  {
   "cell_type": "markdown",
   "id": "295b6885-029b-44c9-87e7-69cddce38a87",
   "metadata": {},
   "source": [
    "5. Create a program that checks whether a character is a vowel or a consonant."
   ]
  },
  {
   "cell_type": "code",
   "execution_count": 15,
   "id": "0525aa4e-f26a-485b-b114-b6b9e8343fb9",
   "metadata": {},
   "outputs": [
    {
     "name": "stdout",
     "output_type": "stream",
     "text": [
      "this is not a consonant\n"
     ]
    }
   ],
   "source": [
    "char = 'c'\n",
    "if char in 'AEIUOaeiou':\n",
    "    print(\"this is a vowel \")\n",
    "else:\n",
    "    print(\"this is not a consonant\")"
   ]
  },
  {
   "cell_type": "markdown",
   "id": "8360928f-2dec-46ef-9848-2f16491af0a2",
   "metadata": {},
   "source": [
    "6. Implement a program to determine whether a given number is even or odd."
   ]
  },
  {
   "cell_type": "code",
   "execution_count": 16,
   "id": "e8b417b1-0c71-4d59-9c9d-56b75ea9dc62",
   "metadata": {},
   "outputs": [
    {
     "name": "stdin",
     "output_type": "stream",
     "text": [
      "eneter number 12\n"
     ]
    },
    {
     "name": "stdout",
     "output_type": "stream",
     "text": [
      "this is even number\n"
     ]
    }
   ],
   "source": [
    "num = int(input(\"eneter number\"))\n",
    "if num % 2 == 0:\n",
    "    print(\"this is even number\")\n",
    "else:\n",
    "    print(\"this is odd number\")"
   ]
  },
  {
   "cell_type": "markdown",
   "id": "4871fe2a-f2e0-4e1c-8ba9-4d5f95283b5c",
   "metadata": {},
   "source": [
    "7. Write a Python function to calculate the absolute value of a number without using the `abs()` function."
   ]
  },
  {
   "cell_type": "code",
   "execution_count": 18,
   "id": "699e007c-f7fa-4038-aa5d-127f0c892f2f",
   "metadata": {},
   "outputs": [
    {
     "name": "stdin",
     "output_type": "stream",
     "text": [
      "eneter number -12\n"
     ]
    },
    {
     "name": "stdout",
     "output_type": "stream",
     "text": [
      "12\n"
     ]
    }
   ],
   "source": [
    "num = int(input(\"eneter number\"))\n",
    "if num >= 0:\n",
    "    print(num)\n",
    "else:\n",
    "    print(-num)"
   ]
  },
  {
   "cell_type": "markdown",
   "id": "cc040731-673a-4103-9b2b-b4246003c584",
   "metadata": {},
   "source": [
    "8. Develop a program that determines the largest of three given numbers using if-else statements."
   ]
  },
  {
   "cell_type": "code",
   "execution_count": 1,
   "id": "b053f116-76b3-4c98-bc4f-d862c8afecaa",
   "metadata": {},
   "outputs": [
    {
     "name": "stdout",
     "output_type": "stream",
     "text": [
      "a is gater then b and c\n"
     ]
    }
   ],
   "source": [
    "a=10\n",
    "b=30\n",
    "c=40\n",
    "if a < b and a<c:\n",
    "    print(\"a is gater then b and c\")\n",
    "elif b<a and b<c:\n",
    "    print(\"b is gater then a and c\")\n",
    "else:\n",
    "    print(\"c is gater then a and b\")"
   ]
  },
  {
   "cell_type": "markdown",
   "id": "127dc9ce-1a3e-4f7f-8224-20f732491dcd",
   "metadata": {},
   "source": [
    "9. Create a program that checks if a given string is a palindrome."
   ]
  },
  {
   "cell_type": "code",
   "execution_count": 3,
   "id": "981b5892-4276-4a01-a34d-3c5f19cf8d87",
   "metadata": {},
   "outputs": [
    {
     "name": "stdout",
     "output_type": "stream",
     "text": [
      "given string is pallindrome\n"
     ]
    }
   ],
   "source": [
    "s = \"nayyan\"\n",
    "if s == s[::-1]:\n",
    "    print(\"given string is pallindrome\")\n",
    "else:\n",
    "    print(\"string is not pallindrome\")"
   ]
  },
  {
   "cell_type": "markdown",
   "id": "de8359ad-c24c-4055-a079-2dfea9531b97",
   "metadata": {},
   "source": [
    "10. Write a Python program to calculate the grade based on a student's score."
   ]
  },
  {
   "cell_type": "code",
   "execution_count": 5,
   "id": "54c9d7eb-8eca-4a22-b9c8-ee0e03d6a8b2",
   "metadata": {},
   "outputs": [
    {
     "name": "stdin",
     "output_type": "stream",
     "text": [
      " 30\n"
     ]
    },
    {
     "name": "stdout",
     "output_type": "stream",
     "text": [
      "your score is low we will not provied any grade based on your score\n"
     ]
    }
   ],
   "source": [
    "score = int(input())\n",
    "if score >90:\n",
    "    print(\"A\")\n",
    "elif score >70:\n",
    "    print(\"B\")\n",
    "elif score > 45:\n",
    "    print(\"c\")\n",
    "elif score >=33:\n",
    "    print(\"D\")\n",
    "else:\n",
    "    print(\"your score is low we will not provied any grade based on your score\")"
   ]
  },
  {
   "cell_type": "markdown",
   "id": "2667130d-1d4a-4776-a331-7e15588914b0",
   "metadata": {},
   "source": [
    "# Nested If-Else Statements:"
   ]
  },
  {
   "cell_type": "markdown",
   "id": "d640225a-0da0-4e3f-b2c1-40cb0794c896",
   "metadata": {},
   "source": [
    "11. Write a program to find the largest among three numbers using nested if-else statements."
   ]
  },
  {
   "cell_type": "code",
   "execution_count": 10,
   "id": "fca112ea-1607-458d-ab27-add42d0bfc6a",
   "metadata": {},
   "outputs": [
    {
     "name": "stdin",
     "output_type": "stream",
     "text": [
      "Enter the first number:  12\n",
      "Enter the second number:  6\n",
      "Enter the third number:  2\n"
     ]
    },
    {
     "name": "stdout",
     "output_type": "stream",
     "text": [
      "The largest number among 12.0 , 6.0 and 2.0 is 12.0\n"
     ]
    }
   ],
   "source": [
    "num1 = float(input(\"Enter the first number: \"))\n",
    "num2 = float(input(\"Enter the second number: \"))\n",
    "num3 = float(input(\"Enter the third number: \"))\n",
    "if num1 >= num2:\n",
    "    if num1 >= num3:\n",
    "        largest = num1\n",
    "    else:\n",
    "        largest = num3\n",
    "else:\n",
    "    if num2 >= num3:\n",
    "        largest = num2\n",
    "    else:\n",
    "        largest = num3\n",
    "print(\"The largest number among\", num1, \",\", num2, \"and\", num3, \"is\", largest)"
   ]
  },
  {
   "cell_type": "markdown",
   "id": "2cbc1a70-aa80-4043-8fb9-96041ab39a4a",
   "metadata": {},
   "source": [
    "12. Implement a program to determine if a triangle is equilateral, isosceles, or scalene."
   ]
  },
  {
   "cell_type": "code",
   "execution_count": 13,
   "id": "730007eb-6b6c-424d-8389-c6aad3f72056",
   "metadata": {},
   "outputs": [
    {
     "name": "stdout",
     "output_type": "stream",
     "text": [
      "scalene triangle\n"
     ]
    }
   ],
   "source": [
    "# equilateral is triangle side three is equal \n",
    "# isosceles mence two side are same \n",
    "# scalene all side are diff \n",
    "side1 = 20\n",
    "side2 = 30 \n",
    "side3 = 40\n",
    "if side1 == side2 and side2 == side3:\n",
    "    print(\"equilateral triangle \")\n",
    "elif (side1 == side2 and side2 != side3) or (side1 != side2 and side2== side3):\n",
    "    print(\"isosceles triangle\")\n",
    "else:\n",
    "    print(\"scalene triangle\")"
   ]
  },
  {
   "cell_type": "markdown",
   "id": "16c02e0f-3fdb-4d66-8889-c2f47ddccdc6",
   "metadata": {},
   "source": [
    "13. Develop a program that checks if a year is a leap year and also if it is a century year."
   ]
  },
  {
   "cell_type": "code",
   "execution_count": 18,
   "id": "3a860e9d-c637-44a2-94e9-837573d7b4bf",
   "metadata": {},
   "outputs": [
    {
     "name": "stdin",
     "output_type": "stream",
     "text": [
      " 2400\n"
     ]
    },
    {
     "name": "stdout",
     "output_type": "stream",
     "text": [
      "eneter year is a leap year and centurey year  \n"
     ]
    }
   ],
   "source": [
    "year = int(input())\n",
    "if year %100 == 0:\n",
    "    if year % 400 == 0:\n",
    "        print(\"eneter year is a leap year and centurey year  \")\n",
    "    else:\n",
    "        print(\"enetr year is centurey year but not leap year\" )\n",
    "elif year % 4 == 0:\n",
    "    print(\"given year is leap year nut not centurey\")\n",
    "else:\n",
    "    print(\"given year is not leap year and not centurey\")"
   ]
  },
  {
   "cell_type": "markdown",
   "id": "0d573cac-f1ed-4695-afe8-5c37f8a46be5",
   "metadata": {},
   "source": [
    "14. Write a Python script to determine if a number is positive, negative, or zero."
   ]
  },
  {
   "cell_type": "code",
   "execution_count": 19,
   "id": "e3875ee2-0ea3-41eb-87bb-8e702f7685d5",
   "metadata": {},
   "outputs": [
    {
     "name": "stdin",
     "output_type": "stream",
     "text": [
      " -12\n"
     ]
    },
    {
     "name": "stdout",
     "output_type": "stream",
     "text": [
      "number is negative\n"
     ]
    }
   ],
   "source": [
    "number = int(input())\n",
    "if number >0:\n",
    "    print(\"number is positive\")\n",
    "elif number < 0 :\n",
    "    print(\"number is negative\")\n",
    "else:\n",
    "    print(\"number is zero\")"
   ]
  },
  {
   "cell_type": "markdown",
   "id": "13fc2530-a9b3-44e5-88f6-5ecce4c75c7b",
   "metadata": {},
   "source": [
    "15. Create a program to check if a person is a teenager (between 13 and 19 years old)."
   ]
  },
  {
   "cell_type": "code",
   "execution_count": 1,
   "id": "63cb7b3f-a853-4150-a785-e3974a9807ab",
   "metadata": {},
   "outputs": [
    {
     "name": "stdin",
     "output_type": "stream",
     "text": [
      " 14\n"
     ]
    },
    {
     "name": "stdout",
     "output_type": "stream",
     "text": [
      "person is teenager\n"
     ]
    }
   ],
   "source": [
    "# person is teenager mence age of this person is between 13 to 19\n",
    "age = int(input())\n",
    "if age >=13 and age<=19:\n",
    "    print(\"person is teenager\")\n",
    "else:\n",
    "    print(\"person is not teenager\")"
   ]
  },
  {
   "cell_type": "markdown",
   "id": "b1602079-f7fc-4fe7-9826-9efc3aef2eb8",
   "metadata": {},
   "source": [
    "16. Develop a program that determines the type of angle based on its measure (acute, obtuse, or right)."
   ]
  },
  {
   "cell_type": "code",
   "execution_count": 4,
   "id": "0aebf8a8-7135-4408-a1be-c3f3b2690267",
   "metadata": {},
   "outputs": [
    {
     "name": "stdin",
     "output_type": "stream",
     "text": [
      "Enter the angle measure in degrees:  180\n"
     ]
    },
    {
     "name": "stdout",
     "output_type": "stream",
     "text": [
      "It's an obtuse angle.\n"
     ]
    }
   ],
   "source": [
    "# Input the angle measure\n",
    "angle_measure = float(input(\"Enter the angle measure in degrees: \"))\n",
    "\n",
    "# Check the type of angle\n",
    "if angle_measure < 90:\n",
    "    print(\"It's an acute angle.\")\n",
    "elif angle_measure == 90:\n",
    "    print(\"It's a right angle.\")\n",
    "else:\n",
    "    print(\"It's an obtuse angle.\")\n"
   ]
  },
  {
   "cell_type": "markdown",
   "id": "5c583d91-5c58-43be-adc4-b2823e107311",
   "metadata": {},
   "source": [
    "17. Write a Python program to calculate the roots of a quadratic equation."
   ]
  },
  {
   "cell_type": "code",
   "execution_count": 2,
   "id": "ec6cb4e3-5b2f-4dbc-a40a-0a42840d1728",
   "metadata": {},
   "outputs": [
    {
     "name": "stdin",
     "output_type": "stream",
     "text": [
      "Enter the coefficient of x^2 (a):  2\n",
      "Enter the coefficient of x (b):  -5\n",
      "Enter the constant term (c):  2\n"
     ]
    },
    {
     "name": "stdout",
     "output_type": "stream",
     "text": [
      "Two real and distinct roots:\n",
      "Root 1: 2.0\n",
      "Root 2: 0.5\n"
     ]
    }
   ],
   "source": [
    "import math\n",
    "\n",
    "a = int(input(\"Enter the coefficient of x^2 (a): \"))\n",
    "b = int(input(\"Enter the coefficient of x (b): \"))\n",
    "c = int(input(\"Enter the constant term (c): \"))\n",
    "\n",
    "d = b**2 - (4*a*c)\n",
    "\n",
    "if d > 0:\n",
    "    root1 = (-b + math.sqrt(d)) / (2*a)\n",
    "    root2 = (-b - math.sqrt(d)) / (2*a)\n",
    "    print(\"Two real and distinct roots:\")\n",
    "    print(\"Root 1:\", root1)\n",
    "    print(\"Root 2:\", root2)\n",
    "elif d == 0:\n",
    "    root1 = -b / (2*a)\n",
    "    print(\"One real root (repeated root):\")\n",
    "    print(\"Root:\", root1)\n",
    "else:\n",
    "    print(\"No real roots (complex roots).\")\n"
   ]
  },
  {
   "cell_type": "markdown",
   "id": "a32e61df-573d-499e-82c3-417b2b845a50",
   "metadata": {},
   "source": [
    "18. Implement a program to determine the day of the week based on a user-provided number (1 for Monday, 2\n",
    "for Tuesday, etc.)."
   ]
  },
  {
   "cell_type": "code",
   "execution_count": 3,
   "id": "6e7d1b08-a280-4f8d-8991-52ce360e2337",
   "metadata": {},
   "outputs": [
    {
     "name": "stdin",
     "output_type": "stream",
     "text": [
      " 1\n"
     ]
    },
    {
     "name": "stdout",
     "output_type": "stream",
     "text": [
      "your enter number repressent monday\n"
     ]
    }
   ],
   "source": [
    "day = int(input(\"Enter a number (1-6) representing a day of the week: \"))\n",
    "\n",
    "if day == 1:\n",
    "    print(\"Your entered number represents Monday.\")\n",
    "elif day == 2:\n",
    "    print(\"Your entered number represents Tuesday.\")\n",
    "elif day == 3:\n",
    "    print(\"Your entered number represents Wednesday.\")\n",
    "elif day == 4:\n",
    "    print(\"Your entered number represents Thursday.\")\n",
    "elif day == 5:\n",
    "    print(\"Your entered number represents Friday.\")\n",
    "elif day == 6:\n",
    "    print(\"Your entered number represents Saturday.\")\n",
    "else:\n",
    "    print(\"Invalid input. Please enter a number between 1 and 6.\")\n"
   ]
  },
  {
   "cell_type": "markdown",
   "id": "db0cec2d-752b-4a4f-893b-c994a2072e2a",
   "metadata": {},
   "source": [
    "19. Create a program that determines if a year is a leap year and also if it is evenly divisible by 400."
   ]
  },
  {
   "cell_type": "code",
   "execution_count": 4,
   "id": "72d4d34f-aa7d-41fd-9995-c9d4e3402ae7",
   "metadata": {},
   "outputs": [
    {
     "name": "stdin",
     "output_type": "stream",
     "text": [
      "Enter a year:  2004\n"
     ]
    },
    {
     "name": "stdout",
     "output_type": "stream",
     "text": [
      "2004 is a leap year and evenly divisible by 400.\n"
     ]
    }
   ],
   "source": [
    "# Input a year from the user\n",
    "year = int(input(\"Enter a year: \"))\n",
    "\n",
    "# Check if the year is a leap year\n",
    "if (year % 4 == 0 and year % 100 != 0) or (year % 400 == 0):\n",
    "    print(f\"{year} is a leap year and evenly divisible by 400.\")\n",
    "else:\n",
    "    print(f\"{year} is not a leap year or not evenly divisible by 400.\")\n"
   ]
  },
  {
   "cell_type": "markdown",
   "id": "dfa16d54-4e6e-46de-b26b-ab04786faf03",
   "metadata": {},
   "source": [
    "20. Develop a program that checks if a given number is prime or not using nested if-else statements."
   ]
  },
  {
   "cell_type": "code",
   "execution_count": 7,
   "id": "27d0db76-13a6-4de0-b816-aee7e25ea695",
   "metadata": {},
   "outputs": [
    {
     "name": "stdin",
     "output_type": "stream",
     "text": [
      " 23\n"
     ]
    },
    {
     "name": "stdout",
     "output_type": "stream",
     "text": [
      "given number is a prime number\n"
     ]
    }
   ],
   "source": [
    "num = int(input())\n",
    "if num < 2:\n",
    "    print(\"given number is not a prime number\")\n",
    "elif num == 2 :\n",
    "    print(\"given number is a prime number\")\n",
    "else:\n",
    "    flage = 0  \n",
    "    for i in range(2,num):\n",
    "        if num%i == 0:\n",
    "            print(\"given number is not prime number\")\n",
    "            flage = 1\n",
    "            break\n",
    "    if flage == 0 :\n",
    "        print(\"given number is a prime number\")"
   ]
  },
  {
   "cell_type": "markdown",
   "id": "9fa81e93-5353-4a93-99a4-4be48a326624",
   "metadata": {},
   "source": [
    "# Elif Statements:"
   ]
  },
  {
   "cell_type": "markdown",
   "id": "477a5828-9ed6-4adf-9eed-bde6dae4318e",
   "metadata": {},
   "source": [
    "21. Write a Python program to assign grades based on different ranges of scores using elif statements."
   ]
  },
  {
   "cell_type": "code",
   "execution_count": 11,
   "id": "1d1ab681-27b9-4d6c-8035-582d5a854d61",
   "metadata": {},
   "outputs": [
    {
     "name": "stdin",
     "output_type": "stream",
     "text": [
      " 55\n"
     ]
    },
    {
     "name": "stdout",
     "output_type": "stream",
     "text": [
      "C grade\n"
     ]
    }
   ],
   "source": [
    "score = int(input())\n",
    "if score < 33:\n",
    "    print(\"you are fail in exam\")\n",
    "elif score >90 and score <=100:\n",
    "    print(\"A grades\")\n",
    "elif score >70 and score<=90:\n",
    "    print(\"B grade\")\n",
    "elif score >50 and score <= 70:\n",
    "    print(\"C grade\")\n",
    "else:\n",
    "    print(\"D score \")\n",
    "    "
   ]
  },
  {
   "cell_type": "markdown",
   "id": "74e51e76-58ae-434b-ba3a-881b66d49a20",
   "metadata": {},
   "source": [
    "22. Implement a program to determine the type of a triangle based on its angles."
   ]
  },
  {
   "cell_type": "code",
   "execution_count": 12,
   "id": "293ae516-4b12-4781-a925-c0d268c93ecd",
   "metadata": {},
   "outputs": [
    {
     "name": "stdin",
     "output_type": "stream",
     "text": [
      "Enter the first angle (in degrees):  90\n",
      "Enter the second angle (in degrees):  45\n",
      "Enter the third angle (in degrees):  45\n"
     ]
    },
    {
     "name": "stdout",
     "output_type": "stream",
     "text": [
      "This is an Isosceles Triangle.\n"
     ]
    }
   ],
   "source": [
    "angle1 = float(input(\"Enter the first angle (in degrees): \"))\n",
    "angle2 = float(input(\"Enter the second angle (in degrees): \"))\n",
    "angle3 = float(input(\"Enter the third angle (in degrees): \"))\n",
    "\n",
    "if angle1 + angle2 + angle3 == 180:\n",
    "    if angle1 == angle2 == angle3:\n",
    "        print(\"This is an Equilateral Triangle.\")\n",
    "    elif angle1 == angle2 or angle1 == angle3 or angle2 == angle3:\n",
    "        print(\"This is an Isosceles Triangle.\")\n",
    "    else:\n",
    "        print(\"This is a Scalene Triangle.\")\n",
    "else:\n",
    "    print(\"These angles do not form a valid triangle.\")\n"
   ]
  },
  {
   "cell_type": "markdown",
   "id": "54c20005-842d-4786-aaf3-2379a3250863",
   "metadata": {},
   "source": [
    "23. Develop a program to categorize a given person's BMI into underweight, normal, overweight, or obese using\n",
    "elif statements."
   ]
  },
  {
   "cell_type": "code",
   "execution_count": 17,
   "id": "45e13a81-37ee-4255-9747-0f54d83cefc6",
   "metadata": {},
   "outputs": [
    {
     "name": "stdin",
     "output_type": "stream",
     "text": [
      "Enter your weight (in kilograms):  70\n",
      "Enter your height (in meters):  1.72\n"
     ]
    },
    {
     "name": "stdout",
     "output_type": "stream",
     "text": [
      "Your BMI is 23.66, which categorizes you as Normal Weight.\n"
     ]
    }
   ],
   "source": [
    "# Input the person's weight (in kilograms) and height (in meters)\n",
    "weight = float(input(\"Enter your weight (in kilograms): \"))\n",
    "height = float(input(\"Enter your height (in meters): \"))\n",
    "\n",
    "# Calculate BMI\n",
    "bmi = weight / (height ** 2)\n",
    "\n",
    "# Categorize BMI using if-elif statements\n",
    "if bmi < 18.5:\n",
    "    category = \"Underweight\"\n",
    "elif 18.5 <= bmi < 24.9:\n",
    "    category = \"Normal Weight\"\n",
    "elif 25 <= bmi < 29.9:\n",
    "    category = \"Overweight\"\n",
    "else:\n",
    "    category = \"Obese\"\n",
    "\n",
    "# Display the result\n",
    "print(f\"Your BMI is {bmi:.2f}, which categorizes you as {category}.\")\n"
   ]
  },
  {
   "cell_type": "markdown",
   "id": "ef739a92-8470-43ca-b5c8-a4c4b23075da",
   "metadata": {},
   "source": [
    "24. Create a program that determines whether a given number is positive, negative, or zero using elif\n",
    "statements."
   ]
  },
  {
   "cell_type": "code",
   "execution_count": 18,
   "id": "678aa8e7-5c4b-4c10-b8e4-96c36874b211",
   "metadata": {},
   "outputs": [
    {
     "name": "stdin",
     "output_type": "stream",
     "text": [
      " 23\n"
     ]
    },
    {
     "name": "stdout",
     "output_type": "stream",
     "text": [
      "number is positive\n"
     ]
    }
   ],
   "source": [
    "num = int(input())\n",
    "if num == 0:\n",
    "    print(\"number is a zero\")\n",
    "elif num < 0:\n",
    "    print(\"number is negative\")\n",
    "else:\n",
    "    print(\"number is positive\")"
   ]
  },
  {
   "cell_type": "markdown",
   "id": "3ee42339-bfc0-4956-a44a-272a821a8b0a",
   "metadata": {},
   "source": [
    "25. Write a Python script to determine the type of a character (uppercase, lowercase, or special) using elif\n",
    "statements."
   ]
  },
  {
   "cell_type": "code",
   "execution_count": 23,
   "id": "14759e5e-1896-4420-9701-1d6832328013",
   "metadata": {},
   "outputs": [
    {
     "name": "stdout",
     "output_type": "stream",
     "text": [
      "char is in lower case\n"
     ]
    }
   ],
   "source": [
    "char = \"a\"\n",
    "if char.isupper():\n",
    "    print(\"char is in uppercase\")\n",
    "elif char.islower():\n",
    "    print(\"char is in lower case\")\n",
    "else:\n",
    "    print(\"char is special character\")"
   ]
  },
  {
   "cell_type": "markdown",
   "id": "8bedcfa7-e02a-40ae-a611-491e87031d18",
   "metadata": {},
   "source": [
    "26. Implement a program to calculate the discounted price based on different purchase amounts using elif\n",
    "statements."
   ]
  },
  {
   "cell_type": "code",
   "execution_count": 24,
   "id": "2c291192-ad4d-4dbf-80ba-753481cb1f23",
   "metadata": {},
   "outputs": [
    {
     "name": "stdin",
     "output_type": "stream",
     "text": [
      "Enter the purchase amount:  600\n"
     ]
    },
    {
     "name": "stdout",
     "output_type": "stream",
     "text": [
      "Original Price: $600.00\n",
      "Discount Rate: 15.00%\n",
      "Discounted Price: $510.00\n"
     ]
    }
   ],
   "source": [
    "purchase_amount = float(input(\"Enter the purchase amount: \"))\n",
    "discount_rate = 0.0\n",
    "if purchase_amount < 50:\n",
    "    discount_rate = 0.0  # No discount for small purchases\n",
    "elif purchase_amount < 100:\n",
    "    discount_rate = 0.05  # 5% discount for purchases between 50 and 99.99\n",
    "elif purchase_amount < 500:\n",
    "    discount_rate = 0.1   # 10% discount for purchases between 100 and 499.99\n",
    "else:\n",
    "    discount_rate = 0.15  # 15% discount for purchases of 500 or more\n",
    "\n",
    "discounted_price = purchase_amount * (1 - discount_rate)\n",
    "\n",
    "print(f\"Original Price: ${purchase_amount:.2f}\")\n",
    "print(f\"Discount Rate: {discount_rate * 100:.2f}%\")\n",
    "print(f\"Discounted Price: ${discounted_price:.2f}\")\n"
   ]
  },
  {
   "cell_type": "markdown",
   "id": "fc98ddd5-a2d4-420c-8e50-c009cc41c4f1",
   "metadata": {},
   "source": [
    "27. Develop a program to calculate the electricity bill based on different consumption slabs using elif\n",
    "statements."
   ]
  },
  {
   "cell_type": "code",
   "execution_count": 28,
   "id": "2aeee385-f045-4d7e-b839-f74ceb235d66",
   "metadata": {},
   "outputs": [
    {
     "name": "stdin",
     "output_type": "stream",
     "text": [
      "enetr your eletricity bill in kwh  400\n"
     ]
    },
    {
     "name": "stdout",
     "output_type": "stream",
     "text": [
      "your total bill is $60.0\n"
     ]
    }
   ],
   "source": [
    "cunsumption = int(input(\"enetr your eletricity bill in kwh \"))\n",
    "totalbill = 0\n",
    "if consumption <= 100:\n",
    "    totalbill = consumption * 0.10\n",
    "elif consumption <= 200:\n",
    "    totalbill = consumption * 0.15\n",
    "elif consumption <=300:\n",
    "    totalbill = consumption * 0.20\n",
    "else:\n",
    "    totalbill = consumption * 0.25\n",
    "print(f\"your total bill is ${totalbill}\")    "
   ]
  },
  {
   "cell_type": "markdown",
   "id": "b3ddd107-ab3d-4732-b4d4-06de460fce64",
   "metadata": {},
   "source": [
    "28. Create a program to determine the type of quadrilateral based on its angles and sides using elif\n",
    "statements."
   ]
  },
  {
   "cell_type": "code",
   "execution_count": 1,
   "id": "24ab7c3b-7374-4bab-a1d4-107b438588a5",
   "metadata": {},
   "outputs": [
    {
     "name": "stdin",
     "output_type": "stream",
     "text": [
      "Enter the length of side 1:  45\n",
      "Enter the length of side 2:  45\n",
      "Enter the length of side 3:  45\n",
      "Enter the length of side 4:  45\n",
      "Enter the measure of angle 1 (in degrees):  90\n",
      "Enter the measure of angle 2 (in degrees):  90\n",
      "Enter the measure of angle 3 (in degrees):  90\n",
      "Enter the measure of angle 4 (in degrees):  90\n"
     ]
    },
    {
     "name": "stdout",
     "output_type": "stream",
     "text": [
      "It's a Square\n"
     ]
    }
   ],
   "source": [
    "# Input the lengths of the four sides of the quadrilateral\n",
    "side1 = float(input(\"Enter the length of side 1: \"))\n",
    "side2 = float(input(\"Enter the length of side 2: \"))\n",
    "side3 = float(input(\"Enter the length of side 3: \"))\n",
    "side4 = float(input(\"Enter the length of side 4: \"))\n",
    "\n",
    "# Input the measures of the four angles of the quadrilateral\n",
    "angle1 = float(input(\"Enter the measure of angle 1 (in degrees): \"))\n",
    "angle2 = float(input(\"Enter the measure of angle 2 (in degrees): \"))\n",
    "angle3 = float(input(\"Enter the measure of angle 3 (in degrees): \"))\n",
    "angle4 = float(input(\"Enter the measure of angle 4 (in degrees): \"))\n",
    "\n",
    "# Check the conditions for different types of quadrilaterals using elif statements\n",
    "if angle1 == angle2 == angle3 == angle4 == 90:\n",
    "    if side1 == side2 == side3 == side4:\n",
    "        print(\"It's a Square\")\n",
    "    elif side1 == side3 and side2 == side4:\n",
    "        print(\"It's a Rectangle\")\n",
    "    else:\n",
    "        print(\"It's a Quadrilateral\")\n",
    "elif side1 == side2 == side3 == side4:\n",
    "    print(\"It's a Rhombus\")\n",
    "elif angle1 == angle3 and angle2 == angle4 and angle1 + angle2 == 180:\n",
    "    print(\"It's a Parallelogram\")\n",
    "elif side1 == side2 or side2 == side3 or side3 == side4 or side4 == side1:\n",
    "    print(\"It's a Trapezoid\")\n",
    "else:\n",
    "    print(\"It's a Quadrilateral\")\n"
   ]
  },
  {
   "cell_type": "markdown",
   "id": "bb16676e-f12f-4823-9eec-629389d50af6",
   "metadata": {},
   "source": [
    "29. Write a Python script to determine the season based on a user-provided month using elif statements."
   ]
  },
  {
   "cell_type": "code",
   "execution_count": 3,
   "id": "cb592b4d-c39b-471a-ae70-825dae667d58",
   "metadata": {},
   "outputs": [
    {
     "name": "stdin",
     "output_type": "stream",
     "text": [
      "enetr month name january to december  january\n"
     ]
    },
    {
     "name": "stdout",
     "output_type": "stream",
     "text": [
      "winter\n"
     ]
    }
   ],
   "source": [
    "monthname = input(\"enetr month name january to december \" )\n",
    "monthname = monthname.lower()\n",
    "if monthname in [\"december\",\"january\",\"february\"]:\n",
    "    print(\"winter\")\n",
    "elif monthname in [\"april\",\"may\",\"march\"] :\n",
    "    print(\"spring\")\n",
    "elif monthname in [\"june\",\"july\",\"august\"]:\n",
    "    print(\"summer\")\n",
    "elif monthname in [\"september\",\"october\",\"november\"]:\n",
    "    print(\"fall\")\n",
    "else:\n",
    "    print(\"enetr valid month \")"
   ]
  },
  {
   "cell_type": "markdown",
   "id": "41bb8469-f6ab-4c24-b26c-e9b5b8477ad4",
   "metadata": {},
   "source": [
    "30. Implement a program to determine the type of a year (leap or common) and month (30 or 31 days) using\n",
    "elif statements."
   ]
  },
  {
   "cell_type": "code",
   "execution_count": 6,
   "id": "30c78404-8028-4a72-8002-76e0abde2330",
   "metadata": {},
   "outputs": [
    {
     "name": "stdin",
     "output_type": "stream",
     "text": [
      "Enter a year:  2000\n",
      "Enter a month (1-12):  2\n"
     ]
    },
    {
     "name": "stdout",
     "output_type": "stream",
     "text": [
      "2000 is a Leap Year.\n",
      "The month 2 has 29 days.\n"
     ]
    }
   ],
   "source": [
    "year = int(input(\"Enter a year: \"))\n",
    "if (year % 4 == 0 and year % 100 != 0) or (year % 400 == 0):\n",
    "    year_type = \"Leap Year\"\n",
    "else:\n",
    "    year_type = \"Common Year\"\n",
    "\n",
    "month = int(input(\"Enter a month (1-12): \"))\n",
    "if month == 2:\n",
    "    if year_type == \"Leap Year\":\n",
    "        days_in_month = 29\n",
    "    else:\n",
    "        days_in_month = 28\n",
    "elif month in (4, 6, 9, 11):\n",
    "    days_in_month = 30\n",
    "else:\n",
    "    days_in_month = 31\n",
    "print(f\"{year} is a {year_type}.\")\n",
    "print(f\"The month {month} has {days_in_month} days.\")\n"
   ]
  },
  {
   "cell_type": "markdown",
   "id": "82fd175d-c05a-443b-9296-24db4764bab6",
   "metadata": {},
   "source": [
    "# Basic Level:"
   ]
  },
  {
   "cell_type": "markdown",
   "id": "d3d23375-7a88-4e8c-8894-b2784208d09c",
   "metadata": {},
   "source": [
    "1. Write a Python program that checks if a given number is positive, negative, or zero."
   ]
  },
  {
   "cell_type": "code",
   "execution_count": 8,
   "id": "719bb75f-adcb-413b-8e83-8d1fd34bae46",
   "metadata": {},
   "outputs": [
    {
     "name": "stdin",
     "output_type": "stream",
     "text": [
      "Enter a number:  23\n"
     ]
    },
    {
     "name": "stdout",
     "output_type": "stream",
     "text": [
      "The number is positive.\n"
     ]
    }
   ],
   "source": [
    "\n",
    "number = float(input(\"Enter a number: \"))\n",
    "if number > 0:\n",
    "    print(\"The number is positive.\")\n",
    "elif number < 0:\n",
    "    print(\"The number is negative.\")\n",
    "else:\n",
    "    print(\"The number is zero.\")\n"
   ]
  },
  {
   "cell_type": "markdown",
   "id": "56d70a62-5c5d-4417-8e55-a70198b33671",
   "metadata": {},
   "source": [
    "2. Create a program to determine if a person is eligible to vote based on their age."
   ]
  },
  {
   "cell_type": "code",
   "execution_count": 10,
   "id": "2601d225-5d3a-470e-92eb-d55141ea7e9e",
   "metadata": {},
   "outputs": [
    {
     "name": "stdin",
     "output_type": "stream",
     "text": [
      " 23\n"
     ]
    },
    {
     "name": "stdout",
     "output_type": "stream",
     "text": [
      "aligible for vote\n"
     ]
    }
   ],
   "source": [
    "age = int(input())\n",
    "if age < 18:\n",
    "    print(\"not aligible\")\n",
    "else:\n",
    "    print(\"aligible for vote\")"
   ]
  },
  {
   "cell_type": "markdown",
   "id": "8391862a-54f8-48c3-9c1d-1ec9dfdb0ce3",
   "metadata": {},
   "source": [
    "3. Write a program to find the maximum of two given numbers using conditional statements."
   ]
  },
  {
   "cell_type": "code",
   "execution_count": 11,
   "id": "3d6f8eb5-a89d-4c70-ac6b-e5b930e13f60",
   "metadata": {},
   "outputs": [
    {
     "name": "stdout",
     "output_type": "stream",
     "text": [
      "120\n"
     ]
    }
   ],
   "source": [
    "num = 120\n",
    "num2 = 12\n",
    "if num<num2:\n",
    "    print(num2)\n",
    "else:\n",
    "    print(num)"
   ]
  },
  {
   "cell_type": "markdown",
   "id": "1aeee506-330e-46ec-a75a-b01c600e2191",
   "metadata": {},
   "source": [
    "4. Develop a program that calculates the grade of a student based on their exam score."
   ]
  },
  {
   "cell_type": "code",
   "execution_count": 13,
   "id": "3895b938-91d3-4478-b8c8-1a31b701a726",
   "metadata": {},
   "outputs": [
    {
     "name": "stdin",
     "output_type": "stream",
     "text": [
      "Enter the exam score (0-100):  49\n"
     ]
    },
    {
     "name": "stdout",
     "output_type": "stream",
     "text": [
      "The grade for the exam score 49.0 is F.\n"
     ]
    }
   ],
   "source": [
    "exam_score = float(input(\"Enter the exam score (0-100): \"))\n",
    "if 90 <= exam_score <= 100:\n",
    "    grade = \"A\"\n",
    "elif 80 <= exam_score < 90:\n",
    "    grade = \"B\"\n",
    "elif 70 <= exam_score < 80:\n",
    "    grade = \"C\"\n",
    "elif 60 <= exam_score < 70:\n",
    "    grade = \"D\"\n",
    "elif 0 <= exam_score < 60:\n",
    "    grade = \"F\"\n",
    "else:\n",
    "    grade = \"Invalid Score\"\n",
    "\n",
    "if grade != \"Invalid Score\":\n",
    "    print(f\"The grade for the exam score {exam_score} is {grade}.\")\n",
    "else:\n",
    "    print(\"Invalid input. Please enter a valid exam score.\")\n"
   ]
  },
  {
   "cell_type": "markdown",
   "id": "8715ed66-2781-4eb0-a588-48ebb4067012",
   "metadata": {},
   "source": [
    "5. Create a program that checks if a year is a leap year or not."
   ]
  },
  {
   "cell_type": "code",
   "execution_count": 15,
   "id": "26f907d2-44cb-4c21-bcf8-8cce3b89bc3b",
   "metadata": {},
   "outputs": [
    {
     "name": "stdin",
     "output_type": "stream",
     "text": [
      " 2000\n"
     ]
    },
    {
     "name": "stdout",
     "output_type": "stream",
     "text": [
      "leap year\n"
     ]
    }
   ],
   "source": [
    "year = int(input())\n",
    "if (year % 4 ==0 and year %100 !=0) or (year % 400 ==0):\n",
    "    print(\"leap year\")\n",
    "else:\n",
    "    print(\"non leap year\")"
   ]
  },
  {
   "cell_type": "markdown",
   "id": "6e2406e0-8309-4205-9b85-782a98a12526",
   "metadata": {},
   "source": [
    "7. Build a program that determines the largest of three given numbers."
   ]
  },
  {
   "cell_type": "code",
   "execution_count": 18,
   "id": "7bee15b4-e14b-48dd-8445-b372dd6af4e3",
   "metadata": {},
   "outputs": [
    {
     "data": {
      "text/plain": [
       "50"
      ]
     },
     "execution_count": 18,
     "metadata": {},
     "output_type": "execute_result"
    }
   ],
   "source": [
    "num = 12\n",
    "num2 = 24\n",
    "num3 = 50\n",
    "list1 = list([num,num2,num3])\n",
    "max(list1)"
   ]
  },
  {
   "cell_type": "markdown",
   "id": "7d56d75a-0a88-4591-b7ed-87da5b3d3b43",
   "metadata": {},
   "source": [
    "8. Develop a program that checks whether a character is a vowel or a consonant."
   ]
  },
  {
   "cell_type": "code",
   "execution_count": 22,
   "id": "915b4e29-075e-4c57-951a-8f2bf0efc7d9",
   "metadata": {},
   "outputs": [
    {
     "name": "stdout",
     "output_type": "stream",
     "text": [
      "character is consonant\n"
     ]
    }
   ],
   "source": [
    "char = \"c\"\n",
    "if char in \"aeiouAEIOU\":\n",
    "    print(\"character is a vowel\")\n",
    "else:\n",
    "    print(\"character is consonant\")\n"
   ]
  },
  {
   "cell_type": "markdown",
   "id": "850ef808-07d1-4680-a57f-5be9f76baddd",
   "metadata": {},
   "source": [
    "9. Create a program to calculate the total cost of a shopping cart based on discounts."
   ]
  },
  {
   "cell_type": "raw",
   "id": "3511c93d-89f9-472e-a888-a4597f3f5a18",
   "metadata": {},
   "source": []
  },
  {
   "cell_type": "code",
   "execution_count": 26,
   "id": "ad050573-2b68-4f7f-addd-2f76e5f438d2",
   "metadata": {},
   "outputs": [
    {
     "name": "stdin",
     "output_type": "stream",
     "text": [
      "enetr your total item cost  2000\n"
     ]
    },
    {
     "name": "stdout",
     "output_type": "stream",
     "text": [
      "total discounted price 1500.0\n"
     ]
    }
   ],
   "source": [
    "totalcost = int(input(\"enetr your total item cost \"))\n",
    "if totalcost <100:\n",
    "    print(\"total discounted price\",totalcost-totalcost*0.05)\n",
    "elif totalcost < 300:\n",
    "    print(\"total discounted price\",totalcost-totalcost*0.1)\n",
    "elif totalcost < 1000:\n",
    "    print(\"total discounted price\",totalcost-totalcost*0.2)\n",
    "else:\n",
    "    print(\"total discounted price\",totalcost-totalcost*0.25)    "
   ]
  },
  {
   "cell_type": "markdown",
   "id": "0640e0e3-80fb-4019-98ca-f6ea0c179f98",
   "metadata": {},
   "source": [
    "10. Write a program that checks if a given number is even or odd."
   ]
  },
  {
   "cell_type": "code",
   "execution_count": 27,
   "id": "32feef1e-6c99-476b-9bf7-5af6ba32c61d",
   "metadata": {},
   "outputs": [
    {
     "name": "stdin",
     "output_type": "stream",
     "text": [
      "enetr number 24\n"
     ]
    },
    {
     "name": "stdout",
     "output_type": "stream",
     "text": [
      "even number\n"
     ]
    }
   ],
   "source": [
    "num = int(input(\"enetr number\"))\n",
    "if num % 2 == 0:\n",
    "    print(\"even number\")\n",
    "else:\n",
    "    print(\"odd number\")"
   ]
  },
  {
   "cell_type": "markdown",
   "id": "d9655940-ac79-45b3-bae2-9ea120f88657",
   "metadata": {},
   "source": [
    "# Intermediate Level:"
   ]
  },
  {
   "cell_type": "markdown",
   "id": "04cee80a-7e8f-42ad-ab57-8b26c0255b07",
   "metadata": {},
   "source": [
    "11. Write a program that calculates the roots of a quadratic equation ."
   ]
  },
  {
   "cell_type": "code",
   "execution_count": 4,
   "id": "ee615ae9-bd6a-4fb1-b311-897318c71572",
   "metadata": {},
   "outputs": [
    {
     "name": "stdin",
     "output_type": "stream",
     "text": [
      "eneter coefficient of a:  1\n",
      "enetr coefiicient of b:  -5\n",
      "enetr coefficient of c:  6\n"
     ]
    },
    {
     "name": "stdout",
     "output_type": "stream",
     "text": [
      "given quadratic equation root is 3.0 and 2.0\n"
     ]
    }
   ],
   "source": [
    "a = float(input(\"eneter coefficient of a: \"))\n",
    "b = float(input(\"enetr coefiicient of b: \"))\n",
    "c = float(input(\"enetr coefficient of c: \"))\n",
    "discriminant  = b**2 - 4*a*c\n",
    "if discriminant == 0 :\n",
    "    root = -b / 2*a\n",
    "    print(f\"given quadratic equation root {root}\")\n",
    "elif discriminant >0:\n",
    "    root1 = (-b + (discriminant**0.5))/2*a\n",
    "    root2 = (-b-(discriminant**0.5))/2*a\n",
    "    print(f\"given quadratic equation root is {root1} and {root2}\")\n",
    "else:\n",
    "    print(\"ewe can not find out normal root , there is a complex root availabel as a solution \")"
   ]
  },
  {
   "cell_type": "markdown",
   "id": "e16da46f-1e94-4d74-88e9-4b76fd205f42",
   "metadata": {},
   "source": [
    "12. Create a program that determines the day of the week based on the day number (1-7)."
   ]
  },
  {
   "cell_type": "code",
   "execution_count": 5,
   "id": "d65e912c-96c6-42c2-befa-336618ce04cf",
   "metadata": {},
   "outputs": [
    {
     "name": "stdin",
     "output_type": "stream",
     "text": [
      " 3\n"
     ]
    },
    {
     "name": "stdout",
     "output_type": "stream",
     "text": [
      "wednesday\n"
     ]
    }
   ],
   "source": [
    "day = int(input())\n",
    "if day == 1:\n",
    "    print(\"monday\")\n",
    "elif day ==2:\n",
    "    print(\"tuesday\")\n",
    "elif day == 3:\n",
    "    print(\"wednesday\")\n",
    "elif day == 4:\n",
    "    print(\"thursday\")\n",
    "elif day == 5:\n",
    "    print(\"friday\")\n",
    "elif day == 6:\n",
    "    print(\"saturday\")\n",
    "elif day == 7:\n",
    "    print(\"sunday\")\n",
    "else:\n",
    "    print(\"enter valid number in range\")"
   ]
  },
  {
   "cell_type": "markdown",
   "id": "0b4a69de-085b-4b7c-b503-3a2ea96a42df",
   "metadata": {},
   "source": [
    "13. Develop a program that calculates the factorial of a given number using recursion."
   ]
  },
  {
   "cell_type": "code",
   "execution_count": 17,
   "id": "da39d0b2-9b30-43b5-8bb8-ecd73d0595c9",
   "metadata": {},
   "outputs": [
    {
     "name": "stdout",
     "output_type": "stream",
     "text": [
      "720\n"
     ]
    }
   ],
   "source": [
    "def factorial(num, temp):\n",
    "    temp = temp * num\n",
    "    if num == 1 or num == 0:\n",
    "        return temp\n",
    "    else:\n",
    "        num = num - 1\n",
    "        return factorial(num, temp)\n",
    "\n",
    "result = factorial(6, 1)\n",
    "print(result)\n"
   ]
  },
  {
   "cell_type": "markdown",
   "id": "b23ce81c-ad9f-42eb-a472-8a7f46164af3",
   "metadata": {},
   "source": [
    "14. Write a program to find the largest among three numbers without using the `max()` function."
   ]
  },
  {
   "cell_type": "code",
   "execution_count": 19,
   "id": "8f80365b-6851-40cd-801c-d14a08be8c2a",
   "metadata": {},
   "outputs": [
    {
     "name": "stdin",
     "output_type": "stream",
     "text": [
      "Enter the first number:  2\n",
      "Enter the second number:  3\n",
      "Enter the third number:  2\n"
     ]
    },
    {
     "name": "stdout",
     "output_type": "stream",
     "text": [
      "The largest number among 2.0, 3.0, and 2.0 is 3.0.\n"
     ]
    }
   ],
   "source": [
    "num1 = float(input(\"Enter the first number: \"))\n",
    "num2 = float(input(\"Enter the second number: \"))\n",
    "num3 = float(input(\"Enter the third number: \"))\n",
    "if num1 >= num2 and num1 >= num3:\n",
    "    largest = num1\n",
    "elif num2 >= num1 and num2 >= num3:\n",
    "    largest = num2\n",
    "else:\n",
    "    largest = num3\n",
    "print(f\"The largest number among {num1}, {num2}, and {num3} is {largest}.\")\n"
   ]
  },
  {
   "cell_type": "markdown",
   "id": "683caec1-f4ae-4b35-a79a-06e79b40005f",
   "metadata": {},
   "source": [
    "15. Create a program that simulates a basic ATM transaction menu."
   ]
  },
  {
   "cell_type": "code",
   "execution_count": 21,
   "id": "d6eefdc0-3c80-439d-ba63-13973c0e3110",
   "metadata": {},
   "outputs": [
    {
     "name": "stdout",
     "output_type": "stream",
     "text": [
      "ATM Menu:\n",
      "1. Check Balance\n",
      "2. Deposit\n",
      "3. Withdraw\n",
      "4. Exit\n"
     ]
    },
    {
     "name": "stdin",
     "output_type": "stream",
     "text": [
      "Enter your choice:  2\n",
      "Enter the deposit amount:  200\n"
     ]
    },
    {
     "name": "stdout",
     "output_type": "stream",
     "text": [
      "Deposited $200.00. Your new balance is $1200.00\n",
      "ATM Menu:\n",
      "1. Check Balance\n",
      "2. Deposit\n",
      "3. Withdraw\n",
      "4. Exit\n"
     ]
    },
    {
     "name": "stdin",
     "output_type": "stream",
     "text": [
      "Enter your choice:  1\n"
     ]
    },
    {
     "name": "stdout",
     "output_type": "stream",
     "text": [
      "Your account balance is $1200.00\n",
      "ATM Menu:\n",
      "1. Check Balance\n",
      "2. Deposit\n",
      "3. Withdraw\n",
      "4. Exit\n"
     ]
    },
    {
     "name": "stdin",
     "output_type": "stream",
     "text": [
      "Enter your choice:  4\n"
     ]
    },
    {
     "name": "stdout",
     "output_type": "stream",
     "text": [
      "Thank you for using our ATM. Have a nice day!\n"
     ]
    }
   ],
   "source": [
    "balance = 1000\n",
    "while True:\n",
    "    print(\"ATM Menu:\")\n",
    "    print(\"1. Check Balance\")\n",
    "    print(\"2. Deposit\")\n",
    "    print(\"3. Withdraw\")\n",
    "    print(\"4. Exit\")\n",
    "\n",
    "    choice = int(input(\"Enter your choice: \"))\n",
    "    if choice == 1:\n",
    "        print(f\"Your account balance is ${balance:.2f}\")\n",
    "    elif choice == 2:\n",
    "        deposit_amount = float(input(\"Enter the deposit amount: \"))\n",
    "        balance += deposit_amount\n",
    "        print(f\"Deposited ${deposit_amount:.2f}. Your new balance is ${balance:.2f}\")\n",
    "    elif choice == 3:\n",
    "        withdraw_amount = float(input(\"Enter the withdrawal amount: \"))\n",
    "        if withdraw_amount <= balance:\n",
    "            balance -= withdraw_amount\n",
    "            print(f\"Withdrew ${withdraw_amount:.2f}. Your new balance is ${balance:.2f}\")\n",
    "        else:\n",
    "            print(\"Insufficient funds. Withdrawal canceled.\")\n",
    "    elif choice == 4:\n",
    "        print(\"Thank you for using our ATM. Have a nice day!\")\n",
    "        break\n",
    "    else:\n",
    "        print(\"Invalid choice. Please select a valid option.\")\n"
   ]
  },
  {
   "cell_type": "markdown",
   "id": "17b2d6f7-bdd1-40d8-8191-e8de6521277b",
   "metadata": {},
   "source": [
    "16. Build a program that checks if a given string is a palindrome or not."
   ]
  },
  {
   "cell_type": "code",
   "execution_count": 23,
   "id": "36f4b447-1c8c-4175-b964-194ebe3542cd",
   "metadata": {},
   "outputs": [
    {
     "name": "stdout",
     "output_type": "stream",
     "text": [
      "your string is pallindrome\n"
     ]
    }
   ],
   "source": [
    "string = \"naan\"\n",
    "if string == string[::-1]:\n",
    "    print(\"your string is pallindrome\")\n",
    "else:\n",
    "    print(\"not pallindrome\")"
   ]
  },
  {
   "cell_type": "markdown",
   "id": "c81e87fe-c1b8-4179-bd42-de16f3ca9e52",
   "metadata": {},
   "source": [
    "17. Write a program that calculates the average of a list of numbers, excluding the smallest and largest values."
   ]
  },
  {
   "cell_type": "code",
   "execution_count": 26,
   "id": "0cd74755-e83e-4cee-a0ad-d9080dec3f0a",
   "metadata": {},
   "outputs": [
    {
     "name": "stdout",
     "output_type": "stream",
     "text": [
      "[12, 23, 45, 67, 89, 90, 11]\n",
      "48.142857142857146\n"
     ]
    }
   ],
   "source": [
    "list2 = [12,23,45,67,89,90,11,5,98]\n",
    "maxnumber = max(list2)\n",
    "minnumber = min(list2)\n",
    "list2.remove(maxnumber)\n",
    "list2.remove(minnumber)\n",
    "print(list2)\n",
    "sum1 = 0\n",
    "for i in list2:\n",
    "    sum1 += i\n",
    "print(sum1/len(list2))    "
   ]
  },
  {
   "cell_type": "markdown",
   "id": "93ae9e29-ad9f-4873-a08f-26bd8a4edede",
   "metadata": {},
   "source": [
    "18. Develop a program that converts a given temperature from Celsius to Fahrenheit."
   ]
  },
  {
   "cell_type": "code",
   "execution_count": 27,
   "id": "df3438c8-add6-494f-9022-8e536f451d09",
   "metadata": {},
   "outputs": [
    {
     "name": "stdin",
     "output_type": "stream",
     "text": [
      "enter temperatures in celsius 23\n"
     ]
    },
    {
     "name": "stdout",
     "output_type": "stream",
     "text": [
      "73.4\n"
     ]
    }
   ],
   "source": [
    "temperaturec = int(input(\"enter temperatures in celsius\"))\n",
    "print(temperaturec *(9/5)+32)"
   ]
  },
  {
   "cell_type": "markdown",
   "id": "e3d39392-84d4-458c-b371-b5a9d2952df9",
   "metadata": {},
   "source": [
    "19. Create a program that simulates a basic calculator for addition, subtraction, multiplication, and division."
   ]
  },
  {
   "cell_type": "code",
   "execution_count": 2,
   "id": "c8c1415e-927e-414f-88fc-5ed0e13a2661",
   "metadata": {},
   "outputs": [
    {
     "name": "stdin",
     "output_type": "stream",
     "text": [
      "enetr your first number 2\n",
      "enetr secound number 2\n"
     ]
    },
    {
     "name": "stdout",
     "output_type": "stream",
     "text": [
      "+:enter for addition\n",
      "-:enter for subtraction\n",
      "*:enter  for multiplication\n",
      "/:enter for division \n",
      "exit: enetr for off your calculator\n"
     ]
    },
    {
     "name": "stdin",
     "output_type": "stream",
     "text": [
      "enetr your operator for operation +\n"
     ]
    },
    {
     "name": "stdout",
     "output_type": "stream",
     "text": [
      "4\n",
      "+:enter for addition\n",
      "-:enter for subtraction\n",
      "*:enter  for multiplication\n",
      "/:enter for division \n",
      "exit: enetr for off your calculator\n"
     ]
    },
    {
     "name": "stdin",
     "output_type": "stream",
     "text": [
      "enetr your operator for operation exit\n"
     ]
    },
    {
     "name": "stdout",
     "output_type": "stream",
     "text": [
      "thank you for use of our calculator \n"
     ]
    }
   ],
   "source": [
    "num1 = int(input(\"enetr your first number\"))\n",
    "num2 = int(input(\"enetr secound number\"))\n",
    "while True:\n",
    "    print(\"+:enter for addition\")\n",
    "    print(\"-:enter for subtraction\")\n",
    "    print(\"*:enter  for multiplication\")\n",
    "    print(\"/:enter for division \")\n",
    "    print(\"exit: enetr for off your calculator\")\n",
    "    sym = input(\"enetr your operator for operation\")\n",
    "    if sym == \"+\":\n",
    "        print(num1+num2)\n",
    "    elif sym == \"-\":\n",
    "        print(num1-num2)\n",
    "    elif sym == \"*\":\n",
    "        print(num1*num2)\n",
    "    elif sym == \"/\":\n",
    "        print(\"your ans is\",num1/num2)\n",
    "    elif sym ==\"exit\":\n",
    "        print(\"thank you for use of our calculator \")\n",
    "        break\n",
    "    else:\n",
    "        print(\"pls enter valid input\")"
   ]
  },
  {
   "cell_type": "markdown",
   "id": "be8beae6-f6e9-4140-afef-80687139dbc0",
   "metadata": {},
   "source": [
    "20. Write a program that determines the roots of a cubic equation using the Cardano formula."
   ]
  },
  {
   "cell_type": "code",
   "execution_count": 3,
   "id": "0e8d9758-099b-4e42-84a2-592b0e5d6a2b",
   "metadata": {},
   "outputs": [
    {
     "name": "stdin",
     "output_type": "stream",
     "text": [
      "Enter coefficient a:  2\n",
      "Enter coefficient b:  2\n",
      "Enter coefficient c:  2\n",
      "Enter coefficient d:  2\n"
     ]
    },
    {
     "name": "stdout",
     "output_type": "stream",
     "text": [
      "Roots of the cubic equation:\n",
      "Root: 0.366025+0.788675j\n"
     ]
    }
   ],
   "source": [
    "import math\n",
    "\n",
    "def cubic_roots(a, b, c, d):\n",
    "    # Calculate some intermediate values\n",
    "    p = (3 * a * c - b**2) / (3 * a**2)\n",
    "    q = (2 * b**3 - 9 * a * b * c + 27 * a**2 * d) / (27 * a**3)\n",
    "    discriminant = (q / 2)**2 + (p / 3)**3\n",
    "\n",
    "    if discriminant > 0:\n",
    "        # One real root and two complex roots\n",
    "        u = (-q / 2 + discriminant**0.5)**(1/3)\n",
    "        v = (-q / 2 - discriminant**0.5)**(1/3)\n",
    "        real_root = u + v - b / (3 * a)\n",
    "        return [real_root]\n",
    "\n",
    "    elif discriminant == 0:\n",
    "        # All roots are real and at least two are equal\n",
    "        if q == 0:\n",
    "            real_root = (-b / (3 * a))\n",
    "            return [real_root, real_root, real_root]\n",
    "        else:\n",
    "            u = (-q / 2)**(1/3)\n",
    "            real_root = 2 * u - b / (3 * a)\n",
    "            complex_root = -u - b / (3 * a)\n",
    "            return [real_root, complex_root, complex_root]\n",
    "\n",
    "    else:\n",
    "        # Three distinct real roots\n",
    "        phi = math.acos(-q / (2 * (discriminant**0.5)))\n",
    "        u = (-q / 2)**(1/3)\n",
    "        real_root1 = 2 * u * math.cos(phi / 3) - b / (3 * a)\n",
    "        real_root2 = 2 * u * math.cos((phi + 2 * math.pi) / 3) - b / (3 * a)\n",
    "        real_root3 = 2 * u * math.cos((phi + 4 * math.pi) / 3) - b / (3 * a)\n",
    "        return [real_root1, real_root2, real_root3]\n",
    "\n",
    "# Input coefficients of the cubic equation ax^3 + bx^2 + cx + d = 0\n",
    "a = float(input(\"Enter coefficient a: \"))\n",
    "b = float(input(\"Enter coefficient b: \"))\n",
    "c = float(input(\"Enter coefficient c: \"))\n",
    "d = float(input(\"Enter coefficient d: \"))\n",
    "\n",
    "# Calculate and print the roots of the cubic equation\n",
    "roots = cubic_roots(a, b, c, d)\n",
    "print(\"Roots of the cubic equation:\")\n",
    "for root in roots:\n",
    "    print(f\"Root: {root:.6f}\")\n"
   ]
  },
  {
   "cell_type": "markdown",
   "id": "71c8c897-d020-486f-84ad-9f6623f7e20b",
   "metadata": {},
   "source": [
    "# Advanced Level:"
   ]
  },
  {
   "cell_type": "markdown",
   "id": "0a4e8766-0463-43c6-ae0e-552a6919f407",
   "metadata": {},
   "source": [
    "21. Create a program that calculates the income tax based on the user's income and tax brackets."
   ]
  },
  {
   "cell_type": "code",
   "execution_count": 6,
   "id": "b043077a-b9cf-44d9-96be-e5a4b4038ddc",
   "metadata": {},
   "outputs": [
    {
     "name": "stdin",
     "output_type": "stream",
     "text": [
      " 7000000\n"
     ]
    },
    {
     "name": "stdout",
     "output_type": "stream",
     "text": [
      "Tax bracket is 0.25 and income tax is 1612500.0\n"
     ]
    }
   ],
   "source": [
    "income = int(input())\n",
    "taxbracket = 0\n",
    "incometax = 0\n",
    "\n",
    "if income < 250000:\n",
    "    taxbracket = 0\n",
    "    incometax = 0\n",
    "elif income >= 250000 and income < 500000:\n",
    "    taxbracket = 0.05\n",
    "    incometax = (income - 250000) * taxbracket\n",
    "elif income >= 500000 and income < 1000000:\n",
    "    taxbracket = 0.20\n",
    "    incometax = (income - 500000) * taxbracket + (500000 - 250000) * 0.05\n",
    "elif income >= 1000000:\n",
    "    taxbracket = 0.25\n",
    "    incometax = (income - 1000000) * taxbracket + (1000000 - 500000) * 0.20 + (500000 - 250000) * 0.05\n",
    "else:\n",
    "    print(\"Enter a valid income\")\n",
    "\n",
    "print(f\"Tax bracket is {taxbracket} and income tax is {incometax}\")\n"
   ]
  },
  {
   "cell_type": "markdown",
   "id": "1b188fa4-ddc9-4e19-929e-e047d1b3823c",
   "metadata": {},
   "source": [
    "22. Write a program that simulates a rock-paper-scissors game against the computer."
   ]
  },
  {
   "cell_type": "code",
   "execution_count": 16,
   "id": "34c2e9a8-2e3b-4544-8920-9c3ae8692dd3",
   "metadata": {},
   "outputs": [
    {
     "name": "stdin",
     "output_type": "stream",
     "text": [
      "choices one either rock or paper or scissors rock\n"
     ]
    },
    {
     "name": "stdout",
     "output_type": "stream",
     "text": [
      "Computer wins!\n"
     ]
    }
   ],
   "source": [
    "import random \n",
    "choices = [\"rock\", \"paper\", \"scissors\"]\n",
    "computer = random.choices(choices)\n",
    "user = input(\"choices one either rock or paper or scissors\")\n",
    "if user == computer:\n",
    "     print(\"It's a tie!\")\n",
    "elif (\n",
    "        (user == \"rock\" and computer == \"scissors\") or\n",
    "        (user == \"scissors\" and computer == \"paper\") or\n",
    "        (user == \"paper\" and computer == \"rock\")\n",
    "    ):\n",
    "    print( \"You win!\")\n",
    "else:\n",
    "    print( \"Computer wins!\")"
   ]
  },
  {
   "cell_type": "markdown",
   "id": "749d2136-5ad5-4616-b297-7312cdf2dc22",
   "metadata": {},
   "source": [
    "23. Develop a program that generates a random password based on user preferences (length, complexity)."
   ]
  },
  {
   "cell_type": "code",
   "execution_count": 24,
   "id": "73d50a2b-7996-4bbe-83b9-73303a722e29",
   "metadata": {},
   "outputs": [
    {
     "name": "stdin",
     "output_type": "stream",
     "text": [
      "enetr password lenght 9\n",
      "select complex,mediaum or simple password complex\n"
     ]
    },
    {
     "name": "stdout",
     "output_type": "stream",
     "text": [
      "jIAPk^H(@\n"
     ]
    }
   ],
   "source": [
    "import random \n",
    "import string\n",
    "lenght = int(input(\"enetr password lenght\"))\n",
    "complexity = input(\"select complex,mediaum or simple password\")\n",
    "char = ''\n",
    "if complexity == 'complex':\n",
    "    char = string.ascii_letters + string.digits + string.punctuation\n",
    "elif complexity == \"mediaum\":\n",
    "    char = string.ascii_letters + string.digits \n",
    "elif complexity == \"simple\":\n",
    "    char = string.ascii_letters\n",
    "else:\n",
    "    print(\"pls select complexity of your password in complex,mediaum or simple\")\n",
    "# print(char)\n",
    "password =''\n",
    "for i in range(lenght):\n",
    "    password += (random.choice(char))\n",
    "print(password)    "
   ]
  },
  {
   "cell_type": "markdown",
   "id": "12cbe5ce-ab54-4321-b554-a725277d6e2d",
   "metadata": {},
   "source": [
    "24. Create a program that implements a simple text-based adventure game with branching scenarios."
   ]
  },
  {
   "cell_type": "code",
   "execution_count": 25,
   "id": "6e376317-b1d9-42cc-9748-0e2ca4c979a3",
   "metadata": {},
   "outputs": [
    {
     "name": "stdout",
     "output_type": "stream",
     "text": [
      "You wake up in a dense forest. You have no idea how you got here.\n",
      "You see two paths ahead of you.\n",
      "\n",
      "What do you do?\n",
      "1. Take the left path.\n",
      "2. Take the right path.\n",
      "3. Stay put and look around.\n"
     ]
    },
    {
     "name": "stdin",
     "output_type": "stream",
     "text": [
      "Enter your choice (1/2/3):  1\n"
     ]
    },
    {
     "name": "stdout",
     "output_type": "stream",
     "text": [
      "\n",
      "You follow the left path and find a hidden treasure chest!\n",
      "Congratulations, you're rich!\n",
      "\n",
      "Game Over.\n"
     ]
    }
   ],
   "source": [
    "import time\n",
    "\n",
    "def forest_adventure():\n",
    "    print(\"You wake up in a dense forest. You have no idea how you got here.\")\n",
    "    time.sleep(1)\n",
    "    print(\"You see two paths ahead of you.\")\n",
    "    time.sleep(1)\n",
    "\n",
    "    while True:\n",
    "        print(\"\\nWhat do you do?\")\n",
    "        print(\"1. Take the left path.\")\n",
    "        print(\"2. Take the right path.\")\n",
    "        print(\"3. Stay put and look around.\")\n",
    "\n",
    "        choice = input(\"Enter your choice (1/2/3): \")\n",
    "\n",
    "        if choice == \"1\":\n",
    "            print(\"\\nYou follow the left path and find a hidden treasure chest!\")\n",
    "            time.sleep(1)\n",
    "            print(\"Congratulations, you're rich!\")\n",
    "            break\n",
    "        elif choice == \"2\":\n",
    "            print(\"\\nYou take the right path and suddenly fall into a pit!\")\n",
    "            time.sleep(1)\n",
    "            print(\"Ouch! You need to find another way out.\")\n",
    "            break\n",
    "        elif choice == \"3\":\n",
    "            print(\"\\nYou stay put and carefully examine your surroundings.\")\n",
    "            time.sleep(1)\n",
    "            print(\"You notice a map on the ground that leads to a treasure.\")\n",
    "            time.sleep(1)\n",
    "            print(\"It seems the treasure is to the left.\")\n",
    "        else:\n",
    "            print(\"\\nInvalid choice. Please enter 1, 2, or 3.\")\n",
    "\n",
    "    print(\"\\nGame Over.\")\n",
    "\n",
    "if __name__ == \"__main__\":\n",
    "    forest_adventure()\n"
   ]
  },
  {
   "cell_type": "markdown",
   "id": "4a168afa-e6c0-4ba4-a7ca-3d657125812f",
   "metadata": {},
   "source": [
    "25. Build a program that solves a linear equation for x, considering different cases."
   ]
  },
  {
   "cell_type": "code",
   "execution_count": 4,
   "id": "7e0a2e09-b192-4d09-9587-94f2959925aa",
   "metadata": {},
   "outputs": [
    {
     "name": "stdin",
     "output_type": "stream",
     "text": [
      "enter your  equation  2x-4=4\n"
     ]
    },
    {
     "name": "stdout",
     "output_type": "stream",
     "text": [
      "4.0\n"
     ]
    }
   ],
   "source": [
    "equation = input(\"enter your  equation \")\n",
    "list1 = equation.split(\"=\")\n",
    "if len(list1) != 2:\n",
    "    print(\"pls enter perfect linear equation \")\n",
    "else:   \n",
    "    leftside , rightside = list1 \n",
    "    a,b = leftside.split('x')\n",
    "    a = float(a)\n",
    "    b = float(rightside)-float(b)\n",
    "    if a == 0:\n",
    "        if b == 0:\n",
    "            print(\"infinite solution of the given linear equation\")\n",
    "        else:\n",
    "            print(\"no solution\")\n",
    "    else:\n",
    "        print(b/a)\n",
    "        "
   ]
  },
  {
   "cell_type": "markdown",
   "id": "fc864e69-3453-4aa4-b9dd-4c0d34dc1d4e",
   "metadata": {},
   "source": [
    "26. Write a program that simulates a basic quiz game with multiple-choice questions and scoring."
   ]
  },
  {
   "cell_type": "code",
   "execution_count": 6,
   "id": "a4a1c37e-6a52-485c-8cef-3324eea5fa1e",
   "metadata": {},
   "outputs": [
    {
     "name": "stdout",
     "output_type": "stream",
     "text": [
      "What is 2 + 2?\n",
      "1. 3\n",
      "2. 4\n",
      "3. 5\n",
      "4. 6\n"
     ]
    },
    {
     "name": "stdin",
     "output_type": "stream",
     "text": [
      "Enter the number of your answer:  4\n"
     ]
    },
    {
     "name": "stdout",
     "output_type": "stream",
     "text": [
      "Wrong! The correct answer is 4.\n",
      "\n",
      "What color is the sky?\n",
      "1. Red\n",
      "2. Green\n",
      "3. Blue\n",
      "4. Yellow\n"
     ]
    },
    {
     "name": "stdin",
     "output_type": "stream",
     "text": [
      "Enter the number of your answer:  3\n"
     ]
    },
    {
     "name": "stdout",
     "output_type": "stream",
     "text": [
      "Correct!\n",
      "\n",
      "Quiz completed! Your score is: 1/2\n"
     ]
    }
   ],
   "source": [
    "questions = [\n",
    "    {\n",
    "        \"question\": \"What is 2 + 2?\",\n",
    "        \"options\": [\"3\", \"4\", \"5\", \"6\"],\n",
    "        \"correct_answer\": \"4\"\n",
    "    },\n",
    "    {\n",
    "        \"question\": \"What color is the sky?\",\n",
    "        \"options\": [\"Red\", \"Green\", \"Blue\", \"Yellow\"],\n",
    "        \"correct_answer\": \"Blue\"\n",
    "    }\n",
    "]\n",
    "\n",
    "score = 0\n",
    "\n",
    "for question in questions:\n",
    "    print(question[\"question\"])\n",
    "    for i, option in enumerate(question[\"options\"], start=1):\n",
    "        print(f\"{i}. {option}\")\n",
    "\n",
    "    # Get user's answer\n",
    "    user_answer = input(\"Enter the number of your answer: \")\n",
    "\n",
    "    # Check if the answer is correct\n",
    "    if user_answer == str(question[\"options\"].index(question[\"correct_answer\"]) + 1):\n",
    "        print(\"Correct!\\n\")\n",
    "        score += 1\n",
    "    else:\n",
    "        print(f\"Wrong! The correct answer is {question['correct_answer']}.\\n\")\n",
    "\n",
    "# Display final score\n",
    "print(f\"Quiz completed! Your score is: {score}/{len(questions)}\")\n",
    "\n"
   ]
  },
  {
   "cell_type": "markdown",
   "id": "d5f9db1a-f727-4d69-a6e3-85f2282b3074",
   "metadata": {},
   "source": [
    "27. Develop a program that determines whether a given year is a prime number or not."
   ]
  },
  {
   "cell_type": "code",
   "execution_count": 10,
   "id": "a4cafa63-7c6e-4049-9e73-63842ae728bd",
   "metadata": {},
   "outputs": [
    {
     "name": "stdin",
     "output_type": "stream",
     "text": [
      "enter your year  1999\n"
     ]
    },
    {
     "name": "stdout",
     "output_type": "stream",
     "text": [
      "given year is prime year\n"
     ]
    }
   ],
   "source": [
    "year = int(input(\"enter your year \"))\n",
    "if year <= 1:\n",
    "    print(\"your enter year is not a prime year\")\n",
    "elif year == 2 or year == 3 :\n",
    "    print(\"your enter year is prime year \")\n",
    "else:\n",
    "    flage =1\n",
    "    for i in range(2,int(year**0.5)+1):\n",
    "        if year %  i ==0:\n",
    "            print(\"given year is not prime year\")\n",
    "            flage = 0\n",
    "            break\n",
    "    if flage == 1:\n",
    "        print(\"given year is prime year\")"
   ]
  },
  {
   "cell_type": "markdown",
   "id": "42a5262e-4416-46ee-9897-f38de83b0969",
   "metadata": {},
   "source": [
    "28. Create a program that sorts three numbers in ascending order using conditional statements."
   ]
  },
  {
   "cell_type": "code",
   "execution_count": 11,
   "id": "01b5d2db-c3e6-455b-b371-a4f56071e443",
   "metadata": {},
   "outputs": [
    {
     "name": "stdin",
     "output_type": "stream",
     "text": [
      "Enter the first number:  23\n",
      "Enter the second number:  12\n",
      "Enter the third number:  10\n"
     ]
    },
    {
     "name": "stdout",
     "output_type": "stream",
     "text": [
      "Numbers in ascending order: (10.0, 12.0, 23.0)\n"
     ]
    }
   ],
   "source": [
    "num1 = float(input(\"Enter the first number: \"))\n",
    "num2 = float(input(\"Enter the second number: \"))\n",
    "num3 = float(input(\"Enter the third number: \"))\n",
    "\n",
    "if num1 <= num2 <= num3:\n",
    "    sorted_nums = (num1, num2, num3)\n",
    "elif num1 <= num3 <= num2:\n",
    "    sorted_nums = (num1, num3, num2)\n",
    "elif num2 <= num1 <= num3:\n",
    "    sorted_nums = (num2, num1, num3)\n",
    "elif num2 <= num3 <= num1:\n",
    "    sorted_nums = (num2, num3, num1)\n",
    "elif num3 <= num1 <= num2:\n",
    "    sorted_nums = (num3, num1, num2)\n",
    "else:\n",
    "    sorted_nums = (num3, num2, num1)\n",
    "\n",
    "print(\"Numbers in ascending order:\", sorted_nums)\n"
   ]
  },
  {
   "cell_type": "markdown",
   "id": "44a3a22d-6979-4a34-89f8-c680cdf21c5e",
   "metadata": {},
   "source": [
    "29. Build a program that determines the roots of a quartic equation using numerical methods."
   ]
  },
  {
   "cell_type": "code",
   "execution_count": 12,
   "id": "362e0ec1-11fe-44d3-a98e-845a56dd97ba",
   "metadata": {},
   "outputs": [
    {
     "name": "stdout",
     "output_type": "stream",
     "text": [
      "The root of the quartic equation is approximately: 0.381841\n"
     ]
    }
   ],
   "source": [
    "def quartic_equation(x, coefficients):\n",
    "    # Evaluate the quartic equation f(x) = ax^4 + bx^3 + cx^2 + dx + e\n",
    "    a, b, c, d, e = coefficients\n",
    "    return a * x**4 + b * x**3 + c * x**2 + d * x + e\n",
    "\n",
    "def derivative_quartic(x, coefficients):\n",
    "    # Compute the derivative of the quartic equation\n",
    "    a, b, c, d, _ = coefficients\n",
    "    return 4 * a * x**3 + 3 * b * x**2 + 2 * c * x + d\n",
    "\n",
    "def newton_raphson_quartic(coefficients, initial_guess, tolerance=1e-6, max_iterations=100):\n",
    "    x = initial_guess\n",
    "    for iteration in range(max_iterations):\n",
    "        f_x = quartic_equation(x, coefficients)\n",
    "        f_prime_x = derivative_quartic(x, coefficients)\n",
    "\n",
    "        # Update x using the Newton-Raphson formula\n",
    "        x = x - f_x / f_prime_x\n",
    "\n",
    "        # Check for convergence\n",
    "        if abs(f_x) < tolerance:\n",
    "            return x\n",
    "\n",
    "    return None  # Return None if the method did not converge\n",
    "\n",
    "def main():\n",
    "    # Coefficients of the quartic equation: ax^4 + bx^3 + cx^2 + dx + e\n",
    "    coefficients = [1, -6, 11, -6, 1]\n",
    "\n",
    "    # Initial guess for the root\n",
    "    initial_guess = 0.0\n",
    "\n",
    "    # Find the root using the Newton-Raphson method\n",
    "    root = newton_raphson_quartic(coefficients, initial_guess)\n",
    "\n",
    "    if root is not None:\n",
    "        print(f\"The root of the quartic equation is approximately: {root:.6f}\")\n",
    "    else:\n",
    "        print(\"The Newton-Raphson method did not converge.\")\n",
    "\n",
    "if __name__ == \"__main__\":\n",
    "    main()\n"
   ]
  },
  {
   "cell_type": "markdown",
   "id": "dfa1eb68-d078-4cf0-9d89-a7c522763231",
   "metadata": {},
   "source": [
    "30. Write a program that calculates the BMI (Body Mass Index) and provides health recommendations based\n",
    "on the user's input."
   ]
  },
  {
   "cell_type": "code",
   "execution_count": 14,
   "id": "9c7e2cce-c0db-4e42-a5f9-01090873301c",
   "metadata": {},
   "outputs": [
    {
     "name": "stdin",
     "output_type": "stream",
     "text": [
      "Enter your weight in kilograms:  70\n",
      "Enter your height in meters:  1.7\n"
     ]
    },
    {
     "name": "stdout",
     "output_type": "stream",
     "text": [
      "Your BMI is: 24.22\n",
      "Category: Normal Weight\n",
      "Recommendation: Your weight is within the healthy range. Keep up the good work!\n"
     ]
    }
   ],
   "source": [
    "weight = float(input(\"Enter your weight in kilograms: \"))\n",
    "height = float(input(\"Enter your height in meters: \"))\n",
    "\n",
    "bmi = weight / (height ** 2)\n",
    "\n",
    "if bmi < 18.5:\n",
    "    category = \"Underweight\"\n",
    "    recommendation = \"You may need to gain weight. Consult a healthcare professional.\"\n",
    "elif 18.5 <= bmi < 24.9:\n",
    "    category = \"Normal Weight\"\n",
    "    recommendation = \"Your weight is within the healthy range. Keep up the good work!\"\n",
    "elif 24.9 <= bmi < 29.9:\n",
    "    category = \"Overweight\"\n",
    "    recommendation = \"You may need to lose weight. Consult a healthcare professional.\"\n",
    "else:\n",
    "    category = \"Obese\"\n",
    "    recommendation = \"You should consider losing weight. Consult a healthcare professional.\"\n",
    "\n",
    "print(f\"Your BMI is: {bmi:.2f}\")\n",
    "print(f\"Category: {category}\")\n",
    "print(f\"Recommendation: {recommendation}\")\n"
   ]
  },
  {
   "cell_type": "markdown",
   "id": "3f52ab1d-f9f7-45f4-99fa-019e851b71f2",
   "metadata": {},
   "source": [
    "# Challenge Level:"
   ]
  },
  {
   "cell_type": "markdown",
   "id": "47ecea71-83ec-438e-b8bc-100573b14eda",
   "metadata": {},
   "source": [
    "31. Create a program that validates a password based on complexity rules (length, characters, etc.)."
   ]
  },
  {
   "cell_type": "code",
   "execution_count": 1,
   "id": "a1c04288-1655-4157-afb1-db90aa849f13",
   "metadata": {},
   "outputs": [
    {
     "name": "stdin",
     "output_type": "stream",
     "text": [
      "enter your password  Vishal@123\n"
     ]
    },
    {
     "name": "stdout",
     "output_type": "stream",
     "text": [
      "your password is strong dont think much about your passowrd \n"
     ]
    }
   ],
   "source": [
    "password = input(\"enter your password \")\n",
    "if len(password)<=8:\n",
    "    print(\"your password length is minimum 8 character long \")\n",
    "elif not any(char.isupper() for char in password):\n",
    "    print(\"your password is not containt uppercase latter\")\n",
    "elif not any(char.islower() for char in password):\n",
    "    print(\"your password not contain eny lower case latter\")\n",
    "elif not any(char.isdigit() for char in password):\n",
    "    print(\"your password not contain eny digit \")\n",
    "elif not any(char in \"!@#$%^&*()_+{}[]:;<>,.?~\\\\\" for char in password):\n",
    "    print(\"your password have not eny special_character\")\n",
    "else:\n",
    "    print(\"your password is strong dont think much about your passowrd \" )"
   ]
  },
  {
   "cell_type": "markdown",
   "id": "9fa3b36d-71cb-4c7e-b813-a4364583b145",
   "metadata": {},
   "source": [
    "32. Develop a program that performs matrix addition and subtraction based on user input."
   ]
  },
  {
   "cell_type": "code",
   "execution_count": 7,
   "id": "49b6ae91-4a6b-4093-b529-17b5d49b6038",
   "metadata": {},
   "outputs": [
    {
     "name": "stdin",
     "output_type": "stream",
     "text": [
      "enter add for addition of two matrix and sub for subtraction of two matrix   add\n"
     ]
    },
    {
     "name": "stdout",
     "output_type": "stream",
     "text": [
      "[[3, 5], [7, 9]]\n"
     ]
    }
   ],
   "source": [
    "ans = input(\"enter add for addition of two matrix and sub for subtraction of two matrix  \")\n",
    "matrix1 = [[1,2],[3,4]]\n",
    "matrix2 = [[2,3],[4,5]]\n",
    "flage = 0\n",
    "if ans == 'sub':\n",
    "    temp = [[matrix1[0][0]-matrix2[0][0],matrix1[0][1]-matrix2[0][1]],[matrix1[1][0]-matrix2[1][0],matrix1[1][1]-matrix2[1][1]]]\n",
    "elif ans == 'add':\n",
    "     temp = [[matrix1[0][0]+matrix2[0][0],matrix1[0][1]+matrix2[0][1]],[matrix1[1][0]+matrix2[1][0],matrix1[1][1]+matrix2[1][1]]]\n",
    "else:\n",
    "    flage = 1\n",
    "    print(\"pls enter vallid operation type\")\n",
    "if flage == 0:\n",
    "    print(temp)"
   ]
  },
  {
   "cell_type": "markdown",
   "id": "2e2a9807-bb88-4106-a9fd-6484e451e8d0",
   "metadata": {},
   "source": [
    "33. Write a program that calculates the greatest common divisor (GCD) of two numbers using the Euclidean\n",
    "algorithm."
   ]
  },
  {
   "cell_type": "code",
   "execution_count": 15,
   "id": "0ea84437-d294-448c-b025-4035c97d28d0",
   "metadata": {},
   "outputs": [
    {
     "name": "stdin",
     "output_type": "stream",
     "text": [
      " 6\n",
      " 52\n"
     ]
    },
    {
     "name": "stdout",
     "output_type": "stream",
     "text": [
      "2\n"
     ]
    }
   ],
   "source": [
    "num1 = int(input())\n",
    "num2 = int(input())\n",
    "temp = 1\n",
    "i=2\n",
    "if num2<num1:\n",
    "    temp2 = num2\n",
    "    while i <= temp2:\n",
    "        if num1%i == 0 and num2%i == 0:\n",
    "            num2 = num2//i\n",
    "            num1 = num1//i\n",
    "            temp = temp*i\n",
    "        else:\n",
    "            i = i+1\n",
    "else:\n",
    "    temp1 = num1\n",
    "    while i <= num1:\n",
    "        if num1%i == 0 and num2%i == 0:\n",
    "            num2 = num2//i\n",
    "            num1 = num1//i\n",
    "            temp = temp*i\n",
    "        else:\n",
    "            i = i+1\n",
    "print(temp)            \n"
   ]
  },
  {
   "cell_type": "markdown",
   "id": "c344afa2-581b-4b04-8b62-2cbc3341bec3",
   "metadata": {},
   "source": [
    "34. Build a program that performs matrix multiplication using nested loops and conditional statements."
   ]
  },
  {
   "cell_type": "code",
   "execution_count": 1,
   "id": "42279323-2184-4607-86f0-f55a652290f7",
   "metadata": {},
   "outputs": [
    {
     "name": "stdout",
     "output_type": "stream",
     "text": [
      "[58, 64]\n",
      "[139, 154]\n"
     ]
    }
   ],
   "source": [
    "def matrix_multiply(matrix1, matrix2):\n",
    "    if len(matrix1[0]) != len(matrix2):\n",
    "        print(\"Matrix multiplication is not possible. The number of columns in the first matrix must match the number of rows in the second matrix.\")\n",
    "        return None\n",
    "\n",
    "    result = [[0 for _ in range(len(matrix2[0]))] for _ in range(len(matrix1))]\n",
    "\n",
    "    for i in range(len(matrix1)):\n",
    "        for j in range(len(matrix2[0])):\n",
    "            for k in range(len(matrix2)):\n",
    "                result[i][j] += matrix1[i][k] * matrix2[k][j]\n",
    "\n",
    "    return result\n",
    "\n",
    "# Example matrices\n",
    "matrix_A = [\n",
    "    [1, 2, 3],\n",
    "    [4, 5, 6],\n",
    "]\n",
    "\n",
    "matrix_B = [\n",
    "    [7, 8],\n",
    "    [9, 10],\n",
    "    [11, 12],\n",
    "]\n",
    "\n",
    "# Perform matrix multiplication\n",
    "result_matrix = matrix_multiply(matrix_A, matrix_B)\n",
    "\n",
    "# Print the result\n",
    "if result_matrix:\n",
    "    for row in result_matrix:\n",
    "        print(row)\n"
   ]
  },
  {
   "cell_type": "markdown",
   "id": "475b3649-8647-4b7c-b64d-f7a82609376d",
   "metadata": {},
   "source": [
    "35. Create a program that simulates a basic text-based tic-tac-toe game against the computer."
   ]
  },
  {
   "cell_type": "code",
   "execution_count": 1,
   "id": "7794a94f-e291-4f9f-8170-35390e8cbaba",
   "metadata": {},
   "outputs": [
    {
     "name": "stdout",
     "output_type": "stream",
     "text": [
      "Welcome to Text-Based Tic-Tac-Toe!\n",
      "  |   |  \n",
      "---------\n",
      "  |   |  \n",
      "---------\n",
      "  |   |  \n",
      "---------\n"
     ]
    },
    {
     "name": "stdin",
     "output_type": "stream",
     "text": [
      "Enter your move, O (1-9):  1\n"
     ]
    },
    {
     "name": "stdout",
     "output_type": "stream",
     "text": [
      "O |   |  \n",
      "---------\n",
      "  |   |  \n",
      "---------\n",
      "  |   |  \n",
      "---------\n"
     ]
    },
    {
     "name": "stdin",
     "output_type": "stream",
     "text": [
      "Enter your move, X (1-9):  4\n"
     ]
    },
    {
     "name": "stdout",
     "output_type": "stream",
     "text": [
      "O |   |  \n",
      "---------\n",
      "X |   |  \n",
      "---------\n",
      "  |   |  \n",
      "---------\n"
     ]
    },
    {
     "name": "stdin",
     "output_type": "stream",
     "text": [
      "Enter your move, O (1-9):  6\n"
     ]
    },
    {
     "name": "stdout",
     "output_type": "stream",
     "text": [
      "O |   |  \n",
      "---------\n",
      "X |   | O\n",
      "---------\n",
      "  |   |  \n",
      "---------\n"
     ]
    },
    {
     "name": "stdin",
     "output_type": "stream",
     "text": [
      "Enter your move, X (1-9):  0\n"
     ]
    },
    {
     "name": "stdout",
     "output_type": "stream",
     "text": [
      "Invalid move. Try again.\n"
     ]
    },
    {
     "name": "stdin",
     "output_type": "stream",
     "text": [
      "Enter your move, X (1-9):  5\n"
     ]
    },
    {
     "name": "stdout",
     "output_type": "stream",
     "text": [
      "O |   |  \n",
      "---------\n",
      "X | X | O\n",
      "---------\n",
      "  |   |  \n",
      "---------\n"
     ]
    },
    {
     "name": "stdin",
     "output_type": "stream",
     "text": [
      "Enter your move, O (1-9):  3\n"
     ]
    },
    {
     "name": "stdout",
     "output_type": "stream",
     "text": [
      "O |   | O\n",
      "---------\n",
      "X | X | O\n",
      "---------\n",
      "  |   |  \n",
      "---------\n"
     ]
    },
    {
     "name": "stdin",
     "output_type": "stream",
     "text": [
      "Enter your move, X (1-9):  2\n"
     ]
    },
    {
     "name": "stdout",
     "output_type": "stream",
     "text": [
      "O | X | O\n",
      "---------\n",
      "X | X | O\n",
      "---------\n",
      "  |   |  \n",
      "---------\n"
     ]
    },
    {
     "name": "stdin",
     "output_type": "stream",
     "text": [
      "Enter your move, O (1-9):  8\n"
     ]
    },
    {
     "name": "stdout",
     "output_type": "stream",
     "text": [
      "O | X | O\n",
      "---------\n",
      "X | X | O\n",
      "---------\n",
      "  | O |  \n",
      "---------\n"
     ]
    },
    {
     "name": "stdin",
     "output_type": "stream",
     "text": [
      "Enter your move, X (1-9):  6\n"
     ]
    },
    {
     "name": "stdout",
     "output_type": "stream",
     "text": [
      "Invalid move. Try again.\n"
     ]
    },
    {
     "name": "stdin",
     "output_type": "stream",
     "text": [
      "Enter your move, X (1-9):  7\n"
     ]
    },
    {
     "name": "stdout",
     "output_type": "stream",
     "text": [
      "O | X | O\n",
      "---------\n",
      "X | X | O\n",
      "---------\n",
      "X | O |  \n",
      "---------\n"
     ]
    },
    {
     "name": "stdin",
     "output_type": "stream",
     "text": [
      "Enter your move, O (1-9):  9\n"
     ]
    },
    {
     "name": "stdout",
     "output_type": "stream",
     "text": [
      "O | X | O\n",
      "---------\n",
      "X | X | O\n",
      "---------\n",
      "X | O | O\n",
      "---------\n",
      "O wins! Congratulations!\n"
     ]
    }
   ],
   "source": [
    "import random\n",
    "\n",
    "def print_board(board):\n",
    "    for row in board:\n",
    "        print(\" | \".join(row))\n",
    "        print(\"-\" * 9)\n",
    "\n",
    "def check_winner(board, player):\n",
    "    # Check rows, columns, and diagonals for a win\n",
    "    for i in range(3):\n",
    "        if all(cell == player for cell in board[i]):\n",
    "            return True\n",
    "        if all(row[i] == player for row in board):\n",
    "            return True\n",
    "    if all(board[i][i] == player for i in range(3)) or all(board[i][2 - i] == player for i in range(3)):\n",
    "        return True\n",
    "    return False\n",
    "\n",
    "def is_draw(board):\n",
    "    return all(all(cell != \" \" for cell in row) for row in board)\n",
    "\n",
    "def player_move(board, player):\n",
    "    while True:\n",
    "        try:\n",
    "            move = int(input(f\"Enter your move, {player} (1-9): \")) - 1\n",
    "            row, col = divmod(move, 3)\n",
    "            if 0 <= move <= 8 and board[row][col] == \" \":\n",
    "                board[row][col] = player\n",
    "                break\n",
    "            else:\n",
    "                print(\"Invalid move. Try again.\")\n",
    "        except ValueError:\n",
    "            print(\"Invalid input. Enter a number from 1 to 9.\")\n",
    "\n",
    "def computer_move(board, computer, player):\n",
    "    # Simple strategy: Randomly select an available spot\n",
    "    while True:\n",
    "        row = random.randint(0, 2)\n",
    "        col = random.randint(0, 2)\n",
    "        if board[row][col] == \" \":\n",
    "            board[row][col] = computer\n",
    "            return\n",
    "\n",
    "def play_tic_tac_toe():\n",
    "    board = [[\" \" for _ in range(3)] for _ in range(3)]\n",
    "    players = [\"X\", \"O\"]\n",
    "    random.shuffle(players)\n",
    "    print(\"Welcome to Text-Based Tic-Tac-Toe!\")\n",
    "    print_board(board)\n",
    "\n",
    "    for _ in range(9):\n",
    "        current_player = players[0]\n",
    "        player_move(board, current_player)\n",
    "        print_board(board)\n",
    "        if check_winner(board, current_player):\n",
    "            print(f\"{current_player} wins! Congratulations!\")\n",
    "            return\n",
    "        if is_draw(board):\n",
    "            print(\"It's a draw!\")\n",
    "            return\n",
    "        players.reverse()  # Switch players\n",
    "\n",
    "    print(\"It's a draw!\")\n",
    "\n",
    "if __name__ == \"__main__\":\n",
    "    play_tic_tac_toe()\n"
   ]
  },
  {
   "cell_type": "markdown",
   "id": "89c17991-7eef-4310-b2ec-07e58173593a",
   "metadata": {},
   "source": [
    "36. Write a program that generates Fibonacci numbers up to a specified term using iterative methods."
   ]
  },
  {
   "cell_type": "code",
   "execution_count": 2,
   "id": "16dc7eb5-bd59-4c65-914d-6dc0c8811a37",
   "metadata": {},
   "outputs": [
    {
     "name": "stdin",
     "output_type": "stream",
     "text": [
      "enetr number how much term whould you like to display  10\n"
     ]
    },
    {
     "name": "stdout",
     "output_type": "stream",
     "text": [
      "0\n",
      "1\n",
      "1\n",
      "2\n",
      "3\n",
      "5\n",
      "8\n",
      "13\n",
      "21\n",
      "34\n"
     ]
    }
   ],
   "source": [
    "number= int(input(\"enetr number how much term whould you like to display \"))\n",
    "a =0\n",
    "b = 1\n",
    "print(a)\n",
    "print(b)\n",
    "for i in range(2,number):\n",
    "    print(a+b)\n",
    "    temp = a\n",
    "    a = b\n",
    "    b= temp + b\n",
    "    "
   ]
  },
  {
   "cell_type": "markdown",
   "id": "4f12de86-1a82-4941-8a35-8413789c460e",
   "metadata": {},
   "source": [
    "37. Develop a program that calculates the nth term of the Fibonacci sequence using memoization."
   ]
  },
  {
   "cell_type": "code",
   "execution_count": 12,
   "id": "d6e439ca-3034-4b72-9957-9b8fb8ceee0a",
   "metadata": {},
   "outputs": [
    {
     "name": "stdin",
     "output_type": "stream",
     "text": [
      "enetr number how much term whould you like to display  8\n"
     ]
    },
    {
     "name": "stdout",
     "output_type": "stream",
     "text": [
      "{1: 0, 2: 1, 3: 1, 4: 2, 5: 3, 6: 5, 7: 8, 8: 13}\n",
      "13\n"
     ]
    }
   ],
   "source": [
    "number= int(input(\"enetr number how much term whould you like to display \"))\n",
    "memo = {}\n",
    "a =0\n",
    "b = 1\n",
    "memo[1]=0\n",
    "memo[2]= 1\n",
    "for i in range(2,number):\n",
    "    temp = a\n",
    "    a = b\n",
    "    b= temp + b\n",
    "    memo[i+1]=b\n",
    "print(memo)    \n",
    "if number in memo.keys():\n",
    "    print(memo[number])\n",
    "else:\n",
    "    print(\"there is something wrong pls try after some time\")\n",
    "    "
   ]
  },
  {
   "cell_type": "markdown",
   "id": "7bc214c1-6699-4164-97ba-d51be839961d",
   "metadata": {},
   "source": [
    "38. Create a program that generates a calendar for a given month and year using conditional statements."
   ]
  },
  {
   "cell_type": "code",
   "execution_count": 1,
   "id": "72ef1b7a-8c0f-4ed5-a391-ba3798cc6601",
   "metadata": {},
   "outputs": [
    {
     "name": "stdin",
     "output_type": "stream",
     "text": [
      "enter year  2002\n",
      "enter month 4\n"
     ]
    },
    {
     "name": "stdout",
     "output_type": "stream",
     "text": [
      "     April 2002\n",
      "Mo Tu We Th Fr Sa Su\n",
      " 1  2  3  4  5  6  7\n",
      " 8  9 10 11 12 13 14\n",
      "15 16 17 18 19 20 21\n",
      "22 23 24 25 26 27 28\n",
      "29 30\n",
      "\n"
     ]
    }
   ],
   "source": [
    "import calendar \n",
    "year = int(input(\"enter year \"))\n",
    "month = int(input(\"enter month\"))\n",
    "print(calendar.month(year,month))"
   ]
  },
  {
   "cell_type": "markdown",
   "id": "d36814cd-ccfb-42c5-ae34-3fb651f6e2bc",
   "metadata": {},
   "source": [
    "39. Build a program that simulates a basic text-based blackjack game against the computer."
   ]
  },
  {
   "cell_type": "code",
   "execution_count": 2,
   "id": "aef566c1-1c92-4a87-9260-0d9f2a74a5ca",
   "metadata": {},
   "outputs": [
    {
     "name": "stdout",
     "output_type": "stream",
     "text": [
      "Welcome to Text-Based Blackjack!\n",
      "Your hand: ['6', '10'] (Value: 16)\n",
      "Computer's hand: 2 ?\n"
     ]
    },
    {
     "name": "stdin",
     "output_type": "stream",
     "text": [
      "Do you want to 'hit' or 'stand'?  hit\n"
     ]
    },
    {
     "name": "stdout",
     "output_type": "stream",
     "text": [
      "Your hand: ['6', '10', '4'] (Value: 20)\n"
     ]
    },
    {
     "name": "stdin",
     "output_type": "stream",
     "text": [
      "Do you want to 'hit' or 'stand'?  hit\n"
     ]
    },
    {
     "name": "stdout",
     "output_type": "stream",
     "text": [
      "Your hand: ['6', '10', '4', '3'] (Value: 23)\n",
      "Bust! You lose.\n"
     ]
    }
   ],
   "source": [
    "import random\n",
    "\n",
    "# Define card values\n",
    "cards = [\"2\", \"3\", \"4\", \"5\", \"6\", \"7\", \"8\", \"9\", \"10\", \"J\", \"Q\", \"K\", \"A\"]\n",
    "card_values = {\"2\": 2, \"3\": 3, \"4\": 4, \"5\": 5, \"6\": 6, \"7\": 7, \"8\": 8, \"9\": 9, \"10\": 10, \"J\": 10, \"Q\": 10, \"K\": 10, \"A\": 11}\n",
    "\n",
    "# Initialize the deck\n",
    "deck = cards * 4\n",
    "\n",
    "def deal_card():\n",
    "    return deck.pop(random.randint(0, len(deck) - 1))\n",
    "\n",
    "def calculate_hand_value(hand):\n",
    "    value = sum(card_values[card] for card in hand)\n",
    "    num_aces = hand.count(\"A\")\n",
    "    while value > 21 and num_aces:\n",
    "        value -= 10\n",
    "        num_aces -= 1\n",
    "    return value\n",
    "\n",
    "def blackjack():\n",
    "    player_hand = [deal_card(), deal_card()]\n",
    "    computer_hand = [deal_card(), deal_card()]\n",
    "\n",
    "    print(\"Welcome to Text-Based Blackjack!\")\n",
    "    print(f\"Your hand: {player_hand} (Value: {calculate_hand_value(player_hand)})\")\n",
    "    print(f\"Computer's hand: {computer_hand[0]} ?\")\n",
    "    \n",
    "    # Player's turn\n",
    "    while True:\n",
    "        action = input(\"Do you want to 'hit' or 'stand'? \").lower()\n",
    "        if action == \"hit\":\n",
    "            player_hand.append(deal_card())\n",
    "            print(f\"Your hand: {player_hand} (Value: {calculate_hand_value(player_hand)})\")\n",
    "            if calculate_hand_value(player_hand) > 21:\n",
    "                print(\"Bust! You lose.\")\n",
    "                return\n",
    "        elif action == \"stand\":\n",
    "            break\n",
    "\n",
    "    # Computer's turn\n",
    "    while calculate_hand_value(computer_hand) < 17:\n",
    "        computer_hand.append(deal_card())\n",
    "\n",
    "    print(f\"Computer's hand: {computer_hand} (Value: {calculate_hand_value(computer_hand)})\")\n",
    "\n",
    "    # Determine the winner\n",
    "    if calculate_hand_value(computer_hand) > 21:\n",
    "        print(\"Computer busts! You win.\")\n",
    "    elif calculate_hand_value(player_hand) > calculate_hand_value(computer_hand):\n",
    "        print(\"You win!\")\n",
    "    elif calculate_hand_value(player_hand) < calculate_hand_value(computer_hand):\n",
    "        print(\"Computer wins.\")\n",
    "    else:\n",
    "        print(\"It's a tie!\")\n",
    "\n",
    "if __name__ == \"__main__\":\n",
    "    blackjack()\n"
   ]
  },
  {
   "cell_type": "markdown",
   "id": "9d141aa0-b1fc-4e6e-80fc-03ddb4f42ad0",
   "metadata": {},
   "source": [
    "40. Write a program that generates the prime factors of a given number using trial division."
   ]
  },
  {
   "cell_type": "code",
   "execution_count": 5,
   "id": "4562219b-e63c-4bbc-91d9-4762d1267e04",
   "metadata": {},
   "outputs": [
    {
     "name": "stdin",
     "output_type": "stream",
     "text": [
      "Enter your number:  16\n"
     ]
    },
    {
     "name": "stdout",
     "output_type": "stream",
     "text": [
      "{2} These are the prime factors.\n",
      "1\n"
     ]
    }
   ],
   "source": [
    "number = int(input(\"Enter your number: \"))\n",
    "i = 2\n",
    "set1 = set()\n",
    "\n",
    "while  i<= number:\n",
    "    if number % i == 0:\n",
    "        number = int(number / i)\n",
    "        set1.add(i)\n",
    "    else:\n",
    "        i = i + 1\n",
    "\n",
    "print(set1, \"These are the prime factors.\")\n",
    "print(number)"
   ]
  }
 ],
 "metadata": {
  "kernelspec": {
   "display_name": "Python 3 (ipykernel)",
   "language": "python",
   "name": "python3"
  },
  "language_info": {
   "codemirror_mode": {
    "name": "ipython",
    "version": 3
   },
   "file_extension": ".py",
   "mimetype": "text/x-python",
   "name": "python",
   "nbconvert_exporter": "python",
   "pygments_lexer": "ipython3",
   "version": "3.10.8"
  }
 },
 "nbformat": 4,
 "nbformat_minor": 5
}
