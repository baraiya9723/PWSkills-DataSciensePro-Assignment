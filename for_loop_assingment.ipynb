{
 "cells": [
  {
   "cell_type": "markdown",
   "id": "343a98b7-da40-40af-addc-8c754b84a6b2",
   "metadata": {},
   "source": [
    "# basic level "
   ]
  },
  {
   "cell_type": "markdown",
   "id": "30c04aa4-7f24-4e28-b890-c75653466728",
   "metadata": {},
   "source": [
    "1. Write a Python program to print the numbers from 1 to 10 using a `for` loop."
   ]
  },
  {
   "cell_type": "code",
   "execution_count": 4,
   "id": "4a3ce6c0-898e-4f39-8c87-df8028b4baaf",
   "metadata": {},
   "outputs": [
    {
     "name": "stdout",
     "output_type": "stream",
     "text": [
      "1\n",
      "2\n",
      "3\n",
      "4\n",
      "5\n",
      "6\n",
      "7\n",
      "8\n",
      "9\n",
      "10\n"
     ]
    }
   ],
   "source": [
    "for i in range(1,11):\n",
    "    print(i)"
   ]
  },
  {
   "cell_type": "markdown",
   "id": "ef5dc8e0-13d8-4019-95bc-a5433d864a8c",
   "metadata": {},
   "source": [
    "2. Create a program that calculates the sum of all numbers in a list using a `for` loop."
   ]
  },
  {
   "cell_type": "code",
   "execution_count": 6,
   "id": "7c565f0f-9650-4757-86c4-4c9fbcecaaa6",
   "metadata": {},
   "outputs": [
    {
     "name": "stdout",
     "output_type": "stream",
     "text": [
      "6\n"
     ]
    }
   ],
   "source": [
    "list1 = [1,2,3,4,5,6]\n",
    "sum =0\n",
    "for i in list1:\n",
    "    sum +=i\n",
    "print(i)    "
   ]
  },
  {
   "cell_type": "markdown",
   "id": "6970b33b-6312-48d5-88a3-5e3f9d833fe1",
   "metadata": {},
   "source": [
    "3. Write a program to print the characters of a string in reverse order using a `for` loop."
   ]
  },
  {
   "cell_type": "code",
   "execution_count": 12,
   "id": "5f29c512-bd52-4425-9770-922a9c77692e",
   "metadata": {},
   "outputs": [
    {
     "name": "stdout",
     "output_type": "stream",
     "text": [
      "ayiarfab lahsiv\n"
     ]
    }
   ],
   "source": [
    "string = \"vishal bafraiya\"\n",
    "string1 = ''\n",
    "for i in range(len(string)):\n",
    "    string1 += string[len(string)-i-1]\n",
    "print(string1)    "
   ]
  },
  {
   "cell_type": "markdown",
   "id": "2a733784-96a3-4f94-ab13-0bf10aba5a94",
   "metadata": {},
   "source": [
    "4. Develop a program that finds the factorial of a given number using a `for` loop."
   ]
  },
  {
   "cell_type": "code",
   "execution_count": 14,
   "id": "c05c4601-98d9-42f1-8054-c4a8dad66f1f",
   "metadata": {},
   "outputs": [
    {
     "name": "stdout",
     "output_type": "stream",
     "text": [
      "56\n"
     ]
    }
   ],
   "source": [
    "n  = 10 \n",
    "fac = 1\n",
    "for i in range(1,n+1):\n",
    "    fac=fac+i\n",
    "print(fac)    "
   ]
  },
  {
   "cell_type": "markdown",
   "id": "bf11fe89-6595-4cf3-b272-02afb5030468",
   "metadata": {},
   "source": [
    "5. Create a program to print the multiplication table of a given number using a `for` loop."
   ]
  },
  {
   "cell_type": "code",
   "execution_count": 20,
   "id": "1f4e14df-643a-481c-9f73-a8037275a164",
   "metadata": {},
   "outputs": [
    {
     "name": "stdout",
     "output_type": "stream",
     "text": [
      "23\n",
      "46\n",
      "69\n",
      "92\n",
      "115\n",
      "138\n",
      "161\n",
      "184\n",
      "207\n",
      "230\n"
     ]
    }
   ],
   "source": [
    "n = 23\n",
    "for i in range(1,11):\n",
    "    print(n*i)"
   ]
  },
  {
   "cell_type": "markdown",
   "id": "8fdf3b60-d706-4cb0-be32-21cd4b9f5b33",
   "metadata": {},
   "source": [
    "6. Write a program that counts the number of even and odd numbers in a list using a `for` loop."
   ]
  },
  {
   "cell_type": "code",
   "execution_count": 23,
   "id": "46928c9f-8eb5-4b72-8a82-34e5a595c5c6",
   "metadata": {},
   "outputs": [
    {
     "name": "stdout",
     "output_type": "stream",
     "text": [
      "1 odd number \n",
      "2 enen number \n",
      "3 odd number \n",
      "4 enen number \n",
      "5 odd number \n",
      "6 enen number \n",
      "7 odd number \n",
      "8 enen number \n",
      "9 odd number \n"
     ]
    }
   ],
   "source": [
    "list1 = [1,2,3,4,5,6,7,8,9]\n",
    "for i in list1:\n",
    "    if i % 2 == 0:\n",
    "        print(i,\"enen number \")\n",
    "    else:\n",
    "        print(i,\"odd number \")"
   ]
  },
  {
   "cell_type": "markdown",
   "id": "1959dbd8-5f5a-459b-96f2-4968d8953885",
   "metadata": {},
   "source": [
    "7. Develop a program that prints the squares of numbers from 1 to 5 using a `for` loop."
   ]
  },
  {
   "cell_type": "code",
   "execution_count": 25,
   "id": "2f9b76e0-4ade-4e24-8fec-87e15aff4450",
   "metadata": {},
   "outputs": [
    {
     "name": "stdout",
     "output_type": "stream",
     "text": [
      "1\n",
      "4\n",
      "9\n",
      "16\n",
      "25\n"
     ]
    }
   ],
   "source": [
    "for i in range(1,6):\n",
    "    print(i*i)"
   ]
  },
  {
   "cell_type": "markdown",
   "id": "d30f8661-7618-4571-ac11-b58b7f3fa349",
   "metadata": {},
   "source": [
    "8. Create a program to find the length of a string without using the `len()` function."
   ]
  },
  {
   "cell_type": "code",
   "execution_count": 28,
   "id": "c83d8d81-8732-43bd-8fc8-b95ca3bb880e",
   "metadata": {},
   "outputs": [
    {
     "name": "stdout",
     "output_type": "stream",
     "text": [
      "6\n"
     ]
    }
   ],
   "source": [
    "count = 0 \n",
    "string = \"vishal\"\n",
    "for i in string:\n",
    "    count = count + 1\n",
    "print(count)    "
   ]
  },
  {
   "cell_type": "markdown",
   "id": "b7b23d66-68f2-4c88-90f8-367118a0f94f",
   "metadata": {},
   "source": [
    "9. Write a program that calculates the average of a list of numbers using a `for` loop."
   ]
  },
  {
   "cell_type": "code",
   "execution_count": 31,
   "id": "cbed5d2b-04d6-4e10-968f-855f6a6c677e",
   "metadata": {},
   "outputs": [
    {
     "name": "stdout",
     "output_type": "stream",
     "text": [
      "3.0\n"
     ]
    }
   ],
   "source": [
    "list1 = [1,2,3,4,5]\n",
    "sum = 0\n",
    "for i in list1:\n",
    "    sum+=i\n",
    "print(sum/len(list1))    "
   ]
  },
  {
   "cell_type": "markdown",
   "id": "769b5cd6-1aaf-4543-952d-a2f0a14d85e8",
   "metadata": {},
   "source": [
    "10. Develop a program that prints the first `n` Fibonacci numbers using a `for` loop."
   ]
  },
  {
   "cell_type": "code",
   "execution_count": 2,
   "id": "ea371d4e-390e-4b58-8251-33ec2f427656",
   "metadata": {},
   "outputs": [
    {
     "name": "stdout",
     "output_type": "stream",
     "text": [
      "0\n",
      "1\n",
      "1\n",
      "2\n",
      "3\n",
      "5\n",
      "8\n",
      "13\n",
      "21\n",
      "34\n"
     ]
    }
   ],
   "source": [
    "a = 0 \n",
    "b = 1\n",
    "n = 7 \n",
    "print(a)\n",
    "print(b)\n",
    "for i in range(8):\n",
    "    print(a+b)\n",
    "    temp = a\n",
    "    a=b\n",
    "    b = temp + b\n",
    "    \n",
    "    \n",
    "   \n",
    "    "
   ]
  },
  {
   "cell_type": "markdown",
   "id": "bdb0549e-dfdc-46f7-8a75-2a3b70e3e947",
   "metadata": {},
   "source": [
    "# Intermediate Level:"
   ]
  },
  {
   "cell_type": "markdown",
   "id": "842b1247-9826-4557-8b7f-79c34ce0cd93",
   "metadata": {},
   "source": [
    "11. Write a program to check if a given list contains any duplicates using a `for` loop."
   ]
  },
  {
   "cell_type": "code",
   "execution_count": 10,
   "id": "16a45841-0b5f-4436-aa66-3374f30d2191",
   "metadata": {},
   "outputs": [
    {
     "name": "stdout",
     "output_type": "stream",
     "text": [
      "list contains duplicate element\n"
     ]
    }
   ],
   "source": [
    "list1 = [1,2,3,4,5,6,7,7]\n",
    "set1 = set()\n",
    "flage = 0\n",
    "for i in list1:\n",
    "    if i in set1:\n",
    "        print(\"list contains duplicate element\")\n",
    "        flage = 1\n",
    "        break\n",
    "    else:\n",
    "        set1.add(i)\n",
    "if flage == 0 :\n",
    "    print(\"list have not duplicate element \")"
   ]
  },
  {
   "cell_type": "markdown",
   "id": "d71649f9-bff9-4536-8ef6-4b1705d3ff8e",
   "metadata": {},
   "source": [
    "12. Create a program that prints the prime numbers in a given range using a `for` loop."
   ]
  },
  {
   "cell_type": "code",
   "execution_count": 30,
   "id": "1de2c40b-7514-411e-8567-5453236d4cac",
   "metadata": {},
   "outputs": [
    {
     "name": "stdout",
     "output_type": "stream",
     "text": [
      "2\n",
      "3\n",
      "5\n",
      "7\n",
      "11\n",
      "13\n"
     ]
    }
   ],
   "source": [
    "n = 13\n",
    "for i in range(n+1):\n",
    "    if i == 0:\n",
    "        continue\n",
    "    elif i == 1:\n",
    "        continue\n",
    "    else:\n",
    "        flage = 0\n",
    "        for j in range(2,i-1):\n",
    "          #  print(i,j)\n",
    "            if i % j == 0:\n",
    "                flage = 1\n",
    "                break\n",
    "        if flage == 0:\n",
    "            print(i)"
   ]
  },
  {
   "cell_type": "markdown",
   "id": "507da15d-63ec-4701-9d35-98ab4166d3a4",
   "metadata": {},
   "source": [
    "13. Develop a program that counts the number of vowels in a string using a `for` loop."
   ]
  },
  {
   "cell_type": "code",
   "execution_count": 31,
   "id": "72e805b0-2dc7-46db-af8a-65ed5fd3abae",
   "metadata": {},
   "outputs": [
    {
     "name": "stdin",
     "output_type": "stream",
     "text": [
      " vishalbaraiya \n"
     ]
    },
    {
     "name": "stdout",
     "output_type": "stream",
     "text": [
      "6\n"
     ]
    }
   ],
   "source": [
    "string = input()\n",
    "count = 0\n",
    "for i in string:\n",
    "    if i in \"aeiou\":\n",
    "        count +=1\n",
    "print(count)        "
   ]
  },
  {
   "cell_type": "markdown",
   "id": "c271b819-3b67-4757-9e4b-396ec1afc188",
   "metadata": {},
   "source": [
    "14. Write a program to find the maximum element in a 2D list using a nested `for` loop."
   ]
  },
  {
   "cell_type": "code",
   "execution_count": 32,
   "id": "94291bb7-ee11-425a-bed6-930b29d46c20",
   "metadata": {},
   "outputs": [
    {
     "name": "stdout",
     "output_type": "stream",
     "text": [
      "90\n"
     ]
    }
   ],
   "source": [
    "list1 = [[1,2,3,4],[6,7,8,9],[12,34,5,6,7],[90,89,67]]\n",
    "maxn = 0\n",
    "for i in list1:\n",
    "    for j in i:\n",
    "        if maxn <=j:\n",
    "            maxn=j\n",
    "print(maxn)            "
   ]
  },
  {
   "cell_type": "markdown",
   "id": "dfbb9b0f-dd94-4417-808c-350607aeb33b",
   "metadata": {},
   "source": [
    "15. Create a program that removes all occurrences of a specific element from a list using a `for` loop."
   ]
  },
  {
   "cell_type": "code",
   "execution_count": 35,
   "id": "f2a63aec-c074-44ef-886c-5b6fd9f57506",
   "metadata": {},
   "outputs": [
    {
     "name": "stdout",
     "output_type": "stream",
     "text": [
      "[1, 3, 4, 5, 6]\n"
     ]
    }
   ],
   "source": [
    "list1 = [1,2,3,4,5,6]\n",
    "element1 = 2 \n",
    "list2 = []\n",
    "for i in list1:\n",
    "    if i != element1:\n",
    "        list2.append(i)\n",
    "print(list2)        "
   ]
  },
  {
   "cell_type": "markdown",
   "id": "353c0270-45bb-4651-8083-fd8e143b190c",
   "metadata": {},
   "source": [
    "16. Develop a program that generates a multiplication table for numbers from 1 to 5 using a nested `for` loop."
   ]
  },
  {
   "cell_type": "code",
   "execution_count": 2,
   "id": "c49e9037-ac06-49ab-8c43-e7047c21a1af",
   "metadata": {},
   "outputs": [
    {
     "name": "stdout",
     "output_type": "stream",
     "text": [
      "1 * 1 = 1\n",
      "1 * 2 = 2\n",
      "1 * 3 = 3\n",
      "1 * 4 = 4\n",
      "1 * 5 = 5\n",
      "1 * 6 = 6\n",
      "1 * 7 = 7\n",
      "1 * 8 = 8\n",
      "1 * 9 = 9\n",
      "1 * 10 = 10\n",
      "2 * 1 = 2\n",
      "2 * 2 = 4\n",
      "2 * 3 = 6\n",
      "2 * 4 = 8\n",
      "2 * 5 = 10\n",
      "2 * 6 = 12\n",
      "2 * 7 = 14\n",
      "2 * 8 = 16\n",
      "2 * 9 = 18\n",
      "2 * 10 = 20\n",
      "3 * 1 = 3\n",
      "3 * 2 = 6\n",
      "3 * 3 = 9\n",
      "3 * 4 = 12\n",
      "3 * 5 = 15\n",
      "3 * 6 = 18\n",
      "3 * 7 = 21\n",
      "3 * 8 = 24\n",
      "3 * 9 = 27\n",
      "3 * 10 = 30\n",
      "4 * 1 = 4\n",
      "4 * 2 = 8\n",
      "4 * 3 = 12\n",
      "4 * 4 = 16\n",
      "4 * 5 = 20\n",
      "4 * 6 = 24\n",
      "4 * 7 = 28\n",
      "4 * 8 = 32\n",
      "4 * 9 = 36\n",
      "4 * 10 = 40\n",
      "5 * 1 = 5\n",
      "5 * 2 = 10\n",
      "5 * 3 = 15\n",
      "5 * 4 = 20\n",
      "5 * 5 = 25\n",
      "5 * 6 = 30\n",
      "5 * 7 = 35\n",
      "5 * 8 = 40\n",
      "5 * 9 = 45\n",
      "5 * 10 = 50\n"
     ]
    }
   ],
   "source": [
    "for i in range(1,6):\n",
    "    for j in range(1,11):\n",
    "        print(i,\"*\",j,\"=\",i*j)"
   ]
  },
  {
   "cell_type": "markdown",
   "id": "cf662e6b-1a65-45a0-96d5-894afe51d9f6",
   "metadata": {},
   "source": [
    "17. Write a program that converts a list of Fahrenheit temperatures to Celsius using a `for` loop."
   ]
  },
  {
   "cell_type": "code",
   "execution_count": null,
   "id": "049f8a05-8882-4fa9-8298-898f7b84248e",
   "metadata": {},
   "outputs": [],
   "source": [
    "list1 = [12,30,45,55,90,89,87]\n",
    "for i in list1:\n",
    "    Fe = (i*(9/5)) + 32 \n",
    "    list1.append(Fe)   "
   ]
  },
  {
   "cell_type": "markdown",
   "id": "7425fe67-ad8e-459a-b7ce-274ada082128",
   "metadata": {},
   "source": [
    "18. Create a program to print the common elements from two lists using a `for` loop."
   ]
  },
  {
   "cell_type": "code",
   "execution_count": 2,
   "id": "bb4f41fd-d4b7-4653-9c68-ad7a103e8dc5",
   "metadata": {},
   "outputs": [
    {
     "name": "stdout",
     "output_type": "stream",
     "text": [
      "4\n",
      "5\n"
     ]
    }
   ],
   "source": [
    "list1 = [1,2,3,4,5]\n",
    "list2 = [4,5,6,7,8]\n",
    "for i in list1:\n",
    "    if i in list2:\n",
    "        print(i)"
   ]
  },
  {
   "cell_type": "markdown",
   "id": "f5cbf293-7a48-491a-a9d8-70a14f263deb",
   "metadata": {},
   "source": [
    "19. Develop a program that prints the pattern of right-angled triangles using a `for` loop. Use ‘*’ to draw the\n",
    "pattern"
   ]
  },
  {
   "cell_type": "code",
   "execution_count": 8,
   "id": "c19ac237-4735-483d-b1de-db047de7d7cc",
   "metadata": {},
   "outputs": [
    {
     "name": "stdout",
     "output_type": "stream",
     "text": [
      "\n",
      "*\n",
      "**\n",
      "***\n",
      "****\n",
      "*****\n"
     ]
    }
   ],
   "source": [
    "for i in range(6):\n",
    "        print(\"*\" *i)"
   ]
  },
  {
   "cell_type": "markdown",
   "id": "586beced-b96c-482d-952c-5fa04eca2335",
   "metadata": {},
   "source": [
    "20. Write a program to find the greatest common divisor (GCD) of two numbers using a `for` loop."
   ]
  },
  {
   "cell_type": "code",
   "execution_count": 13,
   "id": "063fbcf4-c6ad-4338-adb2-79add503a6d0",
   "metadata": {},
   "outputs": [
    {
     "name": "stdout",
     "output_type": "stream",
     "text": [
      "20\n"
     ]
    }
   ],
   "source": [
    "num = 60\n",
    "num1 = 40\n",
    "ans = 1\n",
    "if num >num1:\n",
    "    for i in range(1,num+1):\n",
    "        if num%i==0 and num1%i == 0:\n",
    "            if ans <= i:\n",
    "                ans = i\n",
    "else:\n",
    "      for i in range(1,num1+1):\n",
    "        if num%i==0 and num1%i == 0:\n",
    "            if ans <= i:\n",
    "                ans = i\n",
    "print(ans)    "
   ]
  },
  {
   "cell_type": "markdown",
   "id": "6d518f01-459c-40a2-8842-3213a985456c",
   "metadata": {},
   "source": [
    "# Advanced Level:"
   ]
  },
  {
   "cell_type": "markdown",
   "id": "8a347b43-1941-4c51-95d2-aff49703d2ea",
   "metadata": {},
   "source": [
    "21. Create a program that calculates the sum of the digits of numbers in a list using a list comprehension."
   ]
  },
  {
   "cell_type": "code",
   "execution_count": 18,
   "id": "524e62e2-145c-4b17-b7f9-3e20a18c213b",
   "metadata": {},
   "outputs": [
    {
     "name": "stdout",
     "output_type": "stream",
     "text": [
      "15\n"
     ]
    }
   ],
   "source": [
    "num = 12345\n",
    "sum1 = 0\n",
    "while num >0:\n",
    "    temp = num %10\n",
    "    num = num//10\n",
    "    sum1 = sum1+ temp\n",
    "print(sum1)    "
   ]
  },
  {
   "cell_type": "markdown",
   "id": "b3341c0d-352a-40c6-8b92-ac15727a3aef",
   "metadata": {},
   "source": [
    "22. Write a program to find the prime factors of a given number using a `for` loop and list comprehension."
   ]
  },
  {
   "cell_type": "code",
   "execution_count": 13,
   "id": "c019a435-0837-423b-afc1-da3bf877c6b1",
   "metadata": {},
   "outputs": [
    {
     "name": "stdout",
     "output_type": "stream",
     "text": [
      "2 90\n",
      "3 45\n",
      "3 15\n",
      "5 5\n",
      "[2, 3, 3, 5]\n"
     ]
    }
   ],
   "source": [
    "list1 = []\n",
    "num = 90\n",
    "div = 2 \n",
    "while div <= num:\n",
    "    if num%div == 0 :\n",
    "        print(div,num) \n",
    "        list1.append(div)\n",
    "        num = num//div\n",
    "    else:\n",
    "        div += 1\n",
    "print(list1)        "
   ]
  },
  {
   "cell_type": "markdown",
   "id": "3fb3531a-4a74-4a33-aa74-84eac5c11326",
   "metadata": {},
   "source": [
    "23. Develop a program that extracts unique elements from a list and stores them in a new list using a list\n",
    "comprehension."
   ]
  },
  {
   "cell_type": "code",
   "execution_count": 17,
   "id": "033f3cc6-98fd-4b2c-b8aa-80932f9a8772",
   "metadata": {},
   "outputs": [
    {
     "name": "stdout",
     "output_type": "stream",
     "text": [
      "[4, 5, 6, 7]\n"
     ]
    }
   ],
   "source": [
    "list1 = [1,2,3,4,5,6,7,1,2,3]\n",
    "new_list = []\n",
    "for i in list1:\n",
    "    if list1.count(i) == 1:\n",
    "        new_list.append(i)\n",
    "print(new_list)        "
   ]
  },
  {
   "cell_type": "markdown",
   "id": "dd75ccd3-68db-4506-af38-d4f35b193f70",
   "metadata": {},
   "source": [
    "24. Create a program that generates a list of all palindromic numbers up to a specified limit using a list\n",
    "comprehension."
   ]
  },
  {
   "cell_type": "code",
   "execution_count": 21,
   "id": "ea3cd6f5-9204-42dd-940d-6f113d27d345",
   "metadata": {},
   "outputs": [
    {
     "name": "stdin",
     "output_type": "stream",
     "text": [
      " 999\n"
     ]
    },
    {
     "name": "stdout",
     "output_type": "stream",
     "text": [
      "[0, 1, 2, 3, 4, 5, 6, 7, 8, 9, 11, 22, 33, 44, 55, 66, 77, 88, 99, 101, 111, 121, 131, 141, 151, 161, 171, 181, 191, 202, 212, 222, 232, 242, 252, 262, 272, 282, 292, 303, 313, 323, 333, 343, 353, 363, 373, 383, 393, 404, 414, 424, 434, 444, 454, 464, 474, 484, 494, 505, 515, 525, 535, 545, 555, 565, 575, 585, 595, 606, 616, 626, 636, 646, 656, 666, 676, 686, 696, 707, 717, 727, 737, 747, 757, 767, 777, 787, 797, 808, 818, 828, 838, 848, 858, 868, 878, 888, 898, 909, 919, 929, 939, 949, 959, 969, 979, 989]\n"
     ]
    }
   ],
   "source": [
    "n = int(input())\n",
    "list1 = []\n",
    "for i in range(n):\n",
    "    num = str(i)\n",
    "    if num == num[::-1]:\n",
    "        list1.append(i)\n",
    "print(list1)        "
   ]
  },
  {
   "cell_type": "markdown",
   "id": "14e55058-5d4a-4165-ac05-88e7ae42d96f",
   "metadata": {},
   "source": [
    "25. Write a program to flatten a nested list using list comprehension."
   ]
  },
  {
   "cell_type": "code",
   "execution_count": 6,
   "id": "96a05b0a-3d47-460f-867e-dfc20b995191",
   "metadata": {},
   "outputs": [
    {
     "name": "stdout",
     "output_type": "stream",
     "text": [
      "[9, 56, 3, 2, 6, 5, 2, 1234, 3, 2, 1]\n"
     ]
    }
   ],
   "source": [
    "list1 = [[1,2,3],[1234,2,5,6,[2,3,56,9]]]\n",
    "stack = list(list1)\n",
    "list2=[]\n",
    "while stack:\n",
    "    element = stack.pop()\n",
    "    if type(element) == list:\n",
    "        stack.extend(element)\n",
    "    else:\n",
    "        list2.append(element)\n",
    "print(list2)         "
   ]
  },
  {
   "cell_type": "markdown",
   "id": "4374b64b-c9ea-4641-a3c3-0abb4a7ed813",
   "metadata": {},
   "source": [
    "26. Develop a program that computes the sum of even and odd numbers in a list separately using list\n",
    "comprehension."
   ]
  },
  {
   "cell_type": "code",
   "execution_count": 9,
   "id": "49871d1e-3c4b-411d-9610-fec2291c137f",
   "metadata": {},
   "outputs": [
    {
     "name": "stdout",
     "output_type": "stream",
     "text": [
      "sum of the even number is  225 sum of the odd number is  210\n"
     ]
    }
   ],
   "source": [
    "list1 = [i for i in range(30)]\n",
    "odd = 0\n",
    "even = 0\n",
    "for i in list1:\n",
    "    if i %2 == 0:\n",
    "        odd += i\n",
    "    else:\n",
    "        even += i\n",
    "print(\"sum of the even number is \", even , \"sum of the odd number is \",odd)        "
   ]
  },
  {
   "cell_type": "markdown",
   "id": "7e5f2250-a4bc-4c0d-b114-ddefa44ab013",
   "metadata": {},
   "source": [
    "27. Create a program that generates a list of squares of odd numbers between 1 and 10 using list\n",
    "comprehension."
   ]
  },
  {
   "cell_type": "code",
   "execution_count": 10,
   "id": "30f3fc47-351f-45f7-b337-6c68f9291773",
   "metadata": {},
   "outputs": [
    {
     "name": "stdout",
     "output_type": "stream",
     "text": [
      "[4, 16, 36, 64, 100]\n"
     ]
    }
   ],
   "source": [
    "list1 = [1,2,3,4,5,6,7,8,9,10]\n",
    "list2=[]\n",
    "for i in list1:\n",
    "    if i % 2 == 0:\n",
    "        list2.append(i*i)\n",
    "print(list2)        "
   ]
  },
  {
   "cell_type": "markdown",
   "id": "14515983-e875-4308-b17b-7e3fa9f3d6be",
   "metadata": {},
   "source": [
    "28. Write a program that combines two lists into a dictionary using list comprehension."
   ]
  },
  {
   "cell_type": "code",
   "execution_count": 11,
   "id": "9eb9b621-fad5-4ffb-b369-097accb69501",
   "metadata": {},
   "outputs": [
    {
     "name": "stdout",
     "output_type": "stream",
     "text": [
      "{'name1': 'vishal', 'name2': 'baraiya', 'name3': 'nayan', 'name4': 'mori'}\n"
     ]
    }
   ],
   "source": [
    "list1 = [\"name1\",\"name2\",\"name3\",\"name4\"]\n",
    "list2 = [\"vishal\",\"baraiya\",\"nayan\",\"mori\"]\n",
    "dict1 = dict()\n",
    "for i in range(len(list1)):\n",
    "    dict1[list1[i]]= list2[i]\n",
    "print(dict1)    "
   ]
  },
  {
   "cell_type": "markdown",
   "id": "a2c1952f-b060-47d5-84af-098ce007d940",
   "metadata": {},
   "source": [
    "29. Develop a program that extracts the vowels from a string and stores them in a list using list comprehension."
   ]
  },
  {
   "cell_type": "code",
   "execution_count": 1,
   "id": "904afdfc-a4f4-4f86-890e-f532bdcc9e9c",
   "metadata": {},
   "outputs": [
    {
     "name": "stdin",
     "output_type": "stream",
     "text": [
      " bhargav\n"
     ]
    },
    {
     "name": "stdout",
     "output_type": "stream",
     "text": [
      "['a', 'a']\n"
     ]
    }
   ],
   "source": [
    "string = input()\n",
    "list1 = []\n",
    "for i in string:\n",
    "    if i in \"AEIOUaeiou\":\n",
    "        list1.append(i)\n",
    "print(list1)       "
   ]
  },
  {
   "cell_type": "markdown",
   "id": "a8f6a271-d4b6-4d03-9b68-0b440c800380",
   "metadata": {},
   "source": [
    "30. Create a program that removes all non-numeric characters from a list of strings using list comprehension."
   ]
  },
  {
   "cell_type": "code",
   "execution_count": 16,
   "id": "6c9134dc-6f22-4215-8cbf-e8ad92717e86",
   "metadata": {},
   "outputs": [
    {
     "name": "stdout",
     "output_type": "stream",
     "text": [
      "58394345\n"
     ]
    }
   ],
   "source": [
    "temp = \"vishalbaraiya583943ndjfn45\"\n",
    "string =''\n",
    "for i in temp:\n",
    "    if i in \"0123456789\":\n",
    "        string +=i\n",
    "print(string)        "
   ]
  },
  {
   "cell_type": "markdown",
   "id": "01aac0c1-3b24-41f9-a479-22efa8baafb0",
   "metadata": {},
   "source": [
    "# Challenge Level:"
   ]
  },
  {
   "cell_type": "markdown",
   "id": "5a8c2bf1-4fa9-4cfd-9e7a-8ed8c08a5d96",
   "metadata": {},
   "source": [
    "31. Write a program to generate a list of prime numbers using the Sieve of Eratosthenes algorithm and list\n",
    "comprehension."
   ]
  },
  {
   "cell_type": "code",
   "execution_count": 3,
   "id": "6452c365-b1a8-4182-9833-6249374b6bcb",
   "metadata": {},
   "outputs": [
    {
     "name": "stdin",
     "output_type": "stream",
     "text": [
      "Enter the upper limit to generate prime numbers:  9\n"
     ]
    },
    {
     "name": "stdout",
     "output_type": "stream",
     "text": [
      "Prime numbers up to 9:\n",
      "[2, 3, 5, 7]\n"
     ]
    }
   ],
   "source": [
    "def sieve_eratosthenes(n):\n",
    "    is_prime = [True] * (n + 1)\n",
    "    is_prime[0] = is_prime[1] = False \n",
    "\n",
    "    for current_number in range(2, int(n**0.5) + 1):\n",
    "        if is_prime[current_number]:\n",
    "            for multiple in range(current_number * current_number, n + 1, current_number):\n",
    "                is_prime[multiple] = False\n",
    "\n",
    "    primes = [number for number, is_prime_number in enumerate(is_prime) if is_prime_number]\n",
    "\n",
    "    return primes\n",
    "\n",
    "limit = int(input(\"Enter the upper limit to generate prime numbers: \"))\n",
    "prime_numbers = sieve_eratosthenes(limit)\n",
    "print(\"Prime numbers up to {}:\".format(limit))\n",
    "print(prime_numbers)\n"
   ]
  },
  {
   "cell_type": "markdown",
   "id": "e41869b8-ea16-4093-bd29-00bfbadbdcc3",
   "metadata": {},
   "source": [
    "32. Create a program that generates a list of all Pythagorean triplets up to a specified limit using list\n",
    "comprehension."
   ]
  },
  {
   "cell_type": "code",
   "execution_count": 2,
   "id": "3929666e-2e3b-4acf-9746-b2ca991ed101",
   "metadata": {},
   "outputs": [
    {
     "name": "stdin",
     "output_type": "stream",
     "text": [
      "Enter the limit for Pythagorean triplets:  18\n"
     ]
    },
    {
     "name": "stdout",
     "output_type": "stream",
     "text": [
      "Pythagorean triplets up to 18:\n",
      "(3, 4, 5)\n",
      "(5, 12, 13)\n",
      "(6, 8, 10)\n",
      "(8, 15, 17)\n",
      "(9, 12, 15)\n"
     ]
    }
   ],
   "source": [
    "def generate_pythagorean_triplets(limit):\n",
    "    triplets = [(a, b, c) for a in range(1, limit + 1)\n",
    "                            for b in range(a, limit + 1)\n",
    "                            for c in range(b, limit + 1)\n",
    "                            if a**2 + b**2 == c**2]\n",
    "    return triplets\n",
    "\n",
    "limit = int(input(\"Enter the limit for Pythagorean triplets: \"))\n",
    "\n",
    "pythagorean_triplets = generate_pythagorean_triplets(limit)\n",
    "print(\"Pythagorean triplets up to {}:\".format(limit))\n",
    "for triplet in pythagorean_triplets:\n",
    "    print(triplet)\n"
   ]
  },
  {
   "cell_type": "markdown",
   "id": "585c7665-301d-4506-8e80-508880440196",
   "metadata": {},
   "source": [
    "33. Develop a program that generates a list of all possible combinations of two lists using list comprehension."
   ]
  },
  {
   "cell_type": "code",
   "execution_count": 5,
   "id": "96932654-7743-49ce-8c15-56dab000979d",
   "metadata": {},
   "outputs": [
    {
     "name": "stdout",
     "output_type": "stream",
     "text": [
      "[1, 5]\n",
      "[1, 6]\n",
      "[1, 7]\n",
      "[1, 8]\n",
      "[2, 5]\n",
      "[2, 6]\n",
      "[2, 7]\n",
      "[2, 8]\n",
      "[3, 5]\n",
      "[3, 6]\n",
      "[3, 7]\n",
      "[3, 8]\n",
      "[4, 5]\n",
      "[4, 6]\n",
      "[4, 7]\n",
      "[4, 8]\n"
     ]
    }
   ],
   "source": [
    "list1 = [1,2,3,4]\n",
    "list2 = [5,6,7,8]\n",
    "for i in list1:\n",
    "    for j in list2:\n",
    "        print([i,j])\n",
    "        "
   ]
  },
  {
   "cell_type": "markdown",
   "id": "f1f2f966-3d44-43a1-ac3f-4f71047996e9",
   "metadata": {},
   "source": [
    "34. Write a program that calculates the mean, median, and mode of a list of numbers using list\n",
    "comprehension."
   ]
  },
  {
   "cell_type": "code",
   "execution_count": 7,
   "id": "92e20aaf-a92e-442c-9f53-953a799c9593",
   "metadata": {},
   "outputs": [
    {
     "name": "stdout",
     "output_type": "stream",
     "text": [
      "mean 3.2857142857142856\n",
      "meadian 3\n",
      "mode 2\n"
     ]
    }
   ],
   "source": [
    "list1 = [1,2,3,4,5,6,2]\n",
    "sum1 = 0\n",
    "for i in list1:\n",
    "     sum1 += i\n",
    "print(\"mean\",sum1/len(list1))\n",
    "list1.sort()\n",
    "if len(list1) % 2 != 0:\n",
    "    print(\"meadian\",list1[len(list1)//2])\n",
    "else:\n",
    "    print(\"meadian\",(list1[(len(list1)//2)-1]+list1[(len(list1)//2)])/2)\n",
    "count = 0\n",
    "number = 0\n",
    "for i in list1:\n",
    "    if list1.count(i) >= count:\n",
    "        count = list1.count(i)\n",
    "        number = i\n",
    "print(\"mode\",number)        "
   ]
  },
  {
   "cell_type": "markdown",
   "id": "fd274f16-9c26-433f-9f30-51ba72f8ea8b",
   "metadata": {},
   "source": [
    "35. Create a program that generates Pascal's triangle up to a specified number of rows using list\n",
    "comprehension."
   ]
  },
  {
   "cell_type": "code",
   "execution_count": 4,
   "id": "3a755c8c-b09b-4f21-83eb-ce7fc15e16da",
   "metadata": {},
   "outputs": [
    {
     "name": "stdin",
     "output_type": "stream",
     "text": [
      "Enter the number of rows for Pascal's triangle:  8\n"
     ]
    },
    {
     "name": "stdout",
     "output_type": "stream",
     "text": [
      "1\n",
      "1 1\n",
      "1 2 1\n",
      "1 3 3 1\n",
      "1 4 6 4 1\n",
      "1 5 10 10 5 1\n",
      "1 6 15 20 15 6 1\n",
      "1 7 21 35 35 21 7 1\n"
     ]
    }
   ],
   "source": [
    "def generate_pascals_triangle(num_rows):\n",
    "    pascals_triangle = [[1]]\n",
    "\n",
    "    for _ in range(1, num_rows):\n",
    "        previous_row = pascals_triangle[-1]\n",
    "        new_row = [1] + [previous_row[i] + previous_row[i + 1] for i in range(len(previous_row) - 1)] + [1]\n",
    "        pascals_triangle.append(new_row)\n",
    "\n",
    "    return pascals_triangle\n",
    "\n",
    "num_rows = int(input(\"Enter the number of rows for Pascal's triangle: \"))\n",
    "\n",
    "pascals_triangle = generate_pascals_triangle(num_rows)\n",
    "for row in pascals_triangle:\n",
    "    print(\" \".join(map(str, row)))\n"
   ]
  },
  {
   "cell_type": "markdown",
   "id": "ee213ec6-0e29-469b-90af-ade1b794b265",
   "metadata": {},
   "source": [
    "36. Develop a program that calculates the sum of the digits of a factorial of numbers from 1 to 5 using list\n",
    "comprehension."
   ]
  },
  {
   "cell_type": "code",
   "execution_count": 21,
   "id": "4556b1e3-6b5a-49f5-8a47-a598acaec28d",
   "metadata": {},
   "outputs": [
    {
     "name": "stdout",
     "output_type": "stream",
     "text": [
      "[1, 1, 2, 6, 6, 3]\n",
      "[1, 1, 2, 6, 24, 120]\n"
     ]
    }
   ],
   "source": [
    "factorial = []\n",
    "sumofdigits = []\n",
    "for i in range(1,6):\n",
    "    mul = 1\n",
    "    if i == 0:\n",
    "        factorial.append(1)\n",
    "    elif i == 1:\n",
    "        factorial.append(1)\n",
    "    else:\n",
    "        for j in range(1,i+1):\n",
    "            mul *= j\n",
    "    factorial.append(mul) \n",
    "for i in factorial:\n",
    "    sum1 =0\n",
    "    for j in str(i):\n",
    "        sum1 +=int(j)\n",
    "    sumofdigits.append(sum1)\n",
    "print(sumofdigits)\n",
    "print(factorial)"
   ]
  },
  {
   "cell_type": "markdown",
   "id": "562b624d-7904-4294-a741-5257bcf1d2d3",
   "metadata": {},
   "source": [
    "37. Write a program that finds the longest word in a sentence using list comprehension."
   ]
  },
  {
   "cell_type": "code",
   "execution_count": 41,
   "id": "fa6528dd-8766-4dfc-949a-9d558e2f1250",
   "metadata": {},
   "outputs": [
    {
     "name": "stdout",
     "output_type": "stream",
     "text": [
      "vishalbaraiya\n"
     ]
    }
   ],
   "source": [
    "string = \"hello this is a vishalbaraiya\"\n",
    "list2 = string.split()\n",
    "word = ''\n",
    "count = 0 \n",
    "for i in list2:\n",
    "    if len(i) >= count:\n",
    "        count = len(i)\n",
    "        word = i\n",
    "print(i) "
   ]
  },
  {
   "cell_type": "markdown",
   "id": "fd1204ef-4fbb-4b3b-a905-5dac844430f9",
   "metadata": {},
   "source": [
    "38. Create a program that filters a list of strings to include only those with more than three vowels using list\n",
    "comprehension."
   ]
  },
  {
   "cell_type": "code",
   "execution_count": 28,
   "id": "9bc7d25d-5249-4fba-946e-3b002615ef39",
   "metadata": {},
   "outputs": [
    {
     "name": "stdout",
     "output_type": "stream",
     "text": [
      "['vishalbaraiya', 'pradipjaliya']\n"
     ]
    }
   ],
   "source": [
    "list1 = [\"vishal\",\"vishalbaraiya\",\"paresh\",\"pradipjaliya\",\"kartikp\"]\n",
    "list2 = []\n",
    "for i in list1:\n",
    "    count =0\n",
    "    for j in i:\n",
    "        if j in \"AEIOUaeiou\":\n",
    "            count+=1\n",
    "    if count  >= 3:\n",
    "        list2.append(i)\n",
    "print(list2)        "
   ]
  },
  {
   "cell_type": "markdown",
   "id": "952e5dc5-0e0e-4d39-b936-c6554beaeb51",
   "metadata": {},
   "source": [
    "39. Develop a program that calculates the sum of the digits of numbers from 1 to 1000 using list\n",
    "comprehension."
   ]
  },
  {
   "cell_type": "code",
   "execution_count": 30,
   "id": "91729554-787e-4241-92d5-d7f63d1479ed",
   "metadata": {},
   "outputs": [
    {
     "name": "stdout",
     "output_type": "stream",
     "text": [
      "[1, 2, 3, 4, 5, 6, 7, 8, 9, 1, 2, 3, 4, 5, 6, 7, 8, 9, 10, 2, 3, 4, 5, 6, 7, 8, 9, 10, 11, 3, 4, 5, 6, 7, 8, 9, 10, 11, 12, 4, 5, 6, 7, 8, 9, 10, 11, 12, 13, 5, 6, 7, 8, 9, 10, 11, 12, 13, 14, 6, 7, 8, 9, 10, 11, 12, 13, 14, 15, 7, 8, 9, 10, 11, 12, 13, 14, 15, 16, 8, 9, 10, 11, 12, 13, 14, 15, 16, 17, 9, 10, 11, 12, 13, 14, 15, 16, 17, 18, 1, 2, 3, 4, 5, 6, 7, 8, 9, 10, 2, 3, 4, 5, 6, 7, 8, 9, 10, 11, 3, 4, 5, 6, 7, 8, 9, 10, 11, 12, 4, 5, 6, 7, 8, 9, 10, 11, 12, 13, 5, 6, 7, 8, 9, 10, 11, 12, 13, 14, 6, 7, 8, 9, 10, 11, 12, 13, 14, 15, 7, 8, 9, 10, 11, 12, 13, 14, 15, 16, 8, 9, 10, 11, 12, 13, 14, 15, 16, 17, 9, 10, 11, 12, 13, 14, 15, 16, 17, 18, 10, 11, 12, 13, 14, 15, 16, 17, 18, 19, 2, 3, 4, 5, 6, 7, 8, 9, 10, 11, 3, 4, 5, 6, 7, 8, 9, 10, 11, 12, 4, 5, 6, 7, 8, 9, 10, 11, 12, 13, 5, 6, 7, 8, 9, 10, 11, 12, 13, 14, 6, 7, 8, 9, 10, 11, 12, 13, 14, 15, 7, 8, 9, 10, 11, 12, 13, 14, 15, 16, 8, 9, 10, 11, 12, 13, 14, 15, 16, 17, 9, 10, 11, 12, 13, 14, 15, 16, 17, 18, 10, 11, 12, 13, 14, 15, 16, 17, 18, 19, 11, 12, 13, 14, 15, 16, 17, 18, 19, 20, 3, 4, 5, 6, 7, 8, 9, 10, 11, 12, 4, 5, 6, 7, 8, 9, 10, 11, 12, 13, 5, 6, 7, 8, 9, 10, 11, 12, 13, 14, 6, 7, 8, 9, 10, 11, 12, 13, 14, 15, 7, 8, 9, 10, 11, 12, 13, 14, 15, 16, 8, 9, 10, 11, 12, 13, 14, 15, 16, 17, 9, 10, 11, 12, 13, 14, 15, 16, 17, 18, 10, 11, 12, 13, 14, 15, 16, 17, 18, 19, 11, 12, 13, 14, 15, 16, 17, 18, 19, 20, 12, 13, 14, 15, 16, 17, 18, 19, 20, 21, 4, 5, 6, 7, 8, 9, 10, 11, 12, 13, 5, 6, 7, 8, 9, 10, 11, 12, 13, 14, 6, 7, 8, 9, 10, 11, 12, 13, 14, 15, 7, 8, 9, 10, 11, 12, 13, 14, 15, 16, 8, 9, 10, 11, 12, 13, 14, 15, 16, 17, 9, 10, 11, 12, 13, 14, 15, 16, 17, 18, 10, 11, 12, 13, 14, 15, 16, 17, 18, 19, 11, 12, 13, 14, 15, 16, 17, 18, 19, 20, 12, 13, 14, 15, 16, 17, 18, 19, 20, 21, 13, 14, 15, 16, 17, 18, 19, 20, 21, 22, 5, 6, 7, 8, 9, 10, 11, 12, 13, 14, 6, 7, 8, 9, 10, 11, 12, 13, 14, 15, 7, 8, 9, 10, 11, 12, 13, 14, 15, 16, 8, 9, 10, 11, 12, 13, 14, 15, 16, 17, 9, 10, 11, 12, 13, 14, 15, 16, 17, 18, 10, 11, 12, 13, 14, 15, 16, 17, 18, 19, 11, 12, 13, 14, 15, 16, 17, 18, 19, 20, 12, 13, 14, 15, 16, 17, 18, 19, 20, 21, 13, 14, 15, 16, 17, 18, 19, 20, 21, 22, 14, 15, 16, 17, 18, 19, 20, 21, 22, 23, 6, 7, 8, 9, 10, 11, 12, 13, 14, 15, 7, 8, 9, 10, 11, 12, 13, 14, 15, 16, 8, 9, 10, 11, 12, 13, 14, 15, 16, 17, 9, 10, 11, 12, 13, 14, 15, 16, 17, 18, 10, 11, 12, 13, 14, 15, 16, 17, 18, 19, 11, 12, 13, 14, 15, 16, 17, 18, 19, 20, 12, 13, 14, 15, 16, 17, 18, 19, 20, 21, 13, 14, 15, 16, 17, 18, 19, 20, 21, 22, 14, 15, 16, 17, 18, 19, 20, 21, 22, 23, 15, 16, 17, 18, 19, 20, 21, 22, 23, 24, 7, 8, 9, 10, 11, 12, 13, 14, 15, 16, 8, 9, 10, 11, 12, 13, 14, 15, 16, 17, 9, 10, 11, 12, 13, 14, 15, 16, 17, 18, 10, 11, 12, 13, 14, 15, 16, 17, 18, 19, 11, 12, 13, 14, 15, 16, 17, 18, 19, 20, 12, 13, 14, 15, 16, 17, 18, 19, 20, 21, 13, 14, 15, 16, 17, 18, 19, 20, 21, 22, 14, 15, 16, 17, 18, 19, 20, 21, 22, 23, 15, 16, 17, 18, 19, 20, 21, 22, 23, 24, 16, 17, 18, 19, 20, 21, 22, 23, 24, 25, 8, 9, 10, 11, 12, 13, 14, 15, 16, 17, 9, 10, 11, 12, 13, 14, 15, 16, 17, 18, 10, 11, 12, 13, 14, 15, 16, 17, 18, 19, 11, 12, 13, 14, 15, 16, 17, 18, 19, 20, 12, 13, 14, 15, 16, 17, 18, 19, 20, 21, 13, 14, 15, 16, 17, 18, 19, 20, 21, 22, 14, 15, 16, 17, 18, 19, 20, 21, 22, 23, 15, 16, 17, 18, 19, 20, 21, 22, 23, 24, 16, 17, 18, 19, 20, 21, 22, 23, 24, 25, 17, 18, 19, 20, 21, 22, 23, 24, 25, 26, 9, 10, 11, 12, 13, 14, 15, 16, 17, 18, 10, 11, 12, 13, 14, 15, 16, 17, 18, 19, 11, 12, 13, 14, 15, 16, 17, 18, 19, 20, 12, 13, 14, 15, 16, 17, 18, 19, 20, 21, 13, 14, 15, 16, 17, 18, 19, 20, 21, 22, 14, 15, 16, 17, 18, 19, 20, 21, 22, 23, 15, 16, 17, 18, 19, 20, 21, 22, 23, 24, 16, 17, 18, 19, 20, 21, 22, 23, 24, 25, 17, 18, 19, 20, 21, 22, 23, 24, 25, 26, 18, 19, 20, 21, 22, 23, 24, 25, 26, 27, 1]\n"
     ]
    }
   ],
   "source": [
    "list1 = [i for i in range(1,1001)]\n",
    "list2 = []\n",
    "for i in list1:\n",
    "    sum1 = 0\n",
    "    for j in str(i):\n",
    "        sum1 += int(j)\n",
    "    list2.append(sum1)\n",
    "print(list2)    "
   ]
  },
  {
   "cell_type": "markdown",
   "id": "6a2ec8bf-ceef-4278-8795-9edb39cc3c21",
   "metadata": {},
   "source": [
    "40. Write a program that generates a list of prime palindromic numbers using list comprehension."
   ]
  },
  {
   "cell_type": "code",
   "execution_count": 36,
   "id": "7f3ffbc3-63ed-4d91-8606-d73659cb7904",
   "metadata": {},
   "outputs": [
    {
     "name": "stdout",
     "output_type": "stream",
     "text": [
      "[2, 3, 5, 7, 11, 101, 131, 151, 181, 191, 313, 353, 373, 383, 727, 757, 787, 797, 919, 929]\n"
     ]
    }
   ],
   "source": [
    "list2 = []\n",
    "for i in range(1,1001):\n",
    "    if i == 0 or i == 1 :\n",
    "        continue\n",
    "    else:\n",
    "        flage = 1\n",
    "        for j in range(2,i):\n",
    "            if i%j == 0:\n",
    "                flage = 0\n",
    "                break\n",
    "        if flage == 1:\n",
    "            list2.append(i)\n",
    "\n",
    "list34 = []\n",
    "for i in list2:\n",
    "    if str(i) == str(i)[::-1]:\n",
    "        list34.append(i)\n",
    "print(list34)         "
   ]
  }
 ],
 "metadata": {
  "kernelspec": {
   "display_name": "Python 3 (ipykernel)",
   "language": "python",
   "name": "python3"
  },
  "language_info": {
   "codemirror_mode": {
    "name": "ipython",
    "version": 3
   },
   "file_extension": ".py",
   "mimetype": "text/x-python",
   "name": "python",
   "nbconvert_exporter": "python",
   "pygments_lexer": "ipython3",
   "version": "3.10.8"
  }
 },
 "nbformat": 4,
 "nbformat_minor": 5
}
